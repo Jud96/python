{
 "cells": [
  {
   "cell_type": "markdown",
   "metadata": {
    "id": "Tce3stUlHN0L"
   },
   "source": [
    "##### Copyright 2020 The TensorFlow Authors."
   ]
  },
  {
   "cell_type": "code",
   "execution_count": 1,
   "metadata": {
    "cellView": "form",
    "execution": {
     "iopub.execute_input": "2021-11-08T12:09:52.452746Z",
     "iopub.status.busy": "2021-11-08T12:09:52.452086Z",
     "iopub.status.idle": "2021-11-08T12:09:52.455135Z",
     "shell.execute_reply": "2021-11-08T12:09:52.454628Z"
    },
    "id": "tuOe1ymfHZPu"
   },
   "outputs": [],
   "source": [
    "#@title Licensed under the Apache License, Version 2.0 (the \"License\");\n",
    "# you may not use this file except in compliance with the License.\n",
    "# You may obtain a copy of the License at\n",
    "#\n",
    "# https://www.apache.org/licenses/LICENSE-2.0\n",
    "#\n",
    "# Unless required by applicable law or agreed to in writing, software\n",
    "# distributed under the License is distributed on an \"AS IS\" BASIS,\n",
    "# WITHOUT WARRANTIES OR CONDITIONS OF ANY KIND, either express or implied.\n",
    "# See the License for the specific language governing permissions and\n",
    "# limitations under the License."
   ]
  },
  {
   "cell_type": "markdown",
   "metadata": {
    "id": "36EdAGhThQov"
   },
   "source": [
    "# Build, train and evaluate models with TensorFlow Decision Forests\n",
    "\n",
    "<table class=\"tfo-notebook-buttons\" align=\"left\">\n",
    "  <td>\n",
    "    <a target=\"_blank\" href=\"https://www.tensorflow.org/decision_forests/tutorials/beginner_colab\"><img src=\"https://www.tensorflow.org/images/tf_logo_32px.png\" />View on TensorFlow.org</a>\n",
    "  </td>\n",
    "  <td>\n",
    "    <a target=\"_blank\" href=\"https://colab.research.google.com/github/tensorflow/decision-forests/blob/main/documentation/tutorials/beginner_colab.ipynb\"><img src=\"https://www.tensorflow.org/images/colab_logo_32px.png\" />Run in Google Colab</a>\n",
    "  </td>\n",
    "  <td>\n",
    "    <a target=\"_blank\" href=\"https://github.com/tensorflow/decision-forests/blob/main/documentation/tutorials/beginner_colab.ipynb\"><img src=\"https://www.tensorflow.org/images/GitHub-Mark-32px.png\" />View on GitHub</a>\n",
    "  </td>\n",
    "  <td>\n",
    "    <a href=\"https://storage.googleapis.com/tensorflow_docs/decision-forests/documentation/tutorials/beginner_colab.ipynb\"><img src=\"https://www.tensorflow.org/images/download_logo_32px.png\" />Download notebook</a>\n",
    "  </td>\n",
    "</table>\n"
   ]
  },
  {
   "cell_type": "markdown",
   "metadata": {
    "id": "kvvDY0LVhuaW"
   },
   "source": [
    "## Introduction\n",
    "\n",
    "Decision Forests (DF) are a large family of Machine Learning algorithms for\n",
    "supervised classification, regression and ranking. As the name suggests, DFs use\n",
    "decision trees as a building block. Today, the two most popular DF training\n",
    "algorithms are [Random Forests](https://en.wikipedia.org/wiki/Random_forest) and\n",
    "[Gradient Boosted Decision Trees](https://en.wikipedia.org/wiki/Gradient_boosting). Both algorithms are ensemble techniques that use multiple decision trees, but differ on how they do it.\n",
    "\n",
    "TensorFlow Decision Forests (TF-DF) is a library for the training,\n",
    "evaluation, interpretation and inference of Decision Forest models.\n",
    "\n",
    "In this tutorial, you will learn how to:\n",
    "\n",
    "1.  Train a binary classification Random Forest on a dataset containing numerical, categorical and missing features.\n",
    "1.  Evaluate the model on a test dataset.\n",
    "1.  Prepare the model for\n",
    "    [TensorFlow Serving](https://www.tensorflow.org/tfx/guide/serving).\n",
    "1.  Examine the overall structure of the model and the importance of each feature.\n",
    "1.  Re-train the model with a different learning algorithm (Gradient Boosted Decision Trees).\n",
    "1.  Use a different set of input features.\n",
    "1.  Change the hyperparameters of the model.\n",
    "1.  Preprocess the features.\n",
    "1.  Train a model for regression.\n",
    "1.  Train a model for ranking.\n",
    "\n",
    "Detailed documentation is available in the [user manual](https://github.com/tensorflow/decision-forests/documentation).\n",
    "The [example directory](https://github.com/tensorflow/decision-forests/examples) contains other end-to-end examples."
   ]
  },
  {
   "cell_type": "markdown",
   "metadata": {
    "id": "jK9tCTcwqq4k"
   },
   "source": [
    "## Installing TensorFlow Decision Forests\n",
    "\n",
    "Install TF-DF by running the following cell."
   ]
  },
  {
   "cell_type": "code",
   "execution_count": 2,
   "metadata": {
    "execution": {
     "iopub.execute_input": "2021-11-08T12:09:52.465149Z",
     "iopub.status.busy": "2021-11-08T12:09:52.462357Z",
     "iopub.status.idle": "2021-11-08T12:09:54.749603Z",
     "shell.execute_reply": "2021-11-08T12:09:54.750042Z"
    },
    "id": "Pa1Pf37RhEYN"
   },
   "outputs": [
    {
     "name": "stdout",
     "output_type": "stream",
     "text": [
      "Collecting tensorflow_decision_forests\r\n"
     ]
    },
    {
     "name": "stdout",
     "output_type": "stream",
     "text": [
      "  Using cached tensorflow_decision_forests-0.2.1-cp37-cp37m-manylinux_2_12_x86_64.manylinux2010_x86_64.whl (17.1 MB)\r\n"
     ]
    },
    {
     "name": "stdout",
     "output_type": "stream",
     "text": [
      "Requirement already satisfied: pandas in /tmpfs/src/tf_docs_env/lib/python3.7/site-packages (from tensorflow_decision_forests) (1.3.4)\r\n",
      "Requirement already satisfied: absl-py in /tmpfs/src/tf_docs_env/lib/python3.7/site-packages (from tensorflow_decision_forests) (0.12.0)\r\n",
      "Requirement already satisfied: six in /home/kbuilder/.local/lib/python3.7/site-packages (from tensorflow_decision_forests) (1.16.0)\r\n",
      "Requirement already satisfied: tensorflow~=2.7.0 in /tmpfs/src/tf_docs_env/lib/python3.7/site-packages (from tensorflow_decision_forests) (2.7.0)\r\n",
      "Requirement already satisfied: wheel in /tmpfs/src/tf_docs_env/lib/python3.7/site-packages (from tensorflow_decision_forests) (0.37.0)\r\n",
      "Requirement already satisfied: numpy in /tmpfs/src/tf_docs_env/lib/python3.7/site-packages (from tensorflow_decision_forests) (1.21.4)\r\n"
     ]
    },
    {
     "name": "stdout",
     "output_type": "stream",
     "text": [
      "Requirement already satisfied: wrapt>=1.11.0 in /tmpfs/src/tf_docs_env/lib/python3.7/site-packages (from tensorflow~=2.7.0->tensorflow_decision_forests) (1.13.3)\r\n",
      "Requirement already satisfied: tensorboard~=2.6 in /tmpfs/src/tf_docs_env/lib/python3.7/site-packages (from tensorflow~=2.7.0->tensorflow_decision_forests) (2.7.0)\r\n",
      "Requirement already satisfied: opt-einsum>=2.3.2 in /tmpfs/src/tf_docs_env/lib/python3.7/site-packages (from tensorflow~=2.7.0->tensorflow_decision_forests) (3.3.0)\r\n",
      "Requirement already satisfied: libclang>=9.0.1 in /tmpfs/src/tf_docs_env/lib/python3.7/site-packages (from tensorflow~=2.7.0->tensorflow_decision_forests) (12.0.0)\r\n",
      "Requirement already satisfied: grpcio<2.0,>=1.24.3 in /tmpfs/src/tf_docs_env/lib/python3.7/site-packages (from tensorflow~=2.7.0->tensorflow_decision_forests) (1.41.1)\r\n",
      "Requirement already satisfied: astunparse>=1.6.0 in /tmpfs/src/tf_docs_env/lib/python3.7/site-packages (from tensorflow~=2.7.0->tensorflow_decision_forests) (1.6.3)\r\n",
      "Requirement already satisfied: tensorflow-estimator<2.8,~=2.7.0rc0 in /tmpfs/src/tf_docs_env/lib/python3.7/site-packages (from tensorflow~=2.7.0->tensorflow_decision_forests) (2.7.0)\r\n",
      "Requirement already satisfied: gast<0.5.0,>=0.2.1 in /tmpfs/src/tf_docs_env/lib/python3.7/site-packages (from tensorflow~=2.7.0->tensorflow_decision_forests) (0.4.0)\r\n",
      "Requirement already satisfied: google-pasta>=0.1.1 in /tmpfs/src/tf_docs_env/lib/python3.7/site-packages (from tensorflow~=2.7.0->tensorflow_decision_forests) (0.2.0)\r\n",
      "Requirement already satisfied: termcolor>=1.1.0 in /tmpfs/src/tf_docs_env/lib/python3.7/site-packages (from tensorflow~=2.7.0->tensorflow_decision_forests) (1.1.0)\r\n",
      "Requirement already satisfied: h5py>=2.9.0 in /tmpfs/src/tf_docs_env/lib/python3.7/site-packages (from tensorflow~=2.7.0->tensorflow_decision_forests) (3.5.0)\r\n",
      "Requirement already satisfied: keras-preprocessing>=1.1.1 in /tmpfs/src/tf_docs_env/lib/python3.7/site-packages (from tensorflow~=2.7.0->tensorflow_decision_forests) (1.1.2)\r\n",
      "Requirement already satisfied: keras<2.8,>=2.7.0rc0 in /tmpfs/src/tf_docs_env/lib/python3.7/site-packages (from tensorflow~=2.7.0->tensorflow_decision_forests) (2.7.0)\r\n",
      "Requirement already satisfied: tensorflow-io-gcs-filesystem>=0.21.0 in /tmpfs/src/tf_docs_env/lib/python3.7/site-packages (from tensorflow~=2.7.0->tensorflow_decision_forests) (0.21.0)\r\n",
      "Requirement already satisfied: flatbuffers<3.0,>=1.12 in /tmpfs/src/tf_docs_env/lib/python3.7/site-packages (from tensorflow~=2.7.0->tensorflow_decision_forests) (2.0)\r\n",
      "Requirement already satisfied: typing-extensions>=3.6.6 in /home/kbuilder/.local/lib/python3.7/site-packages (from tensorflow~=2.7.0->tensorflow_decision_forests) (3.10.0.2)\r\n",
      "Requirement already satisfied: protobuf>=3.9.2 in /tmpfs/src/tf_docs_env/lib/python3.7/site-packages (from tensorflow~=2.7.0->tensorflow_decision_forests) (3.19.1)\r\n",
      "Requirement already satisfied: pytz>=2017.3 in /tmpfs/src/tf_docs_env/lib/python3.7/site-packages (from pandas->tensorflow_decision_forests) (2021.3)\r\n",
      "Requirement already satisfied: python-dateutil>=2.7.3 in /tmpfs/src/tf_docs_env/lib/python3.7/site-packages (from pandas->tensorflow_decision_forests) (2.8.2)\r\n"
     ]
    },
    {
     "name": "stdout",
     "output_type": "stream",
     "text": [
      "Requirement already satisfied: cached-property in /tmpfs/src/tf_docs_env/lib/python3.7/site-packages (from h5py>=2.9.0->tensorflow~=2.7.0->tensorflow_decision_forests) (1.5.2)\r\n",
      "Requirement already satisfied: requests<3,>=2.21.0 in /tmpfs/src/tf_docs_env/lib/python3.7/site-packages (from tensorboard~=2.6->tensorflow~=2.7.0->tensorflow_decision_forests) (2.26.0)\r\n",
      "Requirement already satisfied: markdown>=2.6.8 in /tmpfs/src/tf_docs_env/lib/python3.7/site-packages (from tensorboard~=2.6->tensorflow~=2.7.0->tensorflow_decision_forests) (3.3.4)\r\n",
      "Requirement already satisfied: google-auth<3,>=1.6.3 in /tmpfs/src/tf_docs_env/lib/python3.7/site-packages (from tensorboard~=2.6->tensorflow~=2.7.0->tensorflow_decision_forests) (2.3.3)\r\n",
      "Requirement already satisfied: tensorboard-data-server<0.7.0,>=0.6.0 in /tmpfs/src/tf_docs_env/lib/python3.7/site-packages (from tensorboard~=2.6->tensorflow~=2.7.0->tensorflow_decision_forests) (0.6.1)\r\n",
      "Requirement already satisfied: tensorboard-plugin-wit>=1.6.0 in /tmpfs/src/tf_docs_env/lib/python3.7/site-packages (from tensorboard~=2.6->tensorflow~=2.7.0->tensorflow_decision_forests) (1.8.0)\r\n",
      "Requirement already satisfied: setuptools>=41.0.0 in /tmpfs/src/tf_docs_env/lib/python3.7/site-packages (from tensorboard~=2.6->tensorflow~=2.7.0->tensorflow_decision_forests) (58.5.3)\r\n",
      "Requirement already satisfied: werkzeug>=0.11.15 in /tmpfs/src/tf_docs_env/lib/python3.7/site-packages (from tensorboard~=2.6->tensorflow~=2.7.0->tensorflow_decision_forests) (2.0.2)\r\n",
      "Requirement already satisfied: google-auth-oauthlib<0.5,>=0.4.1 in /tmpfs/src/tf_docs_env/lib/python3.7/site-packages (from tensorboard~=2.6->tensorflow~=2.7.0->tensorflow_decision_forests) (0.4.6)\r\n"
     ]
    },
    {
     "name": "stdout",
     "output_type": "stream",
     "text": [
      "Requirement already satisfied: pyasn1-modules>=0.2.1 in /usr/lib/python3/dist-packages (from google-auth<3,>=1.6.3->tensorboard~=2.6->tensorflow~=2.7.0->tensorflow_decision_forests) (0.2.1)\r\n",
      "Requirement already satisfied: rsa<5,>=3.1.4 in /tmpfs/src/tf_docs_env/lib/python3.7/site-packages (from google-auth<3,>=1.6.3->tensorboard~=2.6->tensorflow~=2.7.0->tensorflow_decision_forests) (4.7.2)\r\n",
      "Requirement already satisfied: cachetools<5.0,>=2.0.0 in /home/kbuilder/.local/lib/python3.7/site-packages (from google-auth<3,>=1.6.3->tensorboard~=2.6->tensorflow~=2.7.0->tensorflow_decision_forests) (4.2.4)\r\n",
      "Requirement already satisfied: requests-oauthlib>=0.7.0 in /tmpfs/src/tf_docs_env/lib/python3.7/site-packages (from google-auth-oauthlib<0.5,>=0.4.1->tensorboard~=2.6->tensorflow~=2.7.0->tensorflow_decision_forests) (1.3.0)\r\n",
      "Requirement already satisfied: importlib-metadata in /home/kbuilder/.local/lib/python3.7/site-packages (from markdown>=2.6.8->tensorboard~=2.6->tensorflow~=2.7.0->tensorflow_decision_forests) (4.8.1)\r\n"
     ]
    },
    {
     "name": "stdout",
     "output_type": "stream",
     "text": [
      "Requirement already satisfied: charset-normalizer~=2.0.0 in /tmpfs/src/tf_docs_env/lib/python3.7/site-packages (from requests<3,>=2.21.0->tensorboard~=2.6->tensorflow~=2.7.0->tensorflow_decision_forests) (2.0.7)\r\n",
      "Requirement already satisfied: certifi>=2017.4.17 in /usr/lib/python3/dist-packages (from requests<3,>=2.21.0->tensorboard~=2.6->tensorflow~=2.7.0->tensorflow_decision_forests) (2018.1.18)\r\n",
      "Requirement already satisfied: idna<4,>=2.5 in /usr/lib/python3/dist-packages (from requests<3,>=2.21.0->tensorboard~=2.6->tensorflow~=2.7.0->tensorflow_decision_forests) (2.6)\r\n",
      "Requirement already satisfied: urllib3<1.27,>=1.21.1 in /usr/lib/python3/dist-packages (from requests<3,>=2.21.0->tensorboard~=2.6->tensorflow~=2.7.0->tensorflow_decision_forests) (1.22)\r\n",
      "Requirement already satisfied: oauthlib>=3.0.0 in /tmpfs/src/tf_docs_env/lib/python3.7/site-packages (from requests-oauthlib>=0.7.0->google-auth-oauthlib<0.5,>=0.4.1->tensorboard~=2.6->tensorflow~=2.7.0->tensorflow_decision_forests) (3.1.1)\r\n",
      "Requirement already satisfied: pyasn1>=0.1.3 in /usr/lib/python3/dist-packages (from rsa<5,>=3.1.4->google-auth<3,>=1.6.3->tensorboard~=2.6->tensorflow~=2.7.0->tensorflow_decision_forests) (0.4.2)\r\n"
     ]
    },
    {
     "name": "stdout",
     "output_type": "stream",
     "text": [
      "Requirement already satisfied: zipp>=0.5 in /home/kbuilder/.local/lib/python3.7/site-packages (from importlib-metadata->markdown>=2.6.8->tensorboard~=2.6->tensorflow~=2.7.0->tensorflow_decision_forests) (3.6.0)\r\n"
     ]
    },
    {
     "name": "stdout",
     "output_type": "stream",
     "text": [
      "Installing collected packages: tensorflow-decision-forests\r\n"
     ]
    },
    {
     "name": "stdout",
     "output_type": "stream",
     "text": [
      "Successfully installed tensorflow-decision-forests-0.2.1\r\n"
     ]
    }
   ],
   "source": [
    "!pip install tensorflow_decision_forests"
   ]
  },
  {
   "cell_type": "markdown",
   "metadata": {
    "id": "vZGda2dOe-hH"
   },
   "source": [
    "Install [Wurlitzer](https://pypi.org/project/wurlitzer/) to display\n",
    "the detailed training logs. This is only needed in colabs."
   ]
  },
  {
   "cell_type": "code",
   "execution_count": 3,
   "metadata": {
    "execution": {
     "iopub.execute_input": "2021-11-08T12:09:54.757371Z",
     "iopub.status.busy": "2021-11-08T12:09:54.756765Z",
     "iopub.status.idle": "2021-11-08T12:09:56.249528Z",
     "shell.execute_reply": "2021-11-08T12:09:56.248933Z"
    },
    "id": "lk26uBSCe8Du"
   },
   "outputs": [
    {
     "name": "stdout",
     "output_type": "stream",
     "text": [
      "Collecting wurlitzer\r\n"
     ]
    },
    {
     "name": "stdout",
     "output_type": "stream",
     "text": [
      "  Downloading wurlitzer-3.0.2-py3-none-any.whl (7.3 kB)\r\n"
     ]
    },
    {
     "name": "stdout",
     "output_type": "stream",
     "text": [
      "Installing collected packages: wurlitzer\r\n",
      "Successfully installed wurlitzer-3.0.2\r\n"
     ]
    }
   ],
   "source": [
    "!pip install wurlitzer"
   ]
  },
  {
   "cell_type": "markdown",
   "metadata": {
    "id": "3oinwbhXlggd"
   },
   "source": [
    "## Importing libraries"
   ]
  },
  {
   "cell_type": "code",
   "execution_count": 4,
   "metadata": {
    "execution": {
     "iopub.execute_input": "2021-11-08T12:09:56.255970Z",
     "iopub.status.busy": "2021-11-08T12:09:56.255278Z",
     "iopub.status.idle": "2021-11-08T12:09:58.413128Z",
     "shell.execute_reply": "2021-11-08T12:09:58.412546Z"
    },
    "id": "52W45tmDjD64"
   },
   "outputs": [
    {
     "name": "stderr",
     "output_type": "stream",
     "text": [
      "WARNING:root:Failure to load the custom c++ tensorflow ops. This error is likely caused the version of TensorFlow and TensorFlow Decision Forests are not compatible.\n"
     ]
    },
    {
     "name": "stderr",
     "output_type": "stream",
     "text": [
      "WARNING:root:TF Parameter Server distributed training not available.\n"
     ]
    }
   ],
   "source": [
    "import tensorflow_decision_forests as tfdf\n",
    "\n",
    "import os\n",
    "import numpy as np\n",
    "import pandas as pd\n",
    "import tensorflow as tf\n",
    "import math\n",
    "\n",
    "try:\n",
    "  from wurlitzer import sys_pipes\n",
    "except:\n",
    "  from colabtools.googlelog import CaptureLog as sys_pipes\n",
    "\n",
    "from IPython.core.magic import register_line_magic\n",
    "from IPython.display import Javascript"
   ]
  },
  {
   "cell_type": "markdown",
   "metadata": {
    "id": "0LPPwWxYxtDM"
   },
   "source": [
    "The hidden code cell limits the output height in colab.\n"
   ]
  },
  {
   "cell_type": "code",
   "execution_count": 5,
   "metadata": {
    "cellView": "form",
    "execution": {
     "iopub.execute_input": "2021-11-08T12:09:58.418757Z",
     "iopub.status.busy": "2021-11-08T12:09:58.417594Z",
     "iopub.status.idle": "2021-11-08T12:09:58.420214Z",
     "shell.execute_reply": "2021-11-08T12:09:58.419612Z"
    },
    "id": "2AhqJz3VmQM-"
   },
   "outputs": [],
   "source": [
    "#@title\n",
    "\n",
    "# Some of the model training logs can cover the full\n",
    "# screen if not compressed to a smaller viewport.\n",
    "# This magic allows setting a max height for a cell.\n",
    "@register_line_magic\n",
    "def set_cell_height(size):\n",
    "  display(\n",
    "      Javascript(\"google.colab.output.setIframeHeight(0, true, {maxHeight: \" +\n",
    "                 str(size) + \"})\"))"
   ]
  },
  {
   "cell_type": "code",
   "execution_count": 6,
   "metadata": {
    "execution": {
     "iopub.execute_input": "2021-11-08T12:09:58.424612Z",
     "iopub.status.busy": "2021-11-08T12:09:58.423911Z",
     "iopub.status.idle": "2021-11-08T12:09:58.426937Z",
     "shell.execute_reply": "2021-11-08T12:09:58.426433Z"
    },
    "id": "8gVQ-txtjFU4"
   },
   "outputs": [
    {
     "name": "stdout",
     "output_type": "stream",
     "text": [
      "Found TensorFlow Decision Forests v0.2.1\n"
     ]
    }
   ],
   "source": [
    "# Check the version of TensorFlow Decision Forests\n",
    "print(\"Found TensorFlow Decision Forests v\" + tfdf.__version__)"
   ]
  },
  {
   "cell_type": "markdown",
   "metadata": {
    "id": "QGRtRECujKeu"
   },
   "source": [
    "## Training a Random Forest model\n",
    "\n",
    "In this section, we train, evaluate, analyse and export a binary classification Random Forest trained on the [Palmer's Penguins](https://allisonhorst.github.io/palmerpenguins/articles/intro.html) dataset.\n",
    "\n",
    "<center>\n",
    "<img src=\"https://allisonhorst.github.io/palmerpenguins/man/figures/palmerpenguins.png\" width=\"150\"/></center>\n",
    "\n",
    "**Note:** The dataset was exported to a csv file without pre-processing: `library(palmerpenguins); write.csv(penguins, file=\"penguins.csv\", quote=F, row.names=F)`. "
   ]
  },
  {
   "cell_type": "markdown",
   "metadata": {
    "id": "3qsSU1RfmNiP"
   },
   "source": [
    "### Load the dataset and convert it in a tf.Dataset"
   ]
  },
  {
   "cell_type": "markdown",
   "metadata": {
    "id": "9nJ5igfElg2I"
   },
   "source": [
    "This dataset is very small (300 examples) and stored as a .csv-like file. Therefore, use Pandas to load it.\n",
    "\n",
    "**Note:** Pandas is practical as you don't have to type in name of the input features to load them. For larger datasets (>1M examples), using the\n",
    "[TensorFlow Dataset](https://www.tensorflow.org/api_docs/python/tf/data/Dataset) to read the files may be better suited.\n",
    "\n",
    "Let's assemble the dataset into a csv file (i.e. add the header), and load it:"
   ]
  },
  {
   "cell_type": "code",
   "execution_count": 7,
   "metadata": {
    "execution": {
     "iopub.execute_input": "2021-11-08T12:09:58.436526Z",
     "iopub.status.busy": "2021-11-08T12:09:58.431540Z",
     "iopub.status.idle": "2021-11-08T12:09:58.975654Z",
     "shell.execute_reply": "2021-11-08T12:09:58.976052Z"
    },
    "id": "44Jq6g_mJFmj"
   },
   "outputs": [
    {
     "data": {
      "text/html": [
       "<div>\n",
       "<style scoped>\n",
       "    .dataframe tbody tr th:only-of-type {\n",
       "        vertical-align: middle;\n",
       "    }\n",
       "\n",
       "    .dataframe tbody tr th {\n",
       "        vertical-align: top;\n",
       "    }\n",
       "\n",
       "    .dataframe thead th {\n",
       "        text-align: right;\n",
       "    }\n",
       "</style>\n",
       "<table border=\"1\" class=\"dataframe\">\n",
       "  <thead>\n",
       "    <tr style=\"text-align: right;\">\n",
       "      <th></th>\n",
       "      <th>species</th>\n",
       "      <th>island</th>\n",
       "      <th>bill_length_mm</th>\n",
       "      <th>bill_depth_mm</th>\n",
       "      <th>flipper_length_mm</th>\n",
       "      <th>body_mass_g</th>\n",
       "      <th>sex</th>\n",
       "      <th>year</th>\n",
       "    </tr>\n",
       "  </thead>\n",
       "  <tbody>\n",
       "    <tr>\n",
       "      <th>0</th>\n",
       "      <td>Adelie</td>\n",
       "      <td>Torgersen</td>\n",
       "      <td>39.1</td>\n",
       "      <td>18.7</td>\n",
       "      <td>181.0</td>\n",
       "      <td>3750.0</td>\n",
       "      <td>male</td>\n",
       "      <td>2007</td>\n",
       "    </tr>\n",
       "    <tr>\n",
       "      <th>1</th>\n",
       "      <td>Adelie</td>\n",
       "      <td>Torgersen</td>\n",
       "      <td>39.5</td>\n",
       "      <td>17.4</td>\n",
       "      <td>186.0</td>\n",
       "      <td>3800.0</td>\n",
       "      <td>female</td>\n",
       "      <td>2007</td>\n",
       "    </tr>\n",
       "    <tr>\n",
       "      <th>2</th>\n",
       "      <td>Adelie</td>\n",
       "      <td>Torgersen</td>\n",
       "      <td>40.3</td>\n",
       "      <td>18.0</td>\n",
       "      <td>195.0</td>\n",
       "      <td>3250.0</td>\n",
       "      <td>female</td>\n",
       "      <td>2007</td>\n",
       "    </tr>\n",
       "  </tbody>\n",
       "</table>\n",
       "</div>"
      ],
      "text/plain": [
       "  species     island  bill_length_mm  bill_depth_mm  flipper_length_mm  \\\n",
       "0  Adelie  Torgersen            39.1           18.7              181.0   \n",
       "1  Adelie  Torgersen            39.5           17.4              186.0   \n",
       "2  Adelie  Torgersen            40.3           18.0              195.0   \n",
       "\n",
       "   body_mass_g     sex  year  \n",
       "0       3750.0    male  2007  \n",
       "1       3800.0  female  2007  \n",
       "2       3250.0  female  2007  "
      ]
     },
     "execution_count": 7,
     "metadata": {},
     "output_type": "execute_result"
    }
   ],
   "source": [
    "# Download the dataset\n",
    "!wget -q https://storage.googleapis.com/download.tensorflow.org/data/palmer_penguins/penguins.csv -O /tmp/penguins.csv\n",
    "\n",
    "# Load a dataset into a Pandas Dataframe.\n",
    "dataset_df = pd.read_csv(\"/tmp/penguins.csv\")\n",
    "\n",
    "# Display the first 3 examples.\n",
    "dataset_df.head(3)"
   ]
  },
  {
   "cell_type": "markdown",
   "metadata": {
    "id": "23AewWT1lkIK"
   },
   "source": [
    "The dataset contains a mix of numerical (e.g. `bill_depth_mm`), categorical\n",
    "(e.g. `island`) and missing features. TF-DF supports all these feature types natively (differently than NN based models), therefore there is no need for preprocessing in the form of one-hot encoding, normalization or extra `is_present` feature.\n",
    "\n",
    "Labels are a bit different: Keras metrics expect integers. The label (`species`) is stored as a string, so let's convert it into an integer."
   ]
  },
  {
   "cell_type": "code",
   "execution_count": 8,
   "metadata": {
    "execution": {
     "iopub.execute_input": "2021-11-08T12:09:58.982413Z",
     "iopub.status.busy": "2021-11-08T12:09:58.981788Z",
     "iopub.status.idle": "2021-11-08T12:09:58.984379Z",
     "shell.execute_reply": "2021-11-08T12:09:58.983919Z"
    },
    "id": "uO_jz2sj0IBZ"
   },
   "outputs": [
    {
     "name": "stdout",
     "output_type": "stream",
     "text": [
      "Label classes: ['Adelie', 'Gentoo', 'Chinstrap']\n"
     ]
    }
   ],
   "source": [
    "# Encode the categorical label into an integer.\n",
    "#\n",
    "# Details:\n",
    "# This stage is necessary if your classification label is represented as a\n",
    "# string. Note: Keras expected classification labels to be integers.\n",
    "\n",
    "# Name of the label column.\n",
    "label = \"species\"\n",
    "\n",
    "classes = dataset_df[label].unique().tolist()\n",
    "print(f\"Label classes: {classes}\")\n",
    "\n",
    "dataset_df[label] = dataset_df[label].map(classes.index)"
   ]
  },
  {
   "cell_type": "markdown",
   "metadata": {
    "id": "vwJjLFhbtozI"
   },
   "source": [
    "Next split the dataset into training and testing:"
   ]
  },
  {
   "cell_type": "code",
   "execution_count": 9,
   "metadata": {
    "execution": {
     "iopub.execute_input": "2021-11-08T12:09:58.990841Z",
     "iopub.status.busy": "2021-11-08T12:09:58.990195Z",
     "iopub.status.idle": "2021-11-08T12:09:58.992833Z",
     "shell.execute_reply": "2021-11-08T12:09:58.992298Z"
    },
    "id": "u7DEIxn2oB3U"
   },
   "outputs": [
    {
     "name": "stdout",
     "output_type": "stream",
     "text": [
      "252 examples in training, 92 examples for testing.\n"
     ]
    }
   ],
   "source": [
    "# Split the dataset into a training and a testing dataset.\n",
    "\n",
    "def split_dataset(dataset, test_ratio=0.30):\n",
    "  \"\"\"Splits a panda dataframe in two.\"\"\"\n",
    "  test_indices = np.random.rand(len(dataset)) < test_ratio\n",
    "  return dataset[~test_indices], dataset[test_indices]\n",
    "\n",
    "\n",
    "train_ds_pd, test_ds_pd = split_dataset(dataset_df)\n",
    "print(\"{} examples in training, {} examples for testing.\".format(\n",
    "    len(train_ds_pd), len(test_ds_pd)))"
   ]
  },
  {
   "cell_type": "markdown",
   "metadata": {
    "id": "uWq7uQcCuBzO"
   },
   "source": [
    "And finally, convert the pandas dataframe (`pd.Dataframe`) into tensorflow datasets (`tf.data.Dataset`):"
   ]
  },
  {
   "cell_type": "code",
   "execution_count": 10,
   "metadata": {
    "execution": {
     "iopub.execute_input": "2021-11-08T12:09:58.999341Z",
     "iopub.status.busy": "2021-11-08T12:09:58.998758Z",
     "iopub.status.idle": "2021-11-08T12:10:00.612682Z",
     "shell.execute_reply": "2021-11-08T12:10:00.613116Z"
    },
    "id": "qtXgUBKluTX0"
   },
   "outputs": [
    {
     "name": "stderr",
     "output_type": "stream",
     "text": [
      "/tmpfs/src/tf_docs_env/lib/python3.7/site-packages/tensorflow_decision_forests/keras/core.py:1612: FutureWarning: In a future version of pandas all arguments of DataFrame.drop except for the argument 'labels' will be keyword-only\n",
      "  features_dataframe = dataframe.drop(label, 1)\n"
     ]
    }
   ],
   "source": [
    "train_ds = tfdf.keras.pd_dataframe_to_tf_dataset(train_ds_pd, label=label)\n",
    "test_ds = tfdf.keras.pd_dataframe_to_tf_dataset(test_ds_pd, label=label)"
   ]
  },
  {
   "cell_type": "markdown",
   "metadata": {
    "id": "BRKLWIWNuOZ1"
   },
   "source": [
    "**Notes:** `pd_dataframe_to_tf_dataset` could have converted the label to integer for you.\n",
    "\n",
    "And, if you wanted to create the `tf.data.Dataset` yourself, there is a couple of things to remember:\n",
    "\n",
    "- The learning algorithms work with a one-epoch dataset and without shuffling.\n",
    "- The batch size does not impact the training algorithm, but a small value might slow down reading the dataset.\n"
   ]
  },
  {
   "cell_type": "markdown",
   "metadata": {
    "id": "mYAoyfYtqHG4"
   },
   "source": [
    "### Train the model"
   ]
  },
  {
   "cell_type": "code",
   "execution_count": 11,
   "metadata": {
    "execution": {
     "iopub.execute_input": "2021-11-08T12:10:00.619742Z",
     "iopub.status.busy": "2021-11-08T12:10:00.619058Z",
     "iopub.status.idle": "2021-11-08T12:10:06.430959Z",
     "shell.execute_reply": "2021-11-08T12:10:06.430285Z"
    },
    "id": "xete-FbuqJCV"
   },
   "outputs": [
    {
     "data": {
      "application/javascript": [
       "google.colab.output.setIframeHeight(0, true, {maxHeight: 300})"
      ],
      "text/plain": [
       "<IPython.core.display.Javascript object>"
      ]
     },
     "metadata": {},
     "output_type": "display_data"
    },
    {
     "name": "stdout",
     "output_type": "stream",
     "text": [
      "\r",
      "1/4 [======>.......................] - ETA: 12s"
     ]
    },
    {
     "name": "stderr",
     "output_type": "stream",
     "text": [
      "[INFO kernel.cc:736] Start Yggdrasil model training\n",
      "[INFO kernel.cc:737] Collect training examples\n",
      "[INFO kernel.cc:392] Number of batches: 4\n",
      "[INFO kernel.cc:393] Number of examples: 252\n",
      "[INFO kernel.cc:759] Dataset:\n",
      "Number of records: 252\n",
      "Number of columns: 8\n",
      "\n",
      "Number of columns by type:\n",
      "\tNUMERICAL: 5 (62.5%)\n",
      "\tCATEGORICAL: 3 (37.5%)\n",
      "\n",
      "Columns:\n",
      "\n",
      "NUMERICAL: 5 (62.5%)\n",
      "\t0: \"bill_depth_mm\" NUMERICAL num-nas:2 (0.793651%) mean:17.1936 min:13.2 max:21.5 sd:1.96763\n",
      "\t1: \"bill_length_mm\" NUMERICAL num-nas:2 (0.793651%) mean:44.1884 min:33.1 max:59.6 sd:5.36528\n",
      "\t2: \"body_mass_g\" NUMERICAL num-nas:2 (0.793651%) mean:4221 min:2700 max:6300 sd:811.125\n",
      "\t3: \"flipper_length_mm\" NUMERICAL num-nas:2 (0.793651%) mean:201.264 min:172 max:231 sd:14.0793\n",
      "\t6: \"year\" NUMERICAL mean:2008.05 min:2007 max:2009 sd:0.817297\n",
      "\n",
      "CATEGORICAL: 3 (37.5%)\n",
      "\t4: \"island\" CATEGORICAL has-dict vocab-size:4 zero-ood-items most-frequent:\"Biscoe\" 126 (50%)\n",
      "\t5: \"sex\" CATEGORICAL num-nas:7 (2.77778%) has-dict vocab-size:3 zero-ood-items most-frequent:\"male\" 124 (50.6122%)\n",
      "\t7: \"__LABEL\" CATEGORICAL integerized vocab-size:4 no-ood-item\n",
      "\n",
      "Terminology:\n",
      "\tnas: Number of non-available (i.e. missing) values.\n",
      "\tood: Out of dictionary.\n",
      "\tmanually-defined: Attribute which type is manually defined by the user i.e. the type was not automatically inferred.\n",
      "\ttokenized: The attribute value is obtained through tokenization.\n",
      "\thas-dict: The attribute is attached to a string dictionary e.g. a categorical attribute stored as a string.\n",
      "\tvocab-size: Number of unique values.\n",
      "\n",
      "[INFO kernel.cc:762] Configure learner\n",
      "[INFO kernel.cc:787] Training config:\n"
     ]
    },
    {
     "name": "stderr",
     "output_type": "stream",
     "text": [
      "learner: \"RANDOM_FOREST\"\n",
      "features: \"bill_depth_mm\"\n",
      "features: \"bill_length_mm\"\n",
      "features: \"body_mass_g\"\n",
      "features: \"flipper_length_mm\"\n",
      "features: \"island\"\n",
      "features: \"sex\"\n",
      "features: \"year\"\n",
      "label: \"__LABEL\"\n",
      "task: CLASSIFICATION\n",
      "[yggdrasil_decision_forests.model.random_forest.proto.random_forest_config] {\n",
      "  num_trees: 300\n",
      "  decision_tree {\n",
      "    max_depth: 16\n",
      "    min_examples: 5\n",
      "    in_split_min_examples_check: true\n",
      "    missing_value_policy: GLOBAL_IMPUTATION\n",
      "    allow_na_conditions: false\n",
      "    categorical_set_greedy_forward {\n",
      "      sampling: 0.1\n",
      "      max_num_items: -1\n",
      "      min_item_frequency: 1\n",
      "    }\n",
      "    growing_strategy_local {\n",
      "    }\n",
      "    categorical {\n",
      "      cart {\n",
      "      }\n",
      "    }\n",
      "    num_candidate_attributes_ratio: -1\n",
      "    axis_aligned_split {\n",
      "    }\n",
      "    internal {\n",
      "      sorting_strategy: PRESORTED\n",
      "    }\n",
      "  }\n",
      "  winner_take_all_inference: true\n",
      "  compute_oob_performances: true\n",
      "  compute_oob_variable_importances: false\n",
      "  adapt_bootstrap_size_ratio_for_maximum_training_duration: false\n",
      "}\n",
      "\n",
      "[INFO kernel.cc:790] Deployment config:\n",
      "num_threads: 6\n",
      "\n",
      "[INFO kernel.cc:817] Train model\n",
      "[INFO random_forest.cc:315] Training random forest on 252 example(s) and 7 feature(s).\n"
     ]
    },
    {
     "name": "stderr",
     "output_type": "stream",
     "text": [
      "[INFO random_forest.cc:628] Training of tree  1/300 (tree index:0) done accuracy:0.922222 logloss:2.8034\n"
     ]
    },
    {
     "name": "stderr",
     "output_type": "stream",
     "text": [
      "[INFO random_forest.cc:628] Training of tree  11/300 (tree index:10) done accuracy:0.960159 logloss:0.355553\n",
      "[INFO random_forest.cc:628] Training of tree  21/300 (tree index:17) done accuracy:0.960317 logloss:0.360011\n",
      "[INFO random_forest.cc:628] Training of tree  31/300 (tree index:32) done accuracy:0.968254 logloss:0.355906\n",
      "[INFO random_forest.cc:628] Training of tree  41/300 (tree index:41) done accuracy:0.972222 logloss:0.354263\n",
      "[INFO random_forest.cc:628] Training of tree  51/300 (tree index:51) done accuracy:0.980159 logloss:0.355675\n",
      "[INFO random_forest.cc:628] Training of tree  61/300 (tree index:60) done accuracy:0.97619 logloss:0.354058\n",
      "[INFO random_forest.cc:628] Training of tree  71/300 (tree index:70) done accuracy:0.972222 logloss:0.355711\n",
      "[INFO random_forest.cc:628] Training of tree  81/300 (tree index:82) done accuracy:0.980159 logloss:0.356747\n"
     ]
    },
    {
     "name": "stderr",
     "output_type": "stream",
     "text": [
      "[INFO random_forest.cc:628] Training of tree  91/300 (tree index:90) done accuracy:0.97619 logloss:0.225018\n",
      "[INFO random_forest.cc:628] Training of tree  101/300 (tree index:100) done accuracy:0.972222 logloss:0.221976\n",
      "[INFO random_forest.cc:628] Training of tree  111/300 (tree index:109) done accuracy:0.972222 logloss:0.223525\n"
     ]
    },
    {
     "name": "stderr",
     "output_type": "stream",
     "text": [
      "[INFO random_forest.cc:628] Training of tree  121/300 (tree index:117) done accuracy:0.972222 logloss:0.095911\n",
      "[INFO random_forest.cc:628] Training of tree  131/300 (tree index:127) done accuracy:0.968254 logloss:0.0970941\n"
     ]
    },
    {
     "name": "stderr",
     "output_type": "stream",
     "text": [
      "[INFO random_forest.cc:628] Training of tree  141/300 (tree index:140) done accuracy:0.972222 logloss:0.0962378\n",
      "[INFO random_forest.cc:628] Training of tree  151/300 (tree index:151) done accuracy:0.972222 logloss:0.0952778\n",
      "[INFO random_forest.cc:628] Training of tree  161/300 (tree index:161) done accuracy:0.97619 logloss:0.0953929\n",
      "[INFO random_forest.cc:628] Training of tree  171/300 (tree index:172) done accuracy:0.972222 logloss:0.0966406\n"
     ]
    },
    {
     "name": "stderr",
     "output_type": "stream",
     "text": [
      "[INFO random_forest.cc:628] Training of tree  181/300 (tree index:180) done accuracy:0.97619 logloss:0.096802\n",
      "[INFO random_forest.cc:628] Training of tree  191/300 (tree index:189) done accuracy:0.972222 logloss:0.0952902\n",
      "[INFO random_forest.cc:628] Training of tree  201/300 (tree index:200) done accuracy:0.972222 logloss:0.0926996\n",
      "[INFO random_forest.cc:628] Training of tree  211/300 (tree index:210) done accuracy:0.97619 logloss:0.0923645\n"
     ]
    },
    {
     "name": "stderr",
     "output_type": "stream",
     "text": [
      "[INFO random_forest.cc:628] Training of tree  221/300 (tree index:221) done accuracy:0.97619 logloss:0.0928984\n",
      "[INFO random_forest.cc:628] Training of tree  231/300 (tree index:230) done accuracy:0.97619 logloss:0.0938896\n",
      "[INFO random_forest.cc:628] Training of tree  241/300 (tree index:240) done accuracy:0.972222 logloss:0.0947512\n",
      "[INFO random_forest.cc:628] Training of tree  251/300 (tree index:250) done accuracy:0.972222 logloss:0.0952597\n"
     ]
    },
    {
     "name": "stderr",
     "output_type": "stream",
     "text": [
      "[INFO random_forest.cc:628] Training of tree  261/300 (tree index:260) done accuracy:0.972222 logloss:0.0948972\n"
     ]
    },
    {
     "name": "stderr",
     "output_type": "stream",
     "text": [
      "[INFO random_forest.cc:628] Training of tree  271/300 (tree index:270) done accuracy:0.968254 logloss:0.096022\n"
     ]
    },
    {
     "name": "stderr",
     "output_type": "stream",
     "text": [
      "[INFO random_forest.cc:628] Training of tree  281/300 (tree index:280) done accuracy:0.968254 logloss:0.0950604\n"
     ]
    },
    {
     "name": "stderr",
     "output_type": "stream",
     "text": [
      "[INFO random_forest.cc:628] Training of tree  291/300 (tree index:290) done accuracy:0.972222 logloss:0.0962781\n",
      "[INFO random_forest.cc:628] Training of tree  300/300 (tree index:298) done accuracy:0.972222 logloss:0.0967387\n",
      "[INFO random_forest.cc:696] Final OOB metrics: accuracy:0.972222 logloss:0.0967387\n"
     ]
    },
    {
     "name": "stderr",
     "output_type": "stream",
     "text": [
      "[INFO kernel.cc:828] Export model in log directory: /tmp/tmpdqbqx3ck\n"
     ]
    },
    {
     "name": "stderr",
     "output_type": "stream",
     "text": [
      "[INFO kernel.cc:836] Save model in resources\n"
     ]
    },
    {
     "name": "stderr",
     "output_type": "stream",
     "text": [
      "[INFO kernel.cc:988] Loading model from path\n"
     ]
    },
    {
     "name": "stderr",
     "output_type": "stream",
     "text": [
      "[INFO decision_forest.cc:590] Model loaded with 300 root(s), 4558 node(s), and 7 input feature(s).\n",
      "[INFO abstract_model.cc:993] Engine \"RandomForestGeneric\" built\n",
      "[INFO kernel.cc:848] Use fast generic engine\n"
     ]
    },
    {
     "name": "stdout",
     "output_type": "stream",
     "text": [
      "\b\b\b\b\b\b\b\b\b\b\b\b\b\b\b\b\b\b\b\b\b\b\b\b\b\b\b\b\b\b\b\b\b\b\b\b\b\b\b\b\b\b\b\b\b\b\b\r",
      "4/4 [==============================] - 4s 19ms/step\n"
     ]
    }
   ],
   "source": [
    "%set_cell_height 300\n",
    "\n",
    "# Specify the model.\n",
    "model_1 = tfdf.keras.RandomForestModel()\n",
    "\n",
    "# Optionally, add evaluation metrics.\n",
    "model_1.compile(\n",
    "    metrics=[\"accuracy\"])\n",
    "\n",
    "# Train the model.\n",
    "# \"sys_pipes\" is optional. It enables the display of the training logs.\n",
    "with sys_pipes():\n",
    "  model_1.fit(x=train_ds)"
   ]
  },
  {
   "cell_type": "markdown",
   "metadata": {
    "id": "OBnjxdip-MC0"
   },
   "source": [
    "### Remarks\n",
    "\n",
    "-   No input features are specified. Therefore, all the columns will be used as\n",
    "    input features except for the label. The feature used by the model are shown\n",
    "    in the training logs and in the `model.summary()`.\n",
    "-   DFs consume natively numerical, categorical, categorical-set features and\n",
    "    missing-values. Numerical features do not need to be normalized. Categorical\n",
    "    string values do not need to be encoded in a dictionary.\n",
    "-   No training hyper-parameters are specified. Therefore the default\n",
    "    hyper-parameters will be used. Default hyper-parameters provide\n",
    "    reasonable results in most situations.\n",
    "-   Calling `compile` on the model before the `fit` is optional. Compile can be\n",
    "    used to provide extra evaluation metrics.\n",
    "-   Training algorithms do not need validation datasets. If a validation dataset\n",
    "    is provided, it will only be used to show metrics.\n",
    "\n",
    "**Note:** A *Categorical-Set* feature is composed of a set of categorical values (while a *Categorical* is only one value). More details and examples are given later."
   ]
  },
  {
   "cell_type": "markdown",
   "metadata": {
    "id": "tSdtNJUArBpl"
   },
   "source": [
    "## Evaluate the model"
   ]
  },
  {
   "cell_type": "markdown",
   "metadata": {
    "id": "Udtu_uS1paSu"
   },
   "source": [
    "Let's evaluate our model on the test dataset."
   ]
  },
  {
   "cell_type": "code",
   "execution_count": 12,
   "metadata": {
    "execution": {
     "iopub.execute_input": "2021-11-08T12:10:06.436442Z",
     "iopub.status.busy": "2021-11-08T12:10:06.435719Z",
     "iopub.status.idle": "2021-11-08T12:10:06.744367Z",
     "shell.execute_reply": "2021-11-08T12:10:06.743871Z"
    },
    "id": "xUy4ULEMtDXB"
   },
   "outputs": [
    {
     "name": "stdout",
     "output_type": "stream",
     "text": [
      "\r",
      "1/2 [==============>...............] - ETA: 0s - loss: 0.0000e+00 - accuracy: 1.0000"
     ]
    },
    {
     "name": "stdout",
     "output_type": "stream",
     "text": [
      "\b\b\b\b\b\b\b\b\b\b\b\b\b\b\b\b\b\b\b\b\b\b\b\b\b\b\b\b\b\b\b\b\b\b\b\b\b\b\b\b\b\b\b\b\b\b\b\b\b\b\b\b\b\b\b\b\b\b\b\b\b\b\b\b\b\b\b\b\b\b\b\b\b\b\b\b\b\b\b\b\b\b\b\b\r",
      "2/2 [==============================] - 0s 4ms/step - loss: 0.0000e+00 - accuracy: 1.0000\n"
     ]
    },
    {
     "name": "stdout",
     "output_type": "stream",
     "text": [
      "\n",
      "loss: 0.0000\n",
      "accuracy: 1.0000\n"
     ]
    }
   ],
   "source": [
    "evaluation = model_1.evaluate(test_ds, return_dict=True)\n",
    "print()\n",
    "\n",
    "for name, value in evaluation.items():\n",
    "  print(f\"{name}: {value:.4f}\")"
   ]
  },
  {
   "cell_type": "markdown",
   "metadata": {
    "id": "tlhfzZ34pfO4"
   },
   "source": [
    "**Remark:** The test accuracy (0.86514) is close to the Out-of-bag accuracy\n",
    "(0.8672) shown in the training logs.\n",
    "\n",
    "See the **Model Self Evaluation** section below for more evaluation methods."
   ]
  },
  {
   "cell_type": "markdown",
   "metadata": {
    "id": "mHBFtUeElRYz"
   },
   "source": [
    "## Prepare this model for TensorFlow Serving."
   ]
  },
  {
   "cell_type": "markdown",
   "metadata": {
    "id": "JbC4lmgfr5Sm"
   },
   "source": [
    "Export the model to the SavedModel format for later re-use e.g.\n",
    "[TensorFlow Serving](https://www.tensorflow.org/tfx/guide/serving).\n"
   ]
  },
  {
   "cell_type": "code",
   "execution_count": 13,
   "metadata": {
    "execution": {
     "iopub.execute_input": "2021-11-08T12:10:06.751070Z",
     "iopub.status.busy": "2021-11-08T12:10:06.749732Z",
     "iopub.status.idle": "2021-11-08T12:10:07.601927Z",
     "shell.execute_reply": "2021-11-08T12:10:07.601432Z"
    },
    "id": "08YWGr9U2fza"
   },
   "outputs": [
    {
     "name": "stderr",
     "output_type": "stream",
     "text": [
      "2021-11-08 12:10:07.057561: W tensorflow/python/util/util.cc:368] Sets are not currently considered sequences, but this may change in the future, so consider avoiding using them.\n"
     ]
    },
    {
     "name": "stdout",
     "output_type": "stream",
     "text": [
      "INFO:tensorflow:Assets written to: /tmp/my_saved_model/assets\n"
     ]
    },
    {
     "name": "stderr",
     "output_type": "stream",
     "text": [
      "INFO:tensorflow:Assets written to: /tmp/my_saved_model/assets\n"
     ]
    }
   ],
   "source": [
    "model_1.save(\"/tmp/my_saved_model\")"
   ]
  },
  {
   "cell_type": "markdown",
   "metadata": {
    "id": "6-8R02_SXpbq"
   },
   "source": [
    "## Plot the model\n",
    "\n",
    "Plotting a decision tree and following the first branches helps learning about decision forests. In some cases, plotting a model can even be used for debugging.\n",
    "\n",
    "Because of the difference in the way they are trained, some models are more interresting to plan than others. Because of the noise injected during training and the depth of the trees, plotting Random Forest is less informative than plotting a CART or the first tree of a Gradient Boosted Tree.\n",
    "\n",
    "Never the less, let's plot the first tree of our Random Forest model:"
   ]
  },
  {
   "cell_type": "code",
   "execution_count": 14,
   "metadata": {
    "execution": {
     "iopub.execute_input": "2021-11-08T12:10:07.608005Z",
     "iopub.status.busy": "2021-11-08T12:10:07.607384Z",
     "iopub.status.idle": "2021-11-08T12:10:07.619384Z",
     "shell.execute_reply": "2021-11-08T12:10:07.618927Z"
    },
    "id": "KUIxf8N6Yjl0"
   },
   "outputs": [
    {
     "data": {
      "text/html": [
       "\n",
       "<script src=\"https://d3js.org/d3.v6.min.js\"></script>\n",
       "<div id=\"tree_plot_39cd2e03f96f4611b84ec07dd9d5b4c7\"></div>\n",
       "<script>\n",
       "/*\n",
       " * Copyright 2021 Google LLC.\n",
       " * Licensed under the Apache License, Version 2.0 (the \"License\");\n",
       " * you may not use this file except in compliance with the License.\n",
       " * You may obtain a copy of the License at\n",
       " *\n",
       " *     https://www.apache.org/licenses/LICENSE-2.0\n",
       " *\n",
       " * Unless required by applicable law or agreed to in writing, software\n",
       " * distributed under the License is distributed on an \"AS IS\" BASIS,\n",
       " * WITHOUT WARRANTIES OR CONDITIONS OF ANY KIND, either express or implied.\n",
       " * See the License for the specific language governing permissions and\n",
       " * limitations under the License.\n",
       " */\n",
       "\n",
       "/**\n",
       " *  Plotting of decision trees generated by TF-DF.\n",
       " *\n",
       " *  A tree is a recursive structure of node objects.\n",
       " *  A node contains one or more of the following components:\n",
       " *\n",
       " *    - A value: Representing the output of the node. If the node is not a leaf,\n",
       " *      the value is only present for analysis i.e. it is not used for\n",
       " *      predictions.\n",
       " *\n",
       " *    - A condition : For non-leaf nodes, the condition (also known as split)\n",
       " *      defines a binary test to branch to the positive or negative child.\n",
       " *\n",
       " *    - An explanation: Generally a plot showing the relation between the label\n",
       " *      and the condition to give insights about the effect of the condition.\n",
       " *\n",
       " *    - Two children : For non-leaf nodes, the children nodes. The first\n",
       " *      children (i.e. \"node.children[0]\") is the negative children (drawn in\n",
       " *      red). The second children is the positive one (drawn in green).\n",
       " *\n",
       " */\n",
       "\n",
       "/**\n",
       " * Plots a single decision tree into a DOM element.\n",
       " * @param {!options} options Dictionary of configurations.\n",
       " * @param {!tree} raw_tree Recursive tree structure.\n",
       " * @param {string} canvas_id Id of the output dom element.\n",
       " */\n",
       "function display_tree(options, raw_tree, canvas_id) {\n",
       "  console.log(options);\n",
       "\n",
       "  // Determine the node placement.\n",
       "  const tree_struct = d3.tree().nodeSize(\n",
       "      [options.node_y_offset, options.node_x_offset])(d3.hierarchy(raw_tree));\n",
       "\n",
       "  // Boundaries of the node placement.\n",
       "  let x_min = Infinity;\n",
       "  let x_max = -x_min;\n",
       "  let y_min = Infinity;\n",
       "  let y_max = -x_min;\n",
       "\n",
       "  tree_struct.each(d => {\n",
       "    if (d.x > x_max) x_max = d.x;\n",
       "    if (d.x < x_min) x_min = d.x;\n",
       "    if (d.y > y_max) y_max = d.y;\n",
       "    if (d.y < y_min) y_min = d.y;\n",
       "  });\n",
       "\n",
       "  // Size of the plot.\n",
       "  const width = y_max - y_min + options.node_x_size + options.margin * 2;\n",
       "  const height = x_max - x_min + options.node_y_size + options.margin * 2 +\n",
       "      options.node_y_offset - options.node_y_size;\n",
       "\n",
       "  const plot = d3.select(canvas_id);\n",
       "\n",
       "  // Tool tip\n",
       "  options.tooltip = plot.append('div')\n",
       "                        .attr('width', 100)\n",
       "                        .attr('height', 100)\n",
       "                        .style('padding', '4px')\n",
       "                        .style('background', '#fff')\n",
       "                        .style('box-shadow', '4px 4px 0px rgba(0,0,0,0.1)')\n",
       "                        .style('border', '1px solid black')\n",
       "                        .style('font-family', 'sans-serif')\n",
       "                        .style('font-size', options.font_size)\n",
       "                        .style('position', 'absolute')\n",
       "                        .style('z-index', '10')\n",
       "                        .attr('pointer-events', 'none')\n",
       "                        .style('display', 'none');\n",
       "\n",
       "  // Create canvas\n",
       "  const svg = plot.append('svg').attr('width', width).attr('height', height);\n",
       "  const graph =\n",
       "      svg.style('overflow', 'visible')\n",
       "          .append('g')\n",
       "          .attr('font-family', 'sans-serif')\n",
       "          .attr('font-size', options.font_size)\n",
       "          .attr(\n",
       "              'transform',\n",
       "              () => `translate(${options.margin},${\n",
       "                  - x_min + options.node_y_offset / 2 + options.margin})`);\n",
       "\n",
       "  // Plot bounding box.\n",
       "  if (options.show_plot_bounding_box) {\n",
       "    svg.append('rect')\n",
       "        .attr('width', width)\n",
       "        .attr('height', height)\n",
       "        .attr('fill', 'none')\n",
       "        .attr('stroke-width', 1.0)\n",
       "        .attr('stroke', 'black');\n",
       "  }\n",
       "\n",
       "  // Draw the edges.\n",
       "  display_edges(options, graph, tree_struct);\n",
       "\n",
       "  // Draw the nodes.\n",
       "  display_nodes(options, graph, tree_struct);\n",
       "}\n",
       "\n",
       "/**\n",
       " * Draw the nodes of the tree.\n",
       " * @param {!options} options Dictionary of configurations.\n",
       " * @param {!graph} graph D3 search handle containing the graph.\n",
       " * @param {!tree_struct} tree_struct Structure of the tree (node placement,\n",
       " *     data, etc.).\n",
       " */\n",
       "function display_nodes(options, graph, tree_struct) {\n",
       "  const nodes = graph.append('g')\n",
       "                    .selectAll('g')\n",
       "                    .data(tree_struct.descendants())\n",
       "                    .join('g')\n",
       "                    .attr('transform', d => `translate(${d.y},${d.x})`);\n",
       "\n",
       "  nodes.append('rect')\n",
       "      .attr('x', 0.5)\n",
       "      .attr('y', 0.5)\n",
       "      .attr('width', options.node_x_size)\n",
       "      .attr('height', options.node_y_size)\n",
       "      .attr('stroke', 'lightgrey')\n",
       "      .attr('stroke-width', 1)\n",
       "      .attr('fill', 'white')\n",
       "      .attr('y', -options.node_y_size / 2);\n",
       "\n",
       "  // Brackets on the right of condition nodes without children.\n",
       "  non_leaf_node_without_children =\n",
       "      nodes.filter(node => node.data.condition != null && node.children == null)\n",
       "          .append('g')\n",
       "          .attr('transform', `translate(${options.node_x_size},0)`);\n",
       "\n",
       "  non_leaf_node_without_children.append('path')\n",
       "      .attr('d', 'M0,0 C 10,0 0,10 10,10')\n",
       "      .attr('fill', 'none')\n",
       "      .attr('stroke-width', 1.0)\n",
       "      .attr('stroke', '#F00');\n",
       "\n",
       "  non_leaf_node_without_children.append('path')\n",
       "      .attr('d', 'M0,0 C 10,0 0,-10 10,-10')\n",
       "      .attr('fill', 'none')\n",
       "      .attr('stroke-width', 1.0)\n",
       "      .attr('stroke', '#0F0');\n",
       "\n",
       "  const node_content = nodes.append('g').attr(\n",
       "      'transform',\n",
       "      `translate(0,${options.node_padding - options.node_y_size / 2})`);\n",
       "\n",
       "  node_content.append(node => create_node_element(options, node));\n",
       "}\n",
       "\n",
       "/**\n",
       " * Creates the D3 content for a single node.\n",
       " * @param {!options} options Dictionary of configurations.\n",
       " * @param {!node} node Node to draw.\n",
       " * @return {!d3} D3 content.\n",
       " */\n",
       "function create_node_element(options, node) {\n",
       "  // Output accumulator.\n",
       "  let output = {\n",
       "    // Content to draw.\n",
       "    content: d3.create('svg:g'),\n",
       "    // Vertical offset to the next element to draw.\n",
       "    vertical_offset: 0\n",
       "  };\n",
       "\n",
       "  // Conditions.\n",
       "  if (node.data.condition != null) {\n",
       "    display_condition(options, node.data.condition, output);\n",
       "  }\n",
       "\n",
       "  // Values.\n",
       "  if (node.data.value != null) {\n",
       "    display_value(options, node.data.value, output);\n",
       "  }\n",
       "\n",
       "  // Explanations.\n",
       "  if (node.data.explanation != null) {\n",
       "    display_explanation(options, node.data.explanation, output);\n",
       "  }\n",
       "\n",
       "  return output.content.node();\n",
       "}\n",
       "\n",
       "\n",
       "/**\n",
       " * Adds a single line of text inside of a node.\n",
       " * @param {!options} options Dictionary of configurations.\n",
       " * @param {string} text Text to display.\n",
       " * @param {!output} output Output display accumulator.\n",
       " */\n",
       "function display_node_text(options, text, output) {\n",
       "  output.content.append('text')\n",
       "      .attr('x', options.node_padding)\n",
       "      .attr('y', output.vertical_offset)\n",
       "      .attr('alignment-baseline', 'hanging')\n",
       "      .text(text);\n",
       "  output.vertical_offset += 10;\n",
       "}\n",
       "\n",
       "/**\n",
       " * Adds a single line of text inside of a node with a tooltip.\n",
       " * @param {!options} options Dictionary of configurations.\n",
       " * @param {string} text Text to display.\n",
       " * @param {string} tooltip Text in the Tooltip.\n",
       " * @param {!output} output Output display accumulator.\n",
       " */\n",
       "function display_node_text_with_tooltip(options, text, tooltip, output) {\n",
       "  const item = output.content.append('text')\n",
       "                   .attr('x', options.node_padding)\n",
       "                   .attr('alignment-baseline', 'hanging')\n",
       "                   .text(text);\n",
       "\n",
       "  add_tooltip(options, item, () => tooltip);\n",
       "  output.vertical_offset += 10;\n",
       "}\n",
       "\n",
       "/**\n",
       " * Adds a tooltip to a dom element.\n",
       " * @param {!options} options Dictionary of configurations.\n",
       " * @param {!dom} target Dom element to equip with a tooltip.\n",
       " * @param {!func} get_content Generates the html content of the tooltip.\n",
       " */\n",
       "function add_tooltip(options, target, get_content) {\n",
       "  function show(d) {\n",
       "    options.tooltip.style('display', 'block');\n",
       "    options.tooltip.html(get_content());\n",
       "  }\n",
       "\n",
       "  function hide(d) {\n",
       "    options.tooltip.style('display', 'none');\n",
       "  }\n",
       "\n",
       "  function move(d) {\n",
       "    options.tooltip.style('display', 'block');\n",
       "    options.tooltip.style('left', (d.pageX + 5) + 'px');\n",
       "    options.tooltip.style('top', d.pageY + 'px');\n",
       "  }\n",
       "\n",
       "  target.on('mouseover', show);\n",
       "  target.on('mouseout', hide);\n",
       "  target.on('mousemove', move);\n",
       "}\n",
       "\n",
       "/**\n",
       " * Adds a condition inside of a node.\n",
       " * @param {!options} options Dictionary of configurations.\n",
       " * @param {!condition} condition Condition to display.\n",
       " * @param {!output} output Output display accumulator.\n",
       " */\n",
       "function display_condition(options, condition, output) {\n",
       "  threshold_format = d3.format('r');\n",
       "\n",
       "  if (condition.type === 'IS_MISSING') {\n",
       "    display_node_text(options, `${condition.attribute} is missing`, output);\n",
       "    return;\n",
       "  }\n",
       "\n",
       "  if (condition.type === 'IS_TRUE') {\n",
       "    display_node_text(options, `${condition.attribute} is true`, output);\n",
       "    return;\n",
       "  }\n",
       "\n",
       "  if (condition.type === 'NUMERICAL_IS_HIGHER_THAN') {\n",
       "    format = d3.format('r');\n",
       "    display_node_text(\n",
       "        options,\n",
       "        `${condition.attribute} >= ${threshold_format(condition.threshold)}`,\n",
       "        output);\n",
       "    return;\n",
       "  }\n",
       "\n",
       "  if (condition.type === 'CATEGORICAL_IS_IN') {\n",
       "    display_node_text_with_tooltip(\n",
       "        options, `${condition.attribute} in [...]`,\n",
       "        `${condition.attribute} in [${condition.mask}]`, output);\n",
       "    return;\n",
       "  }\n",
       "\n",
       "  if (condition.type === 'CATEGORICAL_SET_CONTAINS') {\n",
       "    display_node_text_with_tooltip(\n",
       "        options, `${condition.attribute} intersect [...]`,\n",
       "        `${condition.attribute} intersect [${condition.mask}]`, output);\n",
       "    return;\n",
       "  }\n",
       "\n",
       "  if (condition.type === 'NUMERICAL_SPARSE_OBLIQUE') {\n",
       "    display_node_text_with_tooltip(\n",
       "        options, `Sparse oblique split...`,\n",
       "        `[${condition.attributes}]*[${condition.weights}]>=${\n",
       "            threshold_format(condition.threshold)}`,\n",
       "        output);\n",
       "    return;\n",
       "  }\n",
       "\n",
       "  display_node_text(\n",
       "      options, `Non supported condition ${condition.type}`, output);\n",
       "}\n",
       "\n",
       "/**\n",
       " * Adds a value inside of a node.\n",
       " * @param {!options} options Dictionary of configurations.\n",
       " * @param {!value} value Value to display.\n",
       " * @param {!output} output Output display accumulator.\n",
       " */\n",
       "function display_value(options, value, output) {\n",
       "  if (value.type === 'PROBABILITY') {\n",
       "    const left_margin = 0;\n",
       "    const right_margin = 50;\n",
       "    const plot_width = options.node_x_size - options.node_padding * 2 -\n",
       "        left_margin - right_margin;\n",
       "\n",
       "    let cusum = Array.from(d3.cumsum(value.distribution));\n",
       "    cusum.unshift(0);\n",
       "    const distribution_plot = output.content.append('g').attr(\n",
       "        'transform', `translate(0,${output.vertical_offset + 0.5})`);\n",
       "\n",
       "    distribution_plot.selectAll('rect')\n",
       "        .data(value.distribution)\n",
       "        .join('rect')\n",
       "        .attr('height', 10)\n",
       "        .attr(\n",
       "            'x',\n",
       "            (d, i) =>\n",
       "                (cusum[i] * plot_width + left_margin + options.node_padding))\n",
       "        .attr('width', (d, i) => d * plot_width)\n",
       "        .style('fill', (d, i) => d3.schemeSet1[i]);\n",
       "\n",
       "    const num_examples =\n",
       "        output.content.append('g')\n",
       "            .attr('transform', `translate(0,${output.vertical_offset})`)\n",
       "            .append('text')\n",
       "            .attr('x', options.node_x_size - options.node_padding)\n",
       "            .attr('alignment-baseline', 'hanging')\n",
       "            .attr('text-anchor', 'end')\n",
       "            .text(`(${value.num_examples})`);\n",
       "\n",
       "    const distribution_details = d3.create('ul');\n",
       "    distribution_details.selectAll('li')\n",
       "        .data(value.distribution)\n",
       "        .join('li')\n",
       "        .append('span')\n",
       "        .text(\n",
       "            (d, i) =>\n",
       "                'class ' + i + ': ' + d3.format('.3%')(value.distribution[i]));\n",
       "\n",
       "    add_tooltip(options, distribution_plot, () => distribution_details.html());\n",
       "    add_tooltip(options, num_examples, () => 'Number of examples');\n",
       "\n",
       "    output.vertical_offset += 10;\n",
       "    return;\n",
       "  }\n",
       "\n",
       "  if (value.type === 'REGRESSION') {\n",
       "    display_node_text(\n",
       "        options,\n",
       "        'value: ' + d3.format('r')(value.value) + ` (` +\n",
       "            d3.format('.6')(value.num_examples) + `)`,\n",
       "        output);\n",
       "    return;\n",
       "  }\n",
       "\n",
       "  display_node_text(options, `Non supported value ${value.type}`, output);\n",
       "}\n",
       "\n",
       "/**\n",
       " * Adds an explanation inside of a node.\n",
       " * @param {!options} options Dictionary of configurations.\n",
       " * @param {!explanation} explanation Explanation to display.\n",
       " * @param {!output} output Output display accumulator.\n",
       " */\n",
       "function display_explanation(options, explanation, output) {\n",
       "  // Margin before the explanation.\n",
       "  output.vertical_offset += 10;\n",
       "\n",
       "  display_node_text(\n",
       "      options, `Non supported explanation ${explanation.type}`, output);\n",
       "}\n",
       "\n",
       "\n",
       "/**\n",
       " * Draw the edges of the tree.\n",
       " * @param {!options} options Dictionary of configurations.\n",
       " * @param {!graph} graph D3 search handle containing the graph.\n",
       " * @param {!tree_struct} tree_struct Structure of the tree (node placement,\n",
       " *     data, etc.).\n",
       " */\n",
       "function display_edges(options, graph, tree_struct) {\n",
       "  // Draw an edge between a parent and a child node with a bezier.\n",
       "  function draw_single_edge(d) {\n",
       "    return 'M' + (d.source.y + options.node_x_size) + ',' + d.source.x + ' C' +\n",
       "        (d.source.y + options.node_x_size + options.edge_rounding) + ',' +\n",
       "        d.source.x + ' ' + (d.target.y - options.edge_rounding) + ',' +\n",
       "        d.target.x + ' ' + d.target.y + ',' + d.target.x;\n",
       "  }\n",
       "\n",
       "  graph.append('g')\n",
       "      .attr('fill', 'none')\n",
       "      .attr('stroke-width', 1.2)\n",
       "      .selectAll('path')\n",
       "      .data(tree_struct.links())\n",
       "      .join('path')\n",
       "      .attr('d', draw_single_edge)\n",
       "      .attr(\n",
       "          'stroke', d => (d.target === d.source.children[0]) ? '#0F0' : '#F00');\n",
       "}\n",
       "\n",
       "display_tree({\"margin\": 10, \"node_x_size\": 160, \"node_y_size\": 28, \"node_x_offset\": 180, \"node_y_offset\": 33, \"font_size\": 10, \"edge_rounding\": 20, \"node_padding\": 2, \"show_plot_bounding_box\": false}, {\"value\": {\"type\": \"PROBABILITY\", \"distribution\": [0.42857142857142855, 0.3492063492063492, 0.2222222222222222], \"num_examples\": 252.0}, \"condition\": {\"type\": \"NUMERICAL_IS_HIGHER_THAN\", \"attribute\": \"bill_length_mm\", \"threshold\": 41.650001525878906}, \"children\": [{\"value\": {\"type\": \"PROBABILITY\", \"distribution\": [0.07096774193548387, 0.567741935483871, 0.36129032258064514], \"num_examples\": 155.0}, \"condition\": {\"type\": \"NUMERICAL_IS_HIGHER_THAN\", \"attribute\": \"body_mass_g\", \"threshold\": 4175.0}, \"children\": [{\"value\": {\"type\": \"PROBABILITY\", \"distribution\": [0.03225806451612903, 0.9354838709677419, 0.03225806451612903], \"num_examples\": 93.0}, \"condition\": {\"type\": \"NUMERICAL_IS_HIGHER_THAN\", \"attribute\": \"bill_depth_mm\", \"threshold\": 18.450000762939453}, \"children\": [{\"value\": {\"type\": \"PROBABILITY\", \"distribution\": [0.5, 0.0, 0.5], \"num_examples\": 6.0}}, {\"value\": {\"type\": \"PROBABILITY\", \"distribution\": [0.0, 1.0, 0.0], \"num_examples\": 87.0}}]}, {\"value\": {\"type\": \"PROBABILITY\", \"distribution\": [0.12903225806451613, 0.016129032258064516, 0.8548387096774194], \"num_examples\": 62.0}, \"condition\": {\"type\": \"NUMERICAL_IS_HIGHER_THAN\", \"attribute\": \"bill_length_mm\", \"threshold\": 44.650001525878906}, \"children\": [{\"value\": {\"type\": \"PROBABILITY\", \"distribution\": [0.0, 0.0, 1.0], \"num_examples\": 47.0}}, {\"value\": {\"type\": \"PROBABILITY\", \"distribution\": [0.5333333333333333, 0.06666666666666667, 0.4], \"num_examples\": 15.0}, \"condition\": {\"type\": \"NUMERICAL_IS_HIGHER_THAN\", \"attribute\": \"bill_depth_mm\", \"threshold\": 17.649999618530273}}]}]}, {\"value\": {\"type\": \"PROBABILITY\", \"distribution\": [1.0, 0.0, 0.0], \"num_examples\": 97.0}}]}, \"#tree_plot_39cd2e03f96f4611b84ec07dd9d5b4c7\")\n",
       "</script>\n"
      ],
      "text/plain": [
       "<IPython.core.display.HTML object>"
      ]
     },
     "execution_count": 14,
     "metadata": {},
     "output_type": "execute_result"
    }
   ],
   "source": [
    "tfdf.model_plotter.plot_model_in_colab(model_1, tree_idx=0, max_depth=3)"
   ]
  },
  {
   "cell_type": "markdown",
   "metadata": {
    "id": "cPcL_hDnY7Zy"
   },
   "source": [
    "The root node on the left contains the first condition (`bill_depth_mm >= 16.55`), number of examples (240) and label distribution (the red-blue-green bar).\n",
    "\n",
    "Examples that evaluates true to `bill_depth_mm >= 16.55` are branched to the green path. The other ones are branched to the red path.\n",
    "\n",
    "The deeper the node, the more `pure` they become i.e. the label distribution is biased toward a subset of classes. \n",
    "\n",
    "**Note:** Over the mouse on top of the plot for details."
   ]
  },
  {
   "cell_type": "markdown",
   "metadata": {
    "id": "-ob3ovQ2seVY"
   },
   "source": [
    "## Model tructure and feature importance\n",
    "\n",
    "The overall structure of the model is show with `.summary()`. You will see:\n",
    "\n",
    "-   **Type**: The learning algorithm used to train the model (`Random Forest` in\n",
    "    our case).\n",
    "-   **Task**: The problem solved by the model (`Classification` in our case).\n",
    "-   **Input Features**: The input features of the model.\n",
    "-   **Variable Importance**: Different measures of the importance of each\n",
    "    feature for the model.\n",
    "-   **Out-of-bag evaluation**: The out-of-bag evaluation of the model. This is a\n",
    "    cheap and efficient alternative to cross-validation.\n",
    "-   **Number of {trees, nodes} and other metrics**: Statistics about the\n",
    "    structure of the decisions forests.\n",
    "\n",
    "**Remark:** The summary's content depends on the learning algorithm (e.g.\n",
    "Out-of-bag is only available for Random Forest) and the hyper-parameters (e.g.\n",
    "the *mean-decrease-in-accuracy* variable importance can be disabled in the\n",
    "hyper-parameters)."
   ]
  },
  {
   "cell_type": "code",
   "execution_count": 15,
   "metadata": {
    "execution": {
     "iopub.execute_input": "2021-11-08T12:10:07.624601Z",
     "iopub.status.busy": "2021-11-08T12:10:07.623983Z",
     "iopub.status.idle": "2021-11-08T12:10:07.629551Z",
     "shell.execute_reply": "2021-11-08T12:10:07.629115Z"
    },
    "id": "kzXME28Lq7Il"
   },
   "outputs": [
    {
     "data": {
      "application/javascript": [
       "google.colab.output.setIframeHeight(0, true, {maxHeight: 300})"
      ],
      "text/plain": [
       "<IPython.core.display.Javascript object>"
      ]
     },
     "metadata": {},
     "output_type": "display_data"
    },
    {
     "name": "stdout",
     "output_type": "stream",
     "text": [
      "Model: \"random_forest_model\"\n",
      "_________________________________________________________________\n",
      " Layer (type)                Output Shape              Param #   \n",
      "=================================================================\n",
      "=================================================================\n",
      "Total params: 1\n",
      "Trainable params: 0\n",
      "Non-trainable params: 1\n",
      "_________________________________________________________________\n",
      "Type: \"RANDOM_FOREST\"\n",
      "Task: CLASSIFICATION\n",
      "Label: \"__LABEL\"\n",
      "\n",
      "Input Features (7):\n",
      "\tbill_depth_mm\n",
      "\tbill_length_mm\n",
      "\tbody_mass_g\n",
      "\tflipper_length_mm\n",
      "\tisland\n",
      "\tsex\n",
      "\tyear\n",
      "\n",
      "No weights\n",
      "\n",
      "Variable Importance: MEAN_MIN_DEPTH:\n",
      "    1.           \"__LABEL\"  3.318694 ################\n",
      "    2.              \"year\"  3.297927 ###############\n",
      "    3.               \"sex\"  3.267547 ###############\n",
      "    4.       \"body_mass_g\"  2.658307 ##########\n",
      "    5.     \"bill_depth_mm\"  2.213272 #######\n",
      "    6.            \"island\"  2.153127 #######\n",
      "    7.    \"bill_length_mm\"  1.515876 ##\n",
      "    8. \"flipper_length_mm\"  1.217305 \n",
      "\n",
      "Variable Importance: NUM_AS_ROOT:\n",
      "    1. \"flipper_length_mm\" 161.000000 ################\n",
      "    2.    \"bill_length_mm\" 62.000000 #####\n",
      "    3.     \"bill_depth_mm\" 57.000000 #####\n",
      "    4.       \"body_mass_g\" 12.000000 \n",
      "    5.            \"island\"  8.000000 \n",
      "\n",
      "Variable Importance: NUM_NODES:\n",
      "    1.    \"bill_length_mm\" 682.000000 ################\n",
      "    2.     \"bill_depth_mm\" 399.000000 #########\n",
      "    3. \"flipper_length_mm\" 383.000000 ########\n",
      "    4.       \"body_mass_g\" 315.000000 #######\n",
      "    5.            \"island\" 298.000000 ######\n",
      "    6.               \"sex\" 34.000000 \n",
      "    7.              \"year\" 18.000000 \n",
      "\n",
      "Variable Importance: SUM_SCORE:\n",
      "    1. \"flipper_length_mm\" 26046.340791 ################\n",
      "    2.    \"bill_length_mm\" 24253.203630 ##############\n",
      "    3.     \"bill_depth_mm\" 11054.011817 ######\n",
      "    4.            \"island\" 10713.713617 ######\n",
      "    5.       \"body_mass_g\" 4117.938353 ##\n",
      "    6.               \"sex\" 290.820204 \n",
      "    7.              \"year\" 39.211544 \n",
      "\n",
      "\n",
      "\n",
      "Winner take all: true\n",
      "Out-of-bag evaluation: accuracy:0.972222 logloss:0.0967387\n",
      "Number of trees: 300\n",
      "Total number of nodes: 4558\n",
      "\n",
      "Number of nodes by tree:\n",
      "Count: 300 Average: 15.1933 StdDev: 3.2623\n",
      "Min: 9 Max: 29 Ignored: 0\n",
      "----------------------------------------------\n",
      "[  9, 10)  6   2.00%   2.00% #\n",
      "[ 10, 11)  0   0.00%   2.00%\n",
      "[ 11, 12) 38  12.67%  14.67% #####\n",
      "[ 12, 13)  0   0.00%  14.67%\n",
      "[ 13, 14) 71  23.67%  38.33% #########\n",
      "[ 14, 15)  0   0.00%  38.33%\n",
      "[ 15, 16) 83  27.67%  66.00% ##########\n",
      "[ 16, 17)  0   0.00%  66.00%\n",
      "[ 17, 18) 52  17.33%  83.33% ######\n",
      "[ 18, 19)  0   0.00%  83.33%\n",
      "[ 19, 20) 27   9.00%  92.33% ###\n",
      "[ 20, 21)  0   0.00%  92.33%\n",
      "[ 21, 22) 12   4.00%  96.33% #\n",
      "[ 22, 23)  0   0.00%  96.33%\n",
      "[ 23, 24)  6   2.00%  98.33% #\n",
      "[ 24, 25)  0   0.00%  98.33%\n",
      "[ 25, 26)  3   1.00%  99.33%\n",
      "[ 26, 27)  0   0.00%  99.33%\n",
      "[ 27, 28)  1   0.33%  99.67%\n",
      "[ 28, 29]  1   0.33% 100.00%\n",
      "\n",
      "Depth by leafs:\n",
      "Count: 2429 Average: 3.39234 StdDev: 1.08569\n",
      "Min: 1 Max: 7 Ignored: 0\n",
      "----------------------------------------------\n",
      "[ 1, 2)  26   1.07%   1.07%\n",
      "[ 2, 3) 557  22.93%  24.00% #######\n",
      "[ 3, 4) 716  29.48%  53.48% #########\n",
      "[ 4, 5) 767  31.58%  85.06% ##########\n",
      "[ 5, 6) 300  12.35%  97.41% ####\n",
      "[ 6, 7)  57   2.35%  99.75% #\n",
      "[ 7, 7]   6   0.25% 100.00%\n",
      "\n",
      "Number of training obs by leaf:\n",
      "Count: 2429 Average: 31.1239 StdDev: 32.4208\n",
      "Min: 5 Max: 115 Ignored: 0\n",
      "----------------------------------------------\n",
      "[   5,  10) 1193  49.11%  49.11% ##########\n",
      "[  10,  16)  137   5.64%  54.76% #\n",
      "[  16,  21)   70   2.88%  57.64% #\n",
      "[  21,  27)   69   2.84%  60.48% #\n",
      "[  27,  32)   72   2.96%  63.44% #\n",
      "[  32,  38)   86   3.54%  66.98% #\n",
      "[  38,  43)   67   2.76%  69.74% #\n",
      "[  43,  49)   79   3.25%  72.99% #\n",
      "[  49,  54)   54   2.22%  75.22%\n",
      "[  54,  60)   43   1.77%  76.99%\n",
      "[  60,  66)   43   1.77%  78.76%\n",
      "[  66,  71)   39   1.61%  80.36%\n",
      "[  71,  77)   62   2.55%  82.91% #\n",
      "[  77,  82)   63   2.59%  85.51% #\n",
      "[  82,  88)  102   4.20%  89.71% #\n",
      "[  88,  93)   95   3.91%  93.62% #\n",
      "[  93,  99)   99   4.08%  97.69% #\n",
      "[  99, 104)   37   1.52%  99.22%\n",
      "[ 104, 110)   16   0.66%  99.88%\n",
      "[ 110, 115]    3   0.12% 100.00%\n",
      "\n",
      "Attribute in nodes:\n",
      "\t682 : bill_length_mm [NUMERICAL]\n",
      "\t399 : bill_depth_mm [NUMERICAL]\n",
      "\t383 : flipper_length_mm [NUMERICAL]\n",
      "\t315 : body_mass_g [NUMERICAL]\n",
      "\t298 : island [CATEGORICAL]\n",
      "\t34 : sex [CATEGORICAL]\n",
      "\t18 : year [NUMERICAL]\n",
      "\n",
      "Attribute in nodes with depth <= 0:\n",
      "\t161 : flipper_length_mm [NUMERICAL]\n",
      "\t62 : bill_length_mm [NUMERICAL]\n",
      "\t57 : bill_depth_mm [NUMERICAL]\n",
      "\t12 : body_mass_g [NUMERICAL]\n",
      "\t8 : island [CATEGORICAL]\n",
      "\n",
      "Attribute in nodes with depth <= 1:\n",
      "\t236 : flipper_length_mm [NUMERICAL]\n",
      "\t224 : bill_length_mm [NUMERICAL]\n",
      "\t175 : bill_depth_mm [NUMERICAL]\n",
      "\t169 : island [CATEGORICAL]\n",
      "\t70 : body_mass_g [NUMERICAL]\n",
      "\n",
      "Attribute in nodes with depth <= 2:\n",
      "\t401 : bill_length_mm [NUMERICAL]\n",
      "\t319 : flipper_length_mm [NUMERICAL]\n",
      "\t290 : bill_depth_mm [NUMERICAL]\n",
      "\t261 : island [CATEGORICAL]\n",
      "\t174 : body_mass_g [NUMERICAL]\n",
      "\t14 : sex [CATEGORICAL]\n",
      "\t6 : year [NUMERICAL]\n",
      "\n",
      "Attribute in nodes with depth <= 3:\n",
      "\t593 : bill_length_mm [NUMERICAL]\n",
      "\t371 : bill_depth_mm [NUMERICAL]\n",
      "\t365 : flipper_length_mm [NUMERICAL]\n",
      "\t290 : island [CATEGORICAL]\n",
      "\t273 : body_mass_g [NUMERICAL]\n",
      "\t30 : sex [CATEGORICAL]\n",
      "\t9 : year [NUMERICAL]\n",
      "\n",
      "Attribute in nodes with depth <= 5:\n",
      "\t681 : bill_length_mm [NUMERICAL]\n",
      "\t399 : bill_depth_mm [NUMERICAL]\n",
      "\t383 : flipper_length_mm [NUMERICAL]\n",
      "\t314 : body_mass_g [NUMERICAL]\n",
      "\t298 : island [CATEGORICAL]\n",
      "\t33 : sex [CATEGORICAL]\n",
      "\t18 : year [NUMERICAL]\n",
      "\n",
      "Condition type in nodes:\n",
      "\t1797 : HigherCondition\n",
      "\t332 : ContainsBitmapCondition\n",
      "Condition type in nodes with depth <= 0:\n",
      "\t292 : HigherCondition\n",
      "\t8 : ContainsBitmapCondition\n",
      "Condition type in nodes with depth <= 1:\n",
      "\t705 : HigherCondition\n",
      "\t169 : ContainsBitmapCondition\n",
      "Condition type in nodes with depth <= 2:\n",
      "\t1190 : HigherCondition\n",
      "\t275 : ContainsBitmapCondition\n",
      "Condition type in nodes with depth <= 3:\n",
      "\t1611 : HigherCondition\n",
      "\t320 : ContainsBitmapCondition\n",
      "Condition type in nodes with depth <= 5:\n",
      "\t1795 : HigherCondition\n",
      "\t331 : ContainsBitmapCondition\n",
      "Node format: NOT_SET\n",
      "\n",
      "Training OOB:\n",
      "\ttrees: 1, Out-of-bag evaluation: accuracy:0.922222 logloss:2.8034\n",
      "\ttrees: 11, Out-of-bag evaluation: accuracy:0.960159 logloss:0.355553\n",
      "\ttrees: 21, Out-of-bag evaluation: accuracy:0.960317 logloss:0.360011\n",
      "\ttrees: 31, Out-of-bag evaluation: accuracy:0.968254 logloss:0.355906\n",
      "\ttrees: 41, Out-of-bag evaluation: accuracy:0.972222 logloss:0.354263\n",
      "\ttrees: 51, Out-of-bag evaluation: accuracy:0.980159 logloss:0.355675\n",
      "\ttrees: 61, Out-of-bag evaluation: accuracy:0.97619 logloss:0.354058\n",
      "\ttrees: 71, Out-of-bag evaluation: accuracy:0.972222 logloss:0.355711\n",
      "\ttrees: 81, Out-of-bag evaluation: accuracy:0.980159 logloss:0.356747\n",
      "\ttrees: 91, Out-of-bag evaluation: accuracy:0.97619 logloss:0.225018\n",
      "\ttrees: 101, Out-of-bag evaluation: accuracy:0.972222 logloss:0.221976\n",
      "\ttrees: 111, Out-of-bag evaluation: accuracy:0.972222 logloss:0.223525\n",
      "\ttrees: 121, Out-of-bag evaluation: accuracy:0.972222 logloss:0.095911\n",
      "\ttrees: 131, Out-of-bag evaluation: accuracy:0.968254 logloss:0.0970941\n",
      "\ttrees: 141, Out-of-bag evaluation: accuracy:0.972222 logloss:0.0962378\n",
      "\ttrees: 151, Out-of-bag evaluation: accuracy:0.972222 logloss:0.0952778\n",
      "\ttrees: 161, Out-of-bag evaluation: accuracy:0.97619 logloss:0.0953929\n",
      "\ttrees: 171, Out-of-bag evaluation: accuracy:0.972222 logloss:0.0966406\n",
      "\ttrees: 181, Out-of-bag evaluation: accuracy:0.97619 logloss:0.096802\n",
      "\ttrees: 191, Out-of-bag evaluation: accuracy:0.972222 logloss:0.0952902\n",
      "\ttrees: 201, Out-of-bag evaluation: accuracy:0.972222 logloss:0.0926996\n",
      "\ttrees: 211, Out-of-bag evaluation: accuracy:0.97619 logloss:0.0923645\n",
      "\ttrees: 221, Out-of-bag evaluation: accuracy:0.97619 logloss:0.0928984\n",
      "\ttrees: 231, Out-of-bag evaluation: accuracy:0.97619 logloss:0.0938896\n",
      "\ttrees: 241, Out-of-bag evaluation: accuracy:0.972222 logloss:0.0947512\n",
      "\ttrees: 251, Out-of-bag evaluation: accuracy:0.972222 logloss:0.0952597\n",
      "\ttrees: 261, Out-of-bag evaluation: accuracy:0.972222 logloss:0.0948972\n",
      "\ttrees: 271, Out-of-bag evaluation: accuracy:0.968254 logloss:0.096022\n",
      "\ttrees: 281, Out-of-bag evaluation: accuracy:0.968254 logloss:0.0950604\n",
      "\ttrees: 291, Out-of-bag evaluation: accuracy:0.972222 logloss:0.0962781\n",
      "\ttrees: 300, Out-of-bag evaluation: accuracy:0.972222 logloss:0.0967387\n",
      "\n"
     ]
    }
   ],
   "source": [
    "%set_cell_height 300\n",
    "model_1.summary()"
   ]
  },
  {
   "cell_type": "markdown",
   "metadata": {
    "id": "d4ApRpUm02zU"
   },
   "source": [
    "The information in ``summary`` are all available programatically using the model inspector:"
   ]
  },
  {
   "cell_type": "code",
   "execution_count": 16,
   "metadata": {
    "execution": {
     "iopub.execute_input": "2021-11-08T12:10:07.633799Z",
     "iopub.status.busy": "2021-11-08T12:10:07.633135Z",
     "iopub.status.idle": "2021-11-08T12:10:07.637618Z",
     "shell.execute_reply": "2021-11-08T12:10:07.637184Z"
    },
    "id": "G3xuB3jN1Cww"
   },
   "outputs": [
    {
     "data": {
      "text/plain": [
       "[\"bill_depth_mm\" (1; #0),\n",
       " \"bill_length_mm\" (1; #1),\n",
       " \"body_mass_g\" (1; #2),\n",
       " \"flipper_length_mm\" (1; #3),\n",
       " \"island\" (4; #4),\n",
       " \"sex\" (4; #5),\n",
       " \"year\" (1; #6)]"
      ]
     },
     "execution_count": 16,
     "metadata": {},
     "output_type": "execute_result"
    }
   ],
   "source": [
    "# The input features\n",
    "model_1.make_inspector().features()"
   ]
  },
  {
   "cell_type": "code",
   "execution_count": 17,
   "metadata": {
    "execution": {
     "iopub.execute_input": "2021-11-08T12:10:07.641447Z",
     "iopub.status.busy": "2021-11-08T12:10:07.640822Z",
     "iopub.status.idle": "2021-11-08T12:10:07.646212Z",
     "shell.execute_reply": "2021-11-08T12:10:07.645782Z"
    },
    "id": "BZ2RBbU51L6s"
   },
   "outputs": [
    {
     "data": {
      "text/plain": [
       "{'NUM_NODES': [(\"bill_length_mm\" (1; #1), 682.0),\n",
       "  (\"bill_depth_mm\" (1; #0), 399.0),\n",
       "  (\"flipper_length_mm\" (1; #3), 383.0),\n",
       "  (\"body_mass_g\" (1; #2), 315.0),\n",
       "  (\"island\" (4; #4), 298.0),\n",
       "  (\"sex\" (4; #5), 34.0),\n",
       "  (\"year\" (1; #6), 18.0)],\n",
       " 'SUM_SCORE': [(\"flipper_length_mm\" (1; #3), 26046.34079089854),\n",
       "  (\"bill_length_mm\" (1; #1), 24253.20363048464),\n",
       "  (\"bill_depth_mm\" (1; #0), 11054.011817359366),\n",
       "  (\"island\" (4; #4), 10713.713617041707),\n",
       "  (\"body_mass_g\" (1; #2), 4117.938353393227),\n",
       "  (\"sex\" (4; #5), 290.82020355574787),\n",
       "  (\"year\" (1; #6), 39.21154398471117)],\n",
       " 'NUM_AS_ROOT': [(\"flipper_length_mm\" (1; #3), 161.0),\n",
       "  (\"bill_length_mm\" (1; #1), 62.0),\n",
       "  (\"bill_depth_mm\" (1; #0), 57.0),\n",
       "  (\"body_mass_g\" (1; #2), 12.0),\n",
       "  (\"island\" (4; #4), 8.0)],\n",
       " 'MEAN_MIN_DEPTH': [(\"__LABEL\" (4; #7), 3.318693759943752),\n",
       "  (\"year\" (1; #6), 3.2979265641765556),\n",
       "  (\"sex\" (4; #5), 3.2675474155474094),\n",
       "  (\"body_mass_g\" (1; #2), 2.6583072575572553),\n",
       "  (\"bill_depth_mm\" (1; #0), 2.213271913271913),\n",
       "  (\"island\" (4; #4), 2.153126937876938),\n",
       "  (\"bill_length_mm\" (1; #1), 1.5158758371258376),\n",
       "  (\"flipper_length_mm\" (1; #3), 1.2173052873052872)]}"
      ]
     },
     "execution_count": 17,
     "metadata": {},
     "output_type": "execute_result"
    }
   ],
   "source": [
    "# The feature importances\n",
    "model_1.make_inspector().variable_importances()"
   ]
  },
  {
   "cell_type": "markdown",
   "metadata": {
    "id": "0zvyRJVk1aEk"
   },
   "source": [
    "The content of the summary and the inspector depends on the learning algorithm (`tfdf.keras.RandomForestModel` in this case) and its hyper-parameters (e.g. `compute_oob_variable_importances=True` will trigger the computation of Out-of-bag variable importances for the Random Forest learner)."
   ]
  },
  {
   "cell_type": "markdown",
   "metadata": {
    "id": "tFVmrHtWXYKY"
   },
   "source": [
    "## Model Self Evaluation\n",
    "\n",
    "During training TFDF models can self evaluate even if no validation dataset is provided to the `fit()` method. The exact logic depends on the model. For example, Random Forest will use Out-of-bag evaluation while Gradient Boosted Trees will use internal train-validation.\n",
    "\n",
    "**Note:** While this evaluation is  computed during training, it is NOT computed on the training dataset and can be used as a low quality evaluation.\n",
    "\n",
    "The model self evaluation is available with the inspector's `evaluation()`:"
   ]
  },
  {
   "cell_type": "code",
   "execution_count": 18,
   "metadata": {
    "execution": {
     "iopub.execute_input": "2021-11-08T12:10:07.650347Z",
     "iopub.status.busy": "2021-11-08T12:10:07.649748Z",
     "iopub.status.idle": "2021-11-08T12:10:07.653738Z",
     "shell.execute_reply": "2021-11-08T12:10:07.653263Z"
    },
    "id": "BZPzyIMmYmsI"
   },
   "outputs": [
    {
     "data": {
      "text/plain": [
       "Evaluation(num_examples=252, accuracy=0.9722222222222222, loss=0.09673874925762888, rmse=None, ndcg=None, aucs=None)"
      ]
     },
     "execution_count": 18,
     "metadata": {},
     "output_type": "execute_result"
    }
   ],
   "source": [
    "model_1.make_inspector().evaluation()"
   ]
  },
  {
   "cell_type": "markdown",
   "metadata": {
    "id": "vBSz-jE0Qss_"
   },
   "source": [
    "## Plotting the training logs\n",
    "\n",
    "The training logs show the quality of the model (e.g. accuracy evaluated on the out-of-bag or validation dataset) according to the number of trees in the model. These logs are helpful to study the balance between model size and model quality.\n",
    "\n",
    "The logs are available in multiple ways:\n",
    "\n",
    "1. Displayed in during training if `fit()` is wrapped in `with sys_pipes():` (see example above).\n",
    "1. At the end of the model summary i.e. `model.summary()` (see example above).\n",
    "1. Programmatically, using the model inspector i.e. `model.make_inspector().training_logs()`.\n",
    "1. Using [TensorBoard](https://www.tensorflow.org/tensorboard)\n",
    "\n",
    "Let's try the options 2 and 3:\n"
   ]
  },
  {
   "cell_type": "code",
   "execution_count": 19,
   "metadata": {
    "execution": {
     "iopub.execute_input": "2021-11-08T12:10:07.658329Z",
     "iopub.status.busy": "2021-11-08T12:10:07.657679Z",
     "iopub.status.idle": "2021-11-08T12:10:07.663230Z",
     "shell.execute_reply": "2021-11-08T12:10:07.663699Z"
    },
    "id": "ZbRk7xvpTKQG"
   },
   "outputs": [
    {
     "data": {
      "application/javascript": [
       "google.colab.output.setIframeHeight(0, true, {maxHeight: 150})"
      ],
      "text/plain": [
       "<IPython.core.display.Javascript object>"
      ]
     },
     "metadata": {},
     "output_type": "display_data"
    },
    {
     "data": {
      "text/plain": [
       "[TrainLog(num_trees=1, evaluation=Evaluation(num_examples=90, accuracy=0.9222222222222223, loss=2.8033951229519314, rmse=None, ndcg=None, aucs=None)),\n",
       " TrainLog(num_trees=11, evaluation=Evaluation(num_examples=251, accuracy=0.9601593625498008, loss=0.35555349201320174, rmse=None, ndcg=None, aucs=None)),\n",
       " TrainLog(num_trees=21, evaluation=Evaluation(num_examples=252, accuracy=0.9603174603174603, loss=0.36001140491238665, rmse=None, ndcg=None, aucs=None)),\n",
       " TrainLog(num_trees=31, evaluation=Evaluation(num_examples=252, accuracy=0.9682539682539683, loss=0.35590612713897984, rmse=None, ndcg=None, aucs=None)),\n",
       " TrainLog(num_trees=41, evaluation=Evaluation(num_examples=252, accuracy=0.9722222222222222, loss=0.3542631175664682, rmse=None, ndcg=None, aucs=None)),\n",
       " TrainLog(num_trees=51, evaluation=Evaluation(num_examples=252, accuracy=0.9801587301587301, loss=0.3556750144602524, rmse=None, ndcg=None, aucs=None)),\n",
       " TrainLog(num_trees=61, evaluation=Evaluation(num_examples=252, accuracy=0.9761904761904762, loss=0.35405768100763596, rmse=None, ndcg=None, aucs=None)),\n",
       " TrainLog(num_trees=71, evaluation=Evaluation(num_examples=252, accuracy=0.9722222222222222, loss=0.3557109447003948, rmse=None, ndcg=None, aucs=None)),\n",
       " TrainLog(num_trees=81, evaluation=Evaluation(num_examples=252, accuracy=0.9801587301587301, loss=0.3567472372411026, rmse=None, ndcg=None, aucs=None)),\n",
       " TrainLog(num_trees=91, evaluation=Evaluation(num_examples=252, accuracy=0.9761904761904762, loss=0.22501842999121263, rmse=None, ndcg=None, aucs=None)),\n",
       " TrainLog(num_trees=101, evaluation=Evaluation(num_examples=252, accuracy=0.9722222222222222, loss=0.22197619985256875, rmse=None, ndcg=None, aucs=None)),\n",
       " TrainLog(num_trees=111, evaluation=Evaluation(num_examples=252, accuracy=0.9722222222222222, loss=0.22352461745252922, rmse=None, ndcg=None, aucs=None)),\n",
       " TrainLog(num_trees=121, evaluation=Evaluation(num_examples=252, accuracy=0.9722222222222222, loss=0.0959110420552038, rmse=None, ndcg=None, aucs=None)),\n",
       " TrainLog(num_trees=131, evaluation=Evaluation(num_examples=252, accuracy=0.9682539682539683, loss=0.09709411316240828, rmse=None, ndcg=None, aucs=None)),\n",
       " TrainLog(num_trees=141, evaluation=Evaluation(num_examples=252, accuracy=0.9722222222222222, loss=0.09623779574896962, rmse=None, ndcg=None, aucs=None)),\n",
       " TrainLog(num_trees=151, evaluation=Evaluation(num_examples=252, accuracy=0.9722222222222222, loss=0.0952777798871495, rmse=None, ndcg=None, aucs=None)),\n",
       " TrainLog(num_trees=161, evaluation=Evaluation(num_examples=252, accuracy=0.9761904761904762, loss=0.09539292345473928, rmse=None, ndcg=None, aucs=None)),\n",
       " TrainLog(num_trees=171, evaluation=Evaluation(num_examples=252, accuracy=0.9722222222222222, loss=0.0966405748567056, rmse=None, ndcg=None, aucs=None)),\n",
       " TrainLog(num_trees=181, evaluation=Evaluation(num_examples=252, accuracy=0.9761904761904762, loss=0.09680202871280176, rmse=None, ndcg=None, aucs=None)),\n",
       " TrainLog(num_trees=191, evaluation=Evaluation(num_examples=252, accuracy=0.9722222222222222, loss=0.09529015259994637, rmse=None, ndcg=None, aucs=None)),\n",
       " TrainLog(num_trees=201, evaluation=Evaluation(num_examples=252, accuracy=0.9722222222222222, loss=0.09269960071625453, rmse=None, ndcg=None, aucs=None)),\n",
       " TrainLog(num_trees=211, evaluation=Evaluation(num_examples=252, accuracy=0.9761904761904762, loss=0.09236453164605395, rmse=None, ndcg=None, aucs=None)),\n",
       " TrainLog(num_trees=221, evaluation=Evaluation(num_examples=252, accuracy=0.9761904761904762, loss=0.09289838398791968, rmse=None, ndcg=None, aucs=None)),\n",
       " TrainLog(num_trees=231, evaluation=Evaluation(num_examples=252, accuracy=0.9761904761904762, loss=0.09388963293491139, rmse=None, ndcg=None, aucs=None)),\n",
       " TrainLog(num_trees=241, evaluation=Evaluation(num_examples=252, accuracy=0.9722222222222222, loss=0.09475124760028271, rmse=None, ndcg=None, aucs=None)),\n",
       " TrainLog(num_trees=251, evaluation=Evaluation(num_examples=252, accuracy=0.9722222222222222, loss=0.09525974302197851, rmse=None, ndcg=None, aucs=None)),\n",
       " TrainLog(num_trees=261, evaluation=Evaluation(num_examples=252, accuracy=0.9722222222222222, loss=0.09489722432391275, rmse=None, ndcg=None, aucs=None)),\n",
       " TrainLog(num_trees=271, evaluation=Evaluation(num_examples=252, accuracy=0.9682539682539683, loss=0.09602198886152889, rmse=None, ndcg=None, aucs=None)),\n",
       " TrainLog(num_trees=281, evaluation=Evaluation(num_examples=252, accuracy=0.9682539682539683, loss=0.09506043538613806, rmse=None, ndcg=None, aucs=None)),\n",
       " TrainLog(num_trees=291, evaluation=Evaluation(num_examples=252, accuracy=0.9722222222222222, loss=0.09627806474750358, rmse=None, ndcg=None, aucs=None)),\n",
       " TrainLog(num_trees=300, evaluation=Evaluation(num_examples=252, accuracy=0.9722222222222222, loss=0.09673874925762888, rmse=None, ndcg=None, aucs=None))]"
      ]
     },
     "execution_count": 19,
     "metadata": {},
     "output_type": "execute_result"
    }
   ],
   "source": [
    "%set_cell_height 150\n",
    "model_1.make_inspector().training_logs()"
   ]
  },
  {
   "cell_type": "markdown",
   "metadata": {
    "id": "WynFJCEbhuF_"
   },
   "source": [
    "Let's plot it:"
   ]
  },
  {
   "cell_type": "code",
   "execution_count": 20,
   "metadata": {
    "execution": {
     "iopub.execute_input": "2021-11-08T12:10:07.670000Z",
     "iopub.status.busy": "2021-11-08T12:10:07.669381Z",
     "iopub.status.idle": "2021-11-08T12:10:08.507777Z",
     "shell.execute_reply": "2021-11-08T12:10:08.508163Z"
    },
    "id": "xzPH7Gggh0g1"
   },
   "outputs": [
    {
     "data": {
      "image/png": "[encoded data removed]",
      "text/plain": [
       "<Figure size 864x288 with 2 Axes>"
      ]
     },
     "metadata": {
      "needs_background": "light"
     },
     "output_type": "display_data"
    }
   ],
   "source": [
    "import matplotlib.pyplot as plt\n",
    "\n",
    "logs = model_1.make_inspector().training_logs()\n",
    "\n",
    "plt.figure(figsize=(12, 4))\n",
    "\n",
    "plt.subplot(1, 2, 1)\n",
    "plt.plot([log.num_trees for log in logs], [log.evaluation.accuracy for log in logs])\n",
    "plt.xlabel(\"Number of trees\")\n",
    "plt.ylabel(\"Accuracy (out-of-bag)\")\n",
    "\n",
    "plt.subplot(1, 2, 2)\n",
    "plt.plot([log.num_trees for log in logs], [log.evaluation.loss for log in logs])\n",
    "plt.xlabel(\"Number of trees\")\n",
    "plt.ylabel(\"Logloss (out-of-bag)\")\n",
    "\n",
    "plt.show()"
   ]
  },
  {
   "cell_type": "markdown",
   "metadata": {
    "id": "w1xzugBRhwuN"
   },
   "source": [
    "This dataset is small. You can see the model converging almost immediately.\n",
    "\n",
    "Let's use TensorBoard:"
   ]
  },
  {
   "cell_type": "code",
   "execution_count": 21,
   "metadata": {
    "execution": {
     "iopub.execute_input": "2021-11-08T12:10:08.513134Z",
     "iopub.status.busy": "2021-11-08T12:10:08.512540Z",
     "iopub.status.idle": "2021-11-08T12:10:08.516090Z",
     "shell.execute_reply": "2021-11-08T12:10:08.515552Z"
    },
    "id": "5R_m-JmvU9tu"
   },
   "outputs": [],
   "source": [
    "# This cell start TensorBoard that can be slow.\n",
    "# Load the TensorBoard notebook extension\n",
    "%load_ext tensorboard\n",
    "# Google internal version\n",
    "# %load_ext google3.learning.brain.tensorboard.notebook.extension"
   ]
  },
  {
   "cell_type": "code",
   "execution_count": 22,
   "metadata": {
    "execution": {
     "iopub.execute_input": "2021-11-08T12:10:08.532011Z",
     "iopub.status.busy": "2021-11-08T12:10:08.531125Z",
     "iopub.status.idle": "2021-11-08T12:10:08.654047Z",
     "shell.execute_reply": "2021-11-08T12:10:08.653424Z"
    },
    "id": "j6mp7K6HWwqQ"
   },
   "outputs": [],
   "source": [
    "# Clear existing results (if any)\n",
    "!rm -fr \"/tmp/tensorboard_logs\""
   ]
  },
  {
   "cell_type": "code",
   "execution_count": 23,
   "metadata": {
    "execution": {
     "iopub.execute_input": "2021-11-08T12:10:08.660707Z",
     "iopub.status.busy": "2021-11-08T12:10:08.659717Z",
     "iopub.status.idle": "2021-11-08T12:10:08.730899Z",
     "shell.execute_reply": "2021-11-08T12:10:08.730311Z"
    },
    "id": "16NbLILYo124"
   },
   "outputs": [],
   "source": [
    "# Export the meta-data to tensorboard.\n",
    "model_1.make_inspector().export_to_tensorboard(\"/tmp/tensorboard_logs\")"
   ]
  },
  {
   "cell_type": "code",
   "execution_count": null,
   "metadata": {
    "id": "TSsN6aTXW0LJ"
   },
   "outputs": [],
   "source": [
    "# docs_infra: no_execute\n",
    "# Start a tensorboard instance.\n",
    "%tensorboard --logdir \"/tmp/tensorboard_logs\""
   ]
  },
  {
   "cell_type": "markdown",
   "metadata": {
    "id": "r_tlSccjZ8kE"
   },
   "source": [
    "<!-- <img class=\"tfo-display-only-on-site\" src=\"images/beginner_tensorboard.png\"/> -->\n"
   ]
  },
  {
   "cell_type": "markdown",
   "metadata": {
    "id": "phTUr6F1t-_E"
   },
   "source": [
    "## Re-train the model with a different learning algorithm\n",
    "\n",
    "The learning algorithm is defined by the model class. For\n",
    "example, `tfdf.keras.RandomForestModel()` trains a Random Forest, while\n",
    "`tfdf.keras.GradientBoostedTreesModel()` trains a Gradient Boosted Decision\n",
    "Trees.\n",
    "\n",
    "The learning algorithms are listed by calling `tfdf.keras.get_all_models()` or in the\n",
    "[learner list](https://github.com/google/yggdrasil-decision-forests/manual/learners)."
   ]
  },
  {
   "cell_type": "code",
   "execution_count": 24,
   "metadata": {
    "execution": {
     "iopub.execute_input": "2021-11-08T12:10:08.736733Z",
     "iopub.status.busy": "2021-11-08T12:10:08.736011Z",
     "iopub.status.idle": "2021-11-08T12:10:08.738782Z",
     "shell.execute_reply": "2021-11-08T12:10:08.739208Z"
    },
    "id": "OwEAAzUZq2m8"
   },
   "outputs": [
    {
     "data": {
      "text/plain": [
       "[tensorflow_decision_forests.keras.RandomForestModel,\n",
       " tensorflow_decision_forests.keras.GradientBoostedTreesModel,\n",
       " tensorflow_decision_forests.keras.CartModel,\n",
       " tensorflow_decision_forests.keras.DistributedGradientBoostedTreesModel]"
      ]
     },
     "execution_count": 24,
     "metadata": {},
     "output_type": "execute_result"
    }
   ],
   "source": [
    "tfdf.keras.get_all_models()"
   ]
  },
  {
   "cell_type": "markdown",
   "metadata": {
    "id": "xmzvuI78voD4"
   },
   "source": [
    "The description of the learning algorithms and their hyper-parameters are also available in the [API reference](https://www.tensorflow.org/decision_forests/api_docs/python/tfdf) and builtin help:"
   ]
  },
  {
   "cell_type": "code",
   "execution_count": 25,
   "metadata": {
    "execution": {
     "iopub.execute_input": "2021-11-08T12:10:08.752799Z",
     "iopub.status.busy": "2021-11-08T12:10:08.751859Z",
     "iopub.status.idle": "2021-11-08T12:10:08.799148Z",
     "shell.execute_reply": "2021-11-08T12:10:08.799631Z"
    },
    "id": "2hONToBav4DE"
   },
   "outputs": [
    {
     "name": "stdout",
     "output_type": "stream",
     "text": [
      "Help on class RandomForestModel in module tensorflow_decision_forests.keras:\n",
      "\n",
      "class RandomForestModel(tensorflow_decision_forests.keras.wrappers.RandomForestModel)\n",
      " |  RandomForestModel(*args, **kwargs)\n",
      " |  \n",
      " |  Random Forest learning algorithm.\n",
      " |  \n",
      " |  A Random Forest (https://www.stat.berkeley.edu/~breiman/randomforest2001.pdf)\n",
      " |  is a collection of deep CART decision trees trained independently and without\n",
      " |  pruning. Each tree is trained on a random subset of the original training \n",
      " |  dataset (sampled with replacement).\n",
      " |  \n",
      " |  The algorithm is unique in that it is robust to overfitting, even in extreme\n",
      " |  cases e.g. when there is more features than training examples.\n",
      " |  \n",
      " |  It is probably the most well-known of the Decision Forest training\n",
      " |  algorithms.\n",
      " |  \n",
      " |  Usage example:\n",
      " |  \n",
      " |  ```python\n",
      " |  import tensorflow_decision_forests as tfdf\n",
      " |  import pandas as pd\n",
      " |  \n",
      " |  dataset = pd.read_csv(\"project/dataset.csv\")\n",
      " |  tf_dataset = tfdf.keras.pd_dataframe_to_tf_dataset(dataset, label=\"my_label\")\n",
      " |  \n",
      " |  model = tfdf.keras.RandomForestModel()\n",
      " |  model.fit(tf_dataset)\n",
      " |  \n",
      " |  print(model.summary())\n",
      " |  ```\n",
      " |  \n",
      " |  Attributes:\n",
      " |    task: Task to solve (e.g. Task.CLASSIFICATION, Task.REGRESSION,\n",
      " |      Task.RANKING).\n",
      " |    features: Specify the list and semantic of the input features of the model.\n",
      " |      If not specified, all the available features will be used. If specified\n",
      " |      and if `exclude_non_specified_features=True`, only the features in\n",
      " |      `features` will be used by the model. If \"preprocessing\" is used,\n",
      " |      `features` corresponds to the output of the preprocessing. In this case,\n",
      " |      it is recommended for the preprocessing to return a dictionary of tensors.\n",
      " |    exclude_non_specified_features: If true, only use the features specified in\n",
      " |      `features`.\n",
      " |    preprocessing: Functional keras model or @tf.function to apply on the input\n",
      " |      feature before the model to train. This preprocessing model can consume\n",
      " |      and return tensors, list of tensors or dictionary of tensors. If\n",
      " |      specified, the model only \"sees\" the output of the preprocessing (and not\n",
      " |      the raw input). Can be used to prepare the features or to stack multiple\n",
      " |      models on top of each other. Unlike preprocessing done in the tf.dataset,\n",
      " |      the operation in \"preprocessing\" are serialized with the model.\n",
      " |    postprocessing: Like \"preprocessing\" but applied on the model output.\n",
      " |    ranking_group: Only for `task=Task.RANKING`. Name of a tf.string feature that\n",
      " |      identifies queries in a query/document ranking task. The ranking group\n",
      " |      is not added automatically for the set of features if\n",
      " |      `exclude_non_specified_features=false`.\n",
      " |    temp_directory: Temporary directory used to store the model Assets after the\n",
      " |      training, and possibly as a work directory during the training. This\n",
      " |      temporary directory is necessary for the model to be exported after\n",
      " |      training e.g. `model.save(path)`. If not specified, `temp_directory` is\n",
      " |      set to a temporary directory using `tempfile.TemporaryDirectory`. This\n",
      " |      directory is deleted when the model python object is garbage-collected.\n",
      " |    verbose: If true, displays information about the training.\n",
      " |    hyperparameter_template: Override the default value of the hyper-parameters.\n",
      " |      If None (default) the default parameters of the library are used. If set,\n",
      " |      `default_hyperparameter_template` refers to one of the following\n",
      " |      preconfigured hyper-parameter sets. Those sets outperforms the default\n",
      " |      hyper-parameters (either generally or in specific scenarios).\n",
      " |      You can omit the version (e.g. remove \"@v5\") to use the last version of\n",
      " |      the template. In this case, the hyper-parameter can change in between\n",
      " |      releases (not recommended for training in production).\n",
      " |      - better_default@v1: A configuration that is generally better than the\n",
      " |        default parameters without being more expensive. The parameters are:\n",
      " |        winner_take_all=True.\n",
      " |      - benchmark_rank1@v1: Top ranking hyper-parameters on our benchmark\n",
      " |        slightly modified to run in reasonable time. The parameters are:\n",
      " |        winner_take_all=True, categorical_algorithm=\"RANDOM\",\n",
      " |        split_axis=\"SPARSE_OBLIQUE\", sparse_oblique_normalization=\"MIN_MAX\",\n",
      " |        sparse_oblique_num_projections_exponent=1.0.\n",
      " |  \n",
      " |    advanced_arguments: Advanced control of the model that most users won't need\n",
      " |      to use. See `AdvancedArguments` for details.\n",
      " |    num_threads: Number of threads used to train the model. Different learning\n",
      " |      algorithms use multi-threading differently and with different degree of\n",
      " |      efficiency. If specified, `num_threads` field of the\n",
      " |      `advanced_arguments.yggdrasil_deployment_config` has priority.\n",
      " |    name: The name of the model.\n",
      " |    max_vocab_count: Default maximum size of the vocabulary for CATEGORICAL and\n",
      " |      CATEGORICAL_SET features stored as strings. If more unique values exist,\n",
      " |      only the most frequent values are kept, and the remaining values are\n",
      " |      considered as out-of-vocabulary. The value `max_vocab_count` defined in a\n",
      " |      `FeatureUsage` (if any) takes precedence.\n",
      " |    adapt_bootstrap_size_ratio_for_maximum_training_duration: Control how the\n",
      " |      maximum training duration (if set) is applied. If false, the training\n",
      " |      stop when the time is used. If true, adapts the size of the sampled\n",
      " |      dataset used to train each tree such that `num_trees` will train within\n",
      " |      `maximum_training_duration`. Has no effect if there is no maximum\n",
      " |      training duration specified. Default: False.\n",
      " |    allow_na_conditions: If true, the tree training evaluates conditions of the\n",
      " |      type `X is NA` i.e. `X is missing`. Default: False.\n",
      " |    categorical_algorithm: How to learn splits on categorical attributes.\n",
      " |      - `CART`: CART algorithm. Find categorical splits of the form \"value \\\\in\n",
      " |        mask\". The solution is exact for binary classification, regression and\n",
      " |        ranking. It is approximated for multi-class classification. This is a\n",
      " |        good first algorithm to use. In case of overfitting (very small\n",
      " |        dataset, large dictionary), the \"random\" algorithm is a good\n",
      " |        alternative.\n",
      " |      - `ONE_HOT`: One-hot encoding. Find the optimal categorical split of the\n",
      " |        form \"attribute == param\". This method is similar (but more efficient)\n",
      " |        than converting converting each possible categorical value into a\n",
      " |        boolean feature. This method is available for comparison purpose and\n",
      " |        generally performs worse than other alternatives.\n",
      " |      - `RANDOM`: Best splits among a set of random candidate. Find the a\n",
      " |        categorical split of the form \"value \\\\in mask\" using a random search.\n",
      " |        This solution can be seen as an approximation of the CART algorithm.\n",
      " |        This method is a strong alternative to CART. This algorithm is inspired\n",
      " |        from section \"5.1 Categorical Variables\" of \"Random Forest\", 2001.\n",
      " |        Default: \"CART\".\n",
      " |    categorical_set_split_greedy_sampling: For categorical set splits e.g.\n",
      " |      texts. Probability for a categorical value to be a candidate for the\n",
      " |      positive set. The sampling is applied once per node (i.e. not at every\n",
      " |      step of the greedy optimization). Default: 0.1.\n",
      " |    categorical_set_split_max_num_items: For categorical set splits e.g. texts.\n",
      " |      Maximum number of items (prior to the sampling). If more items are\n",
      " |      available, the least frequent items are ignored. Changing this value is\n",
      " |      similar to change the \"max_vocab_count\" before loading the dataset, with\n",
      " |      the following exception: With `max_vocab_count`, all the remaining items\n",
      " |      are grouped in a special Out-of-vocabulary item. With `max_num_items`,\n",
      " |      this is not the case. Default: -1.\n",
      " |    categorical_set_split_min_item_frequency: For categorical set splits e.g.\n",
      " |      texts. Minimum number of occurrences of an item to be considered.\n",
      " |      Default: 1.\n",
      " |    compute_oob_performances: If true, compute the Out-of-bag evaluation (then\n",
      " |      available in the summary and model inspector). This evaluation is a cheap\n",
      " |      alternative to cross-validation evaluation. Default: True.\n",
      " |    compute_oob_variable_importances: If true, compute the Out-of-bag feature\n",
      " |      importance (then available in the summary and model inspector). Note that\n",
      " |      the OOB feature importance can be expensive to compute. Default: False.\n",
      " |    growing_strategy: How to grow the tree.\n",
      " |      - `LOCAL`: Each node is split independently of the other nodes. In other\n",
      " |        words, as long as a node satisfy the splits \"constraints (e.g. maximum\n",
      " |        depth, minimum number of observations), the node will be split. This is\n",
      " |        the \"classical\" way to grow decision trees.\n",
      " |      - `BEST_FIRST_GLOBAL`: The node with the best loss reduction among all\n",
      " |        the nodes of the tree is selected for splitting. This method is also\n",
      " |        called \"best first\" or \"leaf-wise growth\". See \"Best-first decision\n",
      " |        tree learning\", Shi and \"Additive logistic regression : A statistical\n",
      " |        view of boosting\", Friedman for more details. Default: \"LOCAL\".\n",
      " |    in_split_min_examples_check: Whether to check the `min_examples` constraint\n",
      " |      in the split search (i.e. splits leading to one child having less than\n",
      " |      `min_examples` examples are considered invalid) or before the split\n",
      " |      search (i.e. a node can be derived only if it contains more than\n",
      " |      `min_examples` examples). If false, there can be nodes with less than\n",
      " |      `min_examples` training examples. Default: True.\n",
      " |    max_depth: Maximum depth of the tree. `max_depth=1` means that all trees\n",
      " |      will be roots. Negative values are ignored. Default: 16.\n",
      " |    max_num_nodes: Maximum number of nodes in the tree. Set to -1 to disable\n",
      " |      this limit. Only available for `growing_strategy=BEST_FIRST_GLOBAL`.\n",
      " |      Default: None.\n",
      " |    maximum_model_size_in_memory_in_bytes: Limit the size of the model when\n",
      " |      stored in ram. Different algorithms can enforce this limit differently.\n",
      " |      Note that when models are compiled into an inference, the size of the\n",
      " |      inference engine is generally much smaller than the original model.\n",
      " |      Default: -1.0.\n",
      " |    maximum_training_duration_seconds: Maximum training duration of the model\n",
      " |      expressed in seconds. Each learning algorithm is free to use this\n",
      " |      parameter at it sees fit. Enabling maximum training duration makes the\n",
      " |      model training non-deterministic. Default: -1.0.\n",
      " |    min_examples: Minimum number of examples in a node. Default: 5.\n",
      " |    missing_value_policy: Method used to handle missing attribute values.\n",
      " |      - `GLOBAL_IMPUTATION`: Missing attribute values are imputed, with the\n",
      " |        mean (in case of numerical attribute) or the most-frequent-item (in\n",
      " |        case of categorical attribute) computed on the entire dataset (i.e. the\n",
      " |        information contained in the data spec).\n",
      " |      - `LOCAL_IMPUTATION`: Missing attribute values are imputed with the mean\n",
      " |        (numerical attribute) or most-frequent-item (in the case of categorical\n",
      " |        attribute) evaluated on the training examples in the current node.\n",
      " |      - `RANDOM_LOCAL_IMPUTATION`: Missing attribute values are imputed from\n",
      " |        randomly sampled values from the training examples in the current node.\n",
      " |        This method was proposed by Clinic et al. in \"Random Survival Forests\"\n",
      " |        (https://projecteuclid.org/download/pdfview_1/euclid.aoas/1223908043).\n",
      " |        Default: \"GLOBAL_IMPUTATION\".\n",
      " |    num_candidate_attributes: Number of unique valid attributes tested for each\n",
      " |      node. An attribute is valid if it has at least a valid split. If\n",
      " |      `num_candidate_attributes=0`, the value is set to the classical default\n",
      " |      value for Random Forest: `sqrt(number of input attributes)` in case of\n",
      " |      classification and `number_of_input_attributes / 3` in case of\n",
      " |      regression. If `num_candidate_attributes=-1`, all the attributes are\n",
      " |      tested. Default: 0.\n",
      " |    num_candidate_attributes_ratio: Ratio of attributes tested at each node. If\n",
      " |      set, it is equivalent to `num_candidate_attributes =\n",
      " |      number_of_input_features x num_candidate_attributes_ratio`. The possible\n",
      " |      values are between ]0, and 1] as well as -1. If not set or equal to -1,\n",
      " |      the `num_candidate_attributes` is used. Default: -1.0.\n",
      " |    num_trees: Number of individual decision trees. Increasing the number of\n",
      " |      trees can increase the quality of the model at the expense of size,\n",
      " |      training speed, and inference latency. Default: 300.\n",
      " |    sorting_strategy: How are sorted the numerical features in order to find\n",
      " |      the splits\n",
      " |      - PRESORT: The features are pre-sorted at the start of the training. This\n",
      " |        solution is faster but consumes much more memory than IN_NODE.\n",
      " |      - IN_NODE: The features are sorted just before being used in the node.\n",
      " |        This solution is slow but consumes little amount of memory.\n",
      " |      . Default: \"PRESORT\".\n",
      " |    sparse_oblique_normalization: For sparse oblique splits i.e.\n",
      " |      `split_axis=SPARSE_OBLIQUE`. Normalization applied on the features,\n",
      " |      before applying the sparse oblique projections.\n",
      " |      - `NONE`: No normalization.\n",
      " |      - `STANDARD_DEVIATION`: Normalize the feature by the estimated standard\n",
      " |        deviation on the entire train dataset. Also known as Z-Score\n",
      " |        normalization.\n",
      " |      - `MIN_MAX`: Normalize the feature by the range (i.e. max-min) estimated\n",
      " |        on the entire train dataset. Default: None.\n",
      " |    sparse_oblique_num_projections_exponent: For sparse oblique splits i.e.\n",
      " |      `split_axis=SPARSE_OBLIQUE`. Controls of the number of random projections\n",
      " |      to test at each node as `num_features^num_projections_exponent`. Default:\n",
      " |      None.\n",
      " |    sparse_oblique_projection_density_factor: For sparse oblique splits i.e.\n",
      " |      `split_axis=SPARSE_OBLIQUE`. Controls of the number of random projections\n",
      " |      to test at each node as `num_features^num_projections_exponent`. Default:\n",
      " |      None.\n",
      " |    split_axis: What structure of split to consider for numerical features.\n",
      " |      - `AXIS_ALIGNED`: Axis aligned splits (i.e. one condition at a time).\n",
      " |        This is the \"classical\" way to train a tree. Default value.\n",
      " |      - `SPARSE_OBLIQUE`: Sparse oblique splits (i.e. splits one a small number\n",
      " |        of features) from \"Sparse Projection Oblique Random Forests\", Tomita et\n",
      " |        al., 2020. Default: \"AXIS_ALIGNED\".\n",
      " |    winner_take_all: Control how classification trees vote. If true, each tree\n",
      " |      votes for one class. If false, each tree vote for a distribution of\n",
      " |      classes. winner_take_all_inference=false is often preferable. Default:\n",
      " |      True.\n",
      " |  \n",
      " |  Method resolution order:\n",
      " |      RandomForestModel\n",
      " |      tensorflow_decision_forests.keras.wrappers.RandomForestModel\n",
      " |      tensorflow_decision_forests.keras.core.CoreModel\n",
      " |      keras.engine.training.Model\n",
      " |      keras.engine.base_layer.Layer\n",
      " |      tensorflow.python.module.module.Module\n",
      " |      tensorflow.python.training.tracking.tracking.AutoTrackable\n",
      " |      tensorflow.python.training.tracking.base.Trackable\n",
      " |      keras.utils.version_utils.LayerVersionSelector\n",
      " |      keras.utils.version_utils.ModelVersionSelector\n",
      " |      builtins.object\n",
      " |  \n",
      " |  Methods inherited from tensorflow_decision_forests.keras.wrappers.RandomForestModel:\n",
      " |  \n",
      " |  __init__ = wrapper(*args, **kargs)\n",
      " |  \n",
      " |  ----------------------------------------------------------------------\n",
      " |  Static methods inherited from tensorflow_decision_forests.keras.wrappers.RandomForestModel:\n",
      " |  \n",
      " |  capabilities() -> yggdrasil_decision_forests.learner.abstract_learner_pb2.LearnerCapabilities\n",
      " |      Lists the capabilities of the learning algorithm.\n",
      " |  \n",
      " |  predefined_hyperparameters() -> List[tensorflow_decision_forests.keras.core.HyperParameterTemplate]\n",
      " |      Returns a better than default set of hyper-parameters.\n",
      " |      \n",
      " |      They can be used directly with the `hyperparameter_template` argument of the\n",
      " |      model constructor.\n",
      " |      \n",
      " |      These hyper-parameters outperforms the default hyper-parameters (either\n",
      " |      generally or in specific scenarios). Like default hyper-parameters, existing\n",
      " |      pre-defined hyper-parameters cannot change.\n",
      " |  \n",
      " |  ----------------------------------------------------------------------\n",
      " |  Methods inherited from tensorflow_decision_forests.keras.core.CoreModel:\n",
      " |  \n",
      " |  call(self, inputs, training=False)\n",
      " |      Inference of the model.\n",
      " |      \n",
      " |      This method is used for prediction and evaluation of a trained model.\n",
      " |      \n",
      " |      Args:\n",
      " |        inputs: Input tensors.\n",
      " |        training: Is the model being trained. Always False.\n",
      " |      \n",
      " |      Returns:\n",
      " |        Model predictions.\n",
      " |  \n",
      " |  compile(self, metrics=None)\n",
      " |      Configure the model for training.\n",
      " |      \n",
      " |      Unlike for most Keras model, calling \"compile\" is optional before calling\n",
      " |      \"fit\".\n",
      " |      \n",
      " |      Args:\n",
      " |        metrics: Metrics to report during training.\n",
      " |      \n",
      " |      Raises:\n",
      " |        ValueError: Invalid arguments.\n",
      " |  \n",
      " |  evaluate(self, *args, **kwargs)\n",
      " |      Returns the loss value & metrics values for the model.\n",
      " |      \n",
      " |      See details on `keras.Model.evaluate`.\n",
      " |      \n",
      " |      Args:\n",
      " |        *args: Passed to `keras.Model.evaluate`.\n",
      " |        **kwargs: Passed to `keras.Model.evaluate`.  Scalar test loss (if the\n",
      " |          model has a single output and no metrics) or list of scalars (if the\n",
      " |          model has multiple outputs and/or metrics). See details in\n",
      " |          `keras.Model.evaluate`.\n",
      " |  \n",
      " |  fit(self, x=None, y=None, callbacks=None, **kwargs) -> keras.callbacks.History\n",
      " |      Trains the model.\n",
      " |      \n",
      " |      The following dataset formats are supported:\n",
      " |      \n",
      " |        1. \"x\" is a tf.data.Dataset containing a tuple \"(features, labels)\".\n",
      " |           \"features\" can be a dictionary a tensor, a list of tensors or a\n",
      " |           dictionary of tensors (recommended). \"labels\" is a tensor.\n",
      " |      \n",
      " |        2. \"x\" is a tensor, list of tensors or dictionary of tensors containing\n",
      " |           the input features. \"y\" is a tensor.\n",
      " |      \n",
      " |        3. \"x\" is a numpy-array, list of numpy-arrays or dictionary of\n",
      " |           numpy-arrays containing the input features. \"y\" is a numpy-array.\n",
      " |      \n",
      " |      Unlike classical neural networks, the learning algorithm requires to scan\n",
      " |      the training dataset exactly once. Therefore, the dataset should not be\n",
      " |      repeated. The algorithm also does not benefit from shuffling the dataset.\n",
      " |      \n",
      " |      Input features generally do not need to be normalized (numerical) or indexed\n",
      " |      (categorical features stored as string). Also, missing values are well\n",
      " |      supported (i.e. not need to replace missing values).\n",
      " |      \n",
      " |      Pandas Dataframe can be prepared with \"dataframe_to_tf_dataset\":\n",
      " |        dataset = pandas.Dataframe(...)\n",
      " |        model.fit(pd_dataframe_to_tf_dataset(dataset, label=\"my_label\"))\n",
      " |      \n",
      " |      Some of the learning algorithm will support distributed training with the\n",
      " |      ParameterServerStrategy e.g.:\n",
      " |      \n",
      " |        with tf.distribute.experimental.ParameterServerStrategy(...).scope():\n",
      " |          model = DistributedGradientBoostedTreesModel()\n",
      " |        model.fit(...)\n",
      " |      \n",
      " |      Args:\n",
      " |        x: Training dataset (See details above for the supported formats).\n",
      " |        y: Label of the training dataset. Only used if \"x\" does not contains the\n",
      " |          labels.\n",
      " |        callbacks: Callbacks triggered during the training.\n",
      " |        **kwargs: Arguments passed to the core keras model's fit.\n",
      " |      \n",
      " |      Returns:\n",
      " |        A `History` object. Its `History.history` attribute is not yet\n",
      " |        implemented for decision forests algorithms, and will return empty.\n",
      " |        All other fields are filled as usual for `Keras.Mode.fit()`.\n",
      " |  \n",
      " |  fit_on_dataset_path(self, train_path: str, label_key: str, weight_key: Union[str, NoneType] = None, ranking_key: Union[str, NoneType] = None, valid_path: Union[str, NoneType] = None, dataset_format: Union[str, NoneType] = 'csv')\n",
      " |      Trains the model on a dataset stored on disk.\n",
      " |      \n",
      " |      This solution is generally more efficient and easier that loading the\n",
      " |      dataset with a tf.Dataset both for local and distributed training.\n",
      " |      \n",
      " |      Usage example:\n",
      " |      \n",
      " |        # Local training\n",
      " |        model = model = keras.GradientBoostedTreesModel()\n",
      " |        model.fit_on_dataset_path(\n",
      " |          train_path=\"/path/to/dataset.csv\",\n",
      " |          label_key=\"label\",\n",
      " |          dataset_format=\"csv\")\n",
      " |        model.save(\"/model/path\")\n",
      " |      \n",
      " |        # Distributed training\n",
      " |        with tf.distribute.experimental.ParameterServerStrategy(...).scope():\n",
      " |          model = model = keras.DistributedGradientBoostedTreesModel()\n",
      " |        model.fit_on_dataset_path(\n",
      " |          train_path=\"/path/to/dataset@10\",\n",
      " |          label_key=\"label\",\n",
      " |          dataset_format=\"tfrecord+tfe\")\n",
      " |        model.save(\"/model/path\")\n",
      " |      \n",
      " |      Args:\n",
      " |         train_path: Path to the training dataset. Support comma separated files,\n",
      " |           shard and glob notation.\n",
      " |         label_key: Name of the label column.\n",
      " |         weight_key: Name of the weighing column.\n",
      " |         ranking_key: Name of the ranking column.\n",
      " |         valid_path: Path to the validation dataset. If not provided, or if the\n",
      " |           learning algorithm does not support/need a validation dataset,\n",
      " |           `valid_path` is ignored.\n",
      " |         dataset_format: Format of the dataset. Should be one of the registered\n",
      " |           dataset format (see\n",
      " |           https://github.com/google/yggdrasil-decision-forests/blob/main/documentation/user_manual.md#dataset-path-and-format\n",
      " |             for more details). The format \"csv\" always available but it is\n",
      " |             generally only suited for small datasets.\n",
      " |      \n",
      " |      Returns:\n",
      " |        A `History` object. Its `History.history` attribute is not yet\n",
      " |        implemented for decision forests algorithms, and will return empty.\n",
      " |        All other fields are filled as usual for `Keras.Mode.fit()`.\n",
      " |  \n",
      " |  make_inspector(self) -> tensorflow_decision_forests.component.inspector.inspector.AbstractInspector\n",
      " |      Creates an inspector to access the internal model structure.\n",
      " |      \n",
      " |      Usage example:\n",
      " |      \n",
      " |      ```python\n",
      " |      inspector = model.make_inspector()\n",
      " |      print(inspector.num_trees())\n",
      " |      print(inspector.variable_importances())\n",
      " |      ```\n",
      " |      \n",
      " |      Returns:\n",
      " |        A model inspector.\n",
      " |  \n",
      " |  make_predict_function(self)\n",
      " |      Prediction of the model (!= evaluation).\n",
      " |  \n",
      " |  make_test_function(self)\n",
      " |      Predictions for evaluation.\n",
      " |  \n",
      " |  save(self, filepath: str, overwrite: Union[bool, NoneType] = True, **kwargs)\n",
      " |      Saves the model as a TensorFlow SavedModel.\n",
      " |      \n",
      " |      The exported SavedModel contains a standalone Yggdrasil Decision Forests\n",
      " |      model in the \"assets\" sub-directory. The Yggdrasil model can be used\n",
      " |      directly using the Yggdrasil API. However, this model does not contain the\n",
      " |      \"preprocessing\" layer (if any).\n",
      " |      \n",
      " |      Args:\n",
      " |        filepath: Path to the output model.\n",
      " |        overwrite: If true, override an already existing model. If false, raise an\n",
      " |          error if a model already exist.\n",
      " |        **kwargs: Arguments passed to the core keras model's save.\n",
      " |  \n",
      " |  summary(self, line_length=None, positions=None, print_fn=None)\n",
      " |      Shows information about the model.\n",
      " |  \n",
      " |  train_step(self, data)\n",
      " |      Collects training examples.\n",
      " |  \n",
      " |  yggdrasil_model_path_tensor(self) -> Union[tensorflow.python.framework.ops.Tensor, NoneType]\n",
      " |      Gets the path to yggdrasil model, if available.\n",
      " |      \n",
      " |      The effective path can be obtained with:\n",
      " |      \n",
      " |      ```python\n",
      " |      yggdrasil_model_path_tensor().numpy().decode(\"utf-8\")\n",
      " |      ```\n",
      " |      \n",
      " |      Returns:\n",
      " |        Path to the Yggdrasil model.\n",
      " |  \n",
      " |  ----------------------------------------------------------------------\n",
      " |  Methods inherited from keras.engine.training.Model:\n",
      " |  \n",
      " |  __copy__(self)\n",
      " |  \n",
      " |  __deepcopy__(self, memo)\n",
      " |  \n",
      " |  __reduce__(self)\n",
      " |      Helper for pickle.\n",
      " |  \n",
      " |  __setattr__(self, name, value)\n",
      " |      Support self.foo = trackable syntax.\n",
      " |  \n",
      " |  build(self, input_shape)\n",
      " |      Builds the model based on input shapes received.\n",
      " |      \n",
      " |      This is to be used for subclassed models, which do not know at instantiation\n",
      " |      time what their inputs look like.\n",
      " |      \n",
      " |      This method only exists for users who want to call `model.build()` in a\n",
      " |      standalone way (as a substitute for calling the model on real data to\n",
      " |      build it). It will never be called by the framework (and thus it will\n",
      " |      never throw unexpected errors in an unrelated workflow).\n",
      " |      \n",
      " |      Args:\n",
      " |       input_shape: Single tuple, `TensorShape` instance, or list/dict of shapes,\n",
      " |         where shapes are tuples, integers, or `TensorShape` instances.\n",
      " |      \n",
      " |      Raises:\n",
      " |        ValueError:\n",
      " |          1. In case of invalid user-provided data (not of type tuple,\n",
      " |             list, `TensorShape`, or dict).\n",
      " |          2. If the model requires call arguments that are agnostic\n",
      " |             to the input shapes (positional or keyword arg in call signature).\n",
      " |          3. If not all layers were properly built.\n",
      " |          4. If float type inputs are not supported within the layers.\n",
      " |      \n",
      " |        In each of these cases, the user should build their model by calling it\n",
      " |        on real tensor data.\n",
      " |  \n",
      " |  evaluate_generator(self, generator, steps=None, callbacks=None, max_queue_size=10, workers=1, use_multiprocessing=False, verbose=0)\n",
      " |      Evaluates the model on a data generator.\n",
      " |      \n",
      " |      DEPRECATED:\n",
      " |        `Model.evaluate` now supports generators, so there is no longer any need\n",
      " |        to use this endpoint.\n",
      " |  \n",
      " |  fit_generator(self, generator, steps_per_epoch=None, epochs=1, verbose=1, callbacks=None, validation_data=None, validation_steps=None, validation_freq=1, class_weight=None, max_queue_size=10, workers=1, use_multiprocessing=False, shuffle=True, initial_epoch=0)\n",
      " |      Fits the model on data yielded batch-by-batch by a Python generator.\n",
      " |      \n",
      " |      DEPRECATED:\n",
      " |        `Model.fit` now supports generators, so there is no longer any need to use\n",
      " |        this endpoint.\n",
      " |  \n",
      " |  get_config(self)\n",
      " |      Returns the config of the layer.\n",
      " |      \n",
      " |      A layer config is a Python dictionary (serializable)\n",
      " |      containing the configuration of a layer.\n",
      " |      The same layer can be reinstantiated later\n",
      " |      (without its trained weights) from this configuration.\n",
      " |      \n",
      " |      The config of a layer does not include connectivity\n",
      " |      information, nor the layer class name. These are handled\n",
      " |      by `Network` (one layer of abstraction above).\n",
      " |      \n",
      " |      Note that `get_config()` does not guarantee to return a fresh copy of dict\n",
      " |      every time it is called. The callers should make a copy of the returned dict\n",
      " |      if they want to modify it.\n",
      " |      \n",
      " |      Returns:\n",
      " |          Python dictionary.\n",
      " |  \n",
      " |  get_layer(self, name=None, index=None)\n",
      " |      Retrieves a layer based on either its name (unique) or index.\n",
      " |      \n",
      " |      If `name` and `index` are both provided, `index` will take precedence.\n",
      " |      Indices are based on order of horizontal graph traversal (bottom-up).\n",
      " |      \n",
      " |      Args:\n",
      " |          name: String, name of layer.\n",
      " |          index: Integer, index of layer.\n",
      " |      \n",
      " |      Returns:\n",
      " |          A layer instance.\n",
      " |  \n",
      " |  get_weights(self)\n",
      " |      Retrieves the weights of the model.\n",
      " |      \n",
      " |      Returns:\n",
      " |          A flat list of Numpy arrays.\n",
      " |  \n",
      " |  load_weights(self, filepath, by_name=False, skip_mismatch=False, options=None)\n",
      " |      Loads all layer weights, either from a TensorFlow or an HDF5 weight file.\n",
      " |      \n",
      " |      If `by_name` is False weights are loaded based on the network's\n",
      " |      topology. This means the architecture should be the same as when the weights\n",
      " |      were saved.  Note that layers that don't have weights are not taken into\n",
      " |      account in the topological ordering, so adding or removing layers is fine as\n",
      " |      long as they don't have weights.\n",
      " |      \n",
      " |      If `by_name` is True, weights are loaded into layers only if they share the\n",
      " |      same name. This is useful for fine-tuning or transfer-learning models where\n",
      " |      some of the layers have changed.\n",
      " |      \n",
      " |      Only topological loading (`by_name=False`) is supported when loading weights\n",
      " |      from the TensorFlow format. Note that topological loading differs slightly\n",
      " |      between TensorFlow and HDF5 formats for user-defined classes inheriting from\n",
      " |      `tf.keras.Model`: HDF5 loads based on a flattened list of weights, while the\n",
      " |      TensorFlow format loads based on the object-local names of attributes to\n",
      " |      which layers are assigned in the `Model`'s constructor.\n",
      " |      \n",
      " |      Args:\n",
      " |          filepath: String, path to the weights file to load. For weight files in\n",
      " |              TensorFlow format, this is the file prefix (the same as was passed\n",
      " |              to `save_weights`). This can also be a path to a SavedModel\n",
      " |              saved from `model.save`.\n",
      " |          by_name: Boolean, whether to load weights by name or by topological\n",
      " |              order. Only topological loading is supported for weight files in\n",
      " |              TensorFlow format.\n",
      " |          skip_mismatch: Boolean, whether to skip loading of layers where there is\n",
      " |              a mismatch in the number of weights, or a mismatch in the shape of\n",
      " |              the weight (only valid when `by_name=True`).\n",
      " |          options: Optional `tf.train.CheckpointOptions` object that specifies\n",
      " |              options for loading weights.\n",
      " |      \n",
      " |      Returns:\n",
      " |          When loading a weight file in TensorFlow format, returns the same status\n",
      " |          object as `tf.train.Checkpoint.restore`. When graph building, restore\n",
      " |          ops are run automatically as soon as the network is built (on first call\n",
      " |          for user-defined classes inheriting from `Model`, immediately if it is\n",
      " |          already built).\n",
      " |      \n",
      " |          When loading weights in HDF5 format, returns `None`.\n",
      " |      \n",
      " |      Raises:\n",
      " |          ImportError: If `h5py` is not available and the weight file is in HDF5\n",
      " |              format.\n",
      " |          ValueError: If `skip_mismatch` is set to `True` when `by_name` is\n",
      " |            `False`.\n",
      " |  \n",
      " |  make_train_function(self, force=False)\n",
      " |      Creates a function that executes one step of training.\n",
      " |      \n",
      " |      This method can be overridden to support custom training logic.\n",
      " |      This method is called by `Model.fit` and `Model.train_on_batch`.\n",
      " |      \n",
      " |      Typically, this method directly controls `tf.function` and\n",
      " |      `tf.distribute.Strategy` settings, and delegates the actual training\n",
      " |      logic to `Model.train_step`.\n",
      " |      \n",
      " |      This function is cached the first time `Model.fit` or\n",
      " |      `Model.train_on_batch` is called. The cache is cleared whenever\n",
      " |      `Model.compile` is called. You can skip the cache and generate again the\n",
      " |      function with `force=True`.\n",
      " |      \n",
      " |      Args:\n",
      " |        force: Whether to regenerate the train function and skip the cached\n",
      " |          function if available.\n",
      " |      \n",
      " |      Returns:\n",
      " |        Function. The function created by this method should accept a\n",
      " |        `tf.data.Iterator`, and return a `dict` containing values that will\n",
      " |        be passed to `tf.keras.Callbacks.on_train_batch_end`, such as\n",
      " |        `{'loss': 0.2, 'accuracy': 0.7}`.\n",
      " |  \n",
      " |  predict(self, x, batch_size=None, verbose=0, steps=None, callbacks=None, max_queue_size=10, workers=1, use_multiprocessing=False)\n",
      " |      Generates output predictions for the input samples.\n",
      " |      \n",
      " |      Computation is done in batches. This method is designed for performance in\n",
      " |      large scale inputs. For small amount of inputs that fit in one batch,\n",
      " |      directly using `__call__()` is recommended for faster execution, e.g.,\n",
      " |      `model(x)`, or `model(x, training=False)` if you have layers such as\n",
      " |      `tf.keras.layers.BatchNormalization` that behaves differently during\n",
      " |      inference. Also, note the fact that test loss is not affected by\n",
      " |      regularization layers like noise and dropout.\n",
      " |      \n",
      " |      Args:\n",
      " |          x: Input samples. It could be:\n",
      " |            - A Numpy array (or array-like), or a list of arrays\n",
      " |              (in case the model has multiple inputs).\n",
      " |            - A TensorFlow tensor, or a list of tensors\n",
      " |              (in case the model has multiple inputs).\n",
      " |            - A `tf.data` dataset.\n",
      " |            - A generator or `keras.utils.Sequence` instance.\n",
      " |            A more detailed description of unpacking behavior for iterator types\n",
      " |            (Dataset, generator, Sequence) is given in the `Unpacking behavior\n",
      " |            for iterator-like inputs` section of `Model.fit`.\n",
      " |          batch_size: Integer or `None`.\n",
      " |              Number of samples per batch.\n",
      " |              If unspecified, `batch_size` will default to 32.\n",
      " |              Do not specify the `batch_size` if your data is in the\n",
      " |              form of dataset, generators, or `keras.utils.Sequence` instances\n",
      " |              (since they generate batches).\n",
      " |          verbose: Verbosity mode, 0 or 1.\n",
      " |          steps: Total number of steps (batches of samples)\n",
      " |              before declaring the prediction round finished.\n",
      " |              Ignored with the default value of `None`. If x is a `tf.data`\n",
      " |              dataset and `steps` is None, `predict()` will\n",
      " |              run until the input dataset is exhausted.\n",
      " |          callbacks: List of `keras.callbacks.Callback` instances.\n",
      " |              List of callbacks to apply during prediction.\n",
      " |              See [callbacks](/api_docs/python/tf/keras/callbacks).\n",
      " |          max_queue_size: Integer. Used for generator or `keras.utils.Sequence`\n",
      " |              input only. Maximum size for the generator queue.\n",
      " |              If unspecified, `max_queue_size` will default to 10.\n",
      " |          workers: Integer. Used for generator or `keras.utils.Sequence` input\n",
      " |              only. Maximum number of processes to spin up when using\n",
      " |              process-based threading. If unspecified, `workers` will default\n",
      " |              to 1.\n",
      " |          use_multiprocessing: Boolean. Used for generator or\n",
      " |              `keras.utils.Sequence` input only. If `True`, use process-based\n",
      " |              threading. If unspecified, `use_multiprocessing` will default to\n",
      " |              `False`. Note that because this implementation relies on\n",
      " |              multiprocessing, you should not pass non-picklable arguments to\n",
      " |              the generator as they can't be passed easily to children processes.\n",
      " |      \n",
      " |      See the discussion of `Unpacking behavior for iterator-like inputs` for\n",
      " |      `Model.fit`. Note that Model.predict uses the same interpretation rules as\n",
      " |      `Model.fit` and `Model.evaluate`, so inputs must be unambiguous for all\n",
      " |      three methods.\n",
      " |      \n",
      " |      Returns:\n",
      " |          Numpy array(s) of predictions.\n",
      " |      \n",
      " |      Raises:\n",
      " |          RuntimeError: If `model.predict` is wrapped in a `tf.function`.\n",
      " |          ValueError: In case of mismatch between the provided\n",
      " |              input data and the model's expectations,\n",
      " |              or in case a stateful model receives a number of samples\n",
      " |              that is not a multiple of the batch size.\n",
      " |  \n",
      " |  predict_generator(self, generator, steps=None, callbacks=None, max_queue_size=10, workers=1, use_multiprocessing=False, verbose=0)\n",
      " |      Generates predictions for the input samples from a data generator.\n",
      " |      \n",
      " |      DEPRECATED:\n",
      " |        `Model.predict` now supports generators, so there is no longer any need\n",
      " |        to use this endpoint.\n",
      " |  \n",
      " |  predict_on_batch(self, x)\n",
      " |      Returns predictions for a single batch of samples.\n",
      " |      \n",
      " |      Args:\n",
      " |          x: Input data. It could be:\n",
      " |            - A Numpy array (or array-like), or a list of arrays (in case the\n",
      " |                model has multiple inputs).\n",
      " |            - A TensorFlow tensor, or a list of tensors (in case the model has\n",
      " |                multiple inputs).\n",
      " |      \n",
      " |      Returns:\n",
      " |          Numpy array(s) of predictions.\n",
      " |      \n",
      " |      Raises:\n",
      " |          RuntimeError: If `model.predict_on_batch` is wrapped in a `tf.function`.\n",
      " |  \n",
      " |  predict_step(self, data)\n",
      " |      The logic for one inference step.\n",
      " |      \n",
      " |      This method can be overridden to support custom inference logic.\n",
      " |      This method is called by `Model.make_predict_function`.\n",
      " |      \n",
      " |      This method should contain the mathematical logic for one step of inference.\n",
      " |      This typically includes the forward pass.\n",
      " |      \n",
      " |      Configuration details for *how* this logic is run (e.g. `tf.function` and\n",
      " |      `tf.distribute.Strategy` settings), should be left to\n",
      " |      `Model.make_predict_function`, which can also be overridden.\n",
      " |      \n",
      " |      Args:\n",
      " |        data: A nested structure of `Tensor`s.\n",
      " |      \n",
      " |      Returns:\n",
      " |        The result of one inference step, typically the output of calling the\n",
      " |        `Model` on data.\n",
      " |  \n",
      " |  reset_metrics(self)\n",
      " |      Resets the state of all the metrics in the model.\n",
      " |      \n",
      " |      Examples:\n",
      " |      \n",
      " |      >>> inputs = tf.keras.layers.Input(shape=(3,))\n",
      " |      >>> outputs = tf.keras.layers.Dense(2)(inputs)\n",
      " |      >>> model = tf.keras.models.Model(inputs=inputs, outputs=outputs)\n",
      " |      >>> model.compile(optimizer=\"Adam\", loss=\"mse\", metrics=[\"mae\"])\n",
      " |      \n",
      " |      >>> x = np.random.random((2, 3))\n",
      " |      >>> y = np.random.randint(0, 2, (2, 2))\n",
      " |      >>> _ = model.fit(x, y, verbose=0)\n",
      " |      >>> assert all(float(m.result()) for m in model.metrics)\n",
      " |      \n",
      " |      >>> model.reset_metrics()\n",
      " |      >>> assert all(float(m.result()) == 0 for m in model.metrics)\n",
      " |  \n",
      " |  reset_states(self)\n",
      " |  \n",
      " |  save_spec(self, dynamic_batch=True)\n",
      " |      Returns the `tf.TensorSpec` of call inputs as a tuple `(args, kwargs)`.\n",
      " |      \n",
      " |      This value is automatically defined after calling the model for the first\n",
      " |      time. Afterwards, you can use it when exporting the model for serving:\n",
      " |      \n",
      " |      ```python\n",
      " |      model = tf.keras.Model(...)\n",
      " |      \n",
      " |      @tf.function\n",
      " |      def serve(*args, **kwargs):\n",
      " |        outputs = model(*args, **kwargs)\n",
      " |        # Apply postprocessing steps, or add additional outputs.\n",
      " |        ...\n",
      " |        return outputs\n",
      " |      \n",
      " |      # arg_specs is `[tf.TensorSpec(...), ...]`. kwarg_specs, in this example, is\n",
      " |      # an empty dict since functional models do not use keyword arguments.\n",
      " |      arg_specs, kwarg_specs = model.save_spec()\n",
      " |      \n",
      " |      model.save(path, signatures={\n",
      " |        'serving_default': serve.get_concrete_function(*arg_specs, **kwarg_specs)\n",
      " |      })\n",
      " |      ```\n",
      " |      \n",
      " |      Args:\n",
      " |        dynamic_batch: Whether to set the batch sizes of all the returned\n",
      " |          `tf.TensorSpec` to `None`. (Note that when defining functional or\n",
      " |          Sequential models with `tf.keras.Input([...], batch_size=X)`, the\n",
      " |          batch size will always be preserved). Defaults to `True`.\n",
      " |      Returns:\n",
      " |        If the model inputs are defined, returns a tuple `(args, kwargs)`. All\n",
      " |        elements in `args` and `kwargs` are `tf.TensorSpec`.\n",
      " |        If the model inputs are not defined, returns `None`.\n",
      " |        The model inputs are automatically set when calling the model,\n",
      " |        `model.fit`, `model.evaluate` or `model.predict`.\n",
      " |  \n",
      " |  save_weights(self, filepath, overwrite=True, save_format=None, options=None)\n",
      " |      Saves all layer weights.\n",
      " |      \n",
      " |      Either saves in HDF5 or in TensorFlow format based on the `save_format`\n",
      " |      argument.\n",
      " |      \n",
      " |      When saving in HDF5 format, the weight file has:\n",
      " |        - `layer_names` (attribute), a list of strings\n",
      " |            (ordered names of model layers).\n",
      " |        - For every layer, a `group` named `layer.name`\n",
      " |            - For every such layer group, a group attribute `weight_names`,\n",
      " |                a list of strings\n",
      " |                (ordered names of weights tensor of the layer).\n",
      " |            - For every weight in the layer, a dataset\n",
      " |                storing the weight value, named after the weight tensor.\n",
      " |      \n",
      " |      When saving in TensorFlow format, all objects referenced by the network are\n",
      " |      saved in the same format as `tf.train.Checkpoint`, including any `Layer`\n",
      " |      instances or `Optimizer` instances assigned to object attributes. For\n",
      " |      networks constructed from inputs and outputs using `tf.keras.Model(inputs,\n",
      " |      outputs)`, `Layer` instances used by the network are tracked/saved\n",
      " |      automatically. For user-defined classes which inherit from `tf.keras.Model`,\n",
      " |      `Layer` instances must be assigned to object attributes, typically in the\n",
      " |      constructor. See the documentation of `tf.train.Checkpoint` and\n",
      " |      `tf.keras.Model` for details.\n",
      " |      \n",
      " |      While the formats are the same, do not mix `save_weights` and\n",
      " |      `tf.train.Checkpoint`. Checkpoints saved by `Model.save_weights` should be\n",
      " |      loaded using `Model.load_weights`. Checkpoints saved using\n",
      " |      `tf.train.Checkpoint.save` should be restored using the corresponding\n",
      " |      `tf.train.Checkpoint.restore`. Prefer `tf.train.Checkpoint` over\n",
      " |      `save_weights` for training checkpoints.\n",
      " |      \n",
      " |      The TensorFlow format matches objects and variables by starting at a root\n",
      " |      object, `self` for `save_weights`, and greedily matching attribute\n",
      " |      names. For `Model.save` this is the `Model`, and for `Checkpoint.save` this\n",
      " |      is the `Checkpoint` even if the `Checkpoint` has a model attached. This\n",
      " |      means saving a `tf.keras.Model` using `save_weights` and loading into a\n",
      " |      `tf.train.Checkpoint` with a `Model` attached (or vice versa) will not match\n",
      " |      the `Model`'s variables. See the\n",
      " |      [guide to training checkpoints](https://www.tensorflow.org/guide/checkpoint)\n",
      " |      for details on the TensorFlow format.\n",
      " |      \n",
      " |      Args:\n",
      " |          filepath: String or PathLike, path to the file to save the weights to.\n",
      " |              When saving in TensorFlow format, this is the prefix used for\n",
      " |              checkpoint files (multiple files are generated). Note that the '.h5'\n",
      " |              suffix causes weights to be saved in HDF5 format.\n",
      " |          overwrite: Whether to silently overwrite any existing file at the\n",
      " |              target location, or provide the user with a manual prompt.\n",
      " |          save_format: Either 'tf' or 'h5'. A `filepath` ending in '.h5' or\n",
      " |              '.keras' will default to HDF5 if `save_format` is `None`. Otherwise\n",
      " |              `None` defaults to 'tf'.\n",
      " |          options: Optional `tf.train.CheckpointOptions` object that specifies\n",
      " |              options for saving weights.\n",
      " |      \n",
      " |      Raises:\n",
      " |          ImportError: If `h5py` is not available when attempting to save in HDF5\n",
      " |              format.\n",
      " |  \n",
      " |  test_on_batch(self, x, y=None, sample_weight=None, reset_metrics=True, return_dict=False)\n",
      " |      Test the model on a single batch of samples.\n",
      " |      \n",
      " |      Args:\n",
      " |          x: Input data. It could be:\n",
      " |            - A Numpy array (or array-like), or a list of arrays (in case the\n",
      " |                model has multiple inputs).\n",
      " |            - A TensorFlow tensor, or a list of tensors (in case the model has\n",
      " |                multiple inputs).\n",
      " |            - A dict mapping input names to the corresponding array/tensors, if\n",
      " |                the model has named inputs.\n",
      " |          y: Target data. Like the input data `x`, it could be either Numpy\n",
      " |            array(s) or TensorFlow tensor(s). It should be consistent with `x`\n",
      " |            (you cannot have Numpy inputs and tensor targets, or inversely).\n",
      " |          sample_weight: Optional array of the same length as x, containing\n",
      " |            weights to apply to the model's loss for each sample. In the case of\n",
      " |            temporal data, you can pass a 2D array with shape (samples,\n",
      " |            sequence_length), to apply a different weight to every timestep of\n",
      " |            every sample.\n",
      " |          reset_metrics: If `True`, the metrics returned will be only for this\n",
      " |            batch. If `False`, the metrics will be statefully accumulated across\n",
      " |            batches.\n",
      " |          return_dict: If `True`, loss and metric results are returned as a dict,\n",
      " |            with each key being the name of the metric. If `False`, they are\n",
      " |            returned as a list.\n",
      " |      \n",
      " |      Returns:\n",
      " |          Scalar test loss (if the model has a single output and no metrics)\n",
      " |          or list of scalars (if the model has multiple outputs\n",
      " |          and/or metrics). The attribute `model.metrics_names` will give you\n",
      " |          the display labels for the scalar outputs.\n",
      " |      \n",
      " |      Raises:\n",
      " |          RuntimeError: If `model.test_on_batch` is wrapped in a `tf.function`.\n",
      " |  \n",
      " |  test_step(self, data)\n",
      " |      The logic for one evaluation step.\n",
      " |      \n",
      " |      This method can be overridden to support custom evaluation logic.\n",
      " |      This method is called by `Model.make_test_function`.\n",
      " |      \n",
      " |      This function should contain the mathematical logic for one step of\n",
      " |      evaluation.\n",
      " |      This typically includes the forward pass, loss calculation, and metrics\n",
      " |      updates.\n",
      " |      \n",
      " |      Configuration details for *how* this logic is run (e.g. `tf.function` and\n",
      " |      `tf.distribute.Strategy` settings), should be left to\n",
      " |      `Model.make_test_function`, which can also be overridden.\n",
      " |      \n",
      " |      Args:\n",
      " |        data: A nested structure of `Tensor`s.\n",
      " |      \n",
      " |      Returns:\n",
      " |        A `dict` containing values that will be passed to\n",
      " |        `tf.keras.callbacks.CallbackList.on_train_batch_end`. Typically, the\n",
      " |        values of the `Model`'s metrics are returned.\n",
      " |  \n",
      " |  to_json(self, **kwargs)\n",
      " |      Returns a JSON string containing the network configuration.\n",
      " |      \n",
      " |      To load a network from a JSON save file, use\n",
      " |      `keras.models.model_from_json(json_string, custom_objects={})`.\n",
      " |      \n",
      " |      Args:\n",
      " |          **kwargs: Additional keyword arguments\n",
      " |              to be passed to `json.dumps()`.\n",
      " |      \n",
      " |      Returns:\n",
      " |          A JSON string.\n",
      " |  \n",
      " |  to_yaml(self, **kwargs)\n",
      " |      Returns a yaml string containing the network configuration.\n",
      " |      \n",
      " |      Note: Since TF 2.6, this method is no longer supported and will raise a\n",
      " |      RuntimeError.\n",
      " |      \n",
      " |      To load a network from a yaml save file, use\n",
      " |      `keras.models.model_from_yaml(yaml_string, custom_objects={})`.\n",
      " |      \n",
      " |      `custom_objects` should be a dictionary mapping\n",
      " |      the names of custom losses / layers / etc to the corresponding\n",
      " |      functions / classes.\n",
      " |      \n",
      " |      Args:\n",
      " |          **kwargs: Additional keyword arguments\n",
      " |              to be passed to `yaml.dump()`.\n",
      " |      \n",
      " |      Returns:\n",
      " |          A YAML string.\n",
      " |      \n",
      " |      Raises:\n",
      " |          RuntimeError: announces that the method poses a security risk\n",
      " |  \n",
      " |  train_on_batch(self, x, y=None, sample_weight=None, class_weight=None, reset_metrics=True, return_dict=False)\n",
      " |      Runs a single gradient update on a single batch of data.\n",
      " |      \n",
      " |      Args:\n",
      " |          x: Input data. It could be:\n",
      " |            - A Numpy array (or array-like), or a list of arrays\n",
      " |                (in case the model has multiple inputs).\n",
      " |            - A TensorFlow tensor, or a list of tensors\n",
      " |                (in case the model has multiple inputs).\n",
      " |            - A dict mapping input names to the corresponding array/tensors,\n",
      " |                if the model has named inputs.\n",
      " |          y: Target data. Like the input data `x`, it could be either Numpy\n",
      " |            array(s) or TensorFlow tensor(s). It should be consistent with `x`\n",
      " |            (you cannot have Numpy inputs and tensor targets, or inversely).\n",
      " |          sample_weight: Optional array of the same length as x, containing\n",
      " |            weights to apply to the model's loss for each sample. In the case of\n",
      " |            temporal data, you can pass a 2D array with shape (samples,\n",
      " |            sequence_length), to apply a different weight to every timestep of\n",
      " |            every sample.\n",
      " |          class_weight: Optional dictionary mapping class indices (integers) to a\n",
      " |            weight (float) to apply to the model's loss for the samples from this\n",
      " |            class during training. This can be useful to tell the model to \"pay\n",
      " |            more attention\" to samples from an under-represented class.\n",
      " |          reset_metrics: If `True`, the metrics returned will be only for this\n",
      " |            batch. If `False`, the metrics will be statefully accumulated across\n",
      " |            batches.\n",
      " |          return_dict: If `True`, loss and metric results are returned as a dict,\n",
      " |            with each key being the name of the metric. If `False`, they are\n",
      " |            returned as a list.\n",
      " |      \n",
      " |      Returns:\n",
      " |          Scalar training loss\n",
      " |          (if the model has a single output and no metrics)\n",
      " |          or list of scalars (if the model has multiple outputs\n",
      " |          and/or metrics). The attribute `model.metrics_names` will give you\n",
      " |          the display labels for the scalar outputs.\n",
      " |      \n",
      " |      Raises:\n",
      " |        RuntimeError: If `model.train_on_batch` is wrapped in a `tf.function`.\n",
      " |  \n",
      " |  ----------------------------------------------------------------------\n",
      " |  Class methods inherited from keras.engine.training.Model:\n",
      " |  \n",
      " |  from_config(config, custom_objects=None) from builtins.type\n",
      " |      Creates a layer from its config.\n",
      " |      \n",
      " |      This method is the reverse of `get_config`,\n",
      " |      capable of instantiating the same layer from the config\n",
      " |      dictionary. It does not handle layer connectivity\n",
      " |      (handled by Network), nor weights (handled by `set_weights`).\n",
      " |      \n",
      " |      Args:\n",
      " |          config: A Python dictionary, typically the\n",
      " |              output of get_config.\n",
      " |      \n",
      " |      Returns:\n",
      " |          A layer instance.\n",
      " |  \n",
      " |  ----------------------------------------------------------------------\n",
      " |  Static methods inherited from keras.engine.training.Model:\n",
      " |  \n",
      " |  __new__(cls, *args, **kwargs)\n",
      " |      Create and return a new object.  See help(type) for accurate signature.\n",
      " |  \n",
      " |  ----------------------------------------------------------------------\n",
      " |  Data descriptors inherited from keras.engine.training.Model:\n",
      " |  \n",
      " |  distribute_strategy\n",
      " |      The `tf.distribute.Strategy` this model was created under.\n",
      " |  \n",
      " |  layers\n",
      " |  \n",
      " |  metrics\n",
      " |      Returns the model's metrics added using `compile()`, `add_metric()` APIs.\n",
      " |      \n",
      " |      Note: Metrics passed to `compile()` are available only after a `keras.Model`\n",
      " |      has been trained/evaluated on actual data.\n",
      " |      \n",
      " |      Examples:\n",
      " |      \n",
      " |      >>> inputs = tf.keras.layers.Input(shape=(3,))\n",
      " |      >>> outputs = tf.keras.layers.Dense(2)(inputs)\n",
      " |      >>> model = tf.keras.models.Model(inputs=inputs, outputs=outputs)\n",
      " |      >>> model.compile(optimizer=\"Adam\", loss=\"mse\", metrics=[\"mae\"])\n",
      " |      >>> [m.name for m in model.metrics]\n",
      " |      []\n",
      " |      \n",
      " |      >>> x = np.random.random((2, 3))\n",
      " |      >>> y = np.random.randint(0, 2, (2, 2))\n",
      " |      >>> model.fit(x, y)\n",
      " |      >>> [m.name for m in model.metrics]\n",
      " |      ['loss', 'mae']\n",
      " |      \n",
      " |      >>> inputs = tf.keras.layers.Input(shape=(3,))\n",
      " |      >>> d = tf.keras.layers.Dense(2, name='out')\n",
      " |      >>> output_1 = d(inputs)\n",
      " |      >>> output_2 = d(inputs)\n",
      " |      >>> model = tf.keras.models.Model(\n",
      " |      ...    inputs=inputs, outputs=[output_1, output_2])\n",
      " |      >>> model.add_metric(\n",
      " |      ...    tf.reduce_sum(output_2), name='mean', aggregation='mean')\n",
      " |      >>> model.compile(optimizer=\"Adam\", loss=\"mse\", metrics=[\"mae\", \"acc\"])\n",
      " |      >>> model.fit(x, (y, y))\n",
      " |      >>> [m.name for m in model.metrics]\n",
      " |      ['loss', 'out_loss', 'out_1_loss', 'out_mae', 'out_acc', 'out_1_mae',\n",
      " |      'out_1_acc', 'mean']\n",
      " |  \n",
      " |  metrics_names\n",
      " |      Returns the model's display labels for all outputs.\n",
      " |      \n",
      " |      Note: `metrics_names` are available only after a `keras.Model` has been\n",
      " |      trained/evaluated on actual data.\n",
      " |      \n",
      " |      Examples:\n",
      " |      \n",
      " |      >>> inputs = tf.keras.layers.Input(shape=(3,))\n",
      " |      >>> outputs = tf.keras.layers.Dense(2)(inputs)\n",
      " |      >>> model = tf.keras.models.Model(inputs=inputs, outputs=outputs)\n",
      " |      >>> model.compile(optimizer=\"Adam\", loss=\"mse\", metrics=[\"mae\"])\n",
      " |      >>> model.metrics_names\n",
      " |      []\n",
      " |      \n",
      " |      >>> x = np.random.random((2, 3))\n",
      " |      >>> y = np.random.randint(0, 2, (2, 2))\n",
      " |      >>> model.fit(x, y)\n",
      " |      >>> model.metrics_names\n",
      " |      ['loss', 'mae']\n",
      " |      \n",
      " |      >>> inputs = tf.keras.layers.Input(shape=(3,))\n",
      " |      >>> d = tf.keras.layers.Dense(2, name='out')\n",
      " |      >>> output_1 = d(inputs)\n",
      " |      >>> output_2 = d(inputs)\n",
      " |      >>> model = tf.keras.models.Model(\n",
      " |      ...    inputs=inputs, outputs=[output_1, output_2])\n",
      " |      >>> model.compile(optimizer=\"Adam\", loss=\"mse\", metrics=[\"mae\", \"acc\"])\n",
      " |      >>> model.fit(x, (y, y))\n",
      " |      >>> model.metrics_names\n",
      " |      ['loss', 'out_loss', 'out_1_loss', 'out_mae', 'out_acc', 'out_1_mae',\n",
      " |      'out_1_acc']\n",
      " |  \n",
      " |  non_trainable_weights\n",
      " |      List of all non-trainable weights tracked by this layer.\n",
      " |      \n",
      " |      Non-trainable weights are *not* updated during training. They are expected\n",
      " |      to be updated manually in `call()`.\n",
      " |      \n",
      " |      Returns:\n",
      " |        A list of non-trainable variables.\n",
      " |  \n",
      " |  run_eagerly\n",
      " |      Settable attribute indicating whether the model should run eagerly.\n",
      " |      \n",
      " |      Running eagerly means that your model will be run step by step,\n",
      " |      like Python code. Your model might run slower, but it should become easier\n",
      " |      for you to debug it by stepping into individual layer calls.\n",
      " |      \n",
      " |      By default, we will attempt to compile your model to a static graph to\n",
      " |      deliver the best execution performance.\n",
      " |      \n",
      " |      Returns:\n",
      " |        Boolean, whether the model should run eagerly.\n",
      " |  \n",
      " |  state_updates\n",
      " |      Deprecated, do NOT use!\n",
      " |      \n",
      " |      Returns the `updates` from all layers that are stateful.\n",
      " |      \n",
      " |      This is useful for separating training updates and\n",
      " |      state updates, e.g. when we need to update a layer's internal state\n",
      " |      during prediction.\n",
      " |      \n",
      " |      Returns:\n",
      " |          A list of update ops.\n",
      " |  \n",
      " |  trainable_weights\n",
      " |      List of all trainable weights tracked by this layer.\n",
      " |      \n",
      " |      Trainable weights are updated via gradient descent during training.\n",
      " |      \n",
      " |      Returns:\n",
      " |        A list of trainable variables.\n",
      " |  \n",
      " |  weights\n",
      " |      Returns the list of all layer variables/weights.\n",
      " |      \n",
      " |      Note: This will not track the weights of nested `tf.Modules` that are not\n",
      " |      themselves Keras layers.\n",
      " |      \n",
      " |      Returns:\n",
      " |        A list of variables.\n",
      " |  \n",
      " |  ----------------------------------------------------------------------\n",
      " |  Methods inherited from keras.engine.base_layer.Layer:\n",
      " |  \n",
      " |  __call__(self, *args, **kwargs)\n",
      " |      Wraps `call`, applying pre- and post-processing steps.\n",
      " |      \n",
      " |      Args:\n",
      " |        *args: Positional arguments to be passed to `self.call`.\n",
      " |        **kwargs: Keyword arguments to be passed to `self.call`.\n",
      " |      \n",
      " |      Returns:\n",
      " |        Output tensor(s).\n",
      " |      \n",
      " |      Note:\n",
      " |        - The following optional keyword arguments are reserved for specific uses:\n",
      " |          * `training`: Boolean scalar tensor of Python boolean indicating\n",
      " |            whether the `call` is meant for training or inference.\n",
      " |          * `mask`: Boolean input mask.\n",
      " |        - If the layer's `call` method takes a `mask` argument (as some Keras\n",
      " |          layers do), its default value will be set to the mask generated\n",
      " |          for `inputs` by the previous layer (if `input` did come from\n",
      " |          a layer that generated a corresponding mask, i.e. if it came from\n",
      " |          a Keras layer with masking support.\n",
      " |        - If the layer is not built, the method will call `build`.\n",
      " |      \n",
      " |      Raises:\n",
      " |        ValueError: if the layer's `call` method returns None (an invalid value).\n",
      " |        RuntimeError: if `super().__init__()` was not called in the constructor.\n",
      " |  \n",
      " |  __delattr__(self, name)\n",
      " |      Implement delattr(self, name).\n",
      " |  \n",
      " |  __getstate__(self)\n",
      " |  \n",
      " |  __setstate__(self, state)\n",
      " |  \n",
      " |  add_loss(self, losses, **kwargs)\n",
      " |      Add loss tensor(s), potentially dependent on layer inputs.\n",
      " |      \n",
      " |      Some losses (for instance, activity regularization losses) may be dependent\n",
      " |      on the inputs passed when calling a layer. Hence, when reusing the same\n",
      " |      layer on different inputs `a` and `b`, some entries in `layer.losses` may\n",
      " |      be dependent on `a` and some on `b`. This method automatically keeps track\n",
      " |      of dependencies.\n",
      " |      \n",
      " |      This method can be used inside a subclassed layer or model's `call`\n",
      " |      function, in which case `losses` should be a Tensor or list of Tensors.\n",
      " |      \n",
      " |      Example:\n",
      " |      \n",
      " |      ```python\n",
      " |      class MyLayer(tf.keras.layers.Layer):\n",
      " |        def call(self, inputs):\n",
      " |          self.add_loss(tf.abs(tf.reduce_mean(inputs)))\n",
      " |          return inputs\n",
      " |      ```\n",
      " |      \n",
      " |      This method can also be called directly on a Functional Model during\n",
      " |      construction. In this case, any loss Tensors passed to this Model must\n",
      " |      be symbolic and be able to be traced back to the model's `Input`s. These\n",
      " |      losses become part of the model's topology and are tracked in `get_config`.\n",
      " |      \n",
      " |      Example:\n",
      " |      \n",
      " |      ```python\n",
      " |      inputs = tf.keras.Input(shape=(10,))\n",
      " |      x = tf.keras.layers.Dense(10)(inputs)\n",
      " |      outputs = tf.keras.layers.Dense(1)(x)\n",
      " |      model = tf.keras.Model(inputs, outputs)\n",
      " |      # Activity regularization.\n",
      " |      model.add_loss(tf.abs(tf.reduce_mean(x)))\n",
      " |      ```\n",
      " |      \n",
      " |      If this is not the case for your loss (if, for example, your loss references\n",
      " |      a `Variable` of one of the model's layers), you can wrap your loss in a\n",
      " |      zero-argument lambda. These losses are not tracked as part of the model's\n",
      " |      topology since they can't be serialized.\n",
      " |      \n",
      " |      Example:\n",
      " |      \n",
      " |      ```python\n",
      " |      inputs = tf.keras.Input(shape=(10,))\n",
      " |      d = tf.keras.layers.Dense(10)\n",
      " |      x = d(inputs)\n",
      " |      outputs = tf.keras.layers.Dense(1)(x)\n",
      " |      model = tf.keras.Model(inputs, outputs)\n",
      " |      # Weight regularization.\n",
      " |      model.add_loss(lambda: tf.reduce_mean(d.kernel))\n",
      " |      ```\n",
      " |      \n",
      " |      Args:\n",
      " |        losses: Loss tensor, or list/tuple of tensors. Rather than tensors, losses\n",
      " |          may also be zero-argument callables which create a loss tensor.\n",
      " |        **kwargs: Additional keyword arguments for backward compatibility.\n",
      " |          Accepted values:\n",
      " |            inputs - Deprecated, will be automatically inferred.\n",
      " |  \n",
      " |  add_metric(self, value, name=None, **kwargs)\n",
      " |      Adds metric tensor to the layer.\n",
      " |      \n",
      " |      This method can be used inside the `call()` method of a subclassed layer\n",
      " |      or model.\n",
      " |      \n",
      " |      ```python\n",
      " |      class MyMetricLayer(tf.keras.layers.Layer):\n",
      " |        def __init__(self):\n",
      " |          super(MyMetricLayer, self).__init__(name='my_metric_layer')\n",
      " |          self.mean = tf.keras.metrics.Mean(name='metric_1')\n",
      " |      \n",
      " |        def call(self, inputs):\n",
      " |          self.add_metric(self.mean(inputs))\n",
      " |          self.add_metric(tf.reduce_sum(inputs), name='metric_2')\n",
      " |          return inputs\n",
      " |      ```\n",
      " |      \n",
      " |      This method can also be called directly on a Functional Model during\n",
      " |      construction. In this case, any tensor passed to this Model must\n",
      " |      be symbolic and be able to be traced back to the model's `Input`s. These\n",
      " |      metrics become part of the model's topology and are tracked when you\n",
      " |      save the model via `save()`.\n",
      " |      \n",
      " |      ```python\n",
      " |      inputs = tf.keras.Input(shape=(10,))\n",
      " |      x = tf.keras.layers.Dense(10)(inputs)\n",
      " |      outputs = tf.keras.layers.Dense(1)(x)\n",
      " |      model = tf.keras.Model(inputs, outputs)\n",
      " |      model.add_metric(math_ops.reduce_sum(x), name='metric_1')\n",
      " |      ```\n",
      " |      \n",
      " |      Note: Calling `add_metric()` with the result of a metric object on a\n",
      " |      Functional Model, as shown in the example below, is not supported. This is\n",
      " |      because we cannot trace the metric result tensor back to the model's inputs.\n",
      " |      \n",
      " |      ```python\n",
      " |      inputs = tf.keras.Input(shape=(10,))\n",
      " |      x = tf.keras.layers.Dense(10)(inputs)\n",
      " |      outputs = tf.keras.layers.Dense(1)(x)\n",
      " |      model = tf.keras.Model(inputs, outputs)\n",
      " |      model.add_metric(tf.keras.metrics.Mean()(x), name='metric_1')\n",
      " |      ```\n",
      " |      \n",
      " |      Args:\n",
      " |        value: Metric tensor.\n",
      " |        name: String metric name.\n",
      " |        **kwargs: Additional keyword arguments for backward compatibility.\n",
      " |          Accepted values:\n",
      " |          `aggregation` - When the `value` tensor provided is not the result of\n",
      " |          calling a `keras.Metric` instance, it will be aggregated by default\n",
      " |          using a `keras.Metric.Mean`.\n",
      " |  \n",
      " |  add_update(self, updates, inputs=None)\n",
      " |      Add update op(s), potentially dependent on layer inputs.\n",
      " |      \n",
      " |      Weight updates (for instance, the updates of the moving mean and variance\n",
      " |      in a BatchNormalization layer) may be dependent on the inputs passed\n",
      " |      when calling a layer. Hence, when reusing the same layer on\n",
      " |      different inputs `a` and `b`, some entries in `layer.updates` may be\n",
      " |      dependent on `a` and some on `b`. This method automatically keeps track\n",
      " |      of dependencies.\n",
      " |      \n",
      " |      This call is ignored when eager execution is enabled (in that case, variable\n",
      " |      updates are run on the fly and thus do not need to be tracked for later\n",
      " |      execution).\n",
      " |      \n",
      " |      Args:\n",
      " |        updates: Update op, or list/tuple of update ops, or zero-arg callable\n",
      " |          that returns an update op. A zero-arg callable should be passed in\n",
      " |          order to disable running the updates by setting `trainable=False`\n",
      " |          on this Layer, when executing in Eager mode.\n",
      " |        inputs: Deprecated, will be automatically inferred.\n",
      " |  \n",
      " |  add_variable(self, *args, **kwargs)\n",
      " |      Deprecated, do NOT use! Alias for `add_weight`.\n",
      " |  \n",
      " |  add_weight(self, name=None, shape=None, dtype=None, initializer=None, regularizer=None, trainable=None, constraint=None, use_resource=None, synchronization=<VariableSynchronization.AUTO: 0>, aggregation=<VariableAggregationV2.NONE: 0>, **kwargs)\n",
      " |      Adds a new variable to the layer.\n",
      " |      \n",
      " |      Args:\n",
      " |        name: Variable name.\n",
      " |        shape: Variable shape. Defaults to scalar if unspecified.\n",
      " |        dtype: The type of the variable. Defaults to `self.dtype`.\n",
      " |        initializer: Initializer instance (callable).\n",
      " |        regularizer: Regularizer instance (callable).\n",
      " |        trainable: Boolean, whether the variable should be part of the layer's\n",
      " |          \"trainable_variables\" (e.g. variables, biases)\n",
      " |          or \"non_trainable_variables\" (e.g. BatchNorm mean and variance).\n",
      " |          Note that `trainable` cannot be `True` if `synchronization`\n",
      " |          is set to `ON_READ`.\n",
      " |        constraint: Constraint instance (callable).\n",
      " |        use_resource: Whether to use `ResourceVariable`.\n",
      " |        synchronization: Indicates when a distributed a variable will be\n",
      " |          aggregated. Accepted values are constants defined in the class\n",
      " |          `tf.VariableSynchronization`. By default the synchronization is set to\n",
      " |          `AUTO` and the current `DistributionStrategy` chooses\n",
      " |          when to synchronize. If `synchronization` is set to `ON_READ`,\n",
      " |          `trainable` must not be set to `True`.\n",
      " |        aggregation: Indicates how a distributed variable will be aggregated.\n",
      " |          Accepted values are constants defined in the class\n",
      " |          `tf.VariableAggregation`.\n",
      " |        **kwargs: Additional keyword arguments. Accepted values are `getter`,\n",
      " |          `collections`, `experimental_autocast` and `caching_device`.\n",
      " |      \n",
      " |      Returns:\n",
      " |        The variable created.\n",
      " |      \n",
      " |      Raises:\n",
      " |        ValueError: When giving unsupported dtype and no initializer or when\n",
      " |          trainable has been set to True with synchronization set as `ON_READ`.\n",
      " |  \n",
      " |  apply(self, inputs, *args, **kwargs)\n",
      " |      Deprecated, do NOT use!\n",
      " |      \n",
      " |      This is an alias of `self.__call__`.\n",
      " |      \n",
      " |      Args:\n",
      " |        inputs: Input tensor(s).\n",
      " |        *args: additional positional arguments to be passed to `self.call`.\n",
      " |        **kwargs: additional keyword arguments to be passed to `self.call`.\n",
      " |      \n",
      " |      Returns:\n",
      " |        Output tensor(s).\n",
      " |  \n",
      " |  compute_mask(self, inputs, mask=None)\n",
      " |      Computes an output mask tensor.\n",
      " |      \n",
      " |      Args:\n",
      " |          inputs: Tensor or list of tensors.\n",
      " |          mask: Tensor or list of tensors.\n",
      " |      \n",
      " |      Returns:\n",
      " |          None or a tensor (or list of tensors,\n",
      " |              one per output tensor of the layer).\n",
      " |  \n",
      " |  compute_output_shape(self, input_shape)\n",
      " |      Computes the output shape of the layer.\n",
      " |      \n",
      " |      If the layer has not been built, this method will call `build` on the\n",
      " |      layer. This assumes that the layer will later be used with inputs that\n",
      " |      match the input shape provided here.\n",
      " |      \n",
      " |      Args:\n",
      " |          input_shape: Shape tuple (tuple of integers)\n",
      " |              or list of shape tuples (one per output tensor of the layer).\n",
      " |              Shape tuples can include None for free dimensions,\n",
      " |              instead of an integer.\n",
      " |      \n",
      " |      Returns:\n",
      " |          An input shape tuple.\n",
      " |  \n",
      " |  compute_output_signature(self, input_signature)\n",
      " |      Compute the output tensor signature of the layer based on the inputs.\n",
      " |      \n",
      " |      Unlike a TensorShape object, a TensorSpec object contains both shape\n",
      " |      and dtype information for a tensor. This method allows layers to provide\n",
      " |      output dtype information if it is different from the input dtype.\n",
      " |      For any layer that doesn't implement this function,\n",
      " |      the framework will fall back to use `compute_output_shape`, and will\n",
      " |      assume that the output dtype matches the input dtype.\n",
      " |      \n",
      " |      Args:\n",
      " |        input_signature: Single TensorSpec or nested structure of TensorSpec\n",
      " |          objects, describing a candidate input for the layer.\n",
      " |      \n",
      " |      Returns:\n",
      " |        Single TensorSpec or nested structure of TensorSpec objects, describing\n",
      " |          how the layer would transform the provided input.\n",
      " |      \n",
      " |      Raises:\n",
      " |        TypeError: If input_signature contains a non-TensorSpec object.\n",
      " |  \n",
      " |  count_params(self)\n",
      " |      Count the total number of scalars composing the weights.\n",
      " |      \n",
      " |      Returns:\n",
      " |          An integer count.\n",
      " |      \n",
      " |      Raises:\n",
      " |          ValueError: if the layer isn't yet built\n",
      " |            (in which case its weights aren't yet defined).\n",
      " |  \n",
      " |  finalize_state(self)\n",
      " |      Finalizes the layers state after updating layer weights.\n",
      " |      \n",
      " |      This function can be subclassed in a layer and will be called after updating\n",
      " |      a layer weights. It can be overridden to finalize any additional layer state\n",
      " |      after a weight update.\n",
      " |  \n",
      " |  get_input_at(self, node_index)\n",
      " |      Retrieves the input tensor(s) of a layer at a given node.\n",
      " |      \n",
      " |      Args:\n",
      " |          node_index: Integer, index of the node\n",
      " |              from which to retrieve the attribute.\n",
      " |              E.g. `node_index=0` will correspond to the\n",
      " |              first input node of the layer.\n",
      " |      \n",
      " |      Returns:\n",
      " |          A tensor (or list of tensors if the layer has multiple inputs).\n",
      " |      \n",
      " |      Raises:\n",
      " |        RuntimeError: If called in Eager mode.\n",
      " |  \n",
      " |  get_input_mask_at(self, node_index)\n",
      " |      Retrieves the input mask tensor(s) of a layer at a given node.\n",
      " |      \n",
      " |      Args:\n",
      " |          node_index: Integer, index of the node\n",
      " |              from which to retrieve the attribute.\n",
      " |              E.g. `node_index=0` will correspond to the\n",
      " |              first time the layer was called.\n",
      " |      \n",
      " |      Returns:\n",
      " |          A mask tensor\n",
      " |          (or list of tensors if the layer has multiple inputs).\n",
      " |  \n",
      " |  get_input_shape_at(self, node_index)\n",
      " |      Retrieves the input shape(s) of a layer at a given node.\n",
      " |      \n",
      " |      Args:\n",
      " |          node_index: Integer, index of the node\n",
      " |              from which to retrieve the attribute.\n",
      " |              E.g. `node_index=0` will correspond to the\n",
      " |              first time the layer was called.\n",
      " |      \n",
      " |      Returns:\n",
      " |          A shape tuple\n",
      " |          (or list of shape tuples if the layer has multiple inputs).\n",
      " |      \n",
      " |      Raises:\n",
      " |        RuntimeError: If called in Eager mode.\n",
      " |  \n",
      " |  get_losses_for(self, inputs)\n",
      " |      Deprecated, do NOT use!\n",
      " |      \n",
      " |      Retrieves losses relevant to a specific set of inputs.\n",
      " |      \n",
      " |      Args:\n",
      " |        inputs: Input tensor or list/tuple of input tensors.\n",
      " |      \n",
      " |      Returns:\n",
      " |        List of loss tensors of the layer that depend on `inputs`.\n",
      " |  \n",
      " |  get_output_at(self, node_index)\n",
      " |      Retrieves the output tensor(s) of a layer at a given node.\n",
      " |      \n",
      " |      Args:\n",
      " |          node_index: Integer, index of the node\n",
      " |              from which to retrieve the attribute.\n",
      " |              E.g. `node_index=0` will correspond to the\n",
      " |              first output node of the layer.\n",
      " |      \n",
      " |      Returns:\n",
      " |          A tensor (or list of tensors if the layer has multiple outputs).\n",
      " |      \n",
      " |      Raises:\n",
      " |        RuntimeError: If called in Eager mode.\n",
      " |  \n",
      " |  get_output_mask_at(self, node_index)\n",
      " |      Retrieves the output mask tensor(s) of a layer at a given node.\n",
      " |      \n",
      " |      Args:\n",
      " |          node_index: Integer, index of the node\n",
      " |              from which to retrieve the attribute.\n",
      " |              E.g. `node_index=0` will correspond to the\n",
      " |              first time the layer was called.\n",
      " |      \n",
      " |      Returns:\n",
      " |          A mask tensor\n",
      " |          (or list of tensors if the layer has multiple outputs).\n",
      " |  \n",
      " |  get_output_shape_at(self, node_index)\n",
      " |      Retrieves the output shape(s) of a layer at a given node.\n",
      " |      \n",
      " |      Args:\n",
      " |          node_index: Integer, index of the node\n",
      " |              from which to retrieve the attribute.\n",
      " |              E.g. `node_index=0` will correspond to the\n",
      " |              first time the layer was called.\n",
      " |      \n",
      " |      Returns:\n",
      " |          A shape tuple\n",
      " |          (or list of shape tuples if the layer has multiple outputs).\n",
      " |      \n",
      " |      Raises:\n",
      " |        RuntimeError: If called in Eager mode.\n",
      " |  \n",
      " |  get_updates_for(self, inputs)\n",
      " |      Deprecated, do NOT use!\n",
      " |      \n",
      " |      Retrieves updates relevant to a specific set of inputs.\n",
      " |      \n",
      " |      Args:\n",
      " |        inputs: Input tensor or list/tuple of input tensors.\n",
      " |      \n",
      " |      Returns:\n",
      " |        List of update ops of the layer that depend on `inputs`.\n",
      " |  \n",
      " |  set_weights(self, weights)\n",
      " |      Sets the weights of the layer, from NumPy arrays.\n",
      " |      \n",
      " |      The weights of a layer represent the state of the layer. This function\n",
      " |      sets the weight values from numpy arrays. The weight values should be\n",
      " |      passed in the order they are created by the layer. Note that the layer's\n",
      " |      weights must be instantiated before calling this function, by calling\n",
      " |      the layer.\n",
      " |      \n",
      " |      For example, a `Dense` layer returns a list of two values: the kernel matrix\n",
      " |      and the bias vector. These can be used to set the weights of another\n",
      " |      `Dense` layer:\n",
      " |      \n",
      " |      >>> layer_a = tf.keras.layers.Dense(1,\n",
      " |      ...   kernel_initializer=tf.constant_initializer(1.))\n",
      " |      >>> a_out = layer_a(tf.convert_to_tensor([[1., 2., 3.]]))\n",
      " |      >>> layer_a.get_weights()\n",
      " |      [array([[1.],\n",
      " |             [1.],\n",
      " |             [1.]], dtype=float32), array([0.], dtype=float32)]\n",
      " |      >>> layer_b = tf.keras.layers.Dense(1,\n",
      " |      ...   kernel_initializer=tf.constant_initializer(2.))\n",
      " |      >>> b_out = layer_b(tf.convert_to_tensor([[10., 20., 30.]]))\n",
      " |      >>> layer_b.get_weights()\n",
      " |      [array([[2.],\n",
      " |             [2.],\n",
      " |             [2.]], dtype=float32), array([0.], dtype=float32)]\n",
      " |      >>> layer_b.set_weights(layer_a.get_weights())\n",
      " |      >>> layer_b.get_weights()\n",
      " |      [array([[1.],\n",
      " |             [1.],\n",
      " |             [1.]], dtype=float32), array([0.], dtype=float32)]\n",
      " |      \n",
      " |      Args:\n",
      " |        weights: a list of NumPy arrays. The number\n",
      " |          of arrays and their shape must match\n",
      " |          number of the dimensions of the weights\n",
      " |          of the layer (i.e. it should match the\n",
      " |          output of `get_weights`).\n",
      " |      \n",
      " |      Raises:\n",
      " |        ValueError: If the provided weights list does not match the\n",
      " |          layer's specifications.\n",
      " |  \n",
      " |  ----------------------------------------------------------------------\n",
      " |  Data descriptors inherited from keras.engine.base_layer.Layer:\n",
      " |  \n",
      " |  activity_regularizer\n",
      " |      Optional regularizer function for the output of this layer.\n",
      " |  \n",
      " |  compute_dtype\n",
      " |      The dtype of the layer's computations.\n",
      " |      \n",
      " |      This is equivalent to `Layer.dtype_policy.compute_dtype`. Unless\n",
      " |      mixed precision is used, this is the same as `Layer.dtype`, the dtype of\n",
      " |      the weights.\n",
      " |      \n",
      " |      Layers automatically cast their inputs to the compute dtype, which causes\n",
      " |      computations and the output to be in the compute dtype as well. This is done\n",
      " |      by the base Layer class in `Layer.__call__`, so you do not have to insert\n",
      " |      these casts if implementing your own layer.\n",
      " |      \n",
      " |      Layers often perform certain internal computations in higher precision when\n",
      " |      `compute_dtype` is float16 or bfloat16 for numeric stability. The output\n",
      " |      will still typically be float16 or bfloat16 in such cases.\n",
      " |      \n",
      " |      Returns:\n",
      " |        The layer's compute dtype.\n",
      " |  \n",
      " |  dtype\n",
      " |      The dtype of the layer weights.\n",
      " |      \n",
      " |      This is equivalent to `Layer.dtype_policy.variable_dtype`. Unless\n",
      " |      mixed precision is used, this is the same as `Layer.compute_dtype`, the\n",
      " |      dtype of the layer's computations.\n",
      " |  \n",
      " |  dtype_policy\n",
      " |      The dtype policy associated with this layer.\n",
      " |      \n",
      " |      This is an instance of a `tf.keras.mixed_precision.Policy`.\n",
      " |  \n",
      " |  dynamic\n",
      " |      Whether the layer is dynamic (eager-only); set in the constructor.\n",
      " |  \n",
      " |  inbound_nodes\n",
      " |      Deprecated, do NOT use! Only for compatibility with external Keras.\n",
      " |  \n",
      " |  input\n",
      " |      Retrieves the input tensor(s) of a layer.\n",
      " |      \n",
      " |      Only applicable if the layer has exactly one input,\n",
      " |      i.e. if it is connected to one incoming layer.\n",
      " |      \n",
      " |      Returns:\n",
      " |          Input tensor or list of input tensors.\n",
      " |      \n",
      " |      Raises:\n",
      " |        RuntimeError: If called in Eager mode.\n",
      " |        AttributeError: If no inbound nodes are found.\n",
      " |  \n",
      " |  input_mask\n",
      " |      Retrieves the input mask tensor(s) of a layer.\n",
      " |      \n",
      " |      Only applicable if the layer has exactly one inbound node,\n",
      " |      i.e. if it is connected to one incoming layer.\n",
      " |      \n",
      " |      Returns:\n",
      " |          Input mask tensor (potentially None) or list of input\n",
      " |          mask tensors.\n",
      " |      \n",
      " |      Raises:\n",
      " |          AttributeError: if the layer is connected to\n",
      " |          more than one incoming layers.\n",
      " |  \n",
      " |  input_shape\n",
      " |      Retrieves the input shape(s) of a layer.\n",
      " |      \n",
      " |      Only applicable if the layer has exactly one input,\n",
      " |      i.e. if it is connected to one incoming layer, or if all inputs\n",
      " |      have the same shape.\n",
      " |      \n",
      " |      Returns:\n",
      " |          Input shape, as an integer shape tuple\n",
      " |          (or list of shape tuples, one tuple per input tensor).\n",
      " |      \n",
      " |      Raises:\n",
      " |          AttributeError: if the layer has no defined input_shape.\n",
      " |          RuntimeError: if called in Eager mode.\n",
      " |  \n",
      " |  input_spec\n",
      " |      `InputSpec` instance(s) describing the input format for this layer.\n",
      " |      \n",
      " |      When you create a layer subclass, you can set `self.input_spec` to enable\n",
      " |      the layer to run input compatibility checks when it is called.\n",
      " |      Consider a `Conv2D` layer: it can only be called on a single input tensor\n",
      " |      of rank 4. As such, you can set, in `__init__()`:\n",
      " |      \n",
      " |      ```python\n",
      " |      self.input_spec = tf.keras.layers.InputSpec(ndim=4)\n",
      " |      ```\n",
      " |      \n",
      " |      Now, if you try to call the layer on an input that isn't rank 4\n",
      " |      (for instance, an input of shape `(2,)`, it will raise a nicely-formatted\n",
      " |      error:\n",
      " |      \n",
      " |      ```\n",
      " |      ValueError: Input 0 of layer conv2d is incompatible with the layer:\n",
      " |      expected ndim=4, found ndim=1. Full shape received: [2]\n",
      " |      ```\n",
      " |      \n",
      " |      Input checks that can be specified via `input_spec` include:\n",
      " |      - Structure (e.g. a single input, a list of 2 inputs, etc)\n",
      " |      - Shape\n",
      " |      - Rank (ndim)\n",
      " |      - Dtype\n",
      " |      \n",
      " |      For more information, see `tf.keras.layers.InputSpec`.\n",
      " |      \n",
      " |      Returns:\n",
      " |        A `tf.keras.layers.InputSpec` instance, or nested structure thereof.\n",
      " |  \n",
      " |  losses\n",
      " |      List of losses added using the `add_loss()` API.\n",
      " |      \n",
      " |      Variable regularization tensors are created when this property is accessed,\n",
      " |      so it is eager safe: accessing `losses` under a `tf.GradientTape` will\n",
      " |      propagate gradients back to the corresponding variables.\n",
      " |      \n",
      " |      Examples:\n",
      " |      \n",
      " |      >>> class MyLayer(tf.keras.layers.Layer):\n",
      " |      ...   def call(self, inputs):\n",
      " |      ...     self.add_loss(tf.abs(tf.reduce_mean(inputs)))\n",
      " |      ...     return inputs\n",
      " |      >>> l = MyLayer()\n",
      " |      >>> l(np.ones((10, 1)))\n",
      " |      >>> l.losses\n",
      " |      [1.0]\n",
      " |      \n",
      " |      >>> inputs = tf.keras.Input(shape=(10,))\n",
      " |      >>> x = tf.keras.layers.Dense(10)(inputs)\n",
      " |      >>> outputs = tf.keras.layers.Dense(1)(x)\n",
      " |      >>> model = tf.keras.Model(inputs, outputs)\n",
      " |      >>> # Activity regularization.\n",
      " |      >>> len(model.losses)\n",
      " |      0\n",
      " |      >>> model.add_loss(tf.abs(tf.reduce_mean(x)))\n",
      " |      >>> len(model.losses)\n",
      " |      1\n",
      " |      \n",
      " |      >>> inputs = tf.keras.Input(shape=(10,))\n",
      " |      >>> d = tf.keras.layers.Dense(10, kernel_initializer='ones')\n",
      " |      >>> x = d(inputs)\n",
      " |      >>> outputs = tf.keras.layers.Dense(1)(x)\n",
      " |      >>> model = tf.keras.Model(inputs, outputs)\n",
      " |      >>> # Weight regularization.\n",
      " |      >>> model.add_loss(lambda: tf.reduce_mean(d.kernel))\n",
      " |      >>> model.losses\n",
      " |      [<tf.Tensor: shape=(), dtype=float32, numpy=1.0>]\n",
      " |      \n",
      " |      Returns:\n",
      " |        A list of tensors.\n",
      " |  \n",
      " |  name\n",
      " |      Name of the layer (string), set in the constructor.\n",
      " |  \n",
      " |  non_trainable_variables\n",
      " |      Sequence of non-trainable variables owned by this module and its submodules.\n",
      " |      \n",
      " |      Note: this method uses reflection to find variables on the current instance\n",
      " |      and submodules. For performance reasons you may wish to cache the result\n",
      " |      of calling this method if you don't expect the return value to change.\n",
      " |      \n",
      " |      Returns:\n",
      " |        A sequence of variables for the current module (sorted by attribute\n",
      " |        name) followed by variables from all submodules recursively (breadth\n",
      " |        first).\n",
      " |  \n",
      " |  outbound_nodes\n",
      " |      Deprecated, do NOT use! Only for compatibility with external Keras.\n",
      " |  \n",
      " |  output\n",
      " |      Retrieves the output tensor(s) of a layer.\n",
      " |      \n",
      " |      Only applicable if the layer has exactly one output,\n",
      " |      i.e. if it is connected to one incoming layer.\n",
      " |      \n",
      " |      Returns:\n",
      " |        Output tensor or list of output tensors.\n",
      " |      \n",
      " |      Raises:\n",
      " |        AttributeError: if the layer is connected to more than one incoming\n",
      " |          layers.\n",
      " |        RuntimeError: if called in Eager mode.\n",
      " |  \n",
      " |  output_mask\n",
      " |      Retrieves the output mask tensor(s) of a layer.\n",
      " |      \n",
      " |      Only applicable if the layer has exactly one inbound node,\n",
      " |      i.e. if it is connected to one incoming layer.\n",
      " |      \n",
      " |      Returns:\n",
      " |          Output mask tensor (potentially None) or list of output\n",
      " |          mask tensors.\n",
      " |      \n",
      " |      Raises:\n",
      " |          AttributeError: if the layer is connected to\n",
      " |          more than one incoming layers.\n",
      " |  \n",
      " |  output_shape\n",
      " |      Retrieves the output shape(s) of a layer.\n",
      " |      \n",
      " |      Only applicable if the layer has one output,\n",
      " |      or if all outputs have the same shape.\n",
      " |      \n",
      " |      Returns:\n",
      " |          Output shape, as an integer shape tuple\n",
      " |          (or list of shape tuples, one tuple per output tensor).\n",
      " |      \n",
      " |      Raises:\n",
      " |          AttributeError: if the layer has no defined output shape.\n",
      " |          RuntimeError: if called in Eager mode.\n",
      " |  \n",
      " |  stateful\n",
      " |  \n",
      " |  supports_masking\n",
      " |      Whether this layer supports computing a mask using `compute_mask`.\n",
      " |  \n",
      " |  trainable\n",
      " |  \n",
      " |  trainable_variables\n",
      " |      Sequence of trainable variables owned by this module and its submodules.\n",
      " |      \n",
      " |      Note: this method uses reflection to find variables on the current instance\n",
      " |      and submodules. For performance reasons you may wish to cache the result\n",
      " |      of calling this method if you don't expect the return value to change.\n",
      " |      \n",
      " |      Returns:\n",
      " |        A sequence of variables for the current module (sorted by attribute\n",
      " |        name) followed by variables from all submodules recursively (breadth\n",
      " |        first).\n",
      " |  \n",
      " |  updates\n",
      " |  \n",
      " |  variable_dtype\n",
      " |      Alias of `Layer.dtype`, the dtype of the weights.\n",
      " |  \n",
      " |  variables\n",
      " |      Returns the list of all layer variables/weights.\n",
      " |      \n",
      " |      Alias of `self.weights`.\n",
      " |      \n",
      " |      Note: This will not track the weights of nested `tf.Modules` that are not\n",
      " |      themselves Keras layers.\n",
      " |      \n",
      " |      Returns:\n",
      " |        A list of variables.\n",
      " |  \n",
      " |  ----------------------------------------------------------------------\n",
      " |  Class methods inherited from tensorflow.python.module.module.Module:\n",
      " |  \n",
      " |  with_name_scope(method) from builtins.type\n",
      " |      Decorator to automatically enter the module name scope.\n",
      " |      \n",
      " |      >>> class MyModule(tf.Module):\n",
      " |      ...   @tf.Module.with_name_scope\n",
      " |      ...   def __call__(self, x):\n",
      " |      ...     if not hasattr(self, 'w'):\n",
      " |      ...       self.w = tf.Variable(tf.random.normal([x.shape[1], 3]))\n",
      " |      ...     return tf.matmul(x, self.w)\n",
      " |      \n",
      " |      Using the above module would produce `tf.Variable`s and `tf.Tensor`s whose\n",
      " |      names included the module name:\n",
      " |      \n",
      " |      >>> mod = MyModule()\n",
      " |      >>> mod(tf.ones([1, 2]))\n",
      " |      <tf.Tensor: shape=(1, 3), dtype=float32, numpy=..., dtype=float32)>\n",
      " |      >>> mod.w\n",
      " |      <tf.Variable 'my_module/Variable:0' shape=(2, 3) dtype=float32,\n",
      " |      numpy=..., dtype=float32)>\n",
      " |      \n",
      " |      Args:\n",
      " |        method: The method to wrap.\n",
      " |      \n",
      " |      Returns:\n",
      " |        The original method wrapped such that it enters the module's name scope.\n",
      " |  \n",
      " |  ----------------------------------------------------------------------\n",
      " |  Data descriptors inherited from tensorflow.python.module.module.Module:\n",
      " |  \n",
      " |  name_scope\n",
      " |      Returns a `tf.name_scope` instance for this class.\n",
      " |  \n",
      " |  submodules\n",
      " |      Sequence of all sub-modules.\n",
      " |      \n",
      " |      Submodules are modules which are properties of this module, or found as\n",
      " |      properties of modules which are properties of this module (and so on).\n",
      " |      \n",
      " |      >>> a = tf.Module()\n",
      " |      >>> b = tf.Module()\n",
      " |      >>> c = tf.Module()\n",
      " |      >>> a.b = b\n",
      " |      >>> b.c = c\n",
      " |      >>> list(a.submodules) == [b, c]\n",
      " |      True\n",
      " |      >>> list(b.submodules) == [c]\n",
      " |      True\n",
      " |      >>> list(c.submodules) == []\n",
      " |      True\n",
      " |      \n",
      " |      Returns:\n",
      " |        A sequence of all submodules.\n",
      " |  \n",
      " |  ----------------------------------------------------------------------\n",
      " |  Data descriptors inherited from tensorflow.python.training.tracking.base.Trackable:\n",
      " |  \n",
      " |  __dict__\n",
      " |      dictionary for instance variables (if defined)\n",
      " |  \n",
      " |  __weakref__\n",
      " |      list of weak references to the object (if defined)\n",
      "\n"
     ]
    }
   ],
   "source": [
    "# help works anywhere.\n",
    "help(tfdf.keras.RandomForestModel)\n",
    "\n",
    "# ? only works in ipython or notebooks, it usually opens on a separate panel.\n",
    "tfdf.keras.RandomForestModel?"
   ]
  },
  {
   "cell_type": "markdown",
   "metadata": {
    "id": "PuWEYvXaiwhk"
   },
   "source": [
    "## Using a subset of features\n",
    "\n",
    "The previous example did not specify the features, so all the columns were used\n",
    "as input feature (except for the label). The following example shows how to\n",
    "specify input features."
   ]
  },
  {
   "cell_type": "code",
   "execution_count": 26,
   "metadata": {
    "execution": {
     "iopub.execute_input": "2021-11-08T12:10:08.806580Z",
     "iopub.status.busy": "2021-11-08T12:10:08.806021Z",
     "iopub.status.idle": "2021-11-08T12:10:09.282048Z",
     "shell.execute_reply": "2021-11-08T12:10:09.281601Z"
    },
    "id": "sgn_LnRz3M7z"
   },
   "outputs": [
    {
     "name": "stdout",
     "output_type": "stream",
     "text": [
      "\r",
      "1/4 [======>.......................] - ETA: 0s"
     ]
    },
    {
     "name": "stderr",
     "output_type": "stream",
     "text": [
      "[INFO kernel.cc:736] Start Yggdrasil model training\n",
      "[INFO kernel.cc:737] Collect training examples\n",
      "[INFO kernel.cc:392] Number of batches: 4\n",
      "[INFO kernel.cc:393] Number of examples: 252\n",
      "[INFO kernel.cc:759] Dataset:\n",
      "Number of records: 252\n",
      "Number of columns: 3\n",
      "\n",
      "Number of columns by type:\n",
      "\tCATEGORICAL: 2 (66.6667%)\n",
      "\tNUMERICAL: 1 (33.3333%)\n",
      "\n",
      "Columns:\n",
      "\n",
      "CATEGORICAL: 2 (66.6667%)\n",
      "\t1: \"island\" CATEGORICAL has-dict vocab-size:4 zero-ood-items most-frequent:\"Biscoe\" 126 (50%)\n",
      "\t2: \"__LABEL\" CATEGORICAL integerized vocab-size:4 no-ood-item\n",
      "\n",
      "NUMERICAL: 1 (33.3333%)\n",
      "\t0: \"bill_length_mm\" NUMERICAL num-nas:2 (0.793651%) mean:44.1884 min:33.1 max:59.6 sd:5.36528\n",
      "\n",
      "Terminology:\n",
      "\tnas: Number of non-available (i.e. missing) values.\n",
      "\tood: Out of dictionary.\n",
      "\tmanually-defined: Attribute which type is manually defined by the user i.e. the type was not automatically inferred.\n",
      "\ttokenized: The attribute value is obtained through tokenization.\n",
      "\thas-dict: The attribute is attached to a string dictionary e.g. a categorical attribute stored as a string.\n",
      "\tvocab-size: Number of unique values.\n",
      "\n",
      "[INFO kernel.cc:762] Configure learner\n",
      "[WARNING gradient_boosted_trees.cc:1643] Subsample hyperparameter given but sampling method does not match.\n",
      "[WARNING gradient_boosted_trees.cc:1656] GOSS alpha hyperparameter given but GOSS is disabled.\n",
      "[WARNING gradient_boosted_trees.cc:1665] GOSS beta hyperparameter given but GOSS is disabled.\n",
      "[WARNING gradient_boosted_trees.cc:1677] SelGB ratio hyperparameter given but SelGB is disabled.\n",
      "[INFO kernel.cc:787] Training config:\n",
      "learner: \"GRADIENT_BOOSTED_TREES\"\n",
      "features: \"bill_length_mm\"\n",
      "features: \"island\"\n",
      "label: \"__LABEL\"\n",
      "task: CLASSIFICATION\n",
      "[yggdrasil_decision_forests.model.gradient_boosted_trees.proto.gradient_boosted_trees_config] {\n",
      "  num_trees: 300\n",
      "  decision_tree {\n",
      "    max_depth: 6\n",
      "    min_examples: 5\n",
      "    in_split_min_examples_check: true\n",
      "    missing_value_policy: GLOBAL_IMPUTATION\n",
      "    allow_na_conditions: false\n",
      "    categorical_set_greedy_forward {\n",
      "      sampling: 0.1\n",
      "      max_num_items: -1\n",
      "      min_item_frequency: 1\n",
      "    }\n",
      "    growing_strategy_local {\n",
      "    }\n",
      "    categorical {\n",
      "      cart {\n",
      "      }\n",
      "    }\n",
      "    num_candidate_attributes_ratio: -1\n",
      "    axis_aligned_split {\n",
      "    }\n",
      "    internal {\n",
      "      sorting_strategy: PRESORTED\n",
      "    }\n",
      "  }\n",
      "  shrinkage: 0.1\n",
      "  validation_set_ratio: 0.1\n",
      "  early_stopping: VALIDATION_LOSS_INCREASE\n",
      "  early_stopping_num_trees_look_ahead: 30\n",
      "  l2_regularization: 0\n",
      "  lambda_loss: 1\n",
      "  mart {\n",
      "  }\n",
      "  adapt_subsample_for_maximum_training_duration: false\n",
      "  l1_regularization: 0\n",
      "  use_hessian_gain: false\n",
      "  l2_regularization_categorical: 1\n",
      "  apply_link_function: true\n",
      "  compute_permutation_variable_importance: false\n",
      "}\n",
      "\n",
      "[INFO kernel.cc:790] Deployment config:\n",
      "num_threads: 6\n",
      "\n",
      "[INFO kernel.cc:817] Train model\n",
      "[INFO gradient_boosted_trees.cc:404] Default loss set to MULTINOMIAL_LOG_LIKELIHOOD\n",
      "[INFO gradient_boosted_trees.cc:1001] Training gradient boosted tree on 252 example(s) and 2 feature(s).\n",
      "[INFO gradient_boosted_trees.cc:1044] 223 examples used for training and 29 examples used for validation\n",
      "[INFO gradient_boosted_trees.cc:1426] \tnum-trees:1 train-loss:0.933984 train-accuracy:0.977578 valid-loss:0.948754 valid-accuracy:0.931035\n",
      "[INFO gradient_boosted_trees.cc:1428] \tnum-trees:2 train-loss:0.792019 train-accuracy:0.973094 valid-loss:0.830319 valid-accuracy:0.896552\n",
      "[INFO gradient_boosted_trees.cc:2740] Early stop of the training because the validation loss does not decrease anymore. Best valid-loss: 0.2425\n",
      "[INFO gradient_boosted_trees.cc:229] Truncates the model to 78 tree(s) i.e. 26  iteration(s).\n",
      "[INFO gradient_boosted_trees.cc:263] Final model num-trees:26 valid-loss:0.242500 valid-accuracy:0.931035\n",
      "[INFO kernel.cc:828] Export model in log directory: /tmp/tmpzdx1sewe\n",
      "[INFO kernel.cc:836] Save model in resources\n",
      "[INFO kernel.cc:988] Loading model from path\n",
      "[INFO decision_forest.cc:590] Model loaded with 78 root(s), 2752 node(s), and 2 input feature(s).\n",
      "[INFO kernel.cc:848] Use fast generic engine\n"
     ]
    },
    {
     "name": "stdout",
     "output_type": "stream",
     "text": [
      "\b\b\b\b\b\b\b\b\b\b\b\b\b\b\b\b\b\b\b\b\b\b\b\b\b\b\b\b\b\b\b\b\b\b\b\b\b\b\b\b\b\b\b\b\b\b\r",
      "4/4 [==============================] - 0s 92ms/step - val_loss: 0.0000e+00 - val_accuracy: 0.9674\n"
     ]
    },
    {
     "name": "stdout",
     "output_type": "stream",
     "text": [
      "\r",
      "1/2 [==============>...............] - ETA: 0s - loss: 0.0000e+00 - accuracy: 0.9531"
     ]
    },
    {
     "name": "stdout",
     "output_type": "stream",
     "text": [
      "\b\b\b\b\b\b\b\b\b\b\b\b\b\b\b\b\b\b\b\b\b\b\b\b\b\b\b\b\b\b\b\b\b\b\b\b\b\b\b\b\b\b\b\b\b\b\b\b\b\b\b\b\b\b\b\b\b\b\b\b\b\b\b\b\b\b\b\b\b\b\b\b\b\b\b\b\b\b\b\b\b\b\b\b\r",
      "2/2 [==============================] - 0s 3ms/step - loss: 0.0000e+00 - accuracy: 0.9674\n"
     ]
    },
    {
     "name": "stdout",
     "output_type": "stream",
     "text": [
      "{'loss': 0.0, 'accuracy': 0.967391312122345}\n"
     ]
    }
   ],
   "source": [
    "feature_1 = tfdf.keras.FeatureUsage(name=\"bill_length_mm\")\n",
    "feature_2 = tfdf.keras.FeatureUsage(name=\"island\")\n",
    "\n",
    "all_features = [feature_1, feature_2]\n",
    "\n",
    "# Note: This model is only trained with two features. It will not be as good as\n",
    "# the one trained on all features.\n",
    "\n",
    "model_2 = tfdf.keras.GradientBoostedTreesModel(\n",
    "    features=all_features, exclude_non_specified_features=True)\n",
    "\n",
    "model_2.compile(metrics=[\"accuracy\"])\n",
    "model_2.fit(x=train_ds, validation_data=test_ds)\n",
    "\n",
    "print(model_2.evaluate(test_ds, return_dict=True))"
   ]
  },
  {
   "cell_type": "markdown",
   "metadata": {
    "id": "zvM84cgCmbUR"
   },
   "source": [
    "**Note:** As expected, the accuracy is lower than previously."
   ]
  },
  {
   "cell_type": "markdown",
   "metadata": {
    "id": "MFmqpivc7x7p"
   },
   "source": [
    "**TF-DF** attaches a **semantics** to each feature. This semantics controls how\n",
    "the feature is used by the model. The following semantics are currently supported:\n",
    "\n",
    "-   **Numerical**: Generally for quantities or counts with full ordering. For\n",
    "    example, the age of a person, or the number of items in a bag. Can be a\n",
    "    float or an integer. Missing values are represented with float(Nan) or with\n",
    "    an empty sparse tensor.\n",
    "-   **Categorical**: Generally for a type/class in finite set of possible values\n",
    "    without ordering. For example, the color RED in the set {RED, BLUE, GREEN}.\n",
    "    Can be a string or an integer. Missing values are represented as \"\" (empty\n",
    "    sting), value -2 or with an empty sparse tensor.\n",
    "-   **Categorical-Set**: A set of categorical values. Great to represent\n",
    "    tokenized text. Can be a string or an integer in a sparse tensor or a\n",
    "    ragged tensor (recommended). The order/index of each item doesn't matter.\n",
    "\n",
    "If not specified, the semantics is inferred from the representation type and shown in the training logs:\n",
    "\n",
    "- int, float (dense or sparse) → Numerical semantics.\n",
    "- str (dense or sparse) → Categorical semantics\n",
    "- int, str (ragged) → Categorical-Set semantics\n",
    "\n",
    "In some cases, the inferred semantics is incorrect. For example: An Enum stored as an integer is semantically categorical, but it will be detected as numerical. In this case, you should specify the semantic argument in the input. The `education_num` field of the Adult dataset is classical example.\n",
    "\n",
    "This dataset doesn't contain such a feature. However, for the demonstration, we will make the model treat the `year` as a categorical feature:"
   ]
  },
  {
   "cell_type": "code",
   "execution_count": 27,
   "metadata": {
    "execution": {
     "iopub.execute_input": "2021-11-08T12:10:09.289869Z",
     "iopub.status.busy": "2021-11-08T12:10:09.288965Z",
     "iopub.status.idle": "2021-11-08T12:10:09.709566Z",
     "shell.execute_reply": "2021-11-08T12:10:09.709992Z"
    },
    "id": "RNRIwLYC8zrp"
   },
   "outputs": [
    {
     "data": {
      "application/javascript": [
       "google.colab.output.setIframeHeight(0, true, {maxHeight: 300})"
      ],
      "text/plain": [
       "<IPython.core.display.Javascript object>"
      ]
     },
     "metadata": {},
     "output_type": "display_data"
    },
    {
     "name": "stdout",
     "output_type": "stream",
     "text": [
      "\r",
      "1/4 [======>.......................] - ETA: 0s"
     ]
    },
    {
     "name": "stderr",
     "output_type": "stream",
     "text": [
      "[INFO kernel.cc:736] Start Yggdrasil model training\n",
      "[INFO kernel.cc:737] Collect training examples\n",
      "[INFO kernel.cc:392] Number of batches: 4\n",
      "[INFO kernel.cc:393] Number of examples: 252\n",
      "[INFO kernel.cc:759] Dataset:\n",
      "Number of records: 252\n",
      "Number of columns: 4\n",
      "\n",
      "Number of columns by type:\n",
      "\tCATEGORICAL: 3 (75%)\n",
      "\tNUMERICAL: 1 (25%)\n",
      "\n",
      "Columns:\n",
      "\n",
      "CATEGORICAL: 3 (75%)\n",
      "\t1: \"sex\" CATEGORICAL num-nas:7 (2.77778%) has-dict vocab-size:3 zero-ood-items most-frequent:\"male\" 124 (50.6122%)\n",
      "\t2: \"year\" CATEGORICAL integerized vocab-size:2011 no-ood-item\n",
      "\t3: \"__LABEL\" CATEGORICAL integerized vocab-size:4 no-ood-item\n",
      "\n",
      "NUMERICAL: 1 (25%)\n",
      "\t0: \"bill_length_mm\" NUMERICAL num-nas:2 (0.793651%) mean:44.1884 min:33.1 max:59.6 sd:5.36528\n",
      "\n",
      "Terminology:\n",
      "\tnas: Number of non-available (i.e. missing) values.\n",
      "\tood: Out of dictionary.\n",
      "\tmanually-defined: Attribute which type is manually defined by the user i.e. the type was not automatically inferred.\n",
      "\ttokenized: The attribute value is obtained through tokenization.\n",
      "\thas-dict: The attribute is attached to a string dictionary e.g. a categorical attribute stored as a string.\n",
      "\tvocab-size: Number of unique values.\n",
      "\n",
      "[INFO kernel.cc:762] Configure learner\n",
      "[WARNING gradient_boosted_trees.cc:1643] Subsample hyperparameter given but sampling method does not match.\n",
      "[WARNING gradient_boosted_trees.cc:1656] GOSS alpha hyperparameter given but GOSS is disabled.\n",
      "[WARNING gradient_boosted_trees.cc:1665] GOSS beta hyperparameter given but GOSS is disabled.\n",
      "[WARNING gradient_boosted_trees.cc:1677] SelGB ratio hyperparameter given but SelGB is disabled.\n",
      "[INFO kernel.cc:787] Training config:\n",
      "learner: \"GRADIENT_BOOSTED_TREES\"\n",
      "features: \"bill_length_mm\"\n",
      "features: \"sex\"\n",
      "features: \"year\"\n",
      "label: \"__LABEL\"\n",
      "task: CLASSIFICATION\n",
      "[yggdrasil_decision_forests.model.gradient_boosted_trees.proto.gradient_boosted_trees_config] {\n",
      "  num_trees: 300\n",
      "  decision_tree {\n",
      "    max_depth: 6\n",
      "    min_examples: 5\n",
      "    in_split_min_examples_check: true\n",
      "    missing_value_policy: GLOBAL_IMPUTATION\n",
      "    allow_na_conditions: false\n",
      "    categorical_set_greedy_forward {\n",
      "      sampling: 0.1\n",
      "      max_num_items: -1\n",
      "      min_item_frequency: 1\n",
      "    }\n",
      "    growing_strategy_local {\n",
      "    }\n",
      "    categorical {\n",
      "      cart {\n",
      "      }\n",
      "    }\n",
      "    num_candidate_attributes_ratio: -1\n",
      "   "
     ]
    },
    {
     "name": "stderr",
     "output_type": "stream",
     "text": [
      " axis_aligned_split {\n",
      "    }\n",
      "    internal {\n",
      "      sorting_strategy: PRESORTED\n",
      "    }\n",
      "  }\n",
      "  shrinkage: 0.1\n",
      "  validation_set_ratio: 0.1\n",
      "  early_stopping: VALIDATION_LOSS_INCREASE\n",
      "  early_stopping_num_trees_look_ahead: 30\n",
      "  l2_regularization: 0\n",
      "  lambda_loss: 1\n",
      "  mart {\n",
      "  }\n",
      "  adapt_subsample_for_maximum_training_duration: false\n",
      "  l1_regularization: 0\n",
      "  use_hessian_gain: false\n",
      "  l2_regularization_categorical: 1\n",
      "  apply_link_function: true\n",
      "  compute_permutation_variable_importance: false\n",
      "}\n",
      "\n",
      "[INFO kernel.cc:790] Deployment config:\n",
      "num_threads: 6\n",
      "\n",
      "[INFO kernel.cc:817] Train model\n",
      "[INFO gradient_boosted_trees.cc:404] Default loss set to MULTINOMIAL_LOG_LIKELIHOOD\n",
      "[INFO gradient_boosted_trees.cc:1001] Training gradient boosted tree on 252 example(s) and 3 feature(s).\n",
      "[INFO gradient_boosted_trees.cc:1044] 223 examples used for training and 29 examples used for validation\n"
     ]
    },
    {
     "name": "stderr",
     "output_type": "stream",
     "text": [
      "[INFO gradient_boosted_trees.cc:1426] \tnum-trees:1 train-loss:0.967301 train-accuracy:0.865471 valid-loss:1.017016 valid-accuracy:0.655172\n"
     ]
    },
    {
     "name": "stderr",
     "output_type": "stream",
     "text": [
      "[INFO gradient_boosted_trees.cc:2740] Early stop of the training because the validation loss does not decrease anymore. Best valid-loss: 0.761793\n",
      "[INFO gradient_boosted_trees.cc:229] Truncates the model to 45 tree(s) i.e. 15  iteration(s).\n",
      "[INFO gradient_boosted_trees.cc:263] Final model num-trees:15 valid-loss:0.761793 valid-accuracy:0.586207\n"
     ]
    },
    {
     "name": "stderr",
     "output_type": "stream",
     "text": [
      "[INFO kernel.cc:828] Export model in log directory: /tmp/tmpetvbj79i\n"
     ]
    },
    {
     "name": "stderr",
     "output_type": "stream",
     "text": [
      "[INFO kernel.cc:836] Save model in resources\n"
     ]
    },
    {
     "name": "stderr",
     "output_type": "stream",
     "text": [
      "[INFO kernel.cc:988] Loading model from path\n"
     ]
    },
    {
     "name": "stderr",
     "output_type": "stream",
     "text": [
      "[INFO decision_forest.cc:590] Model loaded with 45 root(s), 1933 node(s), and 3 input feature(s).\n",
      "[INFO kernel.cc:848] Use fast generic engine\n"
     ]
    },
    {
     "name": "stdout",
     "output_type": "stream",
     "text": [
      "\b\b\b\b\b\b\b\b\b\b\b\b\b\b\b\b\b\b\b\b\b\b\b\b\b\b\b\b\b\b\b\b\b\b\b\b\b\b\b\b\b\b\b\b\b\b\r",
      "4/4 [==============================] - 0s 97ms/step - val_loss: 0.0000e+00 - val_accuracy: 0.7935\n"
     ]
    }
   ],
   "source": [
    "%set_cell_height 300\n",
    "\n",
    "feature_1 = tfdf.keras.FeatureUsage(name=\"year\", semantic=tfdf.keras.FeatureSemantic.CATEGORICAL)\n",
    "feature_2 = tfdf.keras.FeatureUsage(name=\"bill_length_mm\")\n",
    "feature_3 = tfdf.keras.FeatureUsage(name=\"sex\")\n",
    "all_features = [feature_1, feature_2, feature_3]\n",
    "\n",
    "model_3 = tfdf.keras.GradientBoostedTreesModel(features=all_features, exclude_non_specified_features=True)\n",
    "model_3.compile( metrics=[\"accuracy\"])\n",
    "\n",
    "with sys_pipes():\n",
    "  model_3.fit(x=train_ds, validation_data=test_ds)"
   ]
  },
  {
   "cell_type": "markdown",
   "metadata": {
    "id": "2AQaNwihcpP7"
   },
   "source": [
    "Note that `year` is in the list of CATEGORICAL features (unlike the first run)."
   ]
  },
  {
   "cell_type": "markdown",
   "metadata": {
    "id": "GYrw7nKN40Vm"
   },
   "source": [
    "## Hyper-parameters\n",
    "\n",
    "**Hyper-parameters** are parameters of the training algorithm that impact\n",
    "the quality of the final model. They are specified in the model class\n",
    "constructor. The list of hyper-parameters is visible with the *question mark* colab command (e.g. `?tfdf.keras.GradientBoostedTreesModel`).\n",
    "\n",
    "Alternatively, you can find them on the [TensorFlow Decision Forest Github](https://github.com/tensorflow/decision-forests/keras/wrappers_pre_generated.py) or the [Yggdrasil Decision Forest documentation](https://github.com/google/yggdrasil_decision_forests/documentation/learners).\n",
    "\n",
    "The default hyper-parameters of each algorithm matches approximatively the initial publication paper. To ensure consistancy, new features and their matching hyper-parameters are always disable by default. That's why it is a good idea to tune your hyper-parameters."
   ]
  },
  {
   "cell_type": "code",
   "execution_count": 28,
   "metadata": {
    "execution": {
     "iopub.execute_input": "2021-11-08T12:10:09.715848Z",
     "iopub.status.busy": "2021-11-08T12:10:09.715183Z",
     "iopub.status.idle": "2021-11-08T12:10:10.267233Z",
     "shell.execute_reply": "2021-11-08T12:10:10.267639Z"
    },
    "id": "vHgPr4Pt43hv"
   },
   "outputs": [
    {
     "name": "stdout",
     "output_type": "stream",
     "text": [
      "\r",
      "1/4 [======>.......................] - ETA: 0s"
     ]
    },
    {
     "name": "stderr",
     "output_type": "stream",
     "text": [
      "[INFO kernel.cc:736] Start Yggdrasil model training\n",
      "[INFO kernel.cc:737] Collect training examples\n",
      "[INFO kernel.cc:392] Number of batches: 4\n",
      "[INFO kernel.cc:393] Number of examples: 252\n",
      "[INFO kernel.cc:759] Dataset:\n",
      "Number of records: 252\n",
      "Number of columns: 8\n",
      "\n",
      "Number of columns by type:\n",
      "\tNUMERICAL: 5 (62.5%)\n",
      "\tCATEGORICAL: 3 (37.5%)\n",
      "\n",
      "Columns:\n",
      "\n",
      "NUMERICAL: 5 (62.5%)\n",
      "\t0: \"bill_depth_mm\" NUMERICAL num-nas:2 (0.793651%) mean:17.1936 min:13.2 max:21.5 sd:1.96763\n",
      "\t1: \"bill_length_mm\" NUMERICAL num-nas:2 (0.793651%) mean:44.1884 min:33.1 max:59.6 sd:5.36528\n",
      "\t2: \"body_mass_g\" NUMERICAL num-nas:2 (0.793651%) mean:4221 min:2700 max:6300 sd:811.125\n",
      "\t3: \"flipper_length_mm\" NUMERICAL num-nas:2 (0.793651%) mean:201.264 min:172 max:231 sd:14.0793\n",
      "\t6: \"year\" NUMERICAL mean:2008.05 min:2007 max:2009 sd:0.817297\n",
      "\n",
      "CATEGORICAL: 3 (37.5%)\n",
      "\t4: \"island\" CATEGORICAL has-dict vocab-size:4 zero-ood-items most-frequent:\"Biscoe\" 126 (50%)\n",
      "\t5: \"sex\" CATEGORICAL num-nas:7 (2.77778%) has-dict vocab-size:3 zero-ood-items most-frequent:\"male\" 124 (50.6122%)\n",
      "\t7: \"__LABEL\" CATEGORICAL integerized vocab-size:4 no-ood-item\n",
      "\n",
      "Terminology:\n",
      "\tnas: Number of non-available (i.e. missing) values.\n",
      "\tood: Out of dictionary.\n",
      "\tmanually-defined: Attribute which type is manually defined by the user i.e. the type was not automatically inferred.\n",
      "\ttokenized: The attribute value is obtained through tokenization.\n",
      "\thas-dict: The attribute is attached to a string dictionary e.g. a categorical attribute stored as a string.\n",
      "\tvocab-size: Number of unique values.\n",
      "\n",
      "[INFO kernel.cc:762] Configure learner\n",
      "[WARNING gradient_boosted_trees.cc:1643] Subsample hyperparameter given but sampling method does not match.\n",
      "[WARNING gradient_boosted_trees.cc:1656] GOSS alpha hyperparameter given but GOSS is disabled.\n",
      "[WARNING gradient_boosted_trees.cc:1665] GOSS beta hyperparameter given but GOSS is disabled.\n",
      "[WARNING gradient_boosted_trees.cc:1677] SelGB ratio hyperparameter given but SelGB is disabled.\n",
      "[INFO kernel.cc:787] Training config:\n",
      "learner: \"GRADIENT_BOOSTED_TREES\"\n",
      "features: \"bill_depth_mm\"\n",
      "features: \"bill_length_mm\"\n",
      "features: \"body_mass_g\"\n",
      "features: \"flipper_length_mm\"\n",
      "features: \"island\"\n",
      "features: \"sex\"\n",
      "features: \"year\"\n",
      "label: \"__LABEL\"\n",
      "task: CLASSIFICATION\n",
      "[yggdrasil_decision_forests.model.gradient_boosted_trees.proto.gradient_boosted_trees_config] {\n",
      "  num_trees: 500\n",
      "  decision_tree {\n",
      "    max_depth: 8\n",
      "    min_examples: 5\n",
      "    in_split_min_examples_check: true\n",
      "    missing_value_policy: GLOBAL_IMPUTATION\n",
      "    allow_na_conditions: false\n",
      "    categorical_set_greedy_forward {\n",
      "      sampling: 0.1\n",
      "      max_num_items: -1\n",
      "      min_item_frequency: 1\n",
      "    }\n",
      "    growing_strategy_best_first_global {\n",
      "    }\n",
      "    categorical {\n",
      "      cart {\n",
      "      }\n",
      "    }\n",
      "    num_candidate_attributes_ratio: -1\n",
      "    axis_aligned_split {\n",
      "    }\n",
      "    internal {\n",
      "      sorting_strategy: PRESORTED\n",
      "    }\n",
      "  }\n",
      "  shrinkage: 0.1\n",
      "  validation_set_ratio: 0.1\n",
      "  early_stopping: VALIDATION_LOSS_INCREASE\n",
      "  early_stopping_num_trees_look_ahead: 30\n",
      "  l2_regularization: 0\n",
      "  lambda_loss: 1\n",
      "  mart {\n",
      "  }\n",
      "  adapt_subsample_for_maximum_training_duration: false\n",
      "  l1_regularization: 0\n",
      "  use_hessian_gain: false\n",
      "  l2_regularization_categorical: 1\n",
      "  apply_link_function: true\n",
      "  compute_permutation_variable_importance: false\n",
      "}\n",
      "\n",
      "[INFO kernel.cc:790] Deployment config:\n",
      "num_threads: 6\n",
      "\n",
      "[INFO kernel.cc:817] Train model\n",
      "[INFO gradient_boosted_trees.cc:404] Default loss set to MULTINOMIAL_LOG_LIKELIHOOD\n",
      "[INFO gradient_boosted_trees.cc:1001] Training gradient boosted tree on 252 example(s) and 7 feature(s).\n",
      "[INFO gradient_boosted_trees.cc:1044] 223 examples used for training and 29 examples used for validation\n",
      "[INFO gradient_boosted_trees.cc:1426] \tnum-trees:1 train-loss:0.917037 train-accuracy:0.991031 valid-loss:0.926836 valid-accuracy:0.965517\n"
     ]
    },
    {
     "name": "stdout",
     "output_type": "stream",
     "text": [
      "\b\b\b\b\b\b\b\b\b\b\b\b\b\b\b\b\b\b\b\b\b\b\b\b\b\b\b\b\b\b\b\b\b\b\b\b\b\b\b\b\b\b\b\b\b\b\r",
      "4/4 [==============================] - 0s 119ms/step\n"
     ]
    },
    {
     "name": "stderr",
     "output_type": "stream",
     "text": [
      "[INFO gradient_boosted_trees.cc:2740] Early stop of the training because the validation loss does not decrease anymore. Best valid-loss: 0.15912\n",
      "[INFO gradient_boosted_trees.cc:229] Truncates the model to 87 tree(s) i.e. 29  iteration(s).\n",
      "[INFO gradient_boosted_trees.cc:263] Final model num-trees:29 valid-loss:0.159120 valid-accuracy:0.965517\n",
      "[INFO kernel.cc:828] Export model in log directory: /tmp/tmp0acspar2\n",
      "[INFO kernel.cc:836] Save model in resources\n",
      "[INFO kernel.cc:988] Loading model from path\n",
      "[INFO decision_forest.cc:590] Model loaded with 87 root(s), 4853 node(s), and 7 input feature(s).\n",
      "[INFO kernel.cc:848] Use fast generic engine\n"
     ]
    },
    {
     "data": {
      "text/plain": [
       "<keras.callbacks.History at 0x7f9f80122590>"
      ]
     },
     "execution_count": 28,
     "metadata": {},
     "output_type": "execute_result"
    }
   ],
   "source": [
    "# A classical but slighly more complex model.\n",
    "model_6 = tfdf.keras.GradientBoostedTreesModel(\n",
    "    num_trees=500, growing_strategy=\"BEST_FIRST_GLOBAL\", max_depth=8)\n",
    "model_6.fit(x=train_ds)"
   ]
  },
  {
   "cell_type": "code",
   "execution_count": 29,
   "metadata": {
    "execution": {
     "iopub.execute_input": "2021-11-08T12:10:10.272807Z",
     "iopub.status.busy": "2021-11-08T12:10:10.272228Z",
     "iopub.status.idle": "2021-11-08T12:10:10.713441Z",
     "shell.execute_reply": "2021-11-08T12:10:10.713855Z"
    },
    "id": "uECgPGDc2P4p"
   },
   "outputs": [
    {
     "name": "stdout",
     "output_type": "stream",
     "text": [
      "\r",
      "1/4 [======>.......................] - ETA: 0s"
     ]
    },
    {
     "name": "stderr",
     "output_type": "stream",
     "text": [
      "[INFO kernel.cc:736] Start Yggdrasil model training\n",
      "[INFO kernel.cc:737] Collect training examples\n",
      "[INFO kernel.cc:392] Number of batches: 4\n",
      "[INFO kernel.cc:393] Number of examples: 252\n",
      "[INFO kernel.cc:759] Dataset:\n",
      "Number of records: 252\n",
      "Number of columns: 8\n",
      "\n",
      "Number of columns by type:\n",
      "\tNUMERICAL: 5 (62.5%)\n",
      "\tCATEGORICAL: 3 (37.5%)\n",
      "\n",
      "Columns:\n",
      "\n",
      "NUMERICAL: 5 (62.5%)\n",
      "\t0: \"bill_depth_mm\" NUMERICAL num-nas:2 (0.793651%) mean:17.1936 min:13.2 max:21.5 sd:1.96763\n",
      "\t1: \"bill_length_mm\" NUMERICAL num-nas:2 (0.793651%) mean:44.1884 min:33.1 max:59.6 sd:5.36528\n",
      "\t2: \"body_mass_g\" NUMERICAL num-nas:2 (0.793651%) mean:4221 min:2700 max:6300 sd:811.125\n",
      "\t3: \"flipper_length_mm\" NUMERICAL num-nas:2 (0.793651%) mean:201.264 min:172 max:231 sd:14.0793\n",
      "\t6: \"year\" NUMERICAL mean:2008.05 min:2007 max:2009 sd:0.817297\n",
      "\n",
      "CATEGORICAL: 3 (37.5%)\n",
      "\t4: \"island\" CATEGORICAL has-dict vocab-size:4 zero-ood-items most-frequent:\"Biscoe\" 126 (50%)\n",
      "\t5: \"sex\" CATEGORICAL num-nas:7 (2.77778%) has-dict vocab-size:3 zero-ood-items most-frequent:\"male\" 124 (50.6122%)\n",
      "\t7: \"__LABEL\" CATEGORICAL integerized vocab-size:4 no-ood-item\n",
      "\n",
      "Terminology:\n",
      "\tnas: Number of non-available (i.e. missing) values.\n",
      "\tood: Out of dictionary.\n",
      "\tmanually-defined: Attribute which type is manually defined by the user i.e. the type was not automatically inferred.\n",
      "\ttokenized: The attribute value is obtained through tokenization.\n",
      "\thas-dict: The attribute is attached to a string dictionary e.g. a categorical attribute stored as a string.\n",
      "\tvocab-size: Number of unique values.\n",
      "\n",
      "[INFO kernel.cc:762] Configure learner\n",
      "[WARNING gradient_boosted_trees.cc:1643] Subsample hyperparameter given but sampling method does not match.\n",
      "[WARNING gradient_boosted_trees.cc:1656] GOSS alpha hyperparameter given but GOSS is disabled.\n",
      "[WARNING gradient_boosted_trees.cc:1665] GOSS beta hyperparameter given but GOSS is disabled.\n",
      "[WARNING gradient_boosted_trees.cc:1677] SelGB ratio hyperparameter given but SelGB is disabled.\n",
      "[INFO kernel.cc:787] Training config:\n",
      "learner: \"GRADIENT_BOOSTED_TREES\"\n",
      "features: \"bill_depth_mm\"\n",
      "features: \"bill_length_mm\"\n",
      "features: \"body_mass_g\"\n",
      "features: \"flipper_length_mm\"\n",
      "features: \"island\"\n",
      "features: \"sex\"\n",
      "features: \"year\"\n",
      "label: \"__LABEL\"\n",
      "task: CLASSIFICATION\n",
      "[yggdrasil_decision_forests.model.gradient_boosted_trees.proto.gradient_boosted_trees_config] {\n",
      "  num_trees: 500\n",
      "  decision_tree {\n",
      "    max_depth: 8\n",
      "    min_examples: 5\n",
      "    in_split_min_examples_check: true\n",
      "    missing_value_policy: GLOBAL_IMPUTATION\n",
      "    allow_na_conditions: false\n",
      "    categorical_set_greedy_forward {\n",
      "      sampling: 0.1\n",
      "      max_num_items: -1\n",
      "      min_item_frequency: 1\n",
      "    }\n",
      "    growing_strategy_best_first_global {\n",
      "    }\n",
      "    categorical {\n",
      "      random {\n",
      "      }\n",
      "    }\n",
      "    num_candidate_attributes_ratio: -1\n",
      "    sparse_oblique_split {\n",
      "    }\n",
      "    internal {\n",
      "      sorting_strategy: PRESORTED\n",
      "    }\n",
      "  }\n",
      "  shrinkage: 0.1\n",
      "  validation_set_ratio: 0.1\n",
      "  early_stopping: VALIDATION_LOSS_INCREASE\n",
      "  early_stopping_num_trees_look_ahead: 30\n",
      "  l2_regularization: 0\n",
      "  lambda_loss: 1\n",
      "  mart {\n",
      "  }\n",
      "  adapt_subsample_for_maximum_training_duration: false\n",
      "  l1_regularization: 0\n",
      "  use_hessian_gain: false\n",
      "  l2_regularization_categorical: 1\n",
      "  apply_link_function: true\n",
      "  compute_permutation_variable_importance: false\n",
      "}\n",
      "\n",
      "[INFO kernel.cc:790] Deployment config:\n",
      "num_threads: 6\n",
      "\n",
      "[INFO kernel.cc:817] Train model\n",
      "[INFO gradient_boosted_trees.cc:404] Default loss set to MULTINOMIAL_LOG_LIKELIHOOD\n",
      "[INFO gradient_boosted_trees.cc:1001] Training gradient boosted tree on 252 example(s) and 7 feature(s).\n",
      "[INFO gradient_boosted_trees.cc:1044] 223 examples used for training and 29 examples used for validation\n",
      "[INFO gradient_boosted_trees.cc:1426] \tnum-trees:1 train-loss:0.916409 train-accuracy:0.986547 valid-loss:0.937726 valid-accuracy:0.896552\n"
     ]
    },
    {
     "name": "stdout",
     "output_type": "stream",
     "text": [
      "\b\b\b\b\b\b\b\b\b\b\b\b\b\b\b\b\b\b\b\b\b\b\b\b\b\b\b\b\b\b\b\b\b\b\b\b\b\b\b\b\b\b\b\b\b\b\r",
      "4/4 [==============================] - 0s 82ms/step\n"
     ]
    },
    {
     "name": "stdout",
     "output_type": "stream",
     "text": [
      "WARNING:tensorflow:5 out of the last 5 calls to <function CoreModel.make_predict_function.<locals>.predict_function_trained at 0x7f9f8009f7a0> triggered tf.function retracing. Tracing is expensive and the excessive number of tracings could be due to (1) creating @tf.function repeatedly in a loop, (2) passing tensors with different shapes, (3) passing Python objects instead of tensors. For (1), please define your @tf.function outside of the loop. For (2), @tf.function has experimental_relax_shapes=True option that relaxes argument shapes that can avoid unnecessary retracing. For (3), please refer to https://www.tensorflow.org/guide/function#controlling_retracing and https://www.tensorflow.org/api_docs/python/tf/function for  more details.\n"
     ]
    },
    {
     "name": "stderr",
     "output_type": "stream",
     "text": [
      "[INFO gradient_boosted_trees.cc:2740] Early stop of the training because the validation loss does not decrease anymore. Best valid-loss: 0.166186\n",
      "[INFO gradient_boosted_trees.cc:229] Truncates the model to 78 tree(s) i.e. 26  iteration(s).\n",
      "[INFO gradient_boosted_trees.cc:263] Final model num-trees:26 valid-loss:0.166186 valid-accuracy:0.965517\n",
      "[INFO kernel.cc:828] Export model in log directory: /tmp/tmpv6yz6pmp\n",
      "[INFO kernel.cc:836] Save model in resources\n",
      "[INFO kernel.cc:988] Loading model from path\n",
      "[INFO decision_forest.cc:590] Model loaded with 78 root(s), 3770 node(s), and 7 input feature(s).\n",
      "[INFO kernel.cc:848] Use fast generic engine\n",
      "WARNING:tensorflow:5 out of the last 5 calls to <function CoreModel.make_predict_function.<locals>.predict_function_trained at 0x7f9f8009f7a0> triggered tf.function retracing. Tracing is expensive and the excessive number of tracings could be due to (1) creating @tf.function repeatedly in a loop, (2) passing tensors with different shapes, (3) passing Python objects instead of tensors. For (1), please define your @tf.function outside of the loop. For (2), @tf.function has experimental_relax_shapes=True option that relaxes argument shapes that can avoid unnecessary retracing. For (3), please refer to https://www.tensorflow.org/guide/function#controlling_retracing and https://www.tensorflow.org/api_docs/python/tf/function for  more details.\n"
     ]
    },
    {
     "data": {
      "text/plain": [
       "<keras.callbacks.History at 0x7f9f80095750>"
      ]
     },
     "execution_count": 29,
     "metadata": {},
     "output_type": "execute_result"
    }
   ],
   "source": [
    "# A more complex, but possibly, more accurate model.\n",
    "model_7 = tfdf.keras.GradientBoostedTreesModel(\n",
    "    num_trees=500,\n",
    "    growing_strategy=\"BEST_FIRST_GLOBAL\",\n",
    "    max_depth=8,\n",
    "    split_axis=\"SPARSE_OBLIQUE\",\n",
    "    categorical_algorithm=\"RANDOM\",\n",
    "    )\n",
    "model_7.fit(x=train_ds)"
   ]
  },
  {
   "cell_type": "markdown",
   "metadata": {
    "id": "Xk7wEmUZu3V0"
   },
   "source": [
    "As new training methods are published and implemented, combinaisons of hyper-parameters can emerge as good or almost-always-better than the default parameters. To avoid changing the default hyper-parameter values these good combinaisons are indexed and available as hyper-parameter templates.\n",
    "\n",
    "For example, the `benchmark_rank1` template is the best combinaison on our internal benchmarks. Those templates are versioned to allow training configuration stability e.g. `benchmark_rank1@v1`."
   ]
  },
  {
   "cell_type": "code",
   "execution_count": 30,
   "metadata": {
    "execution": {
     "iopub.execute_input": "2021-11-08T12:10:10.719691Z",
     "iopub.status.busy": "2021-11-08T12:10:10.718795Z",
     "iopub.status.idle": "2021-11-08T12:10:11.029947Z",
     "shell.execute_reply": "2021-11-08T12:10:11.030300Z"
    },
    "id": "LtrRhMhj3hSu"
   },
   "outputs": [
    {
     "name": "stdout",
     "output_type": "stream",
     "text": [
      "\r",
      "1/4 [======>.......................] - ETA: 0s"
     ]
    },
    {
     "name": "stdout",
     "output_type": "stream",
     "text": [
      "\b\b\b\b\b\b\b\b\b\b\b\b\b\b\b\b\b\b\b\b\b\b\b\b\b\b\b\b\b\b\b\b\b\b\b\b\b\b\b\b\b\b\b\b\b\b\r",
      "4/4 [==============================] - 0s 38ms/step\n"
     ]
    },
    {
     "name": "stdout",
     "output_type": "stream",
     "text": [
      "WARNING:tensorflow:6 out of the last 6 calls to <function CoreModel.make_predict_function.<locals>.predict_function_trained at 0x7f9f607f3ef0> triggered tf.function retracing. Tracing is expensive and the excessive number of tracings could be due to (1) creating @tf.function repeatedly in a loop, (2) passing tensors with different shapes, (3) passing Python objects instead of tensors. For (1), please define your @tf.function outside of the loop. For (2), @tf.function has experimental_relax_shapes=True option that relaxes argument shapes that can avoid unnecessary retracing. For (3), please refer to https://www.tensorflow.org/guide/function#controlling_retracing and https://www.tensorflow.org/api_docs/python/tf/function for  more details.\n"
     ]
    },
    {
     "name": "stderr",
     "output_type": "stream",
     "text": [
      "[INFO kernel.cc:736] Start Yggdrasil model training\n",
      "[INFO kernel.cc:737] Collect training examples\n",
      "[INFO kernel.cc:392] Number of batches: 4\n",
      "[INFO kernel.cc:393] Number of examples: 252\n",
      "[INFO kernel.cc:759] Dataset:\n",
      "Number of records: 252\n",
      "Number of columns: 8\n",
      "\n",
      "Number of columns by type:\n",
      "\tNUMERICAL: 5 (62.5%)\n",
      "\tCATEGORICAL: 3 (37.5%)\n",
      "\n",
      "Columns:\n",
      "\n",
      "NUMERICAL: 5 (62.5%)\n",
      "\t0: \"bill_depth_mm\" NUMERICAL num-nas:2 (0.793651%) mean:17.1936 min:13.2 max:21.5 sd:1.96763\n",
      "\t1: \"bill_length_mm\" NUMERICAL num-nas:2 (0.793651%) mean:44.1884 min:33.1 max:59.6 sd:5.36528\n",
      "\t2: \"body_mass_g\" NUMERICAL num-nas:2 (0.793651%) mean:4221 min:2700 max:6300 sd:811.125\n",
      "\t3: \"flipper_length_mm\" NUMERICAL num-nas:2 (0.793651%) mean:201.264 min:172 max:231 sd:14.0793\n",
      "\t6: \"year\" NUMERICAL mean:2008.05 min:2007 max:2009 sd:0.817297\n",
      "\n",
      "CATEGORICAL: 3 (37.5%)\n",
      "\t4: \"island\" CATEGORICAL has-dict vocab-size:4 zero-ood-items most-frequent:\"Biscoe\" 126 (50%)\n",
      "\t5: \"sex\" CATEGORICAL num-nas:7 (2.77778%) has-dict vocab-size:3 zero-ood-items most-frequent:\"male\" 124 (50.6122%)\n",
      "\t7: \"__LABEL\" CATEGORICAL integerized vocab-size:4 no-ood-item\n",
      "\n",
      "Terminology:\n",
      "\tnas: Number of non-available (i.e. missing) values.\n",
      "\tood: Out of dictionary.\n",
      "\tmanually-defined: Attribute which type is manually defined by the user i.e. the type was not automatically inferred.\n",
      "\ttokenized: The attribute value is obtained through tokenization.\n",
      "\thas-dict: The attribute is attached to a string dictionary e.g. a categorical attribute stored as a string.\n",
      "\tvocab-size: Number of unique values.\n",
      "\n",
      "[INFO kernel.cc:762] Configure learner\n",
      "[WARNING gradient_boosted_trees.cc:1643] Subsample hyperparameter given but sampling method does not match.\n",
      "[WARNING gradient_boosted_trees.cc:1656] GOSS alpha hyperparameter given but GOSS is disabled.\n",
      "[WARNING gradient_boosted_trees.cc:1665] GOSS beta hyperparameter given but GOSS is disabled.\n",
      "[WARNING gradient_boosted_trees.cc:1677] SelGB ratio hyperparameter given but SelGB is disabled.\n",
      "[INFO kernel.cc:787] Training config:\n",
      "learner: \"GRADIENT_BOOSTED_TREES\"\n",
      "features: \"bill_depth_mm\"\n",
      "features: \"bill_length_mm\"\n",
      "features: \"body_mass_g\"\n",
      "features: \"flipper_length_mm\"\n",
      "features: \"island\"\n",
      "features: \"sex\"\n",
      "features: \"year\"\n",
      "label: \"__LABEL\"\n",
      "task: CLASSIFICATION\n",
      "[yggdrasil_decision_forests.model.gradient_boosted_trees.proto.gradient_boosted_trees_config] {\n",
      "  num_trees: 300\n",
      "  decision_tree {\n",
      "    max_depth: 6\n",
      "    min_examples: 5\n",
      "    in_split_min_examples_check: true\n",
      "    missing_value_policy: GLOBAL_IMPUTATION\n",
      "    allow_na_conditions: false\n",
      "    categorical_set_greedy_forward {\n",
      "      sampling: 0.1\n",
      "      max_num_items: -1\n",
      "      min_item_frequency: 1\n",
      "    }\n",
      "    growing_strategy_best_first_global {\n",
      "    }\n",
      "    categorical {\n",
      "      random {\n",
      "      }\n",
      "    }\n",
      "    num_candidate_attributes_ratio: -1\n",
      "    sparse_oblique_split {\n",
      "      num_projections_exponent: 1\n",
      "      normalization: MIN_MAX\n",
      "    }\n",
      "    internal {\n",
      "      sorting_strategy: PRESORTED\n",
      "    }\n",
      "  }\n",
      "  shrinkage: 0.1\n",
      "  validation_set_ratio: 0.1\n",
      "  early_stopping: VALIDATION_LOSS_INCREASE\n",
      "  early_stopping_num_trees_look_ahead: 30\n",
      "  l2_regularization: 0\n",
      "  lambda_loss: 1\n",
      "  mart {\n",
      "  }\n",
      "  adapt_subsample_for_maximum_training_duration: false\n",
      "  l1_regularization: 0\n",
      "  use_hessian_gain: false\n",
      "  l2_regularization_categorical: 1\n",
      "  apply_link_function: true\n",
      "  compute_permutation_variable_importance: false\n",
      "}\n",
      "\n",
      "[INFO kernel.cc:790] Deployment config:\n",
      "num_threads: 6\n",
      "\n",
      "[INFO kernel.cc:817] Train model\n",
      "[INFO gradient_boosted_trees.cc:404] Default loss set to MULTINOMIAL_LOG_LIKELIHOOD\n",
      "[INFO gradient_boosted_trees.cc:1001] Training gradient boosted tree on 252 example(s) and 7 feature(s).\n",
      "[INFO gradient_boosted_trees.cc:1044] 223 examples used for training and 29 examples used for validation\n",
      "[INFO gradient_boosted_trees.cc:1426] \tnum-trees:1 train-loss:0.916678 train-accuracy:0.991031 valid-loss:0.935327 valid-accuracy:0.896552\n",
      "[INFO gradient_boosted_trees.cc:2740] Early stop of the training because the validation loss does not decrease anymore. Best valid-loss: 0.0875364\n",
      "[INFO gradient_boosted_trees.cc:229] Truncates the model to 135 tree(s) i.e. 45  iteration(s).\n",
      "[INFO gradient_boosted_trees.cc:263] Final model num-trees:45 valid-loss:0.087536 valid-accuracy:0.965517\n",
      "[INFO kernel.cc:828] Export model in log directory: /tmp/tmp_ta7z9ad\n",
      "[INFO kernel.cc:836] Save model in resources\n",
      "[INFO kernel.cc:988] Loading model from path\n",
      "[INFO decision_forest.cc:590] Model loaded with 135 root(s), 5145 node(s), and 7 input feature(s).\n",
      "[INFO kernel.cc:848] Use fast generic engine\n",
      "WARNING:tensorflow:6 out of the last 6 calls to <function CoreModel.make_predict_function.<locals>.predict_function_trained at 0x7f9f607f3ef0> triggered tf.function retracing. Tracing is expensive and the excessive number of tracings could be due to (1) creating @tf.function repeatedly in a loop, (2) passing tensors with different shapes, (3) passing Python objects instead of tensors. For (1), please define your @tf.function outside of the loop. For (2), @tf.function has experimental_relax_shapes=True option that relaxes argument shapes that can avoid unnecessary retracing. For (3), please refer to https://www.tensorflow.org/guide/function#controlling_retracing and https://www.tensorflow.org/api_docs/python/tf/function for  more details.\n"
     ]
    },
    {
     "data": {
      "text/plain": [
       "<keras.callbacks.History at 0x7f9f607de590>"
      ]
     },
     "execution_count": 30,
     "metadata": {},
     "output_type": "execute_result"
    }
   ],
   "source": [
    "# A good template of hyper-parameters.\n",
    "model_8 = tfdf.keras.GradientBoostedTreesModel(hyperparameter_template=\"benchmark_rank1\")\n",
    "model_8.fit(x=train_ds)"
   ]
  },
  {
   "cell_type": "markdown",
   "metadata": {
    "id": "FSDXcKXB3u6M"
   },
   "source": [
    "The available tempaltes are available with `predefined_hyperparameters`. Note that different learning algorithms have different templates, even if the name is similar."
   ]
  },
  {
   "cell_type": "code",
   "execution_count": 31,
   "metadata": {
    "execution": {
     "iopub.execute_input": "2021-11-08T12:10:11.034779Z",
     "iopub.status.busy": "2021-11-08T12:10:11.034067Z",
     "iopub.status.idle": "2021-11-08T12:10:11.036909Z",
     "shell.execute_reply": "2021-11-08T12:10:11.036479Z"
    },
    "id": "MQrWI2iv37Bo"
   },
   "outputs": [
    {
     "name": "stdout",
     "output_type": "stream",
     "text": [
      "[HyperParameterTemplate(name='better_default', version=1, parameters={'growing_strategy': 'BEST_FIRST_GLOBAL'}, description='A configuration that is generally better than the default parameters without being more expensive.'), HyperParameterTemplate(name='benchmark_rank1', version=1, parameters={'growing_strategy': 'BEST_FIRST_GLOBAL', 'categorical_algorithm': 'RANDOM', 'split_axis': 'SPARSE_OBLIQUE', 'sparse_oblique_normalization': 'MIN_MAX', 'sparse_oblique_num_projections_exponent': 1.0}, description='Top ranking hyper-parameters on our benchmark slightly modified to run in reasonable time.')]\n"
     ]
    }
   ],
   "source": [
    "# The hyper-parameter templates of the Gradient Boosted Tree model.\n",
    "print(tfdf.keras.GradientBoostedTreesModel.predefined_hyperparameters())"
   ]
  },
  {
   "cell_type": "markdown",
   "metadata": {
    "id": "gcX4tov1_lwp"
   },
   "source": [
    "## Feature Preprocessing\n",
    "\n",
    "Pre-processing features is sometimes necessary to consume signals with complex\n",
    "structures, to regularize the model or to apply transfer learning.\n",
    "Pre-processing can be done in one of three ways:\n",
    "\n",
    "1.  Preprocessing on the Pandas dataframe. This solution is easy to implement\n",
    "    and generally suitable for experimentation. However, the\n",
    "    pre-processing logic will not be exported in the model by `model.save()`.\n",
    "\n",
    "2.  [Keras Preprocessing](https://keras.io/guides/preprocessing_layers/): While\n",
    "    more complex than the previous solution, Keras Preprocessing is packaged in\n",
    "    the model.\n",
    "\n",
    "3.  [TensorFlow Feature Columns](https://www.tensorflow.org/tutorials/structured_data/feature_columns):\n",
    "    This API is part of the TF Estimator library (!= Keras) and planned for\n",
    "    deprecation. This solution is interesting when using existing preprocessing\n",
    "    code.\n",
    "\n",
    "Note: Using [TensorFlow Hub](https://www.tensorflow.org/hub)\n",
    "pre-trained embedding is often, a great way to consume text and image with\n",
    "TF-DF. For example, `hub.KerasLayer(\"https://tfhub.dev/google/nnlm-en-dim128/2\")`. See the [Intermediate tutorial](intermediate_colab.ipynb) for more details.\n",
    "\n",
    "In the next example, pre-process the `body_mass_g` feature into `body_mass_kg = body_mass_g / 1000`. The `bill_length_mm` is consumed without pre-processing. Note that such\n",
    "monotonic transformations have generally no impact on decision forest models."
   ]
  },
  {
   "cell_type": "code",
   "execution_count": 32,
   "metadata": {
    "execution": {
     "iopub.execute_input": "2021-11-08T12:10:11.043922Z",
     "iopub.status.busy": "2021-11-08T12:10:11.043295Z",
     "iopub.status.idle": "2021-11-08T12:10:11.504024Z",
     "shell.execute_reply": "2021-11-08T12:10:11.504448Z"
    },
    "id": "tGcIvTeKAApp"
   },
   "outputs": [
    {
     "data": {
      "application/javascript": [
       "google.colab.output.setIframeHeight(0, true, {maxHeight: 300})"
      ],
      "text/plain": [
       "<IPython.core.display.Javascript object>"
      ]
     },
     "metadata": {},
     "output_type": "display_data"
    },
    {
     "name": "stderr",
     "output_type": "stream",
     "text": [
      "/tmpfs/src/tf_docs_env/lib/python3.7/site-packages/keras/engine/functional.py:559: UserWarning: Input dict contained keys ['island', 'bill_depth_mm', 'flipper_length_mm', 'sex', 'year'] which did not match any model input. They will be ignored by the model.\n",
      "  inputs = self._flatten_to_reference_inputs(inputs)\n"
     ]
    },
    {
     "name": "stdout",
     "output_type": "stream",
     "text": [
      "\r",
      "1/4 [======>.......................] - ETA: 0s"
     ]
    },
    {
     "name": "stdout",
     "output_type": "stream",
     "text": [
      "\b\b\b\b\b\b\b\b\b\b\b\b\b\b\b\b\b\b\b\b\b\b\b\b\b\b\b\b\b\b\b\b\b\b\b\b\b\b\b\b\b\b\b\b\b\b\r",
      "4/4 [==============================] - 0s 16ms/step\n"
     ]
    },
    {
     "name": "stdout",
     "output_type": "stream",
     "text": [
      "Model: \"random_forest_model_1\"\n",
      "_________________________________________________________________\n",
      " Layer (type)                Output Shape              Param #   \n",
      "=================================================================\n",
      " model (Functional)          {'body_mass_kg': (None,   0         \n",
      "                             1),                                 \n",
      "                              'bill_length_mm': (None            \n",
      "                             , 1)}                               \n",
      "                                                                 \n",
      "=================================================================\n",
      "Total params: 1\n",
      "Trainable params: 0\n",
      "Non-trainable params: 1\n",
      "_________________________________________________________________\n",
      "Type: \"RANDOM_FOREST\"\n",
      "Task: CLASSIFICATION\n",
      "Label: \"__LABEL\"\n",
      "\n",
      "Input Features (2):\n",
      "\tbill_length_mm\n",
      "\tbody_mass_kg\n",
      "\n",
      "No weights\n",
      "\n",
      "Variable Importance: MEAN_MIN_DEPTH:\n",
      "    1.        \"__LABEL\"  3.902486 ################\n",
      "    2.   \"body_mass_kg\"  1.189670 ####\n",
      "    3. \"bill_length_mm\"  0.085316 \n",
      "\n",
      "Variable Importance: NUM_AS_ROOT:\n",
      "    1. \"bill_length_mm\" 277.000000 ################\n",
      "    2.   \"body_mass_kg\" 23.000000 \n",
      "\n",
      "Variable Importance: NUM_NODES:\n",
      "    1. \"bill_length_mm\" 1662.000000 ################\n",
      "    2.   \"body_mass_kg\" 1254.000000 \n",
      "\n",
      "Variable Importance: SUM_SCORE:\n",
      "    1. \"bill_length_mm\" 44153.014873 ################\n",
      "    2.   \"body_mass_kg\" 29047.432848 \n",
      "\n",
      "\n",
      "\n",
      "Winner take all: true\n",
      "Out-of-bag evaluation: accuracy:0.916667 logloss:0.870757\n",
      "Number of trees: 300\n",
      "Total number of nodes: 6132\n",
      "\n",
      "Number of nodes by tree:\n",
      "Count: 300 Average: 20.44 StdDev: 3.36745\n",
      "Min: 11 Max: 27 Ignored: 0\n",
      "----------------------------------------------\n",
      "[ 11, 12)  2   0.67%   0.67%\n",
      "[ 12, 13)  0   0.00%   0.67%\n",
      "[ 13, 14)  6   2.00%   2.67% #\n",
      "[ 14, 15)  0   0.00%   2.67%\n",
      "[ 15, 16) 19   6.33%   9.00% ###\n",
      "[ 16, 17)  0   0.00%   9.00%\n",
      "[ 17, 18) 49  16.33%  25.33% #######\n",
      "[ 18, 19)  0   0.00%  25.33%\n",
      "[ 19, 20) 56  18.67%  44.00% ########\n",
      "[ 20, 21)  0   0.00%  44.00%\n",
      "[ 21, 22) 67  22.33%  66.33% ##########\n",
      "[ 22, 23)  0   0.00%  66.33%\n",
      "[ 23, 24) 53  17.67%  84.00% ########\n",
      "[ 24, 25)  0   0.00%  84.00%\n",
      "[ 25, 26) 36  12.00%  96.00% #####\n",
      "[ 26, 27)  0   0.00%  96.00%\n",
      "[ 27, 27] 12   4.00% 100.00% ##\n",
      "\n",
      "Depth by leafs:\n",
      "Count: 3216 Average: 3.94092 StdDev: 1.28045\n",
      "Min: 1 Max: 8 Ignored: 0\n",
      "----------------------------------------------\n",
      "[ 1, 2)  51   1.59%   1.59% #\n",
      "[ 2, 3) 317   9.86%  11.44% ###\n",
      "[ 3, 4) 879  27.33%  38.77% #########\n",
      "[ 4, 5) 978  30.41%  69.19% ##########\n",
      "[ 5, 6) 610  18.97%  88.15% ######\n",
      "[ 6, 7) 289   8.99%  97.14% ###\n",
      "[ 7, 8)  80   2.49%  99.63% #\n",
      "[ 8, 8]  12   0.37% 100.00%\n",
      "\n",
      "Number of training obs by leaf:\n",
      "Count: 3216 Average: 23.5075 StdDev: 28.8461\n",
      "Min: 5 Max: 117 Ignored: 0\n",
      "----------------------------------------------\n",
      "[   5,  10) 2106  65.49%  65.49% ##########\n",
      "[  10,  16)  180   5.60%  71.08% #\n",
      "[  16,  21)   17   0.53%  71.61%\n",
      "[  21,  27)   12   0.37%  71.98%\n",
      "[  27,  33)   23   0.72%  72.70%\n",
      "[  33,  38)   59   1.83%  74.53%\n",
      "[  38,  44)  106   3.30%  77.83% #\n",
      "[  44,  50)   81   2.52%  80.35%\n",
      "[  50,  55)   36   1.12%  81.47%\n",
      "[  55,  61)   31   0.96%  82.43%\n",
      "[  61,  67)   61   1.90%  84.33%\n",
      "[  67,  72)   78   2.43%  86.75%\n",
      "[  72,  78)  103   3.20%  89.96%\n",
      "[  78,  84)  120   3.73%  93.69% #\n",
      "[  84,  89)   79   2.46%  96.14%\n",
      "[  89,  95)   65   2.02%  98.17%\n",
      "[  95, 101)   34   1.06%  99.22%\n",
      "[ 101, 106)   15   0.47%  99.69%\n",
      "[ 106, 112)    9   0.28%  99.97%\n",
      "[ 112, 117]    1   0.03% 100.00%\n",
      "\n",
      "Attribute in nodes:\n",
      "\t1662 : bill_length_mm [NUMERICAL]\n",
      "\t1254 : body_mass_kg [NUMERICAL]\n",
      "\n",
      "Attribute in nodes with depth <= 0:\n",
      "\t277 : bill_length_mm [NUMERICAL]\n",
      "\t23 : body_mass_kg [NUMERICAL]\n",
      "\n",
      "Attribute in nodes with depth <= 1:\n",
      "\t509 : bill_length_mm [NUMERICAL]\n",
      "\t340 : body_mass_kg [NUMERICAL]\n",
      "\n",
      "Attribute in nodes with depth <= 2:\n",
      "\t829 : bill_length_mm [NUMERICAL]\n",
      "\t801 : body_mass_kg [NUMERICAL]\n",
      "\n",
      "Attribute in nodes with depth <= 3:\n",
      "\t1287 : bill_length_mm [NUMERICAL]\n",
      "\t1026 : body_mass_kg [NUMERICAL]\n",
      "\n",
      "Attribute in nodes with depth <= 5:\n",
      "\t1636 : bill_length_mm [NUMERICAL]\n",
      "\t1231 : body_mass_kg [NUMERICAL]\n",
      "\n",
      "Condition type in nodes:\n",
      "\t2916 : HigherCondition\n",
      "Condition type in nodes with depth <= 0:\n",
      "\t300 : HigherCondition\n",
      "Condition type in nodes with depth <= 1:\n",
      "\t849 : HigherCondition\n",
      "Condition type in nodes with depth <= 2:\n",
      "\t1630 : HigherCondition\n",
      "Condition type in nodes with depth <= 3:\n",
      "\t2313 : HigherCondition\n",
      "Condition type in nodes with depth <= 5:\n",
      "\t2867 : HigherCondition\n",
      "Node format: NOT_SET\n",
      "\n",
      "Training OOB:\n",
      "\ttrees: 1, Out-of-bag evaluation: accuracy:0.917647 logloss:2.9683\n",
      "\ttrees: 11, Out-of-bag evaluation: accuracy:0.912351 logloss:1.92845\n",
      "\ttrees: 21, Out-of-bag evaluation: accuracy:0.912698 logloss:1.11427\n",
      "\ttrees: 31, Out-of-bag evaluation: accuracy:0.912698 logloss:1.12232\n",
      "\ttrees: 41, Out-of-bag evaluation: accuracy:0.912698 logloss:1.12847\n",
      "\ttrees: 51, Out-of-bag evaluation: accuracy:0.912698 logloss:0.990838\n",
      "\ttrees: 62, Out-of-bag evaluation: accuracy:0.912698 logloss:0.994012\n",
      "\ttrees: 72, Out-of-bag evaluation: accuracy:0.916667 logloss:0.994701\n",
      "\ttrees: 82, Out-of-bag evaluation: accuracy:0.912698 logloss:0.995821\n",
      "\ttrees: 92, Out-of-bag evaluation: accuracy:0.912698 logloss:0.998233\n",
      "\ttrees: 102, Out-of-bag evaluation: accuracy:0.90873 logloss:0.998181\n",
      "\ttrees: 112, Out-of-bag evaluation: accuracy:0.90873 logloss:0.998903\n",
      "\ttrees: 122, Out-of-bag evaluation: accuracy:0.90873 logloss:0.998643\n",
      "\ttrees: 132, Out-of-bag evaluation: accuracy:0.90873 logloss:0.99731\n",
      "\ttrees: 142, Out-of-bag evaluation: accuracy:0.912698 logloss:0.996077\n",
      "\ttrees: 152, Out-of-bag evaluation: accuracy:0.912698 logloss:0.996836\n",
      "\ttrees: 162, Out-of-bag evaluation: accuracy:0.912698 logloss:0.996395\n",
      "\ttrees: 172, Out-of-bag evaluation: accuracy:0.912698 logloss:0.996696\n",
      "\ttrees: 182, Out-of-bag evaluation: accuracy:0.912698 logloss:0.998245\n",
      "\ttrees: 192, Out-of-bag evaluation: accuracy:0.912698 logloss:0.997358\n",
      "\ttrees: 202, Out-of-bag evaluation: accuracy:0.912698 logloss:0.999001\n",
      "\ttrees: 213, Out-of-bag evaluation: accuracy:0.912698 logloss:0.998658\n",
      "\ttrees: 223, Out-of-bag evaluation: accuracy:0.912698 logloss:1.00071\n",
      "\ttrees: 233, Out-of-bag evaluation: accuracy:0.912698 logloss:1.00151\n",
      "\ttrees: 243, Out-of-bag evaluation: accuracy:0.912698 logloss:0.874558\n",
      "\ttrees: 253, Out-of-bag evaluation: accuracy:0.912698 logloss:0.872911\n",
      "\ttrees: 263, Out-of-bag evaluation: accuracy:0.916667 logloss:0.871938\n",
      "\ttrees: 273, Out-of-bag evaluation: accuracy:0.912698 logloss:0.871203\n",
      "\ttrees: 283, Out-of-bag evaluation: accuracy:0.912698 logloss:0.86921\n",
      "\ttrees: 293, Out-of-bag evaluation: accuracy:0.916667 logloss:0.870217\n",
      "\ttrees: 300, Out-of-bag evaluation: accuracy:0.916667 logloss:0.870757\n",
      "\n"
     ]
    },
    {
     "name": "stderr",
     "output_type": "stream",
     "text": [
      "[INFO kernel.cc:736] Start Yggdrasil model training\n",
      "[INFO kernel.cc:737] Collect training examples\n",
      "[INFO kernel.cc:392] Number of batches: 4\n",
      "[INFO kernel.cc:393] Number of examples: 252\n",
      "[INFO kernel.cc:759] Dataset:\n",
      "Number of records: 252\n",
      "Number of columns: 3\n",
      "\n",
      "Number of columns by type:\n",
      "\tNUMERICAL: 2 (66.6667%)\n",
      "\tCATEGORICAL: 1 (33.3333%)\n",
      "\n",
      "Columns:\n",
      "\n",
      "NUMERICAL: 2 (66.6667%)\n",
      "\t0: \"bill_length_mm\" NUMERICAL num-nas:2 (0.793651%) mean:44.1884 min:33.1 max:59.6 sd:5.36528\n",
      "\t1: \"body_mass_kg\" NUMERICAL num-nas:2 (0.793651%) mean:4.221 min:2.7 max:6.3 sd:0.811125\n",
      "\n",
      "CATEGORICAL: 1 (33.3333%)\n",
      "\t2: \"__LABEL\" CATEGORICAL integerized vocab-size:4 no-ood-item\n",
      "\n",
      "Terminology:\n",
      "\tnas: Number of non-available (i.e. missing) values.\n",
      "\tood: Out of dictionary.\n",
      "\tmanually-defined: Attribute which type is manually defined by the user i.e. the type was not automatically inferred.\n",
      "\ttokenized: The attribute value is obtained through tokenization.\n",
      "\thas-dict: The attribute is attached to a string dictionary e.g. a categorical attribute stored as a string.\n",
      "\tvocab-size: Number of unique values.\n",
      "\n",
      "[INFO kernel.cc:762] Configure learner\n",
      "[INFO kernel.cc:787] Training config:\n",
      "learner: \"RANDOM_FOREST\"\n",
      "features: \"bill_length_mm\"\n",
      "features: \"body_mass_kg\"\n",
      "label: \"__LABEL\"\n",
      "task: CLASSIFICATION\n",
      "[yggdrasil_decision_forests.model.random_forest.proto.random_forest_config] {\n",
      "  num_trees: 300\n",
      "  decision_tree {\n",
      "    max_depth: 16\n",
      "    min_examples: 5\n",
      "    in_split_min_examples_check: true\n",
      "    missing_value_policy: GLOBAL_IMPUTATION\n",
      "    allow_na_conditions: false\n",
      "    categorical_set_greedy_forward {\n",
      "      sampling: 0.1\n",
      "      max_num_items: -1\n",
      "      min_item_frequency: 1\n",
      "    }\n",
      "    growing_strategy_local {\n",
      "    }\n",
      "    categorical {\n",
      "      cart {\n",
      "      }\n",
      "    }\n",
      "    num_candidate_attributes_ratio: -1\n",
      "    axis_aligned_split {\n",
      "    }\n",
      "    internal {\n",
      "      sorting_strategy: PRESORTED\n",
      "    }\n",
      "  }\n",
      "  winner_take_all_inference: true\n",
      "  compute_oob_performances: true\n",
      "  compute_oob_variable_importances: false\n",
      "  adapt_bootstrap_size_ratio_for_maximum_training_duration: false\n",
      "}\n",
      "\n",
      "[INFO kernel.cc:790] Deployment config:\n",
      "num_threads: 6\n",
      "\n",
      "[INFO kernel.cc:817] Train model\n",
      "[INFO random_forest.cc:315] Training random forest on 252 example(s) and 2 feature(s).\n",
      "[INFO random_forest.cc:628] Training of tree  1/300 (tree index:1) done accuracy:0.917647 logloss:2.9683\n",
      "[INFO random_forest.cc:628] Training of tree  11/300 (tree index:12) done accuracy:0.912351 logloss:1.92845\n",
      "[INFO random_forest.cc:628] Training of tree  21/300 (tree index:22) done accuracy:0.912698 logloss:1.11427\n",
      "[INFO random_forest.cc:628] Training of tree  31/300 (tree index:30) done accuracy:0.912698 logloss:1.12232\n",
      "[INFO random_forest.cc:628] Training of tree  41/300 (tree index:40) done accuracy:0.912698 logloss:1.12847\n",
      "[INFO random_forest.cc:628] Training of tree  51/300 (tree index:50) done accuracy:0.912698 logloss:0.990838\n",
      "[INFO random_forest.cc:628] Training of tree  62/300 (tree index:61) done accuracy:0.912698 logloss:0.994012\n",
      "[INFO random_forest.cc:628] Training of tree  72/300 (tree index:71) done accuracy:0.916667 logloss:0.994701\n",
      "[INFO random_forest.cc:628] Training of tree  82/300 (tree index:81) done accuracy:0.912698 logloss:0.995821\n",
      "[INFO random_forest.cc:628] Training of tree  92/300 (tree index:91) done accuracy:0.912698 logloss:0.998233\n",
      "[INFO random_forest.cc:628] Training of tree  102/300 (tree index:100) done accuracy:0.90873 logloss:0.998181\n",
      "[INFO random_forest.cc:628] Training of tree  112/300 (tree index:111) done accuracy:0.90873 logloss:0.998903\n",
      "[INFO random_forest.cc:628] Training of tree  122/300 (tree index:121) done accuracy:0.90873 logloss:0.998643\n",
      "[INFO random_forest.cc:628] Training of tree  132/300 (tree index:132) done accuracy:0.90873 logloss:0.99731\n",
      "[INFO random_forest.cc:628] Training of tree  142/300 (tree index:141) done accuracy:0.912698 logloss:0.996077\n",
      "[INFO random_forest.cc:628] Training of tree  152/300 (tree index:152) done accuracy:0.912698 logloss:0.996836\n",
      "[INFO random_forest.cc:628] Training of tree  162/300 (tree index:159) done accuracy:0.912698 logloss:0.996395\n",
      "[INFO random_forest.cc:628] Training of tree  172/300 (tree index:171) done accuracy:0.912698 logloss:0.996696\n",
      "[INFO random_forest.cc:628] Training of tree  182/300 (tree index:181) done accuracy:0.912698 logloss:0.998245\n",
      "[INFO random_forest.cc:628] Training of tree  192/300 (tree index:191) done accuracy:0.912698 logloss:0.997358\n",
      "[INFO random_forest.cc:628] Training of tree  202/300 (tree index:201) done accuracy:0.912698 logloss:0.999001\n",
      "[INFO random_forest.cc:628] Training of tree  213/300 (tree index:211) done accuracy:0.912698 logloss:0.998658\n",
      "[INFO random_forest.cc:628] Training of tree  223/300 (tree index:222) done accuracy:0.912698 logloss:1.00071\n",
      "[INFO random_forest.cc:628] Training of tree  233/300 (tree index:232) done accuracy:0.912698 logloss:1.00151\n",
      "[INFO random_forest.cc:628] Training of tree  243/300 (tree index:242) done accuracy:0.912698 logloss:0.874558\n",
      "[INFO random_forest.cc:628] Training of tree  253/300 (tree index:252) done accuracy:0.912698 logloss:0.872911\n",
      "[INFO random_forest.cc:628] Training of tree  263/300 (tree index:261) done accuracy:0.916667 logloss:0.871938\n",
      "[INFO random_forest.cc:628] Training of tree  273/300 (tree index:272) done accuracy:0.912698 logloss:0.871203\n",
      "[INFO random_forest.cc:628] Training of tree  283/300 (tree index:283) done accuracy:0.912698 logloss:0.86921\n",
      "[INFO random_forest.cc:628] Training of tree  293/300 (tree index:292) done accuracy:0.916667 logloss:0.870217\n",
      "[INFO random_forest.cc:628] Training of tree  300/300 (tree index:299) done accuracy:0.916667 logloss:0.870757\n",
      "[INFO random_forest.cc:696] Final OOB metrics: accuracy:0.916667 logloss:0.870757\n",
      "[INFO kernel.cc:828] Export model in log directory: /tmp/tmp7wtb85on\n",
      "[INFO kernel.cc:836] Save model in resources\n",
      "[INFO kernel.cc:988] Loading model from path\n",
      "[INFO decision_forest.cc:590] Model loaded with 300 root(s), 6132 node(s), and 2 input feature(s).\n",
      "[INFO kernel.cc:848] Use fast generic engine\n"
     ]
    }
   ],
   "source": [
    "%set_cell_height 300\n",
    "\n",
    "body_mass_g = tf.keras.layers.Input(shape=(1,), name=\"body_mass_g\")\n",
    "body_mass_kg = body_mass_g / 1000.0\n",
    "\n",
    "bill_length_mm = tf.keras.layers.Input(shape=(1,), name=\"bill_length_mm\")\n",
    "\n",
    "raw_inputs = {\"body_mass_g\": body_mass_g, \"bill_length_mm\": bill_length_mm}\n",
    "processed_inputs = {\"body_mass_kg\": body_mass_kg, \"bill_length_mm\": bill_length_mm}\n",
    "\n",
    "# \"preprocessor\" contains the preprocessing logic.\n",
    "preprocessor = tf.keras.Model(inputs=raw_inputs, outputs=processed_inputs)\n",
    "\n",
    "# \"model_4\" contains both the pre-processing logic and the decision forest.\n",
    "model_4 = tfdf.keras.RandomForestModel(preprocessing=preprocessor)\n",
    "model_4.fit(x=train_ds)\n",
    "\n",
    "model_4.summary()"
   ]
  },
  {
   "cell_type": "markdown",
   "metadata": {
    "id": "h1Bx3Feyjb2o"
   },
   "source": [
    "The following example re-implements the same logic using TensorFlow Feature\n",
    "Columns."
   ]
  },
  {
   "cell_type": "code",
   "execution_count": 33,
   "metadata": {
    "execution": {
     "iopub.execute_input": "2021-11-08T12:10:11.513898Z",
     "iopub.status.busy": "2021-11-08T12:10:11.513228Z",
     "iopub.status.idle": "2021-11-08T12:10:11.752103Z",
     "shell.execute_reply": "2021-11-08T12:10:11.752511Z"
    },
    "id": "fnwe3sBt-yJk"
   },
   "outputs": [
    {
     "name": "stdout",
     "output_type": "stream",
     "text": [
      "\r",
      "1/4 [======>.......................] - ETA: 0s"
     ]
    },
    {
     "name": "stdout",
     "output_type": "stream",
     "text": [
      "\b\b\b\b\b\b\b\b\b\b\b\b\b\b\b\b\b\b\b\b\b\b\b\b\b\b\b\b\b\b\b\b\b\b\b\b\b\b\b\b\b\b\b\b\b\b\r",
      "4/4 [==============================] - 0s 16ms/step\n"
     ]
    },
    {
     "name": "stderr",
     "output_type": "stream",
     "text": [
      "[INFO kernel.cc:736] Start Yggdrasil model training\n",
      "[INFO kernel.cc:737] Collect training examples\n",
      "[INFO kernel.cc:392] Number of batches: 4\n",
      "[INFO kernel.cc:393] Number of examples: 252\n",
      "[INFO kernel.cc:759] Dataset:\n",
      "Number of records: 252\n",
      "Number of columns: 3\n",
      "\n",
      "Number of columns by type:\n",
      "\tNUMERICAL: 2 (66.6667%)\n",
      "\tCATEGORICAL: 1 (33.3333%)\n",
      "\n",
      "Columns:\n",
      "\n",
      "NUMERICAL: 2 (66.6667%)\n",
      "\t0: \"dense_features/concat:0.0\" NUMERICAL num-nas:2 (0.793651%) mean:44.1884 min:33.1 max:59.6 sd:5.36528\n",
      "\t1: \"dense_features/concat:0.1\" NUMERICAL num-nas:2 (0.793651%) mean:4.221 min:2.7 max:6.3 sd:0.811125\n",
      "\n",
      "CATEGORICAL: 1 (33.3333%)\n",
      "\t2: \"__LABEL\" CATEGORICAL integerized vocab-size:4 no-ood-item\n",
      "\n",
      "Terminology:\n",
      "\tnas: Number of non-available (i.e. missing) values.\n",
      "\tood: Out of dictionary.\n",
      "\tmanually-defined: Attribute which type is manually defined by the user i.e. the type was not automatically inferred.\n",
      "\ttokenized: The attribute value is obtained through tokenization.\n",
      "\thas-dict: The attribute is attached to a string dictionary e.g. a categorical attribute stored as a string.\n",
      "\tvocab-size: Number of unique values.\n",
      "\n",
      "[INFO kernel.cc:762] Configure learner\n",
      "[INFO kernel.cc:787] Training config:\n",
      "learner: \"RANDOM_FOREST\"\n",
      "features: \"dense_features/concat:0\\\\.0\"\n",
      "features: \"dense_features/concat:0\\\\.1\"\n",
      "label: \"__LABEL\"\n",
      "task: CLASSIFICATION\n",
      "[yggdrasil_decision_forests.model.random_forest.proto.random_forest_config] {\n",
      "  num_trees: 300\n",
      "  decision_tree {\n",
      "    max_depth: 16\n",
      "    min_examples: 5\n",
      "    in_split_min_examples_check: true\n",
      "    missing_value_policy: GLOBAL_IMPUTATION\n",
      "    allow_na_conditions: false\n",
      "    categorical_set_greedy_forward {\n",
      "      sampling: 0.1\n",
      "      max_num_items: -1\n",
      "      min_item_frequency: 1\n",
      "    }\n",
      "    growing_strategy_local {\n",
      "    }\n",
      "    categorical {\n",
      "      cart {\n",
      "      }\n",
      "    }\n",
      "    num_candidate_attributes_ratio: -1\n",
      "    axis_aligned_split {\n",
      "    }\n",
      "    internal {\n",
      "      sorting_strategy: PRESORTED\n",
      "    }\n",
      "  }\n",
      "  winner_take_all_inference: true\n",
      "  compute_oob_performances: true\n",
      "  compute_oob_variable_importances: false\n",
      "  adapt_bootstrap_size_ratio_for_maximum_training_duration: false\n",
      "}\n",
      "\n",
      "[INFO kernel.cc:790] Deployment config:\n",
      "num_threads: 6\n",
      "\n",
      "[INFO kernel.cc:817] Train model\n",
      "[INFO random_forest.cc:315] Training random forest on 252 example(s) and 2 feature(s).\n",
      "[INFO random_forest.cc:628] Training of tree  1/300 (tree index:0) done accuracy:0.877778 logloss:4.40534\n",
      "[INFO random_forest.cc:628] Training of tree  11/300 (tree index:9) done accuracy:0.912351 logloss:1.92845\n",
      "[INFO random_forest.cc:628] Training of tree  21/300 (tree index:20) done accuracy:0.904762 logloss:1.1152\n",
      "[INFO random_forest.cc:628] Training of tree  31/300 (tree index:30) done accuracy:0.90873 logloss:1.12252\n",
      "[INFO random_forest.cc:628] Training of tree  41/300 (tree index:40) done accuracy:0.912698 logloss:1.12847\n",
      "[INFO random_forest.cc:628] Training of tree  51/300 (tree index:50) done accuracy:0.912698 logloss:0.990838\n",
      "[INFO random_forest.cc:628] Training of tree  61/300 (tree index:60) done accuracy:0.912698 logloss:0.992791\n",
      "[INFO random_forest.cc:628] Training of tree  71/300 (tree index:70) done accuracy:0.912698 logloss:0.993973\n",
      "[INFO random_forest.cc:628] Training of tree  81/300 (tree index:80) done accuracy:0.912698 logloss:0.995832\n",
      "[INFO random_forest.cc:628] Training of tree  91/300 (tree index:90) done accuracy:0.912698 logloss:0.997874\n",
      "[INFO random_forest.cc:628] Training of tree  101/300 (tree index:99) done accuracy:0.90873 logloss:0.998375\n",
      "[INFO random_forest.cc:628] Training of tree  111/300 (tree index:110) done accuracy:0.90873 logloss:0.998195\n",
      "[INFO random_forest.cc:628] Training of tree  121/300 (tree index:120) done accuracy:0.90873 logloss:0.998617\n",
      "[INFO random_forest.cc:628] Training of tree  131/300 (tree index:132) done accuracy:0.90873 logloss:0.997612\n",
      "[INFO random_forest.cc:628] Training of tree  141/300 (tree index:142) done accuracy:0.912698 logloss:0.995196\n",
      "[INFO random_forest.cc:628] Training of tree  151/300 (tree index:152) done accuracy:0.912698 logloss:0.996306\n",
      "[INFO random_forest.cc:628] Training of tree  161/300 (tree index:159) done accuracy:0.912698 logloss:0.995389\n",
      "[INFO random_forest.cc:628] Training of tree  171/300 (tree index:169) done accuracy:0.912698 logloss:0.996696\n",
      "[INFO random_forest.cc:628] Training of tree  181/300 (tree index:182) done accuracy:0.912698 logloss:0.998122\n",
      "[INFO random_forest.cc:628] Training of tree  191/300 (tree index:191) done accuracy:0.912698 logloss:0.997473\n",
      "[INFO random_forest.cc:628] Training of tree  201/300 (tree index:201) done accuracy:0.912698 logloss:0.998968\n",
      "[INFO random_forest.cc:628] Training of tree  211/300 (tree index:211) done accuracy:0.912698 logloss:0.998485\n",
      "[INFO random_forest.cc:628] Training of tree  221/300 (tree index:221) done accuracy:0.912698 logloss:1.00061\n",
      "[INFO random_forest.cc:628] Training of tree  231/300 (tree index:230) done accuracy:0.912698 logloss:1.00203\n",
      "[INFO random_forest.cc:628] Training of tree  241/300 (tree index:238) done accuracy:0.912698 logloss:0.874645\n",
      "[INFO random_forest.cc:628] Training of tree  251/300 (tree index:248) done accuracy:0.912698 logloss:0.872291\n",
      "[INFO random_forest.cc:628] Training of tree  261/300 (tree index:261) done accuracy:0.912698 logloss:0.873186\n",
      "[INFO random_forest.cc:628] Training of tree  272/300 (tree index:271) done accuracy:0.916667 logloss:0.871294\n",
      "[INFO random_forest.cc:628] Training of tree  282/300 (tree index:280) done accuracy:0.912698 logloss:0.86903\n",
      "[INFO random_forest.cc:628] Training of tree  292/300 (tree index:291) done accuracy:0.916667 logloss:0.870345\n",
      "[INFO random_forest.cc:628] Training of tree  300/300 (tree index:299) done accuracy:0.916667 logloss:0.870757\n",
      "[INFO random_forest.cc:696] Final OOB metrics: accuracy:0.916667 logloss:0.870757\n",
      "[INFO kernel.cc:828] Export model in log directory: /tmp/tmp8zmkaeqx\n",
      "[INFO kernel.cc:836] Save model in resources\n",
      "[INFO kernel.cc:988] Loading model from path\n",
      "[INFO decision_forest.cc:590] Model loaded with 300 root(s), 6132 node(s), and 2 input feature(s).\n",
      "[INFO kernel.cc:848] Use fast generic engine\n"
     ]
    },
    {
     "data": {
      "text/plain": [
       "<keras.callbacks.History at 0x7f9f8040f390>"
      ]
     },
     "execution_count": 33,
     "metadata": {},
     "output_type": "execute_result"
    }
   ],
   "source": [
    "def g_to_kg(x):\n",
    "  return x / 1000\n",
    "\n",
    "feature_columns = [\n",
    "    tf.feature_column.numeric_column(\"body_mass_g\", normalizer_fn=g_to_kg),\n",
    "    tf.feature_column.numeric_column(\"bill_length_mm\"),\n",
    "]\n",
    "\n",
    "preprocessing = tf.keras.layers.DenseFeatures(feature_columns)\n",
    "\n",
    "model_5 = tfdf.keras.RandomForestModel(preprocessing=preprocessing)\n",
    "model_5.compile(metrics=[\"accuracy\"])\n",
    "model_5.fit(x=train_ds)"
   ]
  },
  {
   "cell_type": "markdown",
   "metadata": {
    "id": "9vif6gsAjfzv"
   },
   "source": [
    "## Training a regression model\n",
    "\n",
    "The previous example trains a classification model (TF-DF does not differentiate\n",
    "between binary classification and multi-class classification). In the next\n",
    "example, train a regression model on the\n",
    "[Abalone dataset](https://archive.ics.uci.edu/ml/datasets/abalone). The\n",
    "objective of this dataset is to predict the number of shell's rings of an\n",
    "abalone.\n",
    "\n",
    "**Note:** The csv file is assembled by appending UCI's header and data files. No preprocessing was applied.\n",
    "\n",
    "<center>\n",
    "<img src=\"https://upload.wikimedia.org/wikipedia/commons/thumb/3/33/LivingAbalone.JPG/800px-LivingAbalone.JPG\" width=\"200\"/></center>"
   ]
  },
  {
   "cell_type": "code",
   "execution_count": 34,
   "metadata": {
    "execution": {
     "iopub.execute_input": "2021-11-08T12:10:11.769893Z",
     "iopub.status.busy": "2021-11-08T12:10:11.757380Z",
     "iopub.status.idle": "2021-11-08T12:10:12.284401Z",
     "shell.execute_reply": "2021-11-08T12:10:12.283886Z"
    },
    "id": "0uKI_Uy7RyWN"
   },
   "outputs": [
    {
     "name": "stdout",
     "output_type": "stream",
     "text": [
      "  Type  LongestShell  Diameter  Height  WholeWeight  ShuckedWeight  \\\n",
      "0    M         0.455     0.365   0.095       0.5140         0.2245   \n",
      "1    M         0.350     0.265   0.090       0.2255         0.0995   \n",
      "2    F         0.530     0.420   0.135       0.6770         0.2565   \n",
      "\n",
      "   VisceraWeight  ShellWeight  Rings  \n",
      "0         0.1010         0.15     15  \n",
      "1         0.0485         0.07      7  \n",
      "2         0.1415         0.21      9  \n"
     ]
    }
   ],
   "source": [
    "# Download the dataset.\n",
    "!wget -q https://storage.googleapis.com/download.tensorflow.org/data/abalone_raw.csv -O /tmp/abalone.csv\n",
    "\n",
    "dataset_df = pd.read_csv(\"/tmp/abalone.csv\")\n",
    "print(dataset_df.head(3))"
   ]
  },
  {
   "cell_type": "code",
   "execution_count": 35,
   "metadata": {
    "execution": {
     "iopub.execute_input": "2021-11-08T12:10:12.290318Z",
     "iopub.status.busy": "2021-11-08T12:10:12.289725Z",
     "iopub.status.idle": "2021-11-08T12:10:12.320902Z",
     "shell.execute_reply": "2021-11-08T12:10:12.321231Z"
    },
    "id": "_gjrquQySU7Q"
   },
   "outputs": [
    {
     "name": "stdout",
     "output_type": "stream",
     "text": [
      "2896 examples in training, 1281 examples for testing.\n"
     ]
    },
    {
     "name": "stderr",
     "output_type": "stream",
     "text": [
      "/tmpfs/src/tf_docs_env/lib/python3.7/site-packages/tensorflow_decision_forests/keras/core.py:1612: FutureWarning: In a future version of pandas all arguments of DataFrame.drop except for the argument 'labels' will be keyword-only\n",
      "  features_dataframe = dataframe.drop(label, 1)\n"
     ]
    }
   ],
   "source": [
    "# Split the dataset into a training and testing dataset.\n",
    "train_ds_pd, test_ds_pd = split_dataset(dataset_df)\n",
    "print(\"{} examples in training, {} examples for testing.\".format(\n",
    "    len(train_ds_pd), len(test_ds_pd)))\n",
    "\n",
    "# Name of the label column.\n",
    "label = \"Rings\"\n",
    "\n",
    "train_ds = tfdf.keras.pd_dataframe_to_tf_dataset(train_ds_pd, label=label, task=tfdf.keras.Task.REGRESSION)\n",
    "test_ds = tfdf.keras.pd_dataframe_to_tf_dataset(train_ds_pd, label=label, task=tfdf.keras.Task.REGRESSION)"
   ]
  },
  {
   "cell_type": "code",
   "execution_count": 36,
   "metadata": {
    "execution": {
     "iopub.execute_input": "2021-11-08T12:10:12.327090Z",
     "iopub.status.busy": "2021-11-08T12:10:12.326508Z",
     "iopub.status.idle": "2021-11-08T12:10:14.204822Z",
     "shell.execute_reply": "2021-11-08T12:10:14.204186Z"
    },
    "id": "t8fUhQKISqYT"
   },
   "outputs": [
    {
     "data": {
      "application/javascript": [
       "google.colab.output.setIframeHeight(0, true, {maxHeight: 300})"
      ],
      "text/plain": [
       "<IPython.core.display.Javascript object>"
      ]
     },
     "metadata": {},
     "output_type": "display_data"
    },
    {
     "name": "stdout",
     "output_type": "stream",
     "text": [
      "\r",
      " 1/46 [..............................] - ETA: 4s"
     ]
    },
    {
     "name": "stdout",
     "output_type": "stream",
     "text": [
      "\b\b\b\b\b\b\b\b\b\b\b\b\b\b\b\b\b\b\b\b\b\b\b\b\b\b\b\b\b\b\b\b\b\b\b\b\b\b\b\b\b\b\b\b\b\b\b\b\r",
      "25/46 [===============>..............] - ETA: 0s"
     ]
    },
    {
     "name": "stderr",
     "output_type": "stream",
     "text": [
      "[INFO kernel.cc:736] Start Yggdrasil model training\n",
      "[INFO kernel.cc:737] Collect training examples\n",
      "[INFO kernel.cc:392] Number of batches: 46\n",
      "[INFO kernel.cc:393] Number of examples: 2896\n",
      "[INFO kernel.cc:759] Dataset:\n",
      "Number of records: 2896\n",
      "Number of columns: 9\n",
      "\n",
      "Number of columns by type:\n",
      "\tNUMERICAL: 8 (88.8889%)\n",
      "\tCATEGORICAL: 1 (11.1111%)\n",
      "\n",
      "Columns:\n",
      "\n",
      "NUMERICAL: 8 (88.8889%)\n",
      "\t0: \"Diameter\" NUMERICAL mean:0.40852 min:0.055 max:0.63 sd:0.0990864\n",
      "\t1: \"Height\" NUMERICAL mean:0.140059 min:0 max:1.13 sd:0.04324\n",
      "\t2: \"LongestShell\" NUMERICAL mean:0.525167 min:0.075 max:0.8 sd:0.120085\n",
      "\t3: \"ShellWeight\" NUMERICAL mean:0.240438 min:0.0015 max:1.005 sd:0.139656\n",
      "\t4: \"ShuckedWeight\" NUMERICAL mean:0.362275 min:0.001 max:1.488 sd:0.222695\n",
      "\t6: \"VisceraWeight\" NUMERICAL mean:0.18221 min:0.0005 max:0.76 sd:0.110215\n",
      "\t7: \"WholeWeight\" NUMERICAL mean:0.835914 min:0.002 max:2.8255 sd:0.493095\n",
      "\t8: \"__LABEL\" NUMERICAL mean:9.89572 min:1 max:29 sd:3.19208\n",
      "\n",
      "CATEGORICAL: 1 (11.1111%)\n",
      "\t5: \"Type\" CATEGORICAL has-dict vocab-size:4 zero-ood-items most-frequent:\"M\" 1057 (36.4986%)\n",
      "\n",
      "Terminology:\n",
      "\tnas: Number of non-available (i.e. missing) values.\n",
      "\tood: Out of dictionary.\n",
      "\tmanually-defined: Attribute which type is manually defined by the user i.e. the type was not automatically inferred.\n",
      "\ttokenized: The attribute value is obtained through tokenization.\n",
      "\thas-dict: The attribute is attached to a string dictionary e.g. a categorical attribute stored as a string.\n",
      "\tvocab-size: Number of unique values.\n",
      "\n",
      "[INFO kernel.cc:762] Configure learner\n",
      "[INFO kernel.cc:787] Training config:\n",
      "learner: \"RANDOM_FOREST\"\n",
      "features: \"Diameter\"\n",
      "features: \"Height\"\n",
      "features: \"LongestShell\"\n",
      "features: \"ShellWeight\"\n",
      "features: \"ShuckedWeight\"\n",
      "features: \"Type\"\n",
      "features: \"VisceraWeight\"\n",
      "features: \"WholeWeight\"\n",
      "label: \"__LABEL\"\n",
      "task: REGRESSION\n",
      "[yggdrasil_decision_forests.model.random_forest.proto.random_forest_config] {\n",
      "  num_trees: 300\n",
      "  decision_tree {\n",
      "    max_depth: 16\n",
      "    min_examples: 5\n",
      "    in_split_min_examples_check: true\n",
      "    missing_value_policy: GLOBAL_IMPUTATION\n",
      "    allow_na_conditions: false\n",
      "    categorical_set_greedy_forward {\n",
      "      sampling: 0.1\n",
      "      max_num_items: -1\n",
      "      min_item_frequency: 1\n",
      "    }\n",
      "    growing_strategy_local {\n",
      "    }\n",
      "    categorical {\n",
      "      cart {\n",
      "      }\n",
      "    }\n",
      "    num_candidate_attributes_ratio: -1\n",
      "    axis_aligned_split {\n",
      "    }\n",
      "    internal {\n",
      "      sorting_strategy: PRESORTED\n",
      "    }\n",
      "  }\n",
      "  winner_take_all_inference: true\n",
      "  compute_oob_performances: true\n",
      "  compute_oob_variable_importances: false\n",
      "  adapt_bootstrap_size_ratio_for_maximum_training_duration: false\n",
      "}\n",
      "\n",
      "[INFO kernel.cc:790] Deployment config:\n",
      "num_threads: 6\n",
      "\n",
      "[INFO kernel.cc:817] Train model\n",
      "[INFO random_forest.cc:315] Training random forest on 2896 example(s) and 8 feature(s).\n"
     ]
    },
    {
     "name": "stderr",
     "output_type": "stream",
     "text": [
      "[INFO random_forest.cc:628] Training of tree  1/300 (tree index:4) done rmse:2.65458\n"
     ]
    },
    {
     "name": "stderr",
     "output_type": "stream",
     "text": [
      "[INFO random_forest.cc:628] Training of tree  11/300 (tree index:9) done rmse:2.23049\n"
     ]
    },
    {
     "name": "stderr",
     "output_type": "stream",
     "text": [
      "[INFO random_forest.cc:628] Training of tree  21/300 (tree index:20) done rmse:2.16349\n"
     ]
    },
    {
     "name": "stderr",
     "output_type": "stream",
     "text": [
      "[INFO random_forest.cc:628] Training of tree  31/300 (tree index:28) done rmse:2.14447\n"
     ]
    },
    {
     "name": "stderr",
     "output_type": "stream",
     "text": [
      "[INFO random_forest.cc:628] Training of tree  41/300 (tree index:40) done rmse:2.1277\n"
     ]
    },
    {
     "name": "stderr",
     "output_type": "stream",
     "text": [
      "[INFO random_forest.cc:628] Training of tree  51/300 (tree index:50) done rmse:2.1135\n"
     ]
    },
    {
     "name": "stderr",
     "output_type": "stream",
     "text": [
      "[INFO random_forest.cc:628] Training of tree  61/300 (tree index:59) done rmse:2.10612\n"
     ]
    },
    {
     "name": "stderr",
     "output_type": "stream",
     "text": [
      "[INFO random_forest.cc:628] Training of tree  71/300 (tree index:69) done rmse:2.11104\n"
     ]
    },
    {
     "name": "stderr",
     "output_type": "stream",
     "text": [
      "[INFO random_forest.cc:628] Training of tree  81/300 (tree index:80) done rmse:2.11052\n"
     ]
    },
    {
     "name": "stderr",
     "output_type": "stream",
     "text": [
      "[INFO random_forest.cc:628] Training of tree  91/300 (tree index:92) done rmse:2.10818\n"
     ]
    },
    {
     "name": "stderr",
     "output_type": "stream",
     "text": [
      "[INFO random_forest.cc:628] Training of tree  101/300 (tree index:101) done rmse:2.10873\n"
     ]
    },
    {
     "name": "stderr",
     "output_type": "stream",
     "text": [
      "[INFO random_forest.cc:628] Training of tree  111/300 (tree index:108) done rmse:2.10696\n"
     ]
    },
    {
     "name": "stderr",
     "output_type": "stream",
     "text": [
      "[INFO random_forest.cc:628] Training of tree  121/300 (tree index:120) done rmse:2.10652\n"
     ]
    },
    {
     "name": "stderr",
     "output_type": "stream",
     "text": [
      "[INFO random_forest.cc:628] Training of tree  131/300 (tree index:129) done rmse:2.10811\n"
     ]
    },
    {
     "name": "stderr",
     "output_type": "stream",
     "text": [
      "[INFO random_forest.cc:628] Training of tree  141/300 (tree index:138) done rmse:2.10587\n"
     ]
    },
    {
     "name": "stderr",
     "output_type": "stream",
     "text": [
      "[INFO random_forest.cc:628] Training of tree  151/300 (tree index:153) done rmse:2.10578\n"
     ]
    },
    {
     "name": "stderr",
     "output_type": "stream",
     "text": [
      "[INFO random_forest.cc:628] Training of tree  161/300 (tree index:159) done rmse:2.10376\n"
     ]
    },
    {
     "name": "stderr",
     "output_type": "stream",
     "text": [
      "[INFO random_forest.cc:628] Training of tree  171/300 (tree index:169) done rmse:2.10388\n"
     ]
    },
    {
     "name": "stderr",
     "output_type": "stream",
     "text": [
      "[INFO random_forest.cc:628] Training of tree  181/300 (tree index:179) done rmse:2.1034\n"
     ]
    },
    {
     "name": "stderr",
     "output_type": "stream",
     "text": [
      "[INFO random_forest.cc:628] Training of tree  191/300 (tree index:189) done rmse:2.10272\n"
     ]
    },
    {
     "name": "stderr",
     "output_type": "stream",
     "text": [
      "[INFO random_forest.cc:628] Training of tree  201/300 (tree index:202) done rmse:2.10077\n"
     ]
    },
    {
     "name": "stderr",
     "output_type": "stream",
     "text": [
      "[INFO random_forest.cc:628] Training of tree  211/300 (tree index:211) done rmse:2.10126\n"
     ]
    },
    {
     "name": "stderr",
     "output_type": "stream",
     "text": [
      "[INFO random_forest.cc:628] Training of tree  221/300 (tree index:219) done rmse:2.10128\n"
     ]
    },
    {
     "name": "stderr",
     "output_type": "stream",
     "text": [
      "[INFO random_forest.cc:628] Training of tree  231/300 (tree index:229) done rmse:2.10058\n"
     ]
    },
    {
     "name": "stderr",
     "output_type": "stream",
     "text": [
      "[INFO random_forest.cc:628] Training of tree  241/300 (tree index:242) done rmse:2.10035\n"
     ]
    },
    {
     "name": "stderr",
     "output_type": "stream",
     "text": [
      "[INFO random_forest.cc:628] Training of tree  251/300 (tree index:250) done rmse:2.0999\n"
     ]
    },
    {
     "name": "stderr",
     "output_type": "stream",
     "text": [
      "[INFO random_forest.cc:628] Training of tree  261/300 (tree index:259) done rmse:2.10021\n"
     ]
    },
    {
     "name": "stderr",
     "output_type": "stream",
     "text": [
      "[INFO random_forest.cc:628] Training of tree  271/300 (tree index:269) done rmse:2.1001\n"
     ]
    },
    {
     "name": "stderr",
     "output_type": "stream",
     "text": [
      "[INFO random_forest.cc:628] Training of tree  281/300 (tree index:282) done rmse:2.09985\n"
     ]
    },
    {
     "name": "stderr",
     "output_type": "stream",
     "text": [
      "[INFO random_forest.cc:628] Training of tree  291/300 (tree index:292) done rmse:2.09927\n"
     ]
    },
    {
     "name": "stderr",
     "output_type": "stream",
     "text": [
      "[INFO random_forest.cc:628] Training of tree  300/300 (tree index:298) done rmse:2.09961\n",
      "[INFO random_forest.cc:696] Final OOB metrics: rmse:2.09961\n"
     ]
    },
    {
     "name": "stderr",
     "output_type": "stream",
     "text": [
      "[INFO kernel.cc:828] Export model in log directory: /tmp/tmpceztfba5\n"
     ]
    },
    {
     "name": "stderr",
     "output_type": "stream",
     "text": [
      "[INFO kernel.cc:836] Save model in resources\n"
     ]
    },
    {
     "name": "stderr",
     "output_type": "stream",
     "text": [
      "[INFO kernel.cc:988] Loading model from path\n"
     ]
    },
    {
     "name": "stderr",
     "output_type": "stream",
     "text": [
      "[INFO decision_forest.cc:590] Model loaded with 300 root(s), 259840 node(s), and 8 input feature(s).\n",
      "[INFO kernel.cc:848] Use fast generic engine\n"
     ]
    },
    {
     "name": "stdout",
     "output_type": "stream",
     "text": [
      "\b\b\b\b\b\b\b\b\b\b\b\b\b\b\b\b\b\b\b\b\b\b\b\b\b\b\b\b\b\b\b\b\b\b\b\b\b\b\b\b\b\b\b\b\b\b\b\b\r",
      "46/46 [==============================] - 2s 36ms/step\n"
     ]
    }
   ],
   "source": [
    "%set_cell_height 300\n",
    "\n",
    "# Configure the model.\n",
    "model_7 = tfdf.keras.RandomForestModel(task = tfdf.keras.Task.REGRESSION)\n",
    "\n",
    "# Optional.\n",
    "model_7.compile(metrics=[\"mse\"])\n",
    "\n",
    "# Train the model.\n",
    "with sys_pipes():\n",
    "  model_7.fit(x=train_ds)"
   ]
  },
  {
   "cell_type": "code",
   "execution_count": 37,
   "metadata": {
    "execution": {
     "iopub.execute_input": "2021-11-08T12:10:14.210188Z",
     "iopub.status.busy": "2021-11-08T12:10:14.209486Z",
     "iopub.status.idle": "2021-11-08T12:10:14.532788Z",
     "shell.execute_reply": "2021-11-08T12:10:14.533173Z"
    },
    "id": "aSriIAaMSzwA"
   },
   "outputs": [
    {
     "name": "stdout",
     "output_type": "stream",
     "text": [
      "WARNING:tensorflow:5 out of the last 9 calls to <function CoreModel.make_test_function.<locals>.test_function at 0x7fa09077c290> triggered tf.function retracing. Tracing is expensive and the excessive number of tracings could be due to (1) creating @tf.function repeatedly in a loop, (2) passing tensors with different shapes, (3) passing Python objects instead of tensors. For (1), please define your @tf.function outside of the loop. For (2), @tf.function has experimental_relax_shapes=True option that relaxes argument shapes that can avoid unnecessary retracing. For (3), please refer to https://www.tensorflow.org/guide/function#controlling_retracing and https://www.tensorflow.org/api_docs/python/tf/function for  more details.\n"
     ]
    },
    {
     "name": "stderr",
     "output_type": "stream",
     "text": [
      "WARNING:tensorflow:5 out of the last 9 calls to <function CoreModel.make_test_function.<locals>.test_function at 0x7fa09077c290> triggered tf.function retracing. Tracing is expensive and the excessive number of tracings could be due to (1) creating @tf.function repeatedly in a loop, (2) passing tensors with different shapes, (3) passing Python objects instead of tensors. For (1), please define your @tf.function outside of the loop. For (2), @tf.function has experimental_relax_shapes=True option that relaxes argument shapes that can avoid unnecessary retracing. For (3), please refer to https://www.tensorflow.org/guide/function#controlling_retracing and https://www.tensorflow.org/api_docs/python/tf/function for  more details.\n"
     ]
    },
    {
     "name": "stdout",
     "output_type": "stream",
     "text": [
      "\r",
      " 1/46 [..............................] - ETA: 4s - loss: 0.0000e+00 - mse: 2.8430"
     ]
    },
    {
     "name": "stdout",
     "output_type": "stream",
     "text": [
      "\b\b\b\b\b\b\b\b\b\b\b\b\b\b\b\b\b\b\b\b\b\b\b\b\b\b\b\b\b\b\b\b\b\b\b\b\b\b\b\b\b\b\b\b\b\b\b\b\b\b\b\b\b\b\b\b\b\b\b\b\b\b\b\b\b\b\b\b\b\b\b\b\b\b\b\b\b\b\b\b\b\r",
      "12/46 [======>.......................] - ETA: 0s - loss: 0.0000e+00 - mse: 3.1492"
     ]
    },
    {
     "name": "stdout",
     "output_type": "stream",
     "text": [
      "\b\b\b\b\b\b\b\b\b\b\b\b\b\b\b\b\b\b\b\b\b\b\b\b\b\b\b\b\b\b\b\b\b\b\b\b\b\b\b\b\b\b\b\b\b\b\b\b\b\b\b\b\b\b\b\b\b\b\b\b\b\b\b\b\b\b\b\b\b\b\b\b\b\b\b\b\b\b\b\b\b\r",
      "23/46 [==============>...............] - ETA: 0s - loss: 0.0000e+00 - mse: 2.0431"
     ]
    },
    {
     "name": "stdout",
     "output_type": "stream",
     "text": [
      "\b\b\b\b\b\b\b\b\b\b\b\b\b\b\b\b\b\b\b\b\b\b\b\b\b\b\b\b\b\b\b\b\b\b\b\b\b\b\b\b\b\b\b\b\b\b\b\b\b\b\b\b\b\b\b\b\b\b\b\b\b\b\b\b\b\b\b\b\b\b\b\b\b\b\b\b\b\b\b\b\b\r",
      "34/46 [=====================>........] - ETA: 0s - loss: 0.0000e+00 - mse: 1.9307"
     ]
    },
    {
     "name": "stdout",
     "output_type": "stream",
     "text": [
      "\b\b\b\b\b\b\b\b\b\b\b\b\b\b\b\b\b\b\b\b\b\b\b\b\b\b\b\b\b\b\b\b\b\b\b\b\b\b\b\b\b\b\b\b\b\b\b\b\b\b\b\b\b\b\b\b\b\b\b\b\b\b\b\b\b\b\b\b\b\b\b\b\b\b\b\b\b\b\b\b\b\r",
      "45/46 [============================>.] - ETA: 0s - loss: 0.0000e+00 - mse: 1.8583"
     ]
    },
    {
     "name": "stdout",
     "output_type": "stream",
     "text": [
      "\b\b\b\b\b\b\b\b\b\b\b\b\b\b\b\b\b\b\b\b\b\b\b\b\b\b\b\b\b\b\b\b\b\b\b\b\b\b\b\b\b\b\b\b\b\b\b\b\b\b\b\b\b\b\b\b\b\b\b\b\b\b\b\b\b\b\b\b\b\b\b\b\b\b\b\b\b\b\b\b\b\r",
      "46/46 [==============================] - 0s 5ms/step - loss: 0.0000e+00 - mse: 1.8496\n"
     ]
    },
    {
     "name": "stdout",
     "output_type": "stream",
     "text": [
      "{'loss': 0.0, 'mse': 1.8496248722076416}\n",
      "\n",
      "MSE: 1.8496248722076416\n",
      "RMSE: 1.3600091441632447\n"
     ]
    }
   ],
   "source": [
    "# Evaluate the model on the test dataset.\n",
    "evaluation = model_7.evaluate(test_ds, return_dict=True)\n",
    "\n",
    "print(evaluation)\n",
    "print()\n",
    "print(f\"MSE: {evaluation['mse']}\")\n",
    "print(f\"RMSE: {math.sqrt(evaluation['mse'])}\")"
   ]
  },
  {
   "cell_type": "markdown",
   "metadata": {
    "id": "S54mR6i9jkhp"
   },
   "source": [
    "## Training a ranking model\n",
    "\n",
    "Finaly, after having trained a classification and a regression models, train a [ranking](https://en.wikipedia.org/wiki/Learning_to_rank) model.\n",
    "\n",
    "The goal of a ranking is to **order** items by importance. The \"value\" of\n",
    "relevance does not matter directly. Ranking a set of *documents* with regard to\n",
    "a user *query* is an example of ranking problem: It is only important to get the right order, where the top documents matter more.\n",
    "\n",
    "TF-DF expects for ranking datasets to be presented in a \"flat\" format. A\n",
    "document+query dataset might look like that:\n",
    "\n",
    "query | document_id | feature_1 | feature_2 | relevance/label\n",
    "----- | ----------- | --------- | --------- | ---------------\n",
    "cat   | 1           | 0.1       | blue      | 4\n",
    "cat   | 2           | 0.5       | green     | 1\n",
    "cat   | 3           | 0.2       | red       | 2\n",
    "dog   | 4           | NA        | red       | 0\n",
    "dog   | 5           | 0.2       | red       | 1\n",
    "dog   | 6           | 0.6       | green     | 1\n",
    "\n",
    "The *relevance/label* is a floating point numerical value between 0 and 5\n",
    "(generally between 0 and 4) where 0 means \"completely unrelated\", 4 means \"very\n",
    "relevant\" and 5 means \"the same as the query\".\n",
    "\n",
    "Interestingly, decision forests are often good rankers, and many\n",
    "state-of-the-art ranking models are decision forests.\n",
    "\n",
    "In this example, use a sample of the\n",
    "[LETOR3](https://www.microsoft.com/en-us/research/project/letor-learning-rank-information-retrieval/#!letor-3-0)\n",
    "dataset. More precisely, we want to download the `OHSUMED.zip` from [the LETOR3 repo](https://onedrive.live.com/?authkey=%21ACnoZZSZVfHPJd0&id=8FEADC23D838BDA8%21107&cid=8FEADC23D838BDA8). This dataset is stored in the\n",
    "libsvm format, so we will need to convert it to csv."
   ]
  },
  {
   "cell_type": "code",
   "execution_count": 38,
   "metadata": {
    "execution": {
     "iopub.execute_input": "2021-11-08T12:10:14.538948Z",
     "iopub.status.busy": "2021-11-08T12:10:14.538325Z",
     "iopub.status.idle": "2021-11-08T12:10:18.155923Z",
     "shell.execute_reply": "2021-11-08T12:10:18.155323Z"
    },
    "id": "axD6x1ZivHCS"
   },
   "outputs": [
    {
     "data": {
      "application/javascript": [
       "google.colab.output.setIframeHeight(0, true, {maxHeight: 200})"
      ],
      "text/plain": [
       "<IPython.core.display.Javascript object>"
      ]
     },
     "metadata": {},
     "output_type": "display_data"
    },
    {
     "name": "stdout",
     "output_type": "stream",
     "text": [
      "Downloading data from https://download.microsoft.com/download/E/7/E/E7EABEF1-4C7B-4E31-ACE5-73927950ED5E/Letor.zip\n"
     ]
    },
    {
     "name": "stdout",
     "output_type": "stream",
     "text": [
      "\r",
      "   16384/61824018 [..............................] - ETA: 16s"
     ]
    },
    {
     "name": "stdout",
     "output_type": "stream",
     "text": [
      "\b\b\b\b\b\b\b\b\b\b\b\b\b\b\b\b\b\b\b\b\b\b\b\b\b\b\b\b\b\b\b\b\b\b\b\b\b\b\b\b\b\b\b\b\b\b\b\b\b\b\b\b\b\b\b\b\b\b\b\b\b\r",
      " 2105344/61824018 [>.............................] - ETA: 1s "
     ]
    },
    {
     "name": "stdout",
     "output_type": "stream",
     "text": [
      "\b\b\b\b\b\b\b\b\b\b\b\b\b\b\b\b\b\b\b\b\b\b\b\b\b\b\b\b\b\b\b\b\b\b\b\b\b\b\b\b\b\b\b\b\b\b\b\b\b\b\b\b\b\b\b\b\b\b\b\b\r",
      " 3162112/61824018 [>.............................] - ETA: 2s"
     ]
    },
    {
     "name": "stdout",
     "output_type": "stream",
     "text": [
      "\b\b\b\b\b\b\b\b\b\b\b\b\b\b\b\b\b\b\b\b\b\b\b\b\b\b\b\b\b\b\b\b\b\b\b\b\b\b\b\b\b\b\b\b\b\b\b\b\b\b\b\b\b\b\b\b\b\b\b\b\r",
      " 4849664/61824018 [=>............................] - ETA: 1s"
     ]
    },
    {
     "name": "stdout",
     "output_type": "stream",
     "text": [
      "\b\b\b\b\b\b\b\b\b\b\b\b\b\b\b\b\b\b\b\b\b\b\b\b\b\b\b\b\b\b\b\b\b\b\b\b\b\b\b\b\b\b\b\b\b\b\b\b\b\b\b\b\b\b\b\b\b\b\b\b\r",
      "13549568/61824018 [=====>........................] - ETA: 0s"
     ]
    },
    {
     "name": "stdout",
     "output_type": "stream",
     "text": [
      "\b\b\b\b\b\b\b\b\b\b\b\b\b\b\b\b\b\b\b\b\b\b\b\b\b\b\b\b\b\b\b\b\b\b\b\b\b\b\b\b\b\b\b\b\b\b\b\b\b\b\b\b\b\b\b\b\b\b\b\b\r",
      "15532032/61824018 [======>.......................] - ETA: 0s"
     ]
    },
    {
     "name": "stdout",
     "output_type": "stream",
     "text": [
      "\b\b\b\b\b\b\b\b\b\b\b\b\b\b\b\b\b\b\b\b\b\b\b\b\b\b\b\b\b\b\b\b\b\b\b\b\b\b\b\b\b\b\b\b\b\b\b\b\b\b\b\b\b\b\b\b\b\b\b\b\r",
      "16572416/61824018 [=======>......................] - ETA: 0s"
     ]
    },
    {
     "name": "stdout",
     "output_type": "stream",
     "text": [
      "\b\b\b\b\b\b\b\b\b\b\b\b\b\b\b\b\b\b\b\b\b\b\b\b\b\b\b\b\b\b\b\b\b\b\b\b\b\b\b\b\b\b\b\b\b\b\b\b\b\b\b\b\b\b\b\b\b\b\b\b\r",
      "25174016/61824018 [===========>..................] - ETA: 0s"
     ]
    },
    {
     "name": "stdout",
     "output_type": "stream",
     "text": [
      "\b\b\b\b\b\b\b\b\b\b\b\b\b\b\b\b\b\b\b\b\b\b\b\b\b\b\b\b\b\b\b\b\b\b\b\b\b\b\b\b\b\b\b\b\b\b\b\b\b\b\b\b\b\b\b\b\b\b\b\b\r",
      "26230784/61824018 [===========>..................] - ETA: 0s"
     ]
    },
    {
     "name": "stdout",
     "output_type": "stream",
     "text": [
      "\b\b\b\b\b\b\b\b\b\b\b\b\b\b\b\b\b\b\b\b\b\b\b\b\b\b\b\b\b\b\b\b\b\b\b\b\b\b\b\b\b\b\b\b\b\b\b\b\b\b\b\b\b\b\b\b\b\b\b\b\r",
      "27009024/61824018 [============>.................] - ETA: 0s"
     ]
    },
    {
     "name": "stdout",
     "output_type": "stream",
     "text": [
      "\b\b\b\b\b\b\b\b\b\b\b\b\b\b\b\b\b\b\b\b\b\b\b\b\b\b\b\b\b\b\b\b\b\b\b\b\b\b\b\b\b\b\b\b\b\b\b\b\b\b\b\b\b\b\b\b\b\b\b\b\r",
      "35659776/61824018 [================>.............] - ETA: 0s"
     ]
    },
    {
     "name": "stdout",
     "output_type": "stream",
     "text": [
      "\b\b\b\b\b\b\b\b\b\b\b\b\b\b\b\b\b\b\b\b\b\b\b\b\b\b\b\b\b\b\b\b\b\b\b\b\b\b\b\b\b\b\b\b\b\b\b\b\b\b\b\b\b\b\b\b\b\b\b\b\r",
      "36765696/61824018 [================>.............] - ETA: 0s"
     ]
    },
    {
     "name": "stdout",
     "output_type": "stream",
     "text": [
      "\b\b\b\b\b\b\b\b\b\b\b\b\b\b\b\b\b\b\b\b\b\b\b\b\b\b\b\b\b\b\b\b\b\b\b\b\b\b\b\b\b\b\b\b\b\b\b\b\b\b\b\b\b\b\b\b\b\b\b\b\r",
      "37748736/61824018 [=================>............] - ETA: 0s"
     ]
    },
    {
     "name": "stdout",
     "output_type": "stream",
     "text": [
      "\b\b\b\b\b\b\b\b\b\b\b\b\b\b\b\b\b\b\b\b\b\b\b\b\b\b\b\b\b\b\b\b\b\b\b\b\b\b\b\b\b\b\b\b\b\b\b\b\b\b\b\b\b\b\b\b\b\b\b\b\r",
      "42639360/61824018 [===================>..........] - ETA: 0s"
     ]
    },
    {
     "name": "stdout",
     "output_type": "stream",
     "text": [
      "\b\b\b\b\b\b\b\b\b\b\b\b\b\b\b\b\b\b\b\b\b\b\b\b\b\b\b\b\b\b\b\b\b\b\b\b\b\b\b\b\b\b\b\b\b\b\b\b\b\b\b\b\b\b\b\b\b\b\b\b\r",
      "47202304/61824018 [=====================>........] - ETA: 0s"
     ]
    },
    {
     "name": "stdout",
     "output_type": "stream",
     "text": [
      "\b\b\b\b\b\b\b\b\b\b\b\b\b\b\b\b\b\b\b\b\b\b\b\b\b\b\b\b\b\b\b\b\b\b\b\b\b\b\b\b\b\b\b\b\b\b\b\b\b\b\b\b\b\b\b\b\b\b\b\b\r",
      "49127424/61824018 [======================>.......] - ETA: 0s"
     ]
    },
    {
     "name": "stdout",
     "output_type": "stream",
     "text": [
      "\b\b\b\b\b\b\b\b\b\b\b\b\b\b\b\b\b\b\b\b\b\b\b\b\b\b\b\b\b\b\b\b\b\b\b\b\b\b\b\b\b\b\b\b\b\b\b\b\b\b\b\b\b\b\b\b\b\b\b\b\r",
      "50593792/61824018 [=======================>......] - ETA: 0s"
     ]
    },
    {
     "name": "stdout",
     "output_type": "stream",
     "text": [
      "\b\b\b\b\b\b\b\b\b\b\b\b\b\b\b\b\b\b\b\b\b\b\b\b\b\b\b\b\b\b\b\b\b\b\b\b\b\b\b\b\b\b\b\b\b\b\b\b\b\b\b\b\b\b\b\b\b\b\b\b\r",
      "57425920/61824018 [==========================>...] - ETA: 0s"
     ]
    },
    {
     "name": "stdout",
     "output_type": "stream",
     "text": [
      "\b\b\b\b\b\b\b\b\b\b\b\b\b\b\b\b\b\b\b\b\b\b\b\b\b\b\b\b\b\b\b\b\b\b\b\b\b\b\b\b\b\b\b\b\b\b\b\b\b\b\b\b\b\b\b\b\b\b\b\b\r",
      "58466304/61824018 [===========================>..] - ETA: 0s"
     ]
    },
    {
     "name": "stdout",
     "output_type": "stream",
     "text": [
      "\b\b\b\b\b\b\b\b\b\b\b\b\b\b\b\b\b\b\b\b\b\b\b\b\b\b\b\b\b\b\b\b\b\b\b\b\b\b\b\b\b\b\b\b\b\b\b\b\b\b\b\b\b\b\b\b\b\b\b\b\r",
      "61825024/61824018 [==============================] - 1s 0us/step\n"
     ]
    },
    {
     "name": "stdout",
     "output_type": "stream",
     "text": [
      "\b\b\b\b\b\b\b\b\b\b\b\b\b\b\b\b\b\b\b\b\b\b\b\b\b\b\b\b\b\b\b\b\b\b\b\b\b\b\b\b\b\b\b\b\b\b\b\b\b\b\b\b\b\b\b\b\b\b\b\b\b\b\b\b\r",
      "61833216/61824018 [==============================] - 1s 0us/step\n"
     ]
    }
   ],
   "source": [
    "%set_cell_height 200\n",
    "\n",
    "archive_path = tf.keras.utils.get_file(\"letor.zip\",\n",
    "  \"https://download.microsoft.com/download/E/7/E/E7EABEF1-4C7B-4E31-ACE5-73927950ED5E/Letor.zip\",\n",
    "  extract=True)\n",
    "\n",
    "# Path to the train and test dataset using libsvm format.\n",
    "raw_dataset_path = os.path.join(os.path.dirname(archive_path),\"OHSUMED/Data/All/OHSUMED.txt\")"
   ]
  },
  {
   "cell_type": "markdown",
   "metadata": {
    "id": "rcManr98ZGID"
   },
   "source": [
    "The dataset is stored as a .txt file in a specific format, so first convert it into a csv file."
   ]
  },
  {
   "cell_type": "code",
   "execution_count": 39,
   "metadata": {
    "execution": {
     "iopub.execute_input": "2021-11-08T12:10:18.163820Z",
     "iopub.status.busy": "2021-11-08T12:10:18.163061Z",
     "iopub.status.idle": "2021-11-08T12:10:18.371574Z",
     "shell.execute_reply": "2021-11-08T12:10:18.371965Z"
    },
    "id": "mkiM9HJox-e8"
   },
   "outputs": [
    {
     "data": {
      "text/html": [
       "<div>\n",
       "<style scoped>\n",
       "    .dataframe tbody tr th:only-of-type {\n",
       "        vertical-align: middle;\n",
       "    }\n",
       "\n",
       "    .dataframe tbody tr th {\n",
       "        vertical-align: top;\n",
       "    }\n",
       "\n",
       "    .dataframe thead th {\n",
       "        text-align: right;\n",
       "    }\n",
       "</style>\n",
       "<table border=\"1\" class=\"dataframe\">\n",
       "  <thead>\n",
       "    <tr style=\"text-align: right;\">\n",
       "      <th></th>\n",
       "      <th>relevance</th>\n",
       "      <th>group</th>\n",
       "      <th>f_1</th>\n",
       "      <th>f_2</th>\n",
       "      <th>f_3</th>\n",
       "      <th>f_4</th>\n",
       "      <th>f_5</th>\n",
       "      <th>f_6</th>\n",
       "      <th>f_7</th>\n",
       "      <th>f_8</th>\n",
       "      <th>...</th>\n",
       "      <th>f_16</th>\n",
       "      <th>f_17</th>\n",
       "      <th>f_18</th>\n",
       "      <th>f_19</th>\n",
       "      <th>f_20</th>\n",
       "      <th>f_21</th>\n",
       "      <th>f_22</th>\n",
       "      <th>f_23</th>\n",
       "      <th>f_24</th>\n",
       "      <th>f_25</th>\n",
       "    </tr>\n",
       "  </thead>\n",
       "  <tbody>\n",
       "    <tr>\n",
       "      <th>0</th>\n",
       "      <td>2</td>\n",
       "      <td>g_1</td>\n",
       "      <td>3.0</td>\n",
       "      <td>2.079442</td>\n",
       "      <td>0.272727</td>\n",
       "      <td>0.261034</td>\n",
       "      <td>37.330565</td>\n",
       "      <td>11.431241</td>\n",
       "      <td>37.29975</td>\n",
       "      <td>1.138657</td>\n",
       "      <td>...</td>\n",
       "      <td>9.340024</td>\n",
       "      <td>24.808785</td>\n",
       "      <td>0.393091</td>\n",
       "      <td>57.416517</td>\n",
       "      <td>3.294893</td>\n",
       "      <td>25.0231</td>\n",
       "      <td>3.219799</td>\n",
       "      <td>-3.87098</td>\n",
       "      <td>-3.90273</td>\n",
       "      <td>-3.87512</td>\n",
       "    </tr>\n",
       "    <tr>\n",
       "      <th>1</th>\n",
       "      <td>0</td>\n",
       "      <td>g_1</td>\n",
       "      <td>3.0</td>\n",
       "      <td>2.079442</td>\n",
       "      <td>0.428571</td>\n",
       "      <td>0.400594</td>\n",
       "      <td>37.330565</td>\n",
       "      <td>11.431241</td>\n",
       "      <td>37.29975</td>\n",
       "      <td>1.814480</td>\n",
       "      <td>...</td>\n",
       "      <td>9.340024</td>\n",
       "      <td>24.808785</td>\n",
       "      <td>0.349205</td>\n",
       "      <td>43.240626</td>\n",
       "      <td>2.654724</td>\n",
       "      <td>23.4903</td>\n",
       "      <td>3.156588</td>\n",
       "      <td>-3.96838</td>\n",
       "      <td>-4.00865</td>\n",
       "      <td>-3.98670</td>\n",
       "    </tr>\n",
       "    <tr>\n",
       "      <th>2</th>\n",
       "      <td>2</td>\n",
       "      <td>g_1</td>\n",
       "      <td>0.0</td>\n",
       "      <td>0.000000</td>\n",
       "      <td>0.000000</td>\n",
       "      <td>0.000000</td>\n",
       "      <td>37.330565</td>\n",
       "      <td>11.431241</td>\n",
       "      <td>37.29975</td>\n",
       "      <td>0.000000</td>\n",
       "      <td>...</td>\n",
       "      <td>9.340024</td>\n",
       "      <td>24.808785</td>\n",
       "      <td>0.240319</td>\n",
       "      <td>25.816989</td>\n",
       "      <td>1.551342</td>\n",
       "      <td>15.8650</td>\n",
       "      <td>2.764115</td>\n",
       "      <td>-4.28166</td>\n",
       "      <td>-4.33313</td>\n",
       "      <td>-4.44161</td>\n",
       "    </tr>\n",
       "  </tbody>\n",
       "</table>\n",
       "<p>3 rows × 27 columns</p>\n",
       "</div>"
      ],
      "text/plain": [
       "   relevance group  f_1       f_2       f_3       f_4        f_5        f_6  \\\n",
       "0          2   g_1  3.0  2.079442  0.272727  0.261034  37.330565  11.431241   \n",
       "1          0   g_1  3.0  2.079442  0.428571  0.400594  37.330565  11.431241   \n",
       "2          2   g_1  0.0  0.000000  0.000000  0.000000  37.330565  11.431241   \n",
       "\n",
       "        f_7       f_8  ...      f_16       f_17      f_18       f_19  \\\n",
       "0  37.29975  1.138657  ...  9.340024  24.808785  0.393091  57.416517   \n",
       "1  37.29975  1.814480  ...  9.340024  24.808785  0.349205  43.240626   \n",
       "2  37.29975  0.000000  ...  9.340024  24.808785  0.240319  25.816989   \n",
       "\n",
       "       f_20     f_21      f_22     f_23     f_24     f_25  \n",
       "0  3.294893  25.0231  3.219799 -3.87098 -3.90273 -3.87512  \n",
       "1  2.654724  23.4903  3.156588 -3.96838 -4.00865 -3.98670  \n",
       "2  1.551342  15.8650  2.764115 -4.28166 -4.33313 -4.44161  \n",
       "\n",
       "[3 rows x 27 columns]"
      ]
     },
     "execution_count": 39,
     "metadata": {},
     "output_type": "execute_result"
    }
   ],
   "source": [
    "def convert_libsvm_to_csv(src_path, dst_path):\n",
    "  \"\"\"Converts a libsvm ranking dataset into a flat csv file.\n",
    "  \n",
    "  Note: This code is specific to the LETOR3 dataset.\n",
    "  \"\"\"\n",
    "  dst_handle = open(dst_path, \"w\")\n",
    "  first_line = True\n",
    "  for src_line in open(src_path,\"r\"):\n",
    "    # Note: The last 3 items are comments.\n",
    "    items = src_line.split(\" \")[:-3]\n",
    "    relevance = items[0]\n",
    "    group = items[1].split(\":\")[1]\n",
    "    features = [ item.split(\":\") for item in items[2:]]\n",
    "\n",
    "    if first_line:\n",
    "      # Csv header\n",
    "      dst_handle.write(\"relevance,group,\" + \",\".join([\"f_\" + feature[0] for feature in features]) + \"\\n\")\n",
    "      first_line = False\n",
    "    dst_handle.write(relevance + \",g_\" + group + \",\" + (\",\".join([feature[1] for feature in features])) + \"\\n\")\n",
    "  dst_handle.close()\n",
    "\n",
    "# Convert the dataset.\n",
    "csv_dataset_path=\"/tmp/ohsumed.csv\"\n",
    "convert_libsvm_to_csv(raw_dataset_path, csv_dataset_path)\n",
    "\n",
    "# Load a dataset into a Pandas Dataframe.\n",
    "dataset_df = pd.read_csv(csv_dataset_path)\n",
    "\n",
    "# Display the first 3 examples.\n",
    "dataset_df.head(3)"
   ]
  },
  {
   "cell_type": "code",
   "execution_count": 40,
   "metadata": {
    "execution": {
     "iopub.execute_input": "2021-11-08T12:10:18.376522Z",
     "iopub.status.busy": "2021-11-08T12:10:18.375921Z",
     "iopub.status.idle": "2021-11-08T12:10:18.396349Z",
     "shell.execute_reply": "2021-11-08T12:10:18.395663Z"
    },
    "id": "wB7bWAja1G-o"
   },
   "outputs": [
    {
     "name": "stdout",
     "output_type": "stream",
     "text": [
      "11319 examples in training, 4821 examples for testing.\n"
     ]
    },
    {
     "data": {
      "text/html": [
       "<div>\n",
       "<style scoped>\n",
       "    .dataframe tbody tr th:only-of-type {\n",
       "        vertical-align: middle;\n",
       "    }\n",
       "\n",
       "    .dataframe tbody tr th {\n",
       "        vertical-align: top;\n",
       "    }\n",
       "\n",
       "    .dataframe thead th {\n",
       "        text-align: right;\n",
       "    }\n",
       "</style>\n",
       "<table border=\"1\" class=\"dataframe\">\n",
       "  <thead>\n",
       "    <tr style=\"text-align: right;\">\n",
       "      <th></th>\n",
       "      <th>relevance</th>\n",
       "      <th>group</th>\n",
       "      <th>f_1</th>\n",
       "      <th>f_2</th>\n",
       "      <th>f_3</th>\n",
       "      <th>f_4</th>\n",
       "      <th>f_5</th>\n",
       "      <th>f_6</th>\n",
       "      <th>f_7</th>\n",
       "      <th>f_8</th>\n",
       "      <th>...</th>\n",
       "      <th>f_16</th>\n",
       "      <th>f_17</th>\n",
       "      <th>f_18</th>\n",
       "      <th>f_19</th>\n",
       "      <th>f_20</th>\n",
       "      <th>f_21</th>\n",
       "      <th>f_22</th>\n",
       "      <th>f_23</th>\n",
       "      <th>f_24</th>\n",
       "      <th>f_25</th>\n",
       "    </tr>\n",
       "  </thead>\n",
       "  <tbody>\n",
       "    <tr>\n",
       "      <th>0</th>\n",
       "      <td>2</td>\n",
       "      <td>g_1</td>\n",
       "      <td>3.0</td>\n",
       "      <td>2.079442</td>\n",
       "      <td>0.272727</td>\n",
       "      <td>0.261034</td>\n",
       "      <td>37.330565</td>\n",
       "      <td>11.431241</td>\n",
       "      <td>37.29975</td>\n",
       "      <td>1.138657</td>\n",
       "      <td>...</td>\n",
       "      <td>9.340024</td>\n",
       "      <td>24.808785</td>\n",
       "      <td>0.393091</td>\n",
       "      <td>57.416517</td>\n",
       "      <td>3.294893</td>\n",
       "      <td>25.0231</td>\n",
       "      <td>3.219799</td>\n",
       "      <td>-3.87098</td>\n",
       "      <td>-3.90273</td>\n",
       "      <td>-3.87512</td>\n",
       "    </tr>\n",
       "    <tr>\n",
       "      <th>1</th>\n",
       "      <td>0</td>\n",
       "      <td>g_1</td>\n",
       "      <td>3.0</td>\n",
       "      <td>2.079442</td>\n",
       "      <td>0.428571</td>\n",
       "      <td>0.400594</td>\n",
       "      <td>37.330565</td>\n",
       "      <td>11.431241</td>\n",
       "      <td>37.29975</td>\n",
       "      <td>1.814480</td>\n",
       "      <td>...</td>\n",
       "      <td>9.340024</td>\n",
       "      <td>24.808785</td>\n",
       "      <td>0.349205</td>\n",
       "      <td>43.240626</td>\n",
       "      <td>2.654724</td>\n",
       "      <td>23.4903</td>\n",
       "      <td>3.156588</td>\n",
       "      <td>-3.96838</td>\n",
       "      <td>-4.00865</td>\n",
       "      <td>-3.98670</td>\n",
       "    </tr>\n",
       "    <tr>\n",
       "      <th>3</th>\n",
       "      <td>2</td>\n",
       "      <td>g_1</td>\n",
       "      <td>4.0</td>\n",
       "      <td>2.772589</td>\n",
       "      <td>0.333333</td>\n",
       "      <td>0.320171</td>\n",
       "      <td>37.330565</td>\n",
       "      <td>11.431241</td>\n",
       "      <td>37.29975</td>\n",
       "      <td>1.260808</td>\n",
       "      <td>...</td>\n",
       "      <td>9.340024</td>\n",
       "      <td>24.808785</td>\n",
       "      <td>0.111496</td>\n",
       "      <td>10.092426</td>\n",
       "      <td>0.649758</td>\n",
       "      <td>14.2778</td>\n",
       "      <td>2.658706</td>\n",
       "      <td>-4.77772</td>\n",
       "      <td>-4.73563</td>\n",
       "      <td>-4.86759</td>\n",
       "    </tr>\n",
       "  </tbody>\n",
       "</table>\n",
       "<p>3 rows × 27 columns</p>\n",
       "</div>"
      ],
      "text/plain": [
       "   relevance group  f_1       f_2       f_3       f_4        f_5        f_6  \\\n",
       "0          2   g_1  3.0  2.079442  0.272727  0.261034  37.330565  11.431241   \n",
       "1          0   g_1  3.0  2.079442  0.428571  0.400594  37.330565  11.431241   \n",
       "3          2   g_1  4.0  2.772589  0.333333  0.320171  37.330565  11.431241   \n",
       "\n",
       "        f_7       f_8  ...      f_16       f_17      f_18       f_19  \\\n",
       "0  37.29975  1.138657  ...  9.340024  24.808785  0.393091  57.416517   \n",
       "1  37.29975  1.814480  ...  9.340024  24.808785  0.349205  43.240626   \n",
       "3  37.29975  1.260808  ...  9.340024  24.808785  0.111496  10.092426   \n",
       "\n",
       "       f_20     f_21      f_22     f_23     f_24     f_25  \n",
       "0  3.294893  25.0231  3.219799 -3.87098 -3.90273 -3.87512  \n",
       "1  2.654724  23.4903  3.156588 -3.96838 -4.00865 -3.98670  \n",
       "3  0.649758  14.2778  2.658706 -4.77772 -4.73563 -4.86759  \n",
       "\n",
       "[3 rows x 27 columns]"
      ]
     },
     "execution_count": 40,
     "metadata": {},
     "output_type": "execute_result"
    }
   ],
   "source": [
    "train_ds_pd, test_ds_pd = split_dataset(dataset_df)\n",
    "print(\"{} examples in training, {} examples for testing.\".format(\n",
    "    len(train_ds_pd), len(test_ds_pd)))\n",
    "\n",
    "# Display the first 3 examples of the training dataset.\n",
    "train_ds_pd.head(3)"
   ]
  },
  {
   "cell_type": "markdown",
   "metadata": {
    "id": "YQKqN9zN4L00"
   },
   "source": [
    "In this dataset, the `relevance` defines the ground-truth rank among rows of the same `group`."
   ]
  },
  {
   "cell_type": "code",
   "execution_count": 41,
   "metadata": {
    "execution": {
     "iopub.execute_input": "2021-11-08T12:10:18.401613Z",
     "iopub.status.busy": "2021-11-08T12:10:18.400963Z",
     "iopub.status.idle": "2021-11-08T12:10:18.482098Z",
     "shell.execute_reply": "2021-11-08T12:10:18.481555Z"
    },
    "id": "5QMbBkCEXxu_"
   },
   "outputs": [
    {
     "name": "stderr",
     "output_type": "stream",
     "text": [
      "/tmpfs/src/tf_docs_env/lib/python3.7/site-packages/tensorflow_decision_forests/keras/core.py:1612: FutureWarning: In a future version of pandas all arguments of DataFrame.drop except for the argument 'labels' will be keyword-only\n",
      "  features_dataframe = dataframe.drop(label, 1)\n"
     ]
    }
   ],
   "source": [
    "# Name of the relevance and grouping columns.\n",
    "relevance = \"relevance\"\n",
    "\n",
    "ranking_train_ds = tfdf.keras.pd_dataframe_to_tf_dataset(train_ds_pd, label=relevance, task=tfdf.keras.Task.RANKING)\n",
    "ranking_test_ds = tfdf.keras.pd_dataframe_to_tf_dataset(train_ds_pd, label=relevance, task=tfdf.keras.Task.RANKING)"
   ]
  },
  {
   "cell_type": "code",
   "execution_count": 42,
   "metadata": {
    "execution": {
     "iopub.execute_input": "2021-11-08T12:10:18.488287Z",
     "iopub.status.busy": "2021-11-08T12:10:18.487623Z",
     "iopub.status.idle": "2021-11-08T12:10:21.055633Z",
     "shell.execute_reply": "2021-11-08T12:10:21.055032Z"
    },
    "id": "Ba1gb75SX1rr"
   },
   "outputs": [
    {
     "data": {
      "application/javascript": [
       "google.colab.output.setIframeHeight(0, true, {maxHeight: 400})"
      ],
      "text/plain": [
       "<IPython.core.display.Javascript object>"
      ]
     },
     "metadata": {},
     "output_type": "display_data"
    },
    {
     "name": "stdout",
     "output_type": "stream",
     "text": [
      "\r",
      "  1/177 [..............................] - ETA: 1:27"
     ]
    },
    {
     "name": "stdout",
     "output_type": "stream",
     "text": [
      "\b\b\b\b\b\b\b\b\b\b\b\b\b\b\b\b\b\b\b\b\b\b\b\b\b\b\b\b\b\b\b\b\b\b\b\b\b\b\b\b\b\b\b\b\b\b\b\b\b\b\b\b\r",
      " 13/177 [=>............................] - ETA: 0s  "
     ]
    },
    {
     "name": "stdout",
     "output_type": "stream",
     "text": [
      "\b\b\b\b\b\b\b\b\b\b\b\b\b\b\b\b\b\b\b\b\b\b\b\b\b\b\b\b\b\b\b\b\b\b\b\b\b\b\b\b\b\b\b\b\b\b\b\b\b\b\r",
      " 25/177 [===>..........................] - ETA: 0s"
     ]
    },
    {
     "name": "stdout",
     "output_type": "stream",
     "text": [
      "\b\b\b\b\b\b\b\b\b\b\b\b\b\b\b\b\b\b\b\b\b\b\b\b\b\b\b\b\b\b\b\b\b\b\b\b\b\b\b\b\b\b\b\b\b\b\b\b\b\b\r",
      " 37/177 [=====>........................] - ETA: 0s"
     ]
    },
    {
     "name": "stdout",
     "output_type": "stream",
     "text": [
      "\b\b\b\b\b\b\b\b\b\b\b\b\b\b\b\b\b\b\b\b\b\b\b\b\b\b\b\b\b\b\b\b\b\b\b\b\b\b\b\b\b\b\b\b\b\b\b\b\b\b\r",
      " 49/177 [=======>......................] - ETA: 0s"
     ]
    },
    {
     "name": "stdout",
     "output_type": "stream",
     "text": [
      "\b\b\b\b\b\b\b\b\b\b\b\b\b\b\b\b\b\b\b\b\b\b\b\b\b\b\b\b\b\b\b\b\b\b\b\b\b\b\b\b\b\b\b\b\b\b\b\b\b\b\r",
      " 61/177 [=========>....................] - ETA: 0s"
     ]
    },
    {
     "name": "stdout",
     "output_type": "stream",
     "text": [
      "\b\b\b\b\b\b\b\b\b\b\b\b\b\b\b\b\b\b\b\b\b\b\b\b\b\b\b\b\b\b\b\b\b\b\b\b\b\b\b\b\b\b\b\b\b\b\b\b\b\b\r",
      " 73/177 [===========>..................] - ETA: 0s"
     ]
    },
    {
     "name": "stdout",
     "output_type": "stream",
     "text": [
      "\b\b\b\b\b\b\b\b\b\b\b\b\b\b\b\b\b\b\b\b\b\b\b\b\b\b\b\b\b\b\b\b\b\b\b\b\b\b\b\b\b\b\b\b\b\b\b\b\b\b\r",
      " 86/177 [=============>................] - ETA: 0s"
     ]
    },
    {
     "name": "stdout",
     "output_type": "stream",
     "text": [
      "\b\b\b\b\b\b\b\b\b\b\b\b\b\b\b\b\b\b\b\b\b\b\b\b\b\b\b\b\b\b\b\b\b\b\b\b\b\b\b\b\b\b\b\b\b\b\b\b\b\b\r",
      " 98/177 [===============>..............] - ETA: 0s"
     ]
    },
    {
     "name": "stdout",
     "output_type": "stream",
     "text": [
      "\b\b\b\b\b\b\b\b\b\b\b\b\b\b\b\b\b\b\b\b\b\b\b\b\b\b\b\b\b\b\b\b\b\b\b\b\b\b\b\b\b\b\b\b\b\b\b\b\b\b\r",
      "110/177 [=================>............] - ETA: 0s"
     ]
    },
    {
     "name": "stdout",
     "output_type": "stream",
     "text": [
      "\b\b\b\b\b\b\b\b\b\b\b\b\b\b\b\b\b\b\b\b\b\b\b\b\b\b\b\b\b\b\b\b\b\b\b\b\b\b\b\b\b\b\b\b\b\b\b\b\b\b\r",
      "122/177 [===================>..........] - ETA: 0s"
     ]
    },
    {
     "name": "stdout",
     "output_type": "stream",
     "text": [
      "\b\b\b\b\b\b\b\b\b\b\b\b\b\b\b\b\b\b\b\b\b\b\b\b\b\b\b\b\b\b\b\b\b\b\b\b\b\b\b\b\b\b\b\b\b\b\b\b\b\b\r",
      "135/177 [=====================>........] - ETA: 0s"
     ]
    },
    {
     "name": "stdout",
     "output_type": "stream",
     "text": [
      "\b\b\b\b\b\b\b\b\b\b\b\b\b\b\b\b\b\b\b\b\b\b\b\b\b\b\b\b\b\b\b\b\b\b\b\b\b\b\b\b\b\b\b\b\b\b\b\b\b\b\r",
      "147/177 [=======================>......] - ETA: 0s"
     ]
    },
    {
     "name": "stdout",
     "output_type": "stream",
     "text": [
      "\b\b\b\b\b\b\b\b\b\b\b\b\b\b\b\b\b\b\b\b\b\b\b\b\b\b\b\b\b\b\b\b\b\b\b\b\b\b\b\b\b\b\b\b\b\b\b\b\b\b\r",
      "159/177 [=========================>....] - ETA: 0s"
     ]
    },
    {
     "name": "stdout",
     "output_type": "stream",
     "text": [
      "\b\b\b\b\b\b\b\b\b\b\b\b\b\b\b\b\b\b\b\b\b\b\b\b\b\b\b\b\b\b\b\b\b\b\b\b\b\b\b\b\b\b\b\b\b\b\b\b\b\b\r",
      "171/177 [===========================>..] - ETA: 0s"
     ]
    },
    {
     "name": "stderr",
     "output_type": "stream",
     "text": [
      "[INFO kernel.cc:736] Start Yggdrasil model training\n",
      "[INFO kernel.cc:737] Collect training examples\n",
      "[INFO kernel.cc:392] Number of batches: 177\n",
      "[INFO kernel.cc:393] Number of examples: 11319\n"
     ]
    },
    {
     "name": "stderr",
     "output_type": "stream",
     "text": [
      "[INFO kernel.cc:759] Dataset:\n",
      "Number of records: 11319\n",
      "Number of columns: 27\n",
      "\n",
      "Number of columns by type:\n",
      "\tNUMERICAL: 26 (96.2963%)\n",
      "\tHASH: 1 (3.7037%)\n",
      "\n",
      "Columns:\n",
      "\n",
      "NUMERICAL: 26 (96.2963%)\n",
      "\t1: \"f_1\" NUMERICAL mean:1.18217 min:0 max:9 sd:1.11541\n",
      "\t2: \"f_10\" NUMERICAL mean:3.99046 min:0 max:20.6046 sd:3.73218\n",
      "\t3: \"f_11\" NUMERICAL mean:4.60756 min:0 max:59 sd:4.77462\n",
      "\t4: \"f_12\" NUMERICAL mean:2.03091 min:0 max:9.75731 sd:1.64511\n",
      "\t5: \"f_13\" NUMERICAL mean:0.0487304 min:0 max:0.357143 sd:0.0479245\n",
      "\t6: \"f_14\" NUMERICAL mean:0.0476729 min:0 max:0.336056 sd:0.0463874\n",
      "\t7: \"f_15\" NUMERICAL mean:21.7471 min:7.51456 max:40.0616 sd:7.02527\n",
      "\t8: \"f_16\" NUMERICAL mean:6.91506 min:2.01684 max:13.5772 sd:2.23384\n",
      "\t9: \"f_17\" NUMERICAL mean:19.7598 min:9.0472 max:40.1808 sd:6.57407\n",
      "\t10: \"f_18\" NUMERICAL mean:0.202416 min:0 max:1.51088 sd:0.18941\n",
      "\t11: \"f_19\" NUMERICAL mean:20.8352 min:0 max:178.097 sd:20.9669\n",
      "\t12: \"f_2\" NUMERICAL mean:0.805272 min:0 max:4.56435 sd:0.746546\n",
      "\t13: \"f_20\" NUMERICAL mean:1.83596 min:0 max:13.4423 sd:1.70616\n",
      "\t14: \"f_21\" NUMERICAL mean:12.2662 min:3.18098 max:45.0501 sd:6.85595\n",
      "\t15: \"f_22\" NUMERICAL mean:2.31463 min:1.15719 max:3.80778 sd:0.669815\n",
      "\t16: \"f_23\" NUMERICAL mean:-6.10301 min:-9.49097 max:-1.85651 sd:2.20217\n",
      "\t17: \"f_24\" NUMERICAL mean:-5.79457 min:-9.22971 max:-0.691579 sd:1.99232\n",
      "\t18: \"f_25\" NUMERICAL mean:-5.9689 min:-9.60073 max:-0.691579 sd:2.20707\n",
      "\t19: \"f_3\" NUMERICAL mean:0.159851 min:0 max:1 sd:0.164307\n",
      "\t20: \"f_4\" NUMERICAL mean:0.147621 min:0 max:0.892574 sd:0.147925\n",
      "\t21: \"f_5\" NUMERICAL mean:27.1798 min:6.3511 max:55.3932 sd:9.38075\n",
      "\t22: \"f_6\" NUMERICAL mean:8.14849 min:2.03154 max:16.8986 sd:2.74133\n",
      "\t23: \"f_7\" NUMERICAL mean:27.6599 min:14.2035 max:55.1926 sd:9.4262\n",
      "\t24: \"f_8\" NUMERICAL mean:0.626537 min:0 max:3.80599 sd:0.599143\n",
      "\t25: \"f_9\" NUMERICAL mean:6.5037 min:0 max:47.7046 sd:6.04042\n",
      "\t26: \"__LABEL\" NUMERICAL mean:0.439968 min:0 max:2 sd:0.725817\n",
      "\n",
      "HASH: 1 (3.7037%)\n",
      "\t0: \"__RANK_GROUP\" HASH\n",
      "\n",
      "Terminology:\n",
      "\tnas: Number of non-available (i.e. missing) values.\n",
      "\tood: Out of dictionary.\n",
      "\tmanually-defined: Attribute which type is manually defined by the user i.e. the type was not automatically inferred.\n",
      "\ttokenized: The attribute value is obtained through tokenization.\n",
      "\thas-dict: The attribute is attached to a string dictionary e.g. a categorical attribute stored as a string.\n",
      "\tvocab-size: Number of unique values.\n",
      "\n",
      "[INFO kernel.cc:762] Configure learner\n",
      "[WARNING gradient_boosted_trees.cc:1643] Subsample hyperparameter given but sampling method does not match.\n",
      "[WARNING gradient_boosted_trees.cc:1656] GOSS alpha hyperparameter given but GOSS is disabled.\n",
      "[WARNING gradient_boosted_trees.cc:1665] GOSS beta hyperparameter given but GOSS is disabled.\n",
      "[WARNING gradient_boosted_trees.cc:1677] SelGB ratio hyperparameter given but SelGB is disabled.\n",
      "[INFO kernel.cc:787] Training config:\n",
      "learner: \"GRADIENT_BOOSTED_TREES\"\n",
      "features: \"__RANK_GROUP\"\n",
      "features: \"f_1\"\n",
      "features: \"f_10\"\n",
      "features: \"f_11\"\n",
      "features: \"f_12\"\n",
      "features: \"f_13\"\n",
      "features: \"f_14\"\n",
      "features: \"f_15\"\n",
      "features: \"f_16\"\n",
      "features: \"f_17\"\n",
      "features: \"f_18\"\n",
      "features: \"f_19\"\n",
      "features: \"f_2\"\n",
      "features: \"f_20\"\n",
      "features: \"f_21\"\n",
      "features: \"f_22\"\n",
      "features: \"f_23\"\n",
      "features: \"f_24\"\n",
      "features: \"f_25\"\n",
      "features: \"f_3\"\n",
      "features: \"f_4\"\n",
      "features: \"f_5\"\n",
      "features: \"f_6\"\n",
      "features: \"f_7\"\n",
      "features: \"f_8\"\n",
      "features: \"f_9\"\n",
      "label: \"__LABEL\"\n",
      "task: RANKING\n",
      "ranking_group: \"__RANK_GROUP\"\n",
      "[yggdrasil_decision_forests.model.gradient_boosted_trees.proto.gradient_boosted_trees_config] {\n",
      "  num_trees: 50\n",
      "  decision_tree {\n",
      "    max_depth: 6\n",
      "    min_examples: 5\n",
      "    in_split_min_examples_check: true\n",
      "    missing_value_policy: GLOBAL_IMPUTATION\n",
      "    allow_na_conditions: false\n",
      "    categorical_set_greedy_forward {\n",
      "      sampling: 0.1\n",
      "      max_num_items: -1\n",
      "      min_item_frequency: 1\n",
      "    }\n",
      "    growing_strategy_local {\n",
      "    }\n",
      "    categorical {\n",
      "      cart {\n",
      "      }\n",
      "    }\n",
      "    num_candidate_attributes_ratio: -1\n",
      "    axis_aligned_split {\n",
      "    }\n",
      "    internal {\n",
      "      sorting_strategy: PRESORTED\n",
      "    }\n",
      "  }\n",
      "  shrinkage: 0.1\n",
      "  validation_set_ratio: 0.1\n",
      "  early_stopping: VALIDATION_LOSS_INCREASE\n",
      "  early_stopping_num_trees_look_ahead: 30\n",
      "  l2_regularization: 0\n",
      "  lambda_loss: 1\n",
      "  mart {\n",
      "  }\n",
      "  adapt_subsample_for_maximum_training_duration: false\n",
      "  l1_regularization: 0\n",
      "  use_hessian_gain: false\n",
      "  l2_regularization_categorical: 1\n",
      "  apply_link_function: true\n",
      "  compute_permutation_variable_importance: false\n",
      "}\n",
      "\n",
      "[INFO kernel.cc:790] Deployment config:\n",
      "num_threads: 6\n",
      "\n",
      "[INFO kernel.cc:817] Train model\n",
      "[INFO abstract_learner.cc:126] The ranking_group \"__RANK_GROUP\" was removed from the input feature set.\n",
      "[INFO gradient_boosted_trees.cc:404] Default loss set to LAMBDA_MART_NDCG5\n",
      "[INFO gradient_boosted_trees.cc:1001] Training gradient boosted tree on 11319 example(s) and 25 feature(s).\n",
      "[INFO gradient_boosted_trees.cc:2306] Split training/validation dataset by \"__RANK_GROUP\". 106 groups found in 11319 examples i.e. 106.783 examples/groups.\n"
     ]
    },
    {
     "name": "stderr",
     "output_type": "stream",
     "text": [
      "[INFO gradient_boosted_trees.cc:1044] 10276 examples used for training and 1043 examples used for validation\n"
     ]
    },
    {
     "name": "stderr",
     "output_type": "stream",
     "text": [
      "[INFO gradient_boosted_trees_loss.cc:1547] Found 97 groups in 10276 examples.\n",
      "[INFO gradient_boosted_trees_loss.cc:1547] Found 9 groups in 1043 examples.\n"
     ]
    },
    {
     "name": "stderr",
     "output_type": "stream",
     "text": [
      "[INFO gradient_boosted_trees.cc:1426] \tnum-trees:1 train-loss:-0.348863 train-NDCG@5:0.348863 valid-loss:-0.271541 valid-NDCG@5:0.271541\n"
     ]
    },
    {
     "name": "stderr",
     "output_type": "stream",
     "text": [
      "[INFO gradient_boosted_trees.cc:1426] \tnum-trees:50 train-loss:-0.607105 train-NDCG@5:0.607105 valid-loss:-0.404367 valid-NDCG@5:0.404367\n",
      "[INFO gradient_boosted_trees.cc:229] Truncates the model to 21 tree(s) i.e. 21  iteration(s).\n",
      "[INFO gradient_boosted_trees.cc:263] Final model num-trees:21 valid-loss:-0.459177 valid-NDCG@5:0.459177\n"
     ]
    },
    {
     "name": "stderr",
     "output_type": "stream",
     "text": [
      "[INFO kernel.cc:828] Export model in log directory: /tmp/tmpo_9lrcak\n"
     ]
    },
    {
     "name": "stderr",
     "output_type": "stream",
     "text": [
      "[INFO kernel.cc:836] Save model in resources\n"
     ]
    },
    {
     "name": "stderr",
     "output_type": "stream",
     "text": [
      "[INFO kernel.cc:988] Loading model from path\n"
     ]
    },
    {
     "name": "stdout",
     "output_type": "stream",
     "text": [
      "\b\b\b\b\b\b\b\b\b\b\b\b\b\b\b\b\b\b\b\b\b\b\b\b\b\b\b\b\b\b\b\b\b\b\b\b\b\b\b\b\b\b\b\b\b\b\b\b\b\b\r",
      "177/177 [==============================] - 2s 11ms/step\n"
     ]
    },
    {
     "name": "stderr",
     "output_type": "stream",
     "text": [
      "[INFO abstract_model.cc:993] Engine \"GradientBoostedTreesQuickScorerExtended\" built\n",
      "[INFO kernel.cc:848] Use fast generic engine\n"
     ]
    }
   ],
   "source": [
    "%set_cell_height 400\n",
    "\n",
    "model_8 = tfdf.keras.GradientBoostedTreesModel(\n",
    "    task=tfdf.keras.Task.RANKING,\n",
    "    ranking_group=\"group\",\n",
    "    num_trees=50)\n",
    "\n",
    "with sys_pipes():\n",
    "  model_8.fit(x=ranking_train_ds)"
   ]
  },
  {
   "cell_type": "markdown",
   "metadata": {
    "id": "spZCfxfR3VK0"
   },
   "source": [
    "At this point, keras does not propose any ranking metrics. Instead, the training and validation (a GBDT uses a validation dataset) are shown in the training\n",
    "logs. In this case the loss is `LAMBDA_MART_NDCG5`, and the final (i.e. at\n",
    "the end of the training) NDCG (normalized discounted cumulative gain) is `0.510136` (see line `Final model valid-loss: -0.510136`).\n",
    "\n",
    "Note that the NDCG is a value between 0 and 1. The larget the NDCG, the better\n",
    "the model. For this reason, the loss to be -NDCG.\n",
    "\n",
    "As before, the model can be analysed:"
   ]
  },
  {
   "cell_type": "code",
   "execution_count": 43,
   "metadata": {
    "execution": {
     "iopub.execute_input": "2021-11-08T12:10:21.061214Z",
     "iopub.status.busy": "2021-11-08T12:10:21.060449Z",
     "iopub.status.idle": "2021-11-08T12:10:21.065279Z",
     "shell.execute_reply": "2021-11-08T12:10:21.065682Z"
    },
    "id": "L4N1R8fM4jFh"
   },
   "outputs": [
    {
     "data": {
      "application/javascript": [
       "google.colab.output.setIframeHeight(0, true, {maxHeight: 400})"
      ],
      "text/plain": [
       "<IPython.core.display.Javascript object>"
      ]
     },
     "metadata": {},
     "output_type": "display_data"
    },
    {
     "name": "stdout",
     "output_type": "stream",
     "text": [
      "Model: \"gradient_boosted_trees_model_5\"\n",
      "_________________________________________________________________\n",
      " Layer (type)                Output Shape              Param #   \n",
      "=================================================================\n",
      "=================================================================\n",
      "Total params: 1\n",
      "Trainable params: 0\n",
      "Non-trainable params: 1\n",
      "_________________________________________________________________\n",
      "Type: \"GRADIENT_BOOSTED_TREES\"\n",
      "Task: RANKING\n",
      "Label: \"__LABEL\"\n",
      "Rank group: \"__RANK_GROUP\"\n",
      "\n",
      "Input Features (25):\n",
      "\tf_1\n",
      "\tf_10\n",
      "\tf_11\n",
      "\tf_12\n",
      "\tf_13\n",
      "\tf_14\n",
      "\tf_15\n",
      "\tf_16\n",
      "\tf_17\n",
      "\tf_18\n",
      "\tf_19\n",
      "\tf_2\n",
      "\tf_20\n",
      "\tf_21\n",
      "\tf_22\n",
      "\tf_23\n",
      "\tf_24\n",
      "\tf_25\n",
      "\tf_3\n",
      "\tf_4\n",
      "\tf_5\n",
      "\tf_6\n",
      "\tf_7\n",
      "\tf_8\n",
      "\tf_9\n",
      "\n",
      "No weights\n",
      "\n",
      "Variable Importance: MEAN_MIN_DEPTH:\n",
      "    1. \"__RANK_GROUP\"  4.580857 ################\n",
      "    2.      \"__LABEL\"  4.580857 ################\n",
      "    3.          \"f_1\"  4.571903 ###############\n",
      "    4.          \"f_2\"  4.546650 ###############\n",
      "    5.         \"f_18\"  4.538126 ###############\n",
      "    6.         \"f_14\"  4.484272 ###############\n",
      "    7.         \"f_11\"  4.446549 ###############\n",
      "    8.          \"f_7\"  4.434940 ###############\n",
      "    9.         \"f_13\"  4.431744 ###############\n",
      "   10.         \"f_15\"  4.428829 ###############\n",
      "   11.         \"f_19\"  4.413141 ##############\n",
      "   12.         \"f_16\"  4.395927 ##############\n",
      "   13.         \"f_20\"  4.325392 ##############\n",
      "   14.          \"f_5\"  4.306650 ##############\n",
      "   15.          \"f_6\"  4.304228 ##############\n",
      "   16.         \"f_23\"  4.222661 #############\n",
      "   17.         \"f_17\"  4.152362 #############\n",
      "   18.          \"f_9\"  4.115222 #############\n",
      "   19.         \"f_25\"  3.999537 ############\n",
      "   20.         \"f_21\"  3.980909 ############\n",
      "   21.         \"f_22\"  3.851452 ###########\n",
      "   22.         \"f_12\"  3.820965 ###########\n",
      "   23.         \"f_10\"  3.816843 ###########\n",
      "   24.         \"f_24\"  3.751312 ##########\n",
      "   25.          \"f_3\"  3.556091 #########\n",
      "   26.          \"f_8\"  3.286981 ########\n",
      "   27.          \"f_4\"  1.971756 \n",
      "\n",
      "Variable Importance: NUM_AS_ROOT:\n",
      "    1.  \"f_4\" 10.000000 ################\n",
      "    2.  \"f_3\"  3.000000 ###\n",
      "    3.  \"f_8\"  3.000000 ###\n",
      "    4. \"f_24\"  2.000000 #\n",
      "    5. \"f_10\"  1.000000 \n",
      "    6. \"f_22\"  1.000000 \n",
      "    7.  \"f_9\"  1.000000 \n",
      "\n",
      "Variable Importance: NUM_NODES:\n",
      "    1.  \"f_8\" 34.000000 ################\n",
      "    2.  \"f_4\" 28.000000 #############\n",
      "    3. \"f_22\" 27.000000 ############\n",
      "    4. \"f_10\" 25.000000 ###########\n",
      "    5. \"f_21\" 23.000000 ##########\n",
      "    6. \"f_17\" 21.000000 #########\n",
      "    7. \"f_23\" 21.000000 #########\n",
      "    8.  \"f_9\" 20.000000 #########\n",
      "    9. \"f_24\" 19.000000 ########\n",
      "   10. \"f_12\" 18.000000 ########\n",
      "   11. \"f_16\" 18.000000 ########\n",
      "   12.  \"f_3\" 18.000000 ########\n",
      "   13.  \"f_6\" 17.000000 #######\n",
      "   14. \"f_20\" 16.000000 #######\n",
      "   15. \"f_19\" 14.000000 ######\n",
      "   16. \"f_15\" 13.000000 #####\n",
      "   17. \"f_25\" 13.000000 #####\n",
      "   18.  \"f_5\" 12.000000 #####\n",
      "   19.  \"f_7\" 10.000000 ####\n",
      "   20. \"f_13\"  9.000000 ###\n",
      "   21. \"f_14\"  8.000000 ###\n",
      "   22. \"f_11\"  7.000000 ##\n",
      "   23. \"f_18\"  6.000000 ##\n",
      "   24.  \"f_2\"  3.000000 \n",
      "   25.  \"f_1\"  2.000000 \n",
      "\n",
      "Variable Importance: SUM_SCORE:\n",
      "    1.  \"f_4\" 2980.573819 ################\n",
      "    2. \"f_24\" 2158.482164 ###########\n",
      "    3.  \"f_8\" 2084.795939 ###########\n",
      "    4.  \"f_3\" 1550.118161 ########\n",
      "    5. \"f_17\" 1463.975795 #######\n",
      "    6. \"f_10\" 1394.182907 #######\n",
      "    7. \"f_21\" 1294.251099 ######\n",
      "    8. \"f_23\" 1205.467035 ######\n",
      "    9. \"f_22\" 927.605266 ####\n",
      "   10. \"f_25\" 920.474810 ####\n",
      "   11. \"f_12\" 828.448676 ####\n",
      "   12.  \"f_9\" 808.014761 ####\n",
      "   13. \"f_16\" 698.778111 ###\n",
      "   14.  \"f_7\" 599.805417 ###\n",
      "   15.  \"f_5\" 543.782969 ##\n",
      "   16. \"f_15\" 500.776397 ##\n",
      "   17. \"f_19\" 475.478397 ##\n",
      "   18.  \"f_6\" 446.515160 ##\n",
      "   19. \"f_20\" 416.825290 ##\n",
      "   20. \"f_11\" 304.808988 #\n",
      "   21. \"f_14\" 263.830200 #\n",
      "   22. \"f_13\" 185.897133 \n",
      "   23.  \"f_1\" 109.890124 \n",
      "   24. \"f_18\" 75.664346 \n",
      "   25.  \"f_2\" 29.043191 \n",
      "\n",
      "\n",
      "\n",
      "Loss: LAMBDA_MART_NDCG5\n",
      "Validation loss value: -0.459177\n",
      "Number of trees per iteration: 1\n",
      "Node format: NOT_SET\n",
      "Number of trees: 21\n",
      "Total number of nodes: 825\n",
      "\n",
      "Number of nodes by tree:\n",
      "Count: 21 Average: 39.2857 StdDev: 6.82532\n",
      "Min: 23 Max: 51 Ignored: 0\n",
      "----------------------------------------------\n",
      "[ 23, 24) 1   4.76%   4.76% ##\n",
      "[ 24, 25) 0   0.00%   4.76%\n",
      "[ 25, 27) 0   0.00%   4.76%\n",
      "[ 27, 28) 0   0.00%   4.76%\n",
      "[ 28, 30) 0   0.00%   4.76%\n",
      "[ 30, 31) 0   0.00%   4.76%\n",
      "[ 31, 33) 1   4.76%   9.52% ##\n",
      "[ 33, 34) 1   4.76%  14.29% ##\n",
      "[ 34, 36) 6  28.57%  42.86% ##########\n",
      "[ 36, 37) 0   0.00%  42.86%\n",
      "[ 37, 38) 1   4.76%  47.62% ##\n",
      "[ 38, 40) 1   4.76%  52.38% ##\n",
      "[ 40, 41) 0   0.00%  52.38%\n",
      "[ 41, 43) 2   9.52%  61.90% ###\n",
      "[ 43, 44) 4  19.05%  80.95% #######\n",
      "[ 44, 46) 0   0.00%  80.95%\n",
      "[ 46, 47) 0   0.00%  80.95%\n",
      "[ 47, 49) 1   4.76%  85.71% ##\n",
      "[ 49, 50) 1   4.76%  90.48% ##\n",
      "[ 50, 51] 2   9.52% 100.00% ###\n",
      "\n",
      "Depth by leafs:\n",
      "Count: 423 Average: 4.60284 StdDev: 0.748958\n",
      "Min: 1 Max: 5 Ignored: 0\n",
      "----------------------------------------------\n",
      "[ 1, 2)   1   0.24%   0.24%\n",
      "[ 2, 3)   8   1.89%   2.13%\n",
      "[ 3, 4)  38   8.98%  11.11% #\n",
      "[ 4, 5)  64  15.13%  26.24% ##\n",
      "[ 5, 5] 312  73.76% 100.00% ##########\n",
      "\n",
      "Number of training obs by leaf:\n",
      "Count: 423 Average: 510.156 StdDev: 1820.92\n",
      "Min: 5 Max: 9742 Ignored: 0\n",
      "----------------------------------------------\n",
      "[    5,  491) 380  89.83%  89.83% ##########\n",
      "[  491,  978)  11   2.60%  92.43%\n",
      "[  978, 1465)   6   1.42%  93.85%\n",
      "[ 1465, 1952)   1   0.24%  94.09%\n",
      "[ 1952, 2439)   1   0.24%  94.33%\n",
      "[ 2439, 2926)   2   0.47%  94.80%\n",
      "[ 2926, 3413)   0   0.00%  94.80%\n",
      "[ 3413, 3900)   1   0.24%  95.04%\n",
      "[ 3900, 4387)   1   0.24%  95.27%\n",
      "[ 4387, 4874)   1   0.24%  95.51%\n",
      "[ 4874, 5360)   1   0.24%  95.74%\n",
      "[ 5360, 5847)   0   0.00%  95.74%\n",
      "[ 5847, 6334)   0   0.00%  95.74%\n",
      "[ 6334, 6821)   2   0.47%  96.22%\n",
      "[ 6821, 7308)   0   0.00%  96.22%\n",
      "[ 7308, 7795)   0   0.00%  96.22%\n",
      "[ 7795, 8282)   1   0.24%  96.45%\n",
      "[ 8282, 8769)   2   0.47%  96.93%\n",
      "[ 8769, 9256)   9   2.13%  99.05%\n",
      "[ 9256, 9742]   4   0.95% 100.00%\n",
      "\n",
      "Attribute in nodes:\n",
      "\t34 : f_8 [NUMERICAL]\n",
      "\t28 : f_4 [NUMERICAL]\n",
      "\t27 : f_22 [NUMERICAL]\n",
      "\t25 : f_10 [NUMERICAL]\n",
      "\t23 : f_21 [NUMERICAL]\n",
      "\t21 : f_23 [NUMERICAL]\n",
      "\t21 : f_17 [NUMERICAL]\n",
      "\t20 : f_9 [NUMERICAL]\n",
      "\t19 : f_24 [NUMERICAL]\n",
      "\t18 : f_3 [NUMERICAL]\n",
      "\t18 : f_16 [NUMERICAL]\n",
      "\t18 : f_12 [NUMERICAL]\n",
      "\t17 : f_6 [NUMERICAL]\n",
      "\t16 : f_20 [NUMERICAL]\n",
      "\t14 : f_19 [NUMERICAL]\n",
      "\t13 : f_25 [NUMERICAL]\n",
      "\t13 : f_15 [NUMERICAL]\n",
      "\t12 : f_5 [NUMERICAL]\n",
      "\t10 : f_7 [NUMERICAL]\n",
      "\t9 : f_13 [NUMERICAL]\n",
      "\t8 : f_14 [NUMERICAL]\n",
      "\t7 : f_11 [NUMERICAL]\n",
      "\t6 : f_18 [NUMERICAL]\n",
      "\t3 : f_2 [NUMERICAL]\n",
      "\t2 : f_1 [NUMERICAL]\n",
      "\n",
      "Attribute in nodes with depth <= 0:\n",
      "\t10 : f_4 [NUMERICAL]\n",
      "\t3 : f_8 [NUMERICAL]\n",
      "\t3 : f_3 [NUMERICAL]\n",
      "\t2 : f_24 [NUMERICAL]\n",
      "\t1 : f_9 [NUMERICAL]\n",
      "\t1 : f_22 [NUMERICAL]\n",
      "\t1 : f_10 [NUMERICAL]\n",
      "\n",
      "Attribute in nodes with depth <= 1:\n",
      "\t14 : f_4 [NUMERICAL]\n",
      "\t7 : f_12 [NUMERICAL]\n",
      "\t6 : f_8 [NUMERICAL]\n",
      "\t5 : f_22 [NUMERICAL]\n",
      "\t4 : f_3 [NUMERICAL]\n",
      "\t4 : f_25 [NUMERICAL]\n",
      "\t4 : f_24 [NUMERICAL]\n",
      "\t4 : f_21 [NUMERICAL]\n",
      "\t4 : f_17 [NUMERICAL]\n",
      "\t3 : f_10 [NUMERICAL]\n",
      "\t2 : f_5 [NUMERICAL]\n",
      "\t2 : f_23 [NUMERICAL]\n",
      "\t1 : f_9 [NUMERICAL]\n",
      "\t1 : f_7 [NUMERICAL]\n",
      "\t1 : f_15 [NUMERICAL]\n",
      "\n",
      "Attribute in nodes with depth <= 2:\n",
      "\t17 : f_4 [NUMERICAL]\n",
      "\t12 : f_3 [NUMERICAL]\n",
      "\t11 : f_21 [NUMERICAL]\n",
      "\t11 : f_12 [NUMERICAL]\n",
      "\t10 : f_8 [NUMERICAL]\n",
      "\t9 : f_22 [NUMERICAL]\n",
      "\t8 : f_24 [NUMERICAL]\n",
      "\t8 : f_17 [NUMERICAL]\n",
      "\t8 : f_10 [NUMERICAL]\n",
      "\t6 : f_25 [NUMERICAL]\n",
      "\t5 : f_11 [NUMERICAL]\n",
      "\t4 : f_6 [NUMERICAL]\n",
      "\t4 : f_23 [NUMERICAL]\n",
      "\t4 : f_20 [NUMERICAL]\n",
      "\t3 : f_9 [NUMERICAL]\n",
      "\t3 : f_7 [NUMERICAL]\n",
      "\t3 : f_19 [NUMERICAL]\n",
      "\t3 : f_13 [NUMERICAL]\n",
      "\t2 : f_5 [NUMERICAL]\n",
      "\t2 : f_15 [NUMERICAL]\n",
      "\t1 : f_16 [NUMERICAL]\n",
      "\t1 : f_14 [NUMERICAL]\n",
      "\t1 : f_1 [NUMERICAL]\n",
      "\n",
      "Attribute in nodes with depth <= 3:\n",
      "\t23 : f_8 [NUMERICAL]\n",
      "\t21 : f_4 [NUMERICAL]\n",
      "\t18 : f_22 [NUMERICAL]\n",
      "\t17 : f_21 [NUMERICAL]\n",
      "\t16 : f_3 [NUMERICAL]\n",
      "\t14 : f_17 [NUMERICAL]\n",
      "\t14 : f_12 [NUMERICAL]\n",
      "\t12 : f_24 [NUMERICAL]\n",
      "\t11 : f_23 [NUMERICAL]\n",
      "\t11 : f_20 [NUMERICAL]\n",
      "\t11 : f_10 [NUMERICAL]\n",
      "\t10 : f_6 [NUMERICAL]\n",
      "\t10 : f_19 [NUMERICAL]\n",
      "\t9 : f_9 [NUMERICAL]\n",
      "\t9 : f_25 [NUMERICAL]\n",
      "\t8 : f_5 [NUMERICAL]\n",
      "\t7 : f_7 [NUMERICAL]\n",
      "\t5 : f_16 [NUMERICAL]\n",
      "\t5 : f_13 [NUMERICAL]\n",
      "\t5 : f_11 [NUMERICAL]\n",
      "\t3 : f_18 [NUMERICAL]\n",
      "\t3 : f_15 [NUMERICAL]\n",
      "\t2 : f_2 [NUMERICAL]\n",
      "\t1 : f_14 [NUMERICAL]\n",
      "\t1 : f_1 [NUMERICAL]\n",
      "\n",
      "Attribute in nodes with depth <= 5:\n",
      "\t34 : f_8 [NUMERICAL]\n",
      "\t28 : f_4 [NUMERICAL]\n",
      "\t27 : f_22 [NUMERICAL]\n",
      "\t25 : f_10 [NUMERICAL]\n",
      "\t23 : f_21 [NUMERICAL]\n",
      "\t21 : f_23 [NUMERICAL]\n",
      "\t21 : f_17 [NUMERICAL]\n",
      "\t20 : f_9 [NUMERICAL]\n",
      "\t19 : f_24 [NUMERICAL]\n",
      "\t18 : f_3 [NUMERICAL]\n",
      "\t18 : f_16 [NUMERICAL]\n",
      "\t18 : f_12 [NUMERICAL]\n",
      "\t17 : f_6 [NUMERICAL]\n",
      "\t16 : f_20 [NUMERICAL]\n",
      "\t14 : f_19 [NUMERICAL]\n",
      "\t13 : f_25 [NUMERICAL]\n",
      "\t13 : f_15 [NUMERICAL]\n",
      "\t12 : f_5 [NUMERICAL]\n",
      "\t10 : f_7 [NUMERICAL]\n",
      "\t9 : f_13 [NUMERICAL]\n",
      "\t8 : f_14 [NUMERICAL]\n",
      "\t7 : f_11 [NUMERICAL]\n",
      "\t6 : f_18 [NUMERICAL]\n",
      "\t3 : f_2 [NUMERICAL]\n",
      "\t2 : f_1 [NUMERICAL]\n",
      "\n",
      "Condition type in nodes:\n",
      "\t402 : HigherCondition\n",
      "Condition type in nodes with depth <= 0:\n",
      "\t21 : HigherCondition\n",
      "Condition type in nodes with depth <= 1:\n",
      "\t62 : HigherCondition\n",
      "Condition type in nodes with depth <= 2:\n",
      "\t136 : HigherCondition\n",
      "Condition type in nodes with depth <= 3:\n",
      "\t246 : HigherCondition\n",
      "Condition type in nodes with depth <= 5:\n",
      "\t402 : HigherCondition\n",
      "\n"
     ]
    }
   ],
   "source": [
    "%set_cell_height 400\n",
    "\n",
    "model_8.summary()"
   ]
  }
 ],
 "metadata": {
  "colab": {
   "collapsed_sections": [],
   "name": "beginner_colab.ipynb",
   "provenance": [],
   "toc_visible": true
  },
  "kernelspec": {
   "display_name": "Python 3",
   "name": "python3"
  },
  "language_info": {
   "codemirror_mode": {
    "name": "ipython",
    "version": 3
   },
   "file_extension": ".py",
   "mimetype": "text/x-python",
   "name": "python",
   "nbconvert_exporter": "python",
   "pygments_lexer": "ipython3",
   "version": "3.7.5"
  }
 },
 "nbformat": 4,
 "nbformat_minor": 0
}
