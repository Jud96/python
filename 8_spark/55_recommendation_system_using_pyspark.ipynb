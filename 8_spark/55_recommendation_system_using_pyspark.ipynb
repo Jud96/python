{
  "nbformat": 4,
  "nbformat_minor": 0,
  "metadata": {
    "colab": {
      "name": "recommendation_system_using_pyspark.ipynb",
      "provenance": []
    },
    "kernelspec": {
      "display_name": "Python 3",
      "name": "python3"
    }
  },
  "cells": [
    {
      "cell_type": "markdown",
      "metadata": {
        "id": "uixRc0XtrHuj"
      },
      "source": [
        "# **WELCOME TO THIS NOTEBOOK**"
      ]
    },
    {
      "cell_type": "code",
      "source": [
        "from google.colab import drive\n",
        "drive.mount('/content/drive')"
      ],
      "metadata": {
        "colab": {
          "base_uri": "https://localhost:8080/"
        },
        "id": "le8HDtrFWjRX",
        "outputId": "8715d0e2-aa50-4278-ad9b-6e6ff4819d15"
      },
      "execution_count": null,
      "outputs": [
        {
          "output_type": "stream",
          "name": "stdout",
          "text": [
            "Drive already mounted at /content/drive; to attempt to forcibly remount, call drive.mount(\"/content/drive\", force_remount=True).\n"
          ]
        }
      ]
    },
    {
      "cell_type": "markdown",
      "metadata": {
        "id": "hMZ64UxxrMvL"
      },
      "source": [
        "Let's install pyspark"
      ]
    },
    {
      "cell_type": "code",
      "metadata": {
        "id": "Dal3Np2Imn8u",
        "colab": {
          "base_uri": "https://localhost:8080/"
        },
        "outputId": "537b2d56-833b-4744-cbb9-c1e3f64597f4"
      },
      "source": [
        "\n",
        "!pip install pyspark==3.0.1\n",
        "\n"
      ],
      "execution_count": null,
      "outputs": [
        {
          "output_type": "stream",
          "name": "stdout",
          "text": [
            "Requirement already satisfied: pyspark==3.0.1 in /usr/local/lib/python3.7/dist-packages (3.0.1)\n",
            "Requirement already satisfied: py4j==0.10.9 in /usr/local/lib/python3.7/dist-packages (from pyspark==3.0.1) (0.10.9)\n"
          ]
        }
      ]
    },
    {
      "cell_type": "markdown",
      "metadata": {
        "id": "eK9D-CNgru_s"
      },
      "source": [
        "Importing the modules"
      ]
    },
    {
      "cell_type": "code",
      "metadata": {
        "id": "Z_cmzia9nA1W"
      },
      "source": [
        "from pyspark.sql import SparkSession\n",
        "from pyspark.sql.functions import count, desc , col, max\n",
        "from pyspark.ml.feature import  StringIndexer\n",
        "from pyspark.ml import Pipeline\n",
        "from pyspark.ml.recommendation import ALS\n",
        "from pyspark.ml.tuning import TrainValidationSplit, ParamGridBuilder"
      ],
      "execution_count": null,
      "outputs": []
    },
    {
      "cell_type": "markdown",
      "metadata": {
        "id": "pjM5P6b0rVpH"
      },
      "source": [
        "\n",
        "\n",
        "```\n",
        "# This is formatted as code\n",
        "```\n",
        "\n",
        "Creating the spark session\n"
      ]
    },
    {
      "cell_type": "code",
      "metadata": {
        "id": "gvSzI0zMn4Hk"
      },
      "source": [
        "spark = SparkSession.builder.appName('lastfm2').getOrCreate()"
      ],
      "execution_count": null,
      "outputs": []
    },
    {
      "cell_type": "markdown",
      "metadata": {
        "id": "KnyYdMVmnkp5"
      },
      "source": [
        "# Loading the dataset"
      ]
    },
    {
      "cell_type": "code",
      "metadata": {
        "id": "PywJeVgDngVd"
      },
      "source": [
        "listening_data_path = '/content/drive/MyDrive/dataset/listenings.csv'\n",
        "listening_df = spark.read.format('csv').option('inferSchema',True).option('header',True).load(listening_data_path)"
      ],
      "execution_count": null,
      "outputs": []
    },
    {
      "cell_type": "markdown",
      "metadata": {
        "id": "YUHBP0yjoJvc"
      },
      "source": [
        "\n",
        "# Cleaning tables "
      ]
    },
    {
      "cell_type": "code",
      "metadata": {
        "id": "N8luDo3HndTb"
      },
      "source": [
        "listening_df=listening_df.drop('date')\n",
        "#listening_df.show()"
      ],
      "execution_count": null,
      "outputs": []
    },
    {
      "cell_type": "code",
      "metadata": {
        "id": "5rDadwmpowII"
      },
      "source": [
        "listening_df = listening_df.na.drop()"
      ],
      "execution_count": null,
      "outputs": []
    },
    {
      "cell_type": "code",
      "metadata": {
        "id": "UZr0ZxOVIYr9",
        "outputId": "6408872d-32c0-4569-b28e-305e99a1c729",
        "colab": {
          "base_uri": "https://localhost:8080/"
        }
      },
      "source": [
        "listening_df.count()"
      ],
      "execution_count": null,
      "outputs": [
        {
          "output_type": "execute_result",
          "data": {
            "text/plain": [
              "13758905"
            ]
          },
          "metadata": {},
          "execution_count": 7
        }
      ]
    },
    {
      "cell_type": "markdown",
      "metadata": {
        "id": "cyf1XITGpMWV"
      },
      "source": [
        "\n",
        "# Let's Perform some aggregation\n",
        "to see how many times each user has listened to specific track\n"
      ]
    },
    {
      "cell_type": "code",
      "metadata": {
        "id": "PeH7vYKEoyWa"
      },
      "source": [
        "df_listening_agg = listening_df.select('user_id','track').groupBy('user_id','track').agg(count('*').alias('count')).orderBy('user_id')"
      ],
      "execution_count": null,
      "outputs": []
    },
    {
      "cell_type": "code",
      "source": [
        "df_listening_agg.show()"
      ],
      "metadata": {
        "colab": {
          "base_uri": "https://localhost:8080/"
        },
        "id": "zI9_eRQGeiKD",
        "outputId": "5a37b76e-215d-4b87-99f9-eda150f53a02"
      },
      "execution_count": null,
      "outputs": [
        {
          "output_type": "stream",
          "name": "stdout",
          "text": [
            "+-------+--------------------+-----+\n",
            "|user_id|               track|count|\n",
            "+-------+--------------------+-----+\n",
            "| --Seph|Chelsea Hotel - L...|    1|\n",
            "| --Seph|        Window Blues|    1|\n",
            "| --Seph|          Paris 2004|    7|\n",
            "| --Seph|     The Way We Were|    1|\n",
            "| --Seph|Vestido Estampado...|    1|\n",
            "| --Seph|               Leloo|    1|\n",
            "| --Seph|         The Embrace|    1|\n",
            "| --Seph|      Hour for magic|    2|\n",
            "| --Seph|Hungarian Rhapsod...|    1|\n",
            "| --Seph| Air on the G String|    1|\n",
            "| --Seph|       Life On Mars?|    1|\n",
            "| --Seph|Belina (Original ...|    1|\n",
            "| --Seph|   Summa for Strings|    1|\n",
            "| --Seph|       Phantom Pt II|    1|\n",
            "| --Seph|              Monday|    1|\n",
            "| --Seph|Hungarian Dance No 5|    1|\n",
            "| --Seph|Airplanes [feat H...|    1|\n",
            "| --Seph|  California Waiting|    1|\n",
            "| --Seph|Virus (Luke Fair ...|    1|\n",
            "| --Seph| White Winter Hymnal|    3|\n",
            "+-------+--------------------+-----+\n",
            "only showing top 20 rows\n",
            "\n"
          ]
        }
      ]
    },
    {
      "cell_type": "code",
      "metadata": {
        "id": "RhVz-SvapIyr",
        "outputId": "bd7f6875-93ac-4699-c91e-9bc4a4b2fc9b",
        "colab": {
          "base_uri": "https://localhost:8080/"
        }
      },
      "source": [
        "df_listening_agg.count()"
      ],
      "execution_count": null,
      "outputs": [
        {
          "output_type": "execute_result",
          "data": {
            "text/plain": [
              "9930128"
            ]
          },
          "metadata": {},
          "execution_count": 11
        }
      ]
    },
    {
      "cell_type": "code",
      "metadata": {
        "id": "KsTXVsO7I7Jw",
        "colab": {
          "base_uri": "https://localhost:8080/"
        },
        "outputId": "e6f9c545-edad-44b7-f953-92ce6670425d"
      },
      "source": [
        "len(df_listening_agg.columns)"
      ],
      "execution_count": null,
      "outputs": [
        {
          "output_type": "execute_result",
          "data": {
            "text/plain": [
              "3"
            ]
          },
          "metadata": {},
          "execution_count": 21
        }
      ]
    },
    {
      "cell_type": "code",
      "source": [
        "df_listening_agg = df_listening_agg.limit(5000)"
      ],
      "metadata": {
        "id": "-CmGFQhurCKr"
      },
      "execution_count": null,
      "outputs": []
    },
    {
      "cell_type": "markdown",
      "metadata": {
        "id": "vuebvg7UqzsO"
      },
      "source": [
        "\n",
        "\n",
        "```\n",
        "# This is formatted as code\n",
        "```\n",
        "\n",
        "# Let's convert the user id and track columns into unique integers\n",
        "\n",
        "\n"
      ]
    },
    {
      "cell_type": "code",
      "metadata": {
        "id": "F9RSpj3DN6aX"
      },
      "source": [
        "\n",
        "indexer = [StringIndexer(inputCol= col , outputCol=col + '_index').fit(df_listening_agg) for col in list(set(df_listening_agg.columns)-set(['count']))]\n",
        "\n",
        "pipeline = Pipeline(stages= indexer)\n",
        "data = pipeline.fit(df_listening_agg).transform(df_listening_agg)"
      ],
      "execution_count": null,
      "outputs": []
    },
    {
      "cell_type": "code",
      "source": [
        "\n",
        "data.show()"
      ],
      "metadata": {
        "colab": {
          "base_uri": "https://localhost:8080/"
        },
        "id": "NDeKa-lGIZtJ",
        "outputId": "5b5ef459-d41f-49d8-cc11-31a562299cd1"
      },
      "execution_count": null,
      "outputs": [
        {
          "output_type": "stream",
          "name": "stdout",
          "text": [
            "+-------+--------------------+-----+-----------+-------------+\n",
            "|user_id|               track|count|track_index|user_id_index|\n",
            "+-------+--------------------+-----+-----------+-------------+\n",
            "| --Seph|   Summa for Strings|    1|     3770.0|         16.0|\n",
            "| --Seph|      Hour for magic|    2|     1909.0|         16.0|\n",
            "| --Seph| White Winter Hymnal|    3|     4587.0|         16.0|\n",
            "| --Seph|Virus (Luke Fair ...|    1|     4425.0|         16.0|\n",
            "| --Seph|Airplanes [feat H...|    1|      358.0|         16.0|\n",
            "| --Seph|Belina (Original ...|    1|      604.0|         16.0|\n",
            "| --Seph|              Monday|    1|     2663.0|         16.0|\n",
            "| --Seph|Hungarian Dance No 5|    1|     1933.0|         16.0|\n",
            "| --Seph|       Life On Mars?|    1|     2402.0|         16.0|\n",
            "| --Seph|  California Waiting|    1|      801.0|         16.0|\n",
            "| --Seph|       Phantom Pt II|    1|     3062.0|         16.0|\n",
            "| --Seph|Hungarian Rhapsod...|    1|     1934.0|         16.0|\n",
            "| --Seph|     The Way We Were|    1|     4116.0|         16.0|\n",
            "| --Seph| Air on the G String|    1|      357.0|         16.0|\n",
            "| --Seph|Vestido Estampado...|    1|     4401.0|         16.0|\n",
            "| --Seph|        Window Blues|    1|     4615.0|         16.0|\n",
            "| --Seph|               Leloo|    1|     2374.0|         16.0|\n",
            "| --Seph|         The Embrace|    1|     3935.0|         16.0|\n",
            "| --Seph|          Paris 2004|    7|     3032.0|         16.0|\n",
            "| --Seph|Chelsea Hotel - L...|    1|      883.0|         16.0|\n",
            "+-------+--------------------+-----+-----------+-------------+\n",
            "only showing top 20 rows\n",
            "\n"
          ]
        }
      ]
    },
    {
      "cell_type": "code",
      "source": [
        "dict_track = data.select('track','track_index').distinct()\n",
        "print(dict_track.count())"
      ],
      "metadata": {
        "colab": {
          "base_uri": "https://localhost:8080/"
        },
        "id": "Wj_vHRlfXJ9-",
        "outputId": "901b6f88-6320-4c7f-cd8f-ebbb95712da7"
      },
      "execution_count": null,
      "outputs": [
        {
          "output_type": "stream",
          "name": "stdout",
          "text": [
            "4811\n"
          ]
        }
      ]
    },
    {
      "cell_type": "code",
      "metadata": {
        "id": "efL-hiR-q-AO"
      },
      "source": [
        "data1 = data.select('count' ,'user_id_index' ,'track_index' ).orderBy(desc('user_id_index'))"
      ],
      "execution_count": null,
      "outputs": []
    },
    {
      "cell_type": "code",
      "source": [
        "data1.printSchema()"
      ],
      "metadata": {
        "colab": {
          "base_uri": "https://localhost:8080/"
        },
        "id": "uq7fQnqTks9F",
        "outputId": "64c16577-1727-40b7-8cc3-3717dc7fd279"
      },
      "execution_count": null,
      "outputs": [
        {
          "output_type": "stream",
          "name": "stdout",
          "text": [
            "root\n",
            " |-- count: long (nullable = false)\n",
            " |-- user_id_index: double (nullable = false)\n",
            " |-- track_index: double (nullable = false)\n",
            "\n"
          ]
        }
      ]
    },
    {
      "cell_type": "code",
      "metadata": {
        "id": "OfKtj2ojrKae",
        "colab": {
          "base_uri": "https://localhost:8080/"
        },
        "outputId": "eadfae22-c0f0-4d89-d0f2-ad5de40d8990"
      },
      "source": [
        "data1.show()"
      ],
      "execution_count": null,
      "outputs": [
        {
          "output_type": "stream",
          "name": "stdout",
          "text": [
            "+-----+-------------+-----------+\n",
            "|count|user_id_index|track_index|\n",
            "+-----+-------------+-----------+\n",
            "|    1|         37.0|      261.0|\n",
            "|    1|         37.0|     4713.0|\n",
            "|    1|         37.0|     2921.0|\n",
            "|    1|         36.0|      876.0|\n",
            "|    1|         36.0|     4106.0|\n",
            "|    1|         36.0|     4592.0|\n",
            "|    1|         36.0|     3818.0|\n",
            "|    1|         36.0|     3719.0|\n",
            "|    1|         36.0|     2003.0|\n",
            "|    2|         36.0|     3226.0|\n",
            "|    1|         36.0|     1419.0|\n",
            "|    1|         36.0|     4288.0|\n",
            "|    1|         36.0|     4646.0|\n",
            "|    1|         36.0|     1632.0|\n",
            "|    1|         36.0|      666.0|\n",
            "|    3|         36.0|     2673.0|\n",
            "|    2|         35.0|     3184.0|\n",
            "|    1|         35.0|     2049.0|\n",
            "|    1|         35.0|      170.0|\n",
            "|    1|         35.0|     2878.0|\n",
            "+-----+-------------+-----------+\n",
            "only showing top 20 rows\n",
            "\n"
          ]
        }
      ]
    },
    {
      "cell_type": "markdown",
      "metadata": {
        "id": "IEwviAxXsHwN"
      },
      "source": [
        "# Train and Test data"
      ]
    },
    {
      "cell_type": "code",
      "source": [
        "(train , test)  = data1.randomSplit([0.4 , 0.6])"
      ],
      "metadata": {
        "id": "vC5lwKOAYByH"
      },
      "execution_count": null,
      "outputs": []
    },
    {
      "cell_type": "markdown",
      "metadata": {
        "id": "M46wV6Gusdi5"
      },
      "source": [
        "# Let's Create our Model"
      ]
    },
    {
      "cell_type": "code",
      "metadata": {
        "id": "bwPk25M3sfRu"
      },
      "source": [
        "user_id = 'user_id_index'\n",
        "track = 'track_index'\n",
        "count = 'count'\n",
        "\n",
        "als = ALS(maxIter= 5  ,rank=10 , regParam=0.01 , userCol= 'user_id_index' , itemCol= 'track_index' , ratingCol= 'count' )\n",
        "\n",
        "model = als.fit(train)\n",
        "predictions = model.transform(test)\n"
      ],
      "execution_count": null,
      "outputs": []
    },
    {
      "cell_type": "code",
      "source": [
        ""
      ],
      "metadata": {
        "id": "IsLx-fTLjijm"
      },
      "execution_count": null,
      "outputs": []
    },
    {
      "cell_type": "markdown",
      "metadata": {
        "id": "lqBkLowzsoj8"
      },
      "source": [
        "\n",
        "# Generate top 10 Track recommendations for each user"
      ]
    },
    {
      "cell_type": "code",
      "metadata": {
        "id": "00mtv7XUsZGg"
      },
      "source": [
        "recommendations = model.recommendForAllUsers(10)"
      ],
      "execution_count": null,
      "outputs": []
    },
    {
      "cell_type": "code",
      "metadata": {
        "id": "_EQnSUh3ncar",
        "colab": {
          "base_uri": "https://localhost:8080/"
        },
        "outputId": "842a4af4-757f-4157-bcb4-77260d2c90e6"
      },
      "source": [
        "recommendations.show()"
      ],
      "execution_count": null,
      "outputs": [
        {
          "output_type": "stream",
          "name": "stdout",
          "text": [
            "+-------------+--------------------+\n",
            "|user_id_index|     recommendations|\n",
            "+-------------+--------------------+\n",
            "|           31|[[1589, 14.994965...|\n",
            "|           34|[[154, 19.994606]...|\n",
            "|           28|[[1381, 6.988539]...|\n",
            "|           26|[[2478, 22.97975]...|\n",
            "|           27|[[1663, 6.9820185...|\n",
            "|           12|[[2478, 10.678355...|\n",
            "|           22|[[2478, 7.4050927...|\n",
            "|            1|[[1789, 3.9897099...|\n",
            "|           13|[[154, 6.7562275]...|\n",
            "|            6|[[1414, 4.029411]...|\n",
            "|           16|[[1789, 4.449752]...|\n",
            "|            3|[[2675, 2.6989505...|\n",
            "|           20|[[2478, 14.691655...|\n",
            "|            5|[[3483, 7.555993]...|\n",
            "|           19|[[1663, 4.399854]...|\n",
            "|           15|[[3483, 4.261537]...|\n",
            "|           37|[[154, 8.208038],...|\n",
            "|           17|[[1256, 3.9761558...|\n",
            "|            9|[[2478, 4.5652537...|\n",
            "|           35|[[563, 6.8483744]...|\n",
            "+-------------+--------------------+\n",
            "only showing top 20 rows\n",
            "\n"
          ]
        }
      ]
    },
    {
      "cell_type": "code",
      "metadata": {
        "id": "stUaAoKpTgqT"
      },
      "source": [
        "rec1 = recommendations.take(1)"
      ],
      "execution_count": null,
      "outputs": []
    },
    {
      "cell_type": "code",
      "source": [
        "rec2= [row['recommendations'] for row in rec1]"
      ],
      "metadata": {
        "id": "BiIHl_FGa0UE"
      },
      "execution_count": null,
      "outputs": []
    },
    {
      "cell_type": "code",
      "source": [
        "rec3 = rec2.pop()"
      ],
      "metadata": {
        "id": "Qm8w_olIYsm2"
      },
      "execution_count": null,
      "outputs": []
    },
    {
      "cell_type": "code",
      "source": [
        "tracks = [row['track_index'] for row in rec3]\n",
        "tracks"
      ],
      "metadata": {
        "colab": {
          "base_uri": "https://localhost:8080/"
        },
        "id": "XWEPLT7yYfvi",
        "outputId": "4c2957d1-d97f-478e-e970-996e301c8d3f"
      },
      "execution_count": null,
      "outputs": [
        {
          "output_type": "execute_result",
          "data": {
            "text/plain": [
              "[1589, 260, 3496, 1139, 201, 526, 2175, 154, 687, 2056]"
            ]
          },
          "metadata": {},
          "execution_count": 46
        }
      ]
    },
    {
      "cell_type": "code",
      "source": [
        "t = dict_track.select('track').where(col(\"track_index\").isin(tracks))\n",
        "\n"
      ],
      "metadata": {
        "id": "T_3iwmuSZYma"
      },
      "execution_count": null,
      "outputs": []
    },
    {
      "cell_type": "code",
      "source": [
        "dict_track.where(col(\"track_index\").isin(1589)).show()"
      ],
      "metadata": {
        "colab": {
          "base_uri": "https://localhost:8080/"
        },
        "id": "J4wt4Ggydhu4",
        "outputId": "5002ccc9-6fd1-48bb-8d5b-c45098764173"
      },
      "execution_count": null,
      "outputs": [
        {
          "output_type": "stream",
          "name": "stdout",
          "text": [
            "+-----+-----------+\n",
            "|track|track_index|\n",
            "+-----+-----------+\n",
            "|Fugue|     1589.0|\n",
            "+-----+-----------+\n",
            "\n"
          ]
        }
      ]
    },
    {
      "cell_type": "code",
      "source": [
        "t.show()"
      ],
      "metadata": {
        "colab": {
          "base_uri": "https://localhost:8080/"
        },
        "id": "6IOBU2JDcwv3",
        "outputId": "ac345426-b02d-4a99-90ce-9e13b8bbddbe"
      },
      "execution_count": null,
      "outputs": [
        {
          "output_type": "stream",
          "name": "stdout",
          "text": [
            "+--------------------+\n",
            "|               track|\n",
            "+--------------------+\n",
            "|            Shock Me|\n",
            "|   Desperation Burns|\n",
            "|               Fugue|\n",
            "|Blue Day for Croatoa|\n",
            "|1000 Points of Light|\n",
            "|                Ayil|\n",
            "|        9mm Solution|\n",
            "|If I Have to Wake...|\n",
            "|Je N'en Connais P...|\n",
            "|Tokyo (Vampires &...|\n",
            "+--------------------+\n",
            "\n"
          ]
        }
      ]
    },
    {
      "cell_type": "markdown",
      "source": [
        "gfrdf"
      ],
      "metadata": {
        "id": "3TNdf0lEe-RH"
      }
    },
    {
      "cell_type": "code",
      "source": [
        "recc  = model.recommendForAllItems(3)"
      ],
      "metadata": {
        "id": "dkmSH4U1e-95"
      },
      "execution_count": null,
      "outputs": []
    },
    {
      "cell_type": "code",
      "source": [
        "recc.show()"
      ],
      "metadata": {
        "colab": {
          "base_uri": "https://localhost:8080/"
        },
        "id": "158S3_g9fCkf",
        "outputId": "270fe539-2f67-44eb-facd-b862b0cfdfeb"
      },
      "execution_count": null,
      "outputs": [
        {
          "output_type": "stream",
          "name": "stdout",
          "text": [
            "+-----------+--------------------+\n",
            "|track_index|     recommendations|\n",
            "+-----------+--------------------+\n",
            "|       1580|[[6, 0.9923823], ...|\n",
            "|       4101|[[29, 0.99651045]...|\n",
            "|       2122|[[6, 0.9923823], ...|\n",
            "|       3175|[[1, 0.9905428], ...|\n",
            "|       2366|[[18, 0.9944534],...|\n",
            "|        148|[[29, 0.99651045]...|\n",
            "|       3918|[[33, 0.9987579],...|\n",
            "|       4519|[[15, 1.9885733],...|\n",
            "|       1460|[[13, 0.9940494],...|\n",
            "|       2580|[[17, 0.99403894]...|\n",
            "|       4190|[[29, 0.99651045]...|\n",
            "|       2811|[[3, 0.9914764], ...|\n",
            "|       1483|[[33, 0.9987579],...|\n",
            "|       1025|[[28, 1.9967256],...|\n",
            "|       2235|[[9, 1.985991], [...|\n",
            "|       3475|[[9, 0.9929955], ...|\n",
            "|        897|[[7, 0.9911765], ...|\n",
            "|       1507|[[8, 0.99335194],...|\n",
            "|        858|[[10, 0.9944298],...|\n",
            "|       4158|[[27, 0.9974312],...|\n",
            "+-----------+--------------------+\n",
            "only showing top 20 rows\n",
            "\n"
          ]
        }
      ]
    }
  ]
}